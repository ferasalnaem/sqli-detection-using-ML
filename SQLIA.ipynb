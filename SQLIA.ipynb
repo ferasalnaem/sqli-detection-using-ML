{
 "cells": [
  {
   "cell_type": "code",
   "execution_count": 1,
   "metadata": {},
   "outputs": [],
   "source": [
    "import numpy as np # linear algebra\n",
    "import pandas as pd # data processing"
   ]
  },
  {
   "cell_type": "code",
   "execution_count": 2,
   "metadata": {},
   "outputs": [],
   "source": [
    "from IPython import get_ipython\n",
    "# Python ≥3.5 is required\n",
    "import sys\n",
    "assert sys.version_info >= (3, 5)\n",
    "\n",
    "# Scikit-Learn ≥0.20 is required\n",
    "import sklearn\n",
    "assert sklearn.__version__ >= \"0.20\"\n",
    "\n",
    "# Common imports\n",
    "import numpy as np\n",
    "import os\n",
    "import seaborn as sns # dataviz\n",
    "from pandas.plotting import scatter_matrix\n",
    "# To plot pretty figures\n",
    "get_ipython().run_line_magic('matplotlib', 'inline')\n",
    "import matplotlib as mpl\n",
    "import matplotlib.pyplot as plt\n",
    "mpl.rc('axes', labelsize=14)\n",
    "mpl.rc('xtick', labelsize=12)\n",
    "mpl.rc('ytick', labelsize=12)\n",
    "\n",
    "# Ignore useless warnings (see SciPy issue #5998)\n",
    "import warnings\n",
    "warnings.filterwarnings(action=\"ignore\", message=\"^internal gelsd\")"
   ]
  },
  {
   "cell_type": "code",
   "execution_count": 3,
   "metadata": {},
   "outputs": [
    {
     "name": "stderr",
     "output_type": "stream",
     "text": [
      "[nltk_data] Downloading package punkt to\n",
      "[nltk_data]     C:\\Users\\feras\\AppData\\Roaming\\nltk_data...\n",
      "[nltk_data]   Package punkt is already up-to-date!\n",
      "[nltk_data] Downloading package stopwords to\n",
      "[nltk_data]     C:\\Users\\feras\\AppData\\Roaming\\nltk_data...\n",
      "[nltk_data]   Package stopwords is already up-to-date!\n",
      "[nltk_data] Downloading package wordnet to\n",
      "[nltk_data]     C:\\Users\\feras\\AppData\\Roaming\\nltk_data...\n",
      "[nltk_data]   Package wordnet is already up-to-date!\n"
     ]
    }
   ],
   "source": [
    "from nltk.tokenize import sent_tokenize\n",
    "import nltk\n",
    "nltk.download('punkt')\n",
    "nltk.download('stopwords')\n",
    "nltk.download('wordnet')\n",
    "from nltk.stem import PorterStemmer\n",
    "from nltk.stem import PorterStemmer\n",
    "from nltk.tokenize import sent_tokenize, word_tokenize\n",
    "from nltk.stem import WordNetLemmatizer\n",
    "from nltk.corpus import stopwords \n",
    "from nltk.tokenize import word_tokenize"
   ]
  },
  {
   "cell_type": "code",
   "execution_count": 4,
   "metadata": {},
   "outputs": [],
   "source": [
    "data= pd.read_csv(\"./dataset/sqliv2/sqliv2.csv\",encoding='utf-16')"
   ]
  },
  {
   "cell_type": "code",
   "execution_count": 5,
   "metadata": {},
   "outputs": [
    {
     "name": "stdout",
     "output_type": "stream",
     "text": [
      "<class 'pandas.core.frame.DataFrame'>\n",
      "RangeIndex: 33761 entries, 0 to 33760\n",
      "Data columns (total 2 columns):\n",
      " #   Column    Non-Null Count  Dtype \n",
      "---  ------    --------------  ----- \n",
      " 0   Sentence  33757 non-null  object\n",
      " 1   Label     33761 non-null  int64 \n",
      "dtypes: int64(1), object(1)\n",
      "memory usage: 527.6+ KB\n"
     ]
    }
   ],
   "source": [
    "data.info()"
   ]
  },
  {
   "cell_type": "code",
   "execution_count": 6,
   "metadata": {},
   "outputs": [
    {
     "data": {
      "text/html": [
       "<div>\n",
       "<style scoped>\n",
       "    .dataframe tbody tr th:only-of-type {\n",
       "        vertical-align: middle;\n",
       "    }\n",
       "\n",
       "    .dataframe tbody tr th {\n",
       "        vertical-align: top;\n",
       "    }\n",
       "\n",
       "    .dataframe thead th {\n",
       "        text-align: right;\n",
       "    }\n",
       "</style>\n",
       "<table border=\"1\" class=\"dataframe\">\n",
       "  <thead>\n",
       "    <tr style=\"text-align: right;\">\n",
       "      <th></th>\n",
       "      <th>Sentence</th>\n",
       "      <th>Label</th>\n",
       "    </tr>\n",
       "  </thead>\n",
       "  <tbody>\n",
       "    <tr>\n",
       "      <th>0</th>\n",
       "      <td>NaN</td>\n",
       "      <td>1</td>\n",
       "    </tr>\n",
       "    <tr>\n",
       "      <th>1</th>\n",
       "      <td>\" or pg_sleep ( __TIME__ ) --</td>\n",
       "      <td>1</td>\n",
       "    </tr>\n",
       "    <tr>\n",
       "      <th>2</th>\n",
       "      <td>create user name identified by pass123 tempora...</td>\n",
       "      <td>1</td>\n",
       "    </tr>\n",
       "    <tr>\n",
       "      <th>3</th>\n",
       "      <td>%29</td>\n",
       "      <td>1</td>\n",
       "    </tr>\n",
       "    <tr>\n",
       "      <th>4</th>\n",
       "      <td>' AND 1 = utl_inaddr.get_host_address  (  (  S...</td>\n",
       "      <td>1</td>\n",
       "    </tr>\n",
       "  </tbody>\n",
       "</table>\n",
       "</div>"
      ],
      "text/plain": [
       "                                            Sentence  Label\n",
       "0                                                NaN      1\n",
       "1                      \" or pg_sleep ( __TIME__ ) --      1\n",
       "2  create user name identified by pass123 tempora...      1\n",
       "3                                                %29      1\n",
       "4  ' AND 1 = utl_inaddr.get_host_address  (  (  S...      1"
      ]
     },
     "execution_count": 6,
     "metadata": {},
     "output_type": "execute_result"
    }
   ],
   "source": [
    "data.head()"
   ]
  },
  {
   "cell_type": "markdown",
   "metadata": {},
   "source": [
    "# Data Preprocessing"
   ]
  },
  {
   "cell_type": "markdown",
   "metadata": {},
   "source": [
    "Word Count with CountVectorizer\n",
    "1. crerate an instance of the CountVectorizer class.\n",
    "2. call the fit() function in order to learn a vocabulary from one or more documents.\n",
    "3. call the transform() function on one more document as needed to encode each as a vector."
   ]
  },
  {
   "cell_type": "code",
   "execution_count": 7,
   "metadata": {},
   "outputs": [
    {
     "name": "stdout",
     "output_type": "stream",
     "text": [
      "{'nan': 7515, 'pg_sleep': 8021, '__time__': 3372, 'create': 4935, 'user': 9918, 'name': 7512, 'identified': 6405, 'pass123': 7901, 'temp': 9577, 'users': 9922, '29': 862, 'utl_inaddr': 9932, 'get_host_address': 6035, 'select': 8976, 'distinct': 5222, 'table_name': 9497, 'rownum': 8777, 'limit': 6953, 'sys': 9472, 'all_tables': 3576, 'id': 6400, 'union': 9876, 'version': 10003, 'syscolumns': 9481, 'sysobjects': 9484, 'load_file': 6994, 'char': 4512, '47': 1502, '101': 34, '116': 111, '99': 3342, '112': 95, '97': 3276, '115': 107, '119': 127, '100': 23, 'admin': 3448, 'column_name': 4692, 'all_tab_columns': 3575, 'wapiti': 10122, 'ascii': 3785, 'lower': 7042, 'substring': 9395, 'top': 9703, 'xtype': 10258, 'insert': 6517, 'password': 7911, '26': 753, '27': 789, 'null': 7650, 'banner': 3932, 'print': 8247, 'sa': 8812, 'waitfor': 10105, 'delay': 5092, '4039': 1267, '41': 1287, '2b': 899, 'declare': 5069, 'varchar': 9967, '200': 537, 'benchmark': 4042, '10000000': 25, 'md5': 7227, 'sleep': 9148, '50': 1619, 'user_name': 9919, '24': 689, 'username': 9921, 'all_users': 3577, 'text': 9611, '1234': 157, '81dc9bdb52d04dc20036dbd8313ed055': 2746, 'information_schema': 6492, 'tables': 9498, 'nvarchar': 7658, 'exec': 5591, '2a': 898, '28': 826, '7c': 2665, '3d': 1243, 'unusual': 9892, '1_': 530, 'dual': 5303, '25': 722, 'true': 9800, 'execute': 5592, 'immediate': 6431, 'sel': 8975, 'ect': 5354, 'us': 9914, 'er': 5485, 'hi': 6266, 'etc': 5544, 'passwd': 7910, 'mysql': 7500, 'host': 6340, 'values': 9961, 'like': 6948, '37': 1140, '10e': 82, '17': 384, '10': 22, '1c': 532, 'var': 9966, 'whatever': 10173, 'xp_regread': 10257, 'login': 7007, 'count': 4906, 'tabname': 9502, 'procedure': 8263, 'login_user': 7008, 'desc': 5128, 'utl_http': 9931, 'request': 8611, 'uni': 9875, 'http': 6370, '192': 478, '168': 376, '7659': 2545, 'granted_role': 6112, 'dba_role_privs': 5042, 'grantee': 6113, 'loginuser': 7009, '23': 651, 'apos': 3696, 'sqlvuln': 9273, 'master': 7190, 'xp_cmdshell': 10256, 'ping': 8062, '172': 395, '255': 738, '0x77616974666f722064656c61792027303a303a31302700': 20, 'group': 6130, 'userid': 9920, '22': 624, 'variable': 9969, '21': 587, '1a': 531, '11': 86, 'sysadmin': 9480, '114': 103, '111': 92, 'delete': 5093, 'instance': 6526, 'full_name': 5940, 'bob': 4128, 'members': 7254, 'email': 5418, 'anything': 3690, '110': 87, '46': 1468, '120': 139, '39': 1208, '0x73656c65637420404076657273696f6e': 18, 'drop': 5297, 'table': 9496, 'something': 9200, 'serverproperty': 9013, 'isintegratedsecurityonly': 6596, 'update': 9895, 'exists': 5602, 'asc': 3784, 'nslookup': 7641, 'www': 10252, 'google': 6083, 'com': 4694, 'isnull': 6601, '8000': 2671, 'begin': 4016, 'set': 9021, 'grant': 6110, 'connect': 4799, 'level': 6924, 'thing': 9630, '0x730065006c00650063007400200040004000760065007200730069006f006e00': 17, 'elt': 5416, 'bin': 4083, '15': 287, 'ord': 7765, 'hex': 6264, '45': 1428, 'end': 5443, 'handler': 6196, 'mail': 7085, 'order': 7768, 'replace': 8593, 'finished': 5788, 'patient': 7922, 'write': 10243, 'night': 7590, 'get': 6034, 'bed': 4009, 'book': 4144, 'returns': 8658, 'time': 9662, 'politics': 8139, 'inspired': 6523, 'millions': 7320, 'could': 4900, 'take': 9513, 'breath': 4192, 'away': 3886, 'thanks': 9621, 'basin': 3974, 'front': 5926, 'terminal': 9592, 'depth': 5123, '18': 426, 'geisingen': 6008, 'kirchen': 6768, 'hausen': 6223, 'first': 5798, 'documented': 5247, 'together': 9686, 'year': 10268, 'however': 6358, 'visitors': 10076, 'two': 9833, 'church': 4566, 'towers': 9727, 'realise': 8478, 'much': 7456, 'discover': 5207, 'beneath': 4044, 'cathedral': 4436, 'victim': 10022, 'later': 6854, 'died': 5177, 'result': 8646, 'serious': 9005, 'injuries': 6505, 'think': 9632, 'better': 4064, 'process': 8266, 'assigning': 3807, 'male': 7106, 'female': 5742, 'sex': 9030, 'waiting': 10106, 'aircraft': 3521, 'electronic': 5404, 'device': 5163, 'rules': 8798, 'stay': 9313, 'force': 5856, 'australia': 3856, 'australian': 3857, 'airline': 3523, 'passengers': 7907, 'need': 7551, 'continue': 4838, 'turning': 9823, 'tablets': 9501, 'smart': 9158, 'phones': 8029, 'landing': 6827, 'despite': 5141, 'moves': 7442, 'regulations': 8544, 'covering': 4920, 'devices': 5164, 'problem': 8261, 'known': 6782, 'administrative': 3450, 'department': 5116, 'initial': 6498, 'measures': 7239, 'already': 3603, 'taken': 9514, 'class': 4614, 'persons': 8010, 'spiritual': 9257, 'bought': 4162, 'sold': 9190, 'go': 6066, 'prison': 8250, 'popular': 8158, 'education': 5367, 'college': 4683, 'building': 4231, 'meeting': 7250, 'houses': 6355, 'vain': 9940, 'many': 7134, 'stand': 9290, 'relief': 8569, 'societies': 9173, 'though': 9637, 'shame': 9047, 'sometimes': 9202, 'give': 6050, 'dollar': 5253, 'shall': 9045, 'manhood': 7121, 'board': 4126, 'gave': 5998, 'special': 9244, 'team': 9557, 'managed': 7113, 'pier': 8049, 'ribbert': 8678, 'delighted': 5095, 'present': 8221, 'menu': 7269, 'decorations': 5075, 'almost': 3594, 'part': 7882, 'everyday': 5573, 'life': 6943, 'south': 9225, 'africa': 3489, 'around': 3760, '64': 2111, '000': 1, 'reports': 8600, 'sexual': 9034, 'assault': 3802, 'every': 5572, 'game': 5972, 'great': 6117, 'physical': 8034, 'effort': 5376, 'tsv': 9810, 'proved': 8327, 'decisive': 5068, 'spite': 9258, 'tremendous': 9781, 'commitment': 4719, 'teams': 9558, '2008': 546, 'rangnick': 8454, 'mane': 7119, 'diver': 5231, 'satisfied': 8867, 'ralf': 8440, 'winning': 10207, 'form': 5868, 'bundesliga': 4239, 'red': 8514, 'salzburg': 8844, 'director': 5197, 'quot': 8414, 'expressed': 5636, 'equal': 5481, 'disappointment': 5202, 'specific': 9247, 'figures': 5769, 'must': 7494, 'calculated': 4290, 'municipal': 7476, 'energy': 5448, 'customers': 5001, 'precise': 8207, 'price': 8240, 'increase': 6468, 'next': 7576, 'week': 10159, 'five': 5808, 'matches': 7195, 'scheduled': 8898, 'playing': 8105, 'one': 7732, 'match': 7194, 'others': 7795, 'sunday': 9420, 'heads': 6228, 'back': 3897, 'city': 4592, 'tired': 9671, 'work': 10227, 'obviously': 7679, 'hopeful': 6322, 'home': 6312, 'safely': 8821, 'soon': 9208, 'possible': 8177, 'tunks': 9815, 'said': 8827, 'really': 8482, 'want': 10119, 'develop': 5158, 'ice': 6397, 'cream': 4934, 'appropriate': 3716, 'interpreted': 6562, 'differently': 5185, 'case': 4408, 'basis': 3975, 'notw': 7629, 'used': 9917, 'three': 9644, 'ways': 10145, 'investigate': 6570, 'stories': 9346, 'phone': 8028, 'hacking': 6182, 'surveillance': 9447, 'confrontation': 4794, 'since': 9114, 'scotland': 8920, 'area': 3737, 'continued': 4839, 'non': 7608, 'would': 10240, 'cheap': 4528, 'brussels': 4215, 'offer': 7695, 'return': 8655, 'wanted': 10120, 'scots': 8921, 'mo': 7363, 'shows': 9076, 'drug': 5300, 'gangs': 5975, 'whose': 10185, 'traditional': 9744, 'routes': 8774, 'cut': 5003, 'bill': 4081, 'squad': 9274, 'san': 8848, 'diego': 5178, 'innocent': 6510, 'people': 7975, 'abused': 3395, 'kindergarten': 6765, 'found': 5879, 'private': 8252, 'buyer': 4256, 'good': 6080, 'hands': 6198, 'winterlingen': 10209, 'mayor': 7216, 'michael': 7299, 'maier': 7084, 'detectives': 5150, 'suspect': 9451, 'spotted': 9267, 'arriving': 3771, 'ditta': 5230, 'house': 6352, 'seen': 8963, 'place': 8082, 'drugs': 5301, '60': 1984, 'per': 7976, 'cent': 4467, 'lawyer': 6868, 'bins': 4084, 'black': 4097, 'golf': 6076, 'drove': 5299, 'halloween': 6188, '2013': 552, 'numbers': 7652, 'little': 6973, 'magical': 7081, 'current': 4995, 'integrate': 6540, 'plans': 8096, 'third': 9633, 'mexican': 7292, 'detained': 5148, 'due': 5309, 'marijuana': 7156, 'government': 6093, 'admit': 3453, 'spying': 9271, 'line': 6958, 'emphasised': 5430, 'rights': 8694, 'therefore': 9627, 'hope': 6320, 'players': 8104, 'finally': 5778, 'clear': 4623, 'short': 9066, 'break': 4187, 'roark': 8718, 'et': 5543, 'al': 3538, 'new': 7571, 'chronicle': 4564, 'presented': 8223, 'november': 7632, 'festival': 5753, 'hall': 6187, 'old': 7716, 'says': 8882, 'police': 8131, 'chief': 4544, 'david': 5036, 'reacted': 8470, 'journalists': 6690, 'media': 7243, 'executive': 5595, 'questioning': 8399, 'although': 3611, 'following': 5842, 'date': 5032, 'never': 7569, 'exist': 5600, 'large': 6839, 'companies': 4735, 'message': 7282, 'long': 7016, 'picking': 8043, 'free': 5904, 'stick': 9329, 'trade': 9739, 'fair': 5679, 'leaving': 6893, 'hotel': 6347, 'room': 8755, 'say': 8878, 'least': 6891, 'licence': 6939, 'twice': 9829, 'arrive': 3768, 'receive': 8492, 'heroes': 6259, 'welcome': 10165, 'singing': 9120, 'best': 4059, 'accommodations': 3402, 'community': 4732, 'haslach': 6214, 'scepticism': 8895, 'visibly': 10071, 'gives': 6052, 'way': 10144, 'confidence': 4787, '2015': 554, 'parish': 7868, 'council': 4902, 'elections': 5397, 'bring': 4197, 'fundamental': 5946, 'change': 4505, 'example': 5583, 'pastoral': 7914, 'care': 4362, 'unit': 9878, 'se': 8927, 'independent': 6477, 'expected': 5608, 'europe': 5557, 'london': 7015, 'especially': 5514, 'real': 8477, 'european': 5558, 'news': 7574, 'post': 8179, 'war': 10123, 'plan': 8087, 'jim': 6657, 'bruce': 4212, '36': 1113, 'writer': 10244, 'born': 4152, 'chromosomes': 4563, 'ambiguous': 3622, 'genitals': 6017, 'responsible': 8639, 'invited': 6580, 'witness': 10216, 'complete': 4746, 'arena': 3739, 'thought': 9638, 'photos': 8032, 'savings': 8875, 'donations': 5264, 'workshop': 10233, 'los': 7028, 'angeles': 3652, 'ship': 9060, 'stop': 9338, 'tour': 9720, 'praetorium': 8197, 'participants': 7883, 'ten': 9579, 'times': 9663, 'germany': 6028, 'population': 8159, '82': 2747, 'million': 7319, 'higher': 6270, 'number': 7651, 'residents': 8628, 'hundreds': 6383, 'drivers': 5292, 'concerned': 4765, 'privacy': 8251, 'things': 9631, 'manages': 7116, 'focus': 5837, 'audience': 3848, 'attention': 3841, 'monologues': 7396, 'become': 4006, 'even': 5564, 'moment': 7383, 'martin': 7178, 'told': 9689, 'cnn': 4656, 'asked': 3793, 'daley': 5016, 'whether': 10177, 'boss': 4155, 'knew': 6776, 'potential': 8183, 'cannot': 4334, 'pay': 7938, 'privilege': 8253, 'right': 8693, 'basic': 3973, 'idea': 6401, 'talked': 9522, 'location': 7000, '1913': 474, 'find': 5782, 'role': 8744, 'giant': 6043, 'planet': 8091, 'played': 8102, 'development': 5161, 'solar': 9188, 'system': 9486, 'renovation': 8587, 'trees': 9780, 'internal': 6558, 'school': 8907, 'yard': 10264, 'within': 10214, '1912': 473, 'subsequent': 9392, 'measure': 7236, 'boundary': 4163, 'wall': 10114, 'renovated': 8586, 'ground': 6128, 'future': 5952, 'backlog': 3900, 'transportation': 9765, '32': 965, 'usually': 9930, 'pope': 8156, 'cardinals': 4359, 'needed': 7552, 'raise': 8437, 'cardinal': 4358, 'electors': 5400, '80': 2669, 'instead': 6529, 'believes': 4027, 'dogs': 5252, 'learned': 6887, 'experience': 5612, 'feel': 5729, 'worried': 10236, 'rapid': 8456, 'progression': 8293, 'may': 7214, 'warrant': 10130, 'tests': 9608, 'endocrinologist': 5446, 'rule': 8796, 'problems': 8262, 'according': 3405, 'gerster': 6030, 'resulted': 8647, 'subsidies': 9394, 'reduced': 8521, 'state': 9302, 'young': 10285, 'catholics': 4438, 'confirmation': 4790, 'profession': 8278, 'services': 9017, '16': 328, 'olds': 7718, 'confirmed': 4791, 'iran': 6588, 'nuclear': 7645, 'negotiations': 7555, 'satisfaction': 8865, 'negotiation': 7554, 'un': 9856, 'powers': 8189, 'interview': 6564, 'radio': 8427, 'show': 9069, 'pop': 8155, 'star': 9296, 'sang': 8854, 'jagger': 6623, '2004': 542, 'song': 9206, 'die': 5176, 'hard': 6205, 'company': 4736, 'radically': 8426, 'cutting': 5005, 'january': 6635, 'terms': 9593, 'handling': 6197, 'mark': 7164, 'schrell': 8909, 'watched': 10136, 'convicted': 4855, 'crime': 4948, 'tennis': 9583, 'division': 5235, 'sports': 9265, 'fans': 5694, 'enjoyed': 5462, 'perfect': 7989, 'weather': 10154, 'tournament': 9723, 'local': 6998, 'clubs': 4653, 'enthusiasts': 5471, 'water': 10138, 'rail': 8434, 'put': 8375, 'helicopter': 6240, 'last': 6851, 'month': 7405, 'health': 6229, 'scottish': 8923, 'rescue': 8620, 'centre': 4472, 'story': 9347, 'teller': 9574, 'taking': 9516, 'younger': 10286, 'guests': 6157, 'wonderful': 10222, 'world': 10234, 'build': 4230, 'infrastructure': 6495, 'expanded': 5605, 'keep': 6736, 'records': 8510, 'individuals': 6481, 'announced': 3668, 'ulrich': 9851, 'organising': 7777, 'illmensee': 6423, 'club': 4649, 'prosodic': 8320, 'cues': 4985, 'available': 3873, 'inaccessible': 6453, 'original': 7780, 'speech': 9249, 'investigators': 6576, 'also': 3605, 'investigator': 6575, 'computer': 4757, 'ms': 7451, 'pawlby': 7933, 'sister': 9123, 'projects': 8298, 'sounds': 9221, 'musicians': 7491, 'buy': 4255, 'url': 9911, 'concerns': 4766, 'grown': 6134, 'mr': 7449, 'mazanga': 7219, 'quoted': 8415, 'saying': 8880, 'renamo': 8582, '1992': 523, 'peace': 7947, 'firefighters': 5793, 'amazing': 3621, 'past': 7912, 'financial': 5780, 'situation': 9130, 'meant': 7233, 'authorities': 3861, 'high': 6269, 'rates': 8459, 'town': 9728, 'citizens': 4591, 'particular': 7887, 'mobile': 7365, 'able': 3386, 'access': 3398, 'box': 4168, 'collection': 4682, 'foot': 5850, 'figure': 5768, 'period': 7998, 'walked': 10111, 'gold': 6074, 'cup': 4992, 'frontier': 5928, 'spirit': 9256, 'charge': 4517, 'coffee': 4672, 'tea': 9554, 'soda': 9177, 'juice': 6706, 'secure': 8952, 'essential': 5525, 'pupils': 8364, 'purpose': 8370, 'half': 6186, 'express': 5635, 'ashamed': 3789, 'divine': 5234, 'represents': 8606, 'came': 4304, 'planned': 8093, 'explained': 5622, 'submit': 9390, 'ideas': 6403, 'occasion': 7682, 'vegan': 9981, 'day': 5039, 'vegetarian': 9983, 'association': 3813, 'propose': 8314, 'alternatives': 3610, 'pure': 8368, 'plant': 8097, 'alternative': 3609, 'yoghurt': 10280, 'soya': 9227, 'girl': 6048, 'unlike': 9887, 'works': 10232, 'incorporate': 6467, 'punctuation': 8362, 'prediction': 8212, 'parsing': 7881, 'left': 6899, 'input': 6513, 'without': 10215, 'length': 6911, 'limitations': 6954, 'mashed': 7185, 'tofu': 9685, 'serves': 9015, 'cheese': 4532, 'officially': 7703, 'became': 4004, 'operational': 7747, 'yesterday': 10274, 'importance': 6440, 'sulzbachweg': 9415, 'kirchstrasse': 6769, 'rainer': 8436, 'schulze': 8912, 'expert': 5619, 'comes': 4707, 'cologne': 4687, 'alderson': 3557, 'keighley': 6739, 'added': 3439, 'scared': 8892, 'might': 7307, 'fall': 5682, 'stayed': 9314, 'flight': 5822, 'cellphone': 4460, 'calls': 4300, 'prohibited': 8294, 'org': 7773, 'option': 7759, 'com_k2': 4695, 'href': 6365, 'frelimo': 5910, 'avoid': 3880, 'names': 7514, 'participating': 7885, 'lawmakers': 6864, 'released': 8565, 'coming': 4710, 'days': 5040, 'revealed': 8661, 'latest': 6855, 'look': 7019, 'la': 6806, 'wednesday': 10158, 'shared': 9050, 'twitter': 9832, 'page': 7825, 'bags': 3908, 'make': 7097, 'difference': 5182, 'street': 9357, 'wants': 10121, 'food': 5846, 'ceo': 4476, 'accept': 3397, 'staff': 9283, 'evidence': 5577, 'uncomfortable': 9863, 'reporting': 8599, 'caber': 4272, 'four': 5884, 'metres': 7291, '30': 903, 'kilometres': 6762, 'mother': 7429, 'travelled': 9771, 'spain': 9235, 'highland': 6272, 'games': 5973, 'kaltenhof': 6720, 'alongside': 3598, 'brake': 4177, 'van': 9963, 'pulling': 8358, 'tractors': 9738, 'second': 8941, 'contest': 4834, 'autumn': 3871, 'september': 9001, 'court': 4916, 'stamp': 9289, 'duty': 5320, 'value': 9959, 'homes': 6314, 'introduction': 6566, 'associated': 3812, 'anti': 3680, 'legislation': 6906, 'difficult': 5186, 'argue': 3744, 'property': 8311, 'effect': 5371, 'dated': 5033, 'tax': 9547, 'mails': 7087, 'read': 8473, 'parties': 7889, 'journey': 6691, 'net': 7563, 'majority': 7096, 'several': 9025, 'software': 9182, 'robots': 8726, 'en': 5439, 'route': 8773, 'recipient': 8498, 'previous': 8238, 'talks': 9524, 'done': 5265, 'ease': 5333, 'fuelled': 5932, 'series': 9004, 'clashes': 4613, 'circles': 4579, 'referred': 8524, 'hq': 6362, '100aklima': 32, 'attended': 3840, 'angels': 3653, 'ever': 5571, 'america': 3625, 'medical': 7245, 'student': 9374, 'going': 6073, 'deal': 5052, 'commerce': 4715, '20': 536, 'children': 4546, 'united': 9879, 'states': 9306, 'allergies': 3581, 'recent': 8496, 'incident': 6461, 'small': 9156, 'breakdowns': 4188, 'suffered': 9404, 'stock': 9331, 'exchange': 5588, 'operator': 7749, 'justify': 6717, 'findings': 5784, 'report': 8596, 'white': 10181, 'efforts': 5377, 'silence': 9100, 'aggressive': 3500, 'fat': 5703, 'beats': 3998, 'course': 4914, 'promised': 8300, 'nights': 7592, 'minor': 7332, 'injury': 6506, 'drescher': 5285, 'doctors': 5243, 'still': 9330, 'model': 7368, 'men': 7259, 'involved': 6582, 'racket': 8422, 'jailed': 6625, 'total': 9717, '153': 299, 'years': 10269, 'offences': 7693, 'corteen': 4884, 'district': 5227, 'constance': 4817, 'condemned': 4776, '33': 996, 'man': 7110, 'st': 9280, 'brazil': 4183, 'largest': 6842, 'commercial': 4716, 'planemaker': 8089, 'bombardier': 4139, 'closest': 4643, 'rival': 8710, 'reported': 8597, 'percent': 7981, 'profit': 8284, 'thursday': 9650, 'film': 5774, 'producers': 8270, 'scott': 8922, 'paul': 7929, 'steven': 9327, 'lunch': 7059, 'moved': 7439, 'crucial': 4970, 'phase': 8023, 'roads': 8717, 'among': 3631, 'restrictions': 8645, 'use': 9916, 'shortly': 9067, 'decision': 5066, 'regarding': 8533, 'play': 8100, 'manager': 7115, 'thomas': 9634, 'bwelle': 4261, 'malley': 7108, 'eur': 5553, 'budget': 4224, 'globally': 6059, 'patterns': 7927, 'early': 5328, 'puberty': 8345, 'appear': 3702, 'influenced': 6488, 'everything': 5575, 'economic': 5350, 'conditions': 4779, 'climate': 4632, 'genes': 6015, 'communications': 4730, 'undoubtedly': 9873, 'ones': 7733, 'elite': 5410, 'ready': 8476, 'business': 4253, 'britain': 4201, 'launched': 6861, 'pledge': 8112, 'uk': 9847, 'job': 6664, 'creators': 4940, 'see': 8955, 'changed': 4506, 'relationship': 8561, 'eu': 5549, 'co': 4657, 'hans': 6201, 'joachim': 6661, 'fuchtel': 5931, 'provided': 8330, 'plenty': 8113, 'colour': 4691, 'telling': 9575, 'mercedes': 7275, 'vehicles': 9985, 'mauritania': 7209, 'sharing': 9052, 'experiences': 5614, 'stammheim': 9288, 'traditionally': 9745, 'support': 9430, 'organisation': 7775, 'trips': 9795, 'becomes': 4007, 'replacing': 8594, 'egg': 5379, 'mixture': 7357, 'tablespoon': 9499, 'tablespoons': 9500, 'land': 6825, 'rover': 8775, 'rally': 8441, 'interior': 6557, 'racing': 8421, 'seats': 8936, 'six': 9133, 'point': 8125, 'well': 10167, 'material': 7197, 'damage': 5017, 'caused': 4442, 'federal': 5724, 'opposition': 7758, 'spokesman': 9262, 'peter': 8017, 'dutton': 5319, 'today': 9681, 'announcement': 3669, 'band': 3924, 'solution': 9197, 'york': 10283, 'psychiatrist': 8340, 'dr': 5275, 'visited': 10074, 'hospital': 6337, 'nouakchott': 7630, 'certain': 4484, '19': 467, 'driver': 5291, 'vw': 10097, 'driving': 5294, 'direction': 5195, '38': 1175, 'towards': 9726, 'fact': 5671, 'consume': 4823, '90': 3025, 'pounds': 8185, 'victories': 10026, 'sets': 9022, 'clearly': 4625, 'demonstrated': 5107, 'freudenstadt': 5917, 'areas': 3738, 'weaker': 10147, 'deliveries': 5097, 'mostly': 7427, 'anticipated': 3683, 'performance': 7992, 'doerksen': 5250, 'client': 4629, 'note': 7621, 'parents': 7866, 'georgia': 6023, 'freak': 5902, 'accident': 3401, 'believe': 4025, 'son': 9205, 'murdered': 7484, 'teenager': 9563, 'body': 4130, 'inside': 6518, 'mat': 7192, 'gym': 6176, 'family': 5691, 'attorney': 3842, 'rather': 8460, 'euro': 5554, 'german': 6026, 'politicians': 8138, 'chen': 4535, 'wrote': 10249, 'construction': 4821, 'equipment': 5482, 'called': 4297, 'zoomlion': 10312, 'exploitative': 5626, 'human': 6380, 'trafficking': 9749, 'issuing': 6607, 'threats': 9643, 'grievous': 6124, 'bodily': 4129, 'harm': 6210, 'issue': 6604, 'covered': 4919, 'require': 8614, 'operators': 7750, 'ensure': 5468, 'safety': 8822, 'comply': 4752, 'given': 6051, 'crew': 4946, 'airport': 3528, 'management': 7114, 'via': 10009, 'service': 9016, 'shooter': 9063, 'custody': 4998, 'dead': 5050, 'objective': 7670, 'view': 10033, 'goodness': 6081, 'edge': 5359, 'else': 5413, 'none': 7609, 'maintain': 7090, 'contribute': 4845, 'bible': 4072, 'society': 9174, 'vote': 10091, 'party': 7892, 'either': 5387, 'spread': 9268, 'base': 3970, 'detect': 5149, 'trading': 9743, 'links': 6966, 'likes': 6951, 'china': 4547, 'india': 6478, 'getting': 6038, 'arduous': 3736, 'reforming': 8529, 'institutions': 6533, 'memory': 7258, 'harmony': 6212, 'radical': 8425, 'surgery': 9442, 'randy': 8451, 'commission': 4717, 'public': 8347, 'affairs': 3481, 'upright': 9901, 'vital': 10077, 'speak': 9241, 'rude': 8790, 'truth': 9806, 'dog': 5251, 'athletes': 3826, 'felt': 5741, 'term': 9591, 'obama': 7663, 'heard': 6232, 'hair': 6185, 'share': 9049, 'thoughts': 9639, 'comments': 4714, 'scores': 8918, 'maximum': 7211, 'points': 8127, 'items': 6612, 'itinerary': 6614, 'saturday': 8868, 'include': 6462, 'car': 4349, 'tractor': 9737, 'meet': 7249, 'topic': 9704, 'global': 6058, 'market': 7166, 'leaders': 6880, 'official': 7702, 'oath': 7662, 'parliament': 7875, 'military': 7314, 'power': 8187, 'methods': 7289, 'treated': 9776, 'separated': 9000, 'suffer': 9403, 'error': 5494, 'protein': 8324, 'using': 9925, 'reacts': 8472, 'tongue': 9697, 'ph': 8022, 'reinforce': 8553, 'speaker': 9242, 'johanna': 6669, 'rahner': 8432, 'signs': 9098, 'prepared': 8219, 'based': 3971, 'child': 4545, 'age': 3494, 'rate': 8458, 'growth': 6135, 'prose': 8316, 'texts': 9612, 'piece': 8046, 'auf': 3852, 'der': 5124, 'summer': 9416, 'tip': 9667, 'garage': 5977, 'gerhard': 6025, 'fresacher': 5915, 'creates': 4937, 'security': 8953, 'forces': 5858, 'ongoing': 7734, 'battle': 3981, 'cartels': 4396, 'decided': 5064, 'impose': 6443, 'penalty': 7968, 'yongzhou': 10281, 'reporter': 8598, 'perceive': 7980, 'blatant': 4108, 'attempt': 3837, 'press': 8229, 'release': 8564, 'citizen': 4590, 'initiative': 6501, 'republican': 8609, 'obstructionism': 7677, 'explain': 5621, 'allowing': 3586, 'foreign': 5862, 'overseas': 7812, 'particularly': 7888, 'yet': 10275, 'giving': 6053, 'important': 6441, 'collaboration': 4676, 'developed': 5159, 'performed': 7994, 'countless': 4908, 'operations': 7748, 'journeys': 6692, 'often': 7709, 'sent': 8993, 'celebrations': 4457, 'friday': 5918, 'field': 5759, 'featuring': 5721, 'dj': 5236, '201': 548, 'ministers': 7330, 'protestant': 8325, 'regional': 8538, '800': 2670, 'pastors': 7915, 'models': 7369, 'built': 4233, 'august': 3853, 'hare': 6208, 'rejected': 8557, 'suggestion': 9409, 'ymca': 10279, 'cultural': 4989, 'prevented': 8236, 'lord': 7026, 'breaches': 4186, 'cases': 4409, 'reached': 8468, 'far': 5697, 'inappropriately': 6455, 'come': 4700, 'happy': 6204, 'ending': 5445, 'sense': 8990, 'arrives': 3770, 'conviction': 4856, 'suicide': 9411, 'worse': 10237, 'portion': 8166, 'wide': 10187, 'universe': 9882, 'full': 5939, 'corn': 4870, 'plot': 8115, 'circumstances': 4582, 'mice': 7298, 'vaccine': 9936, 'researchers': 8622, 'sign': 9092, 'nicotine': 7587, 'unclear': 9862, 'capacity': 4343, 'carried': 4386, 'hit': 6293, 'run': 8801, 'attacks': 3836, 'stations': 9309, 'key': 6750, 'north': 7618, 'highway': 6274, 'held': 6239, 'cells': 4462, 'hearing': 6233, 'remember': 8577, 'seem': 8960, 'distant': 5221, 'sad': 8816, 'reminder': 8578, 'opportunities': 7754, 'gone': 6078, 'face': 5665, 'imprisonment': 6449, 'completely': 4748, 'indeed': 6475, 'reaction': 8471, 'events': 5568, 'earnings': 5331, 'unchanged': 9861, 'cents': 4473, '2005': 543, 'matusov': 7207, 'sentence': 8994, 'studied': 9376, 'processing': 8268, 'attracted': 3843, 'research': 8621, 'interest': 6550, 'natural': 7530, 'language': 6832, 'eye': 5653, 'placed': 8083, 'ray': 8464, 'testify': 9604, 'congress': 4797, 'agree': 3503, 'nsa': 7640, 'demanded': 5104, 'pushed': 8373, 'dubbed': 5305, 'bomb': 4138, 'maker': 7099, 'sentenced': 8995, 'death': 5057, 'tomorrow': 9696, 'train': 9750, 'stupid': 9380, 'throw': 9645, 'rubbish': 8785, 'waste': 10132, 'paper': 7854, 'landscape': 6829, 'kids': 6757, 'call': 4294, 'surgeon': 9440, 'deadline': 5051, 'organization': 7778, 'damascus': 5020, 'destroy': 5143, 'render': 8583, 'chemical': 4533, 'weapon': 10149, 'production': 8273, 'facilities': 5669, 'mixing': 7356, 'chemicals': 4534, 'poison': 8128, 'gas': 5985, 'filling': 5773, 'munitions': 7478, 'green': 6120, 'representative': 8602, 'christian': 4561, 'ströbele': 9372, 'politician': 8137, 'snowden': 9171, 'moscow': 7426, 'discuss': 5211, 'scandal': 8888, 'design': 5133, 'canal': 4321, 'network': 7564, 'killing': 6760, 'weekend': 10160, 'forest': 5865, 'open': 7741, 'air': 3518, 'museum': 7488, 'gutach': 6169, 'near': 7542, 'firmly': 5797, 'hoped': 6321, 'felder': 5735, 'bauer': 3983, 'acting': 3420, 'branch': 4179, 'employment': 5436, 'agency': 3496, 'traders': 9742, 'rbs': 8465, 'employees': 5434, 'suspended': 9454, 'widening': 10190, 'probe': 8259, 'echoes': 5347, 'manipulation': 7123, 'personal': 8006, 'assets': 3804, 'household': 6353, 'debt': 5059, 'gender': 6010, 'assignment': 3808, 'identity': 6407, 'big': 4077, 'pilot': 8053, 'programs': 8291, '75': 2491, 'law': 6863, 'undetermined': 9872, 'unspecified': 9890, 'birth': 4091, 'certificates': 4486, 'myths': 7504, 'wild': 10196, 'taught': 9545, 'schools': 8908, 'crossley': 4964, 'holland': 6310, 'careful': 4364, 'selection': 8977, 'bfv': 4067, 'advises': 3473, 'executives': 5596, 'consider': 4806, 'simple': 9110, 'prepaid': 8218, 'mobiles': 7366, 'risk': 8705, 'compromised': 4756, 'addition': 3442, 'wait': 10103, 'sg': 9038, 'coach': 4658, 'palmer': 7840, 'start': 9298, 'forced': 5857, 'similarly': 9108, 'postpone': 8182, 'gig': 6045, 'lg': 6930, 'birmingham': 4090, 'jupiter': 6713, 'icy': 6399, 'moons': 7412, '2022': 561, 'billion': 4082, 'another': 3675, 'factor': 5672, 'networking': 7565, 'universities': 9883, 'mp': 7446, 'met': 7286, 'russia': 8807, 'granted': 6111, 'asylum': 3823, 'pleasure': 8111, 'smoking': 9165, 'scientists': 8917, 'cigarette': 4576, 'francis': 5895, 'communicate': 4726, 'february': 5722, 'consistory': 4814, 'advance': 3464, 'planning': 8095, 'meetings': 7251, 'involving': 6584, 'participation': 7886, 'different': 5184, 'parts': 7891, 'lombardi': 7014, '2009': 547, 'bankruptcy': 3930, 'voices': 10087, 'hear': 6231, 'solitude': 9195, 'grow': 6132, 'enter': 5469, 'investigating': 6572, 'allegations': 3578, 'tripodi': 9794, 'obeid': 7665, 'secret': 8944, 'properties': 8310, 'former': 5871, 'options': 7760, 'upgraded': 9898, 'package': 7822, 'providing': 8334, 'bowler': 4167, 'vehicle': 9984, 'storage': 9342, 'seeking': 8959, 'auto': 3864, 'insurance': 6538, 'mileage': 7312, 'technical': 9560, 'commissioned': 4718, 'engineering': 5454, 'wald': 10108, 'und': 9864, 'corbe': 4865, 'concept': 4763, 'required': 8615, 'proposed': 8315, 'achieve': 3410, 'goal': 6067, 'annual': 3673, 'horse': 6331, 'fenton': 5743, 'knows': 6783, 'handle': 6195, 'pony': 8152, 'bad': 3901, 'constitution': 4819, 'wrong': 10247, 'wilkie': 10198, '325': 982, 'unless': 9886, 'followed': 5841, 'genuine': 6019, 'reform': 8528, 'tasmania': 9542, 'sustainable': 9455, 'numerous': 7654, 'dependency': 5121, 'algorithms': 3568, 'including': 6465, 'transition': 9760, 'graph': 6114, 'häußler': 6388, 'indicated': 6479, 'funding': 5947, 'overall': 7808, 'walk': 10110, 'details': 5147, 'immediately': 6432, 'mention': 7267, 'various': 9972, 'statements': 9305, 'assessed': 3803, 'electricity': 5403, 'expensive': 5611, 'pfullendorf': 8019, 'costs': 4897, 'let': 6919, 'smooth': 9166, 'office': 7699, 'history': 6292, 'actor': 3429, 'working': 10231, 'wherever': 10176, 'belongs': 4036, 'announcements': 3670, 'average': 3876, 'outs': 7805, 'atmosphere': 3828, 'bulk': 4237, 'unable': 9857, 'books': 4145, 'landings': 6828, 'tales': 9520, 'brute': 4216, 'strength': 9359, 'subtle': 9396, 'legends': 6905, 'reveal': 8660, 'dream': 5283, 'evening': 5565, 'president': 8227, 'conducted': 4781, 'extensive': 5643, 'polling': 8141, 'late': 6853, '2011': 550, 'gauge': 5996, 'dumping': 5313, 'biden': 4074, 'help': 6243, 'election': 5396, 'hopes': 6323, 'october': 7688, 'fell': 5739, 'slightly': 9151, 'believed': 4026, 'sheriff': 9056, 'concluded': 4769, 'broken': 4205, 'personality': 8007, 'views': 10034, 'violence': 10061, 'normal': 7613, 'laura': 6862, 'glading': 6055, 'professional': 8279, 'welcomed': 10166, 'changes': 4507, 'airlines': 3525, 'faa': 5663, 'airplanes': 3527, 'guidelines': 6161, 'updating': 9897, 'training': 9753, 'manuals': 7128, 'reflect': 8526, 'expect': 5606, 'distance': 5220, 'project': 8295, 'hoping': 6324, 'cosy': 4899, 'traffic': 9748, 'lights': 6947, 'installed': 6525, 'eckert': 5348, 'road': 8716, 'pedestrian': 7953, 'additional': 3443, 'dostoevsky': 5270, 'massive': 7189, 'considered': 4810, 'russian': 8808, 'soul': 9219, 'philip': 8026, 'rushed': 8806, 'christmas': 4562, 'island': 6600, 'civil': 4595, 'primarily': 8242, 'muslim': 7493, 'rebels': 8486, 'assad': 3799, 'sect': 8948, 'fire': 5791, 'station': 9308, 'scene': 8893, 'ruby': 8789, 'pet': 8016, 'transport': 9764, 'cliff': 4631, 'favour': 5708, 'john': 6671, 'money': 7389, 'university': 9884, 'experiencing': 5615, 'uptick': 9903, 'overhaul': 7809, 'speed': 9251, 'municipalities': 7477, 'reconstruction': 8507, 'remainder': 8573, 'divided': 5232, 'deutsche': 5156, 'bahn': 3910, 'seeing': 8956, 'father': 5706, 'determined': 5153, 'nevada': 7568, 'affordable': 3486, 'technology': 9561, 'allow': 3583, 'track': 9734, 'miles': 7313, 'driven': 5290, 'exactly': 5580, 'excited': 5589, 'partnership': 7890, 'examine': 5581, 'bringing': 4198, 'creating': 4938, 'benefit': 4045, 'glasgow': 6056, 'edinburgh': 5361, '2001': 539, 'multi': 7471, 'layer': 6871, 'liu': 6974, 'final': 5777, 'straw': 9353, 'chancellor': 4504, 'angela': 3651, 'merkel': 7279, 'bugged': 4229, 'possibly': 8178, 'decade': 5060, 'ubs': 9842, 'action': 3421, 'swiss': 9462, 'regulator': 8545, 'finma': 5790, 'suspected': 9452, 'banks': 3931, 'love': 7038, 'described': 5129, 'tunnel': 9816, 'sophisticated': 9210, 'discovered': 5208, 'estimate': 5536, 'incur': 6473, 'means': 7232, 'levy': 6928, 'nobody': 7600, 'quite': 8413, 'mission': 7350, 'probes': 8260, 'outer': 7802, 'space': 9234, 'player': 8103, 'forward': 5877, 'desire': 5138, 'leave': 6892, 'hour': 6350, 'supplies': 9428, 'increased': 6469, 'newspaper': 7575, 'effectively': 5373, 'hand': 6193, 'standard': 9291, 'democracy': 5106, 'kenya': 6743, 'dealt': 5055, 'major': 7095, 'blow': 4117, 'draconian': 5276, 'sentences': 8996, 'nine': 7594, 'months': 7407, 'country': 4910, 'african': 3490, 'american': 3626, 'hispanic': 6289, 'girls': 6049, 'tend': 9580, 'reach': 8467, 'earlier': 5327, 'counterparts': 4907, 'individual': 6480, 'pushing': 8374, 'goals': 6069, 'mdgs': 7228, 'ahead': 3513, 'summit': 9417, 'began': 4015, 'rio': 8700, 'de': 5049, 'janeiro': 6633, 'overnight': 7811, 'behaviour': 4022, 'bradshaw': 4174, 'visiting': 10075, 'fellow': 5740, 'bristol': 4200, 'science': 8916, 'study': 9378, 'canines': 4332, 'december': 5062, 'shares': 9051, '3c': 1242, 'losing': 7030, 'acquire': 3416, 'patents': 7919, 'suit': 9413, 'auction': 3846, 'continues': 4840, 'lawsuit': 6867, 'helped': 6244, 'conduct': 4780, 'toll': 9692, 'amount': 3632, 'flat': 5815, 'fee': 5727, 'frequent': 5913, 'thus': 9651, 'spd': 9240, 'negotiator': 7556, 'issues': 6606, 'florian': 5827, 'pronold': 8304, 'letter': 6920, 'parliamentary': 7876, 'denied': 5110, 'yield': 10277, 'heart': 6235, 'god': 6071, 'shape': 9048, 'cars': 4393, 'step': 9323, 'eyes': 5655, 'proposals': 8313, 'running': 8802, 'chris': 4558, 'mouth': 7437, 'lick': 6940, 'contact': 4826, 'react': 8469, 'light': 6945, 'defective': 5081, 'joint': 6675, 'surrender': 9445, 'liberty': 6937, 'culture': 4991, 'eater': 5340, 'achieved': 3411, '12': 138, 'hours': 6351, 'sleeps': 9149, 'rounded': 8772, 'trip': 9793, 'square': 9275, 'minister': 7329, 'plibersek': 8114, 'commonwealth': 4725, 'urgent': 9909, 'head': 6226, 'crisis': 4952, 'aging': 3501, 'disease': 5215, 'bulgarian': 4236, 'consumers': 4825, 'stream': 9355, 'entire': 5472, 'starts': 9301, 'operating': 7745, 'claimed': 4599, 'conflict': 4792, 'abbott': 3379, 'daughters': 5035, 'stood': 9337, 'personally': 8008, 'policies': 8132, 'exercise': 5597, 'commander': 4711, 'kammerer': 6722, 'premises': 8216, 'definitely': 5087, 'nothing': 7623, 'kitchen': 6770, 'consented': 4804, 'sale': 8835, 'illinois': 6422, 'trying': 9808, 'limited': 6955, 'trucks': 9799, 'qualification': 8386, 'theology': 9624, 'ecumenical': 5356, '2003': 541, 'wilhelm': 10197, 'employee': 5433, 'airliners': 3524, 'submitted': 9391, 'travelers': 9769, 'data': 5030, 'yahoo': 10260, 'whistleblower': 10180, 'edward': 5369, 'helping': 6246, 'clarify': 4608, 'increasingly': 6471, 'explosive': 5630, 'espionage': 5519, 'pair': 7830, 'height': 6238, 'appearance': 3703, 'style': 9382, 'cardiff': 4357, 'perhaps': 7996, 'affected': 3484, 'brain': 4176, 'periods': 8000, 'janson': 6634, 'stage': 9284, 'initiatives': 6502, 'burfien': 4243, 'famous': 5692, 'faces': 5668, 'andre': 3642, 'matthias': 7204, 'bronner': 4206, 'klippel': 6772, 'sadmin': 8817, 'osmicic': 7793, 'meaning': 7230, 'produce': 8269, 'victor': 10024, 'learning': 6888, 'testosterone': 9607, 'shots': 9068, 'breasts': 4191, 'removed': 8581, 'differences': 5183, 'studies': 9377, 'fully': 5941, 'animals': 3661, 'films': 5775, 'nsw': 7642, 'joe': 6667, 'leases': 6890, 'policy': 8133, 'political': 8136, 'hidden': 6268, 'interests': 6553, 'section': 8949, 'survey': 9448, 'related': 8558, 'awards': 3884, 'performances': 7993, 'choir': 4552, 'rehearsals': 8548, 'presentation': 8222, 'activity': 3427, 'went': 10168, 'dieter': 5180, '44': 1398, 'attendance': 3839, 'marks': 7170, 'chairman': 4496, 'horst': 6334, 'singer': 9118, 'friedrich': 5920, 'winkler': 10204, '42': 1317, 'fewer': 5755, 'deciding': 5065, 'equivalent': 5484, 'levels': 6925, 'woman': 10220, 'appeals': 3701, 'thai': 9618, 'jail': 6624, 'sydney': 9466, 'phuket': 8033, 'claiming': 4600, 'taxi': 9549, 'appealing': 3700, 'verdict': 10000, 'bail': 3912, 'showing': 9074, 'frequently': 5914, 'tail': 9509, 'wagging': 10101, 'friendly': 5922, 'side': 9082, 'producing': 8271, 'less': 6917, 'respond': 8634, 'pubic': 8346, 'common': 4723, 'takes': 9515, 'menarche': 7261, 'kaplowitz': 6724, 'author': 3858, 'guide': 6160, 'accused': 3409, 'trial': 9785, 'beginning': 4017, '2012': 551, 'favre': 5709, 'wear': 10151, 'degrees': 5088, 'expression': 5637, 'meanwhile': 7235, 'kerry': 6749, 'middle': 7303, 'east': 5336, 'address': 3444, 'charlie': 4522, 'brown': 4211, 'introduced': 6565, 'pumpkin': 8360, 'carving': 4398, 'jack': 6621, 'lantern': 6833, 'tree': 9779, 'wasted': 10133, 'decisions': 5067, 'virus': 10068, 'liver': 6977, 'steady': 9315, 'antibodies': 3681, 'manner': 7125, 'impressive': 6448, 'environmental': 5477, 'aspect': 3796, 'tribukait': 9786, 'nature': 7532, 'freiburg': 5909, 'greeting': 6121, 'councillor': 4903, 'patron': 7926, 'wished': 10212, 'campaign': 4313, 'success': 9397, 'prove': 8326, 'carrying': 4392, 'bucket': 4223, 'jens': 6648, 'boat': 4127, 'perform': 7991, 'singapore': 9117, '70': 2325, 'pawn': 7934, 'outlets': 7803, 'kim': 6763, 'huang': 6372, 'zweig': 10320, '2002': 540, 'christensen': 4560, 'saw': 8876, 'celebration': 4456, 'tenth': 9585, 'birthday': 4092, 'results': 8649, 'furthermore': 5951, 'operation': 7746, 'mid': 7302, 'fifties': 5763, 'move': 7438, 'floor': 5825, 'glow': 6062, 'dark': 5026, 'british': 4202, 'created': 4936, 'jellyfish': 6646, 'identify': 6406, 'presence': 8220, 'listening': 6970, 'prompted': 8303, 'ministry': 7331, 'berlin': 4053, 'pipeline': 8071, 'designed': 5134, 'genius': 6018, 'debate': 5058, 'approved': 3718, 'cost': 4893, 'krone': 6793, 'recently': 8497, 'epinephrine': 5480, 'easily': 5335, 'person': 8005, 'direct': 5194, 'lot': 7034, 'wages': 10100, 'spending': 9253, 'successful': 9398, 'grammar': 6104, 'vocational': 10084, 'complex': 4750, 'defender': 5085, 'challenge': 4498, 'provide': 8329, 'test': 9599, 'compete': 4740, 'desert': 5132, 'alb': 3541, 'experienced': 5613, 'happens': 6203, 'transit': 9759, 'budgetary': 4225, 'recorded': 8509, 'passed': 7904, 'thunder': 9648, 'voice': 10085, 'washington': 10131, 'port': 8160, 'adams': 3436, 'rush': 8805, 'making': 7102, 'baratz': 3937, 'reason': 8483, 'labor': 6807, 'abc': 3380, 'tv': 9827, 'neck': 7549, 'fisherman': 5802, 'anniversary': 3667, 'always': 3617, 'cities': 4588, 'nonetheless': 7610, 'paying': 7939, 'directly': 5196, 'airbus': 3520, 'boeing': 4132, 'supply': 9429, 'suppliers': 9427, 'choose': 4554, 'extremely': 5652, 'discussions': 5214, 'committees': 4722, 'addressed': 3445, 'topics': 9705, 'ranging': 8453, 'perceptions': 7982, 'expectations': 5607, 'reforms': 8530, 'concrete': 4773, 'composition': 4754, 'size': 9134, 'matter': 7202, 'try': 9807, 'central': 4471, 'conversations': 4853, 'intercepted': 6549, 'hardly': 6207, 'emptied': 5437, 'sundays': 9421, 'noticed': 7625, 'boxes': 4169, 'districts': 5228, 'electoral': 5399, 'declared': 5070, 'winner': 10205, 'sunshine': 9423, 'coast': 4662, 'seat': 8932, '53': 1735, 'votes': 10093, 'recount': 8511, 'sound': 9220, 'knowledge': 6781, 'living': 6981, 'abroad': 3391, 'broadcaster': 4203, 'sought': 9218, 'protection': 8323, 'panic': 7852, 'tours': 9724, 'afghanistan': 3487, 'worked': 10228, 'made': 7069, 'confession': 4785, 'context': 4835, 'plea': 8108, 'gadgets': 5957, 'planes': 8090, 'cell': 4459, 'gate': 5991, 'watch': 10134, 'movies': 7443, 'listen': 6969, 'music': 7489, 'talk': 9521, 'cellphones': 4461, 'issued': 6605, 'aviation': 3878, 'administration': 3449, 'cgi': 4492, 'down_file': 5274, 'criminal': 4950, 'proceedings': 8265, 'usa': 9915, 'spokesperson': 9263, 'psaki': 8338, 'permanently': 8001, 'observe': 7675, 'simply': 9111, 'turns': 9824, 'leisure': 6909, 'rebounded': 8488, 'offset': 7705, 'domestic': 5259, 'corporate': 4874, 'travel': 9768, 'donated': 5263, 'documentation': 5246, 'families': 5690, 'afford': 3485, 'visit': 10073, 'bunker': 4240, 'turn': 9820, 'haigerloch': 6184, 'costumes': 4898, 'account': 3406, 'hundred': 6382, 'supporters': 9431, 'gathered': 5993, 'outside': 7806, 'departure': 5118, 'presidential': 8228, 'mubarak': 7455, 'briefly': 4195, 'motorcade': 7432, 'southern': 9226, 'nevertheless': 7570, 'railway': 8435, 'crossing': 4962, 'supporting': 9432, 'extend': 5639, 'connecting': 4801, '118': 121, 'distributed': 5225, 'reliant': 8568, 'cooperation': 4861, 'relations': 8560, 'target': 9534, 'missiles': 7349, 'israeli': 6603, 'feared': 5717, 'intended': 6544, 'lebanese': 6894, 'hezbollah': 6265, 'missions': 7351, 'lies': 6942, 'psychiatric': 8339, 'cast': 4412, 'considerable': 4807, 'doubt': 5273, 'suffering': 9405, 'condition': 4777, 'repeatedly': 8591, 'sebelius': 8938, 'act': 3418, 'purchase': 8366, 'healthcare': 6230, 'sheep': 9054, 'baroness': 3952, 'kramer': 6791, 'easy': 5337, 'happen': 6202, 'roberto': 8721, 'blanco': 4103, 'jumbo': 6710, 'malaysia': 7105, 'topped': 9706, 'list': 6967, 'manage': 7112, 'wisdom': 10210, 'henne': 6250, 'fascination': 5701, 'behind': 4023, 'mgv': 7295, 'regular': 8540, 'clubhouse': 4652, 'tuesday': 9813, 'reading': 8475, 'councillors': 4904, 'compensation': 4739, 'elements': 5405, 'slips': 9152, 'hirsch': 6287, 'founder': 5882, 'standup': 9295, 'institution': 6532, 'carolines': 4379, 'prizes': 8255, 'prior': 8248, 'winners': 10206, 'filed': 5770, 'minorities': 7333, 'friend': 5921, 'parlour': 7877, 'stall': 9287, 'answers': 3678, 'statement': 9304, 'vegetable': 9982, 'diet': 5179, 'fed': 5723, 'information': 6491, 'criminals': 4951, 'fears': 5718, 'cocaine': 4667, 'addiction': 3440, 'exposed': 5634, 'liverpool': 6979, 'crown': 4968, 'firm': 5796, 'forbes': 5855, 'solicitors': 9193, 'blackburn': 4098, 'guilty': 6165, 'counts': 4911, 'perverting': 8013, 'justice': 6715, 'accompany': 3404, 'cuban': 4982, 'bar': 3935, 'danger': 5021, 'bigger': 4078, 'ruins': 8794, 'schweizer': 8914, 'wiese': 10193, 'huge': 6378, 'fail': 5676, 'vast': 9975, 'businesses': 4254, 'looking': 7021, 'export': 5632, 'focusing': 5838, 'countries': 4909, 'growing': 6133, 'offers': 7698, 'restaurant': 8642, 'haunted': 6220, '500': 1620, 'revenue': 8664, 'includes': 6464, 'puts': 8376, 'facebook': 5666, 'guy': 6172, 'sees': 8964, 'photo': 8030, 'comment': 4712, 'nice': 7582, 'arnold': 3757, 'goods': 6082, 'loaded': 6995, 'knocking': 6778, 'committee': 4721, 'character': 4513, 'dick': 5173, 'certainly': 4485, 'highly': 6273, 'gm': 6063, 'truck': 9798, 'roll': 8745, 'june': 6712, 'launch': 6860, 'exploits': 5627, 'features': 5720, 'range': 8452, 'dependencies': 5120, 'konstanz': 6786, 'cyclist': 5010, '63': 2082, 'occurred': 7685, '00': 0, 'across': 3417, 'dedicated': 5076, 'opposing': 7757, 'currency': 4994, 'gaining': 5960, 'quiet': 8405, 'loud': 7036, 'published': 8348, 'feed': 5728, 'expects': 5609, 'significant': 9097, 'shift': 9058, 'balance': 3916, 'close': 4640, 'silly': 9102, 'answer': 3677, 'question': 8398, 'highest': 6271, 'standards': 9292, 'integrity': 6541, 'instil': 6530, 'trust': 9804, 'claims': 4601, '91': 3058, 'ddos': 5048, '93': 3134, 'attack': 3832, 'national': 7526, 'europeans': 5559, 'mutual': 7495, 'terrorism': 9597, 'murphy': 7486, 'senate': 8984, 'subcommittee': 9386, 'sort': 9214, 'bias': 4071, 'italy': 6611, 'prime': 8245, 'blair': 4100, 'yes': 10273, 'sure': 9437, 'likely': 6950, 'general': 6011, 'discontent': 5205, 'single': 9121, 'regulation': 8543, 'benefits': 4046, '40': 1246, 'pro': 8256, 'agreed': 3504, 'baby': 3896, 'enjoy': 5460, 'fun': 5942, 'terror': 9596, 'self': 8978, 'consistency': 4813, 'word': 10225, 'computing': 4759, 'orbit': 7763, 'acts': 3430, 'loath': 6997, 'israel': 6602, 'arms': 3752, 'invested': 6569, 'gechingen': 6007, 'whereby': 10175, 'apology': 3695, 'invalids': 6567, 'testing': 9606, 'appeal': 3698, 'planners': 8094, 'gps': 6096, 'deliver': 5096, 'developing': 5160, 'authority': 3862, 'critical': 4959, 'phases': 8024, 'completed': 4747, 'lines': 6960, 'strategies': 9352, 'syria': 9470, 'egypt': 5381, 'beautiful': 4002, 'delicious': 5094, 'tarts': 9538, 'rabbits': 8418, 'exhibition': 5599, 'barbar': 3939, 'chair': 4495, 'practical': 8193, 'parishes': 7869, 'anyone': 3689, 'minutes': 7334, 'waited': 10104, 'enough': 5465, 'warned': 10126, 'becker': 4005, 'referring': 8525, 'ruling': 8799, '58': 1903, 'barrel': 3956, 'chosen': 4556, 'formed': 5870, 'eight': 5384, 'tasked': 9540, 'roundabout': 8771, 'katie': 6729, 'advised': 3470, 'boy': 4170, 'penis': 7971, 'comprehensive': 4755, 'poll': 8140, 'asking': 3794, 'returning': 8657, 'metre': 7290, 'shaft': 9043, 'upper': 9900, 'parking': 7873, 'cctv': 4447, 'footage': 5851, 'returned': 8656, 'becoming': 4008, 'workers': 10230, '457': 1453, 'undergo': 9866, 'genuineness': 6020, 'machine': 7066, 'translation': 9761, 'mt': 7452, 'systems': 9488, 'trained': 9751, 'segmented': 8968, 'complexity': 4751, 'regard': 8532, 'inputs': 6514, 'retail': 8650, 'frankfurt': 5898, 'chamber': 4500, 'industry': 6484, 'watzke': 10141, 'ultras': 9853, 'vfb': 10005, 'stuttgart': 9381, 'investment': 6577, 'bank': 3927, 'goldman': 6075, 'quantities': 8389, 'orders': 7770, 'markets': 7169, 'cloud': 4646, 'cancelled': 4327, 'provider': 8331, 'revelations': 8663, 'prism': 8249, 'mining': 7328, 'programme': 8290, 'typically': 9837, 'pawnbrokers': 7935, 'effective': 5372, 'seven': 9024, 'receiving': 8495, 'ban': 3923, 'unknown': 9885, 'unauthorised': 9859, 'low': 7041, 'schänzle': 8915, 'lane': 6830, 'nagold': 7510, 'assume': 3814, 'advisory': 3474, 'interested': 6551, 'regulatory': 8547, 'developments': 5162, 'reasons': 8484, 'matters': 7203, 'clarified': 4607, 'stated': 9303, 'varied': 9970, 'holiday': 6308, 'holidays': 6309, 'baden': 3902, 'deep': 5078, 'stones': 9336, 'subject': 9387, '79': 2627, 'e_qna': 5323, 'eng': 5451, 'modify': 7373, 'f1': 5659, '9636': 3252, '35': 1080, 'coals': 4661, 'brotherhood': 4209, 'spare': 9239, 'victory': 10027, 'delivery': 5099, 'tried': 9789, 'candidate': 4328, 'uprising': 9902, 'authoritarian': 3860, 'reserves': 8623, 'jobs': 6665, 'renewed': 8585, 'approach': 3714, '2006': 544, 'task': 9539, 'remain': 8572, 'got': 6090, 'paid': 7827, 'parental': 7865, 'pregnant': 8215, 'border': 4149, 'inches': 6460, 'cm': 4654, 'economy': 5353, 'cabins': 4276, 'usr': 9927, 'lib': 6934, 'sendmail': 8985, 'finances': 5779, 'discussion': 5213, 'evident': 5578, 'activities': 3426, 'zip': 10307, '201704': 557, 'volunteers': 10089, 'nearly': 7544, 'lots': 7035, 'theories': 9625, 'precocious': 8209, 'americans': 3627, 'testimony': 9605, 'except': 5585, 'passenger': 7906, 'remains': 8576, 'fear': 5716, 'english': 5456, 'lu': 7049, 'ng': 7579, '2010': 549, 'showed': 9072, 'softening': 9180, 'consumer': 4824, 'demand': 5103, 'origin': 7779, 'expressions': 5638, 'poor': 8154, 'tell': 9573, 'foolish': 5849, 'eat': 5339, 'perspective': 8011, 'waltraud': 10117, 'ries': 8690, 'lives': 6980, 'den': 5109, 'inn': 6509, 'sausage': 8872, 'kroll': 6792, 'slate': 9147, 'comedians': 4701, 'anthony': 3679, 'conclusion': 4770, 'permitted': 8002, 'cyclists': 5011, 'racers': 8420, 'types': 9835, 'extinguish': 5646, 'basketball': 3976, 'declining': 5072, 'application': 3709, 'daily': 5015, 'nation': 7525, 'fine': 5785, 'fm': 5834, 'serve': 9010, 'assange': 3801, 'extradition': 5649, 'notice': 7624, 'served': 9011, 'wikileaks': 10195, 'julian': 6708, 'refuge': 8531, 'ecuador': 5355, 'embassy': 5421, 'requested': 8612, 'know': 6779, 'neither': 7560, 'proper': 8308, 'segmentation': 8966, 'output': 7804, 'predict': 8210, 'symbols': 9468, 'existing': 5601, 'apartment': 3693, 'barrier': 3961, 'dropped': 5298, 'flying': 5832, '13': 195, 'quarter': 8391, 'parent': 7864, 'republic': 8608, 'airways': 3531, 'inc': 6458, 'advocates': 3475, 'intersex': 6563, 'coulson': 4901, 'brooks': 4207, 'deny': 5115, '2000': 538, 'syntactic': 9469, 'parser': 7880, 'log': 7006, 'linear': 6959, 'judge': 6701, 'ran': 8447, 'code': 4670, 'requirements': 8617, 'bräunlingen': 4218, 'retrieve': 8653, 'charred': 4523, 'competing': 4741, 'a350': 3375, 'carry': 4391, 'inch': 6459, 'laid': 6817, 'abreast': 3389, 'norbert': 7612, 'longer': 7017, 'economist': 5352, 'köpfler': 6805, 'löffingen': 7065, 'earn': 5329, 'teachers': 9555, 'analysts': 3636, 'unlikely': 9888, 'slide': 9150, 'blown': 4118, 'investors': 6579, 'overview': 7813, 'fascinating': 5700, 'empire': 5431, 'investments': 6578, 'conclusions': 4771, 'surprise': 9444, 'wish': 10211, 'possibility': 8176, 'pensioners': 7974, 'residential': 8627, 'clinton': 4637, '2600': 754, 'legal': 6902, 'crude': 4971, 'weeks': 10161, 'witnesses': 10217, 'sitting': 9129, 'member': 7253, 'spend': 9252, 'formal': 5869, 'bamford': 3922, 'detention': 5151, 'adult': 3462, 'women': 10221, 'sometime': 9201, 'feeling': 5730, 'kill': 6758, 'patients': 7923, 'recovery': 8512, 'marine': 7159, 'le': 6877, 'pen': 7967, 'adopted': 3458, 'applied': 3711, 'criteria': 4958, 'preventing': 8237, 'fill': 5771, 'positions': 8172, 'door': 5267, 'friends': 5923, 'tony': 9701, 'seize': 8973, 'chance': 4503, 'acknowledges': 3414, 'comedy': 4702, 'larry': 6844, 'steinberg': 9322, 'pangerl': 7851, 'sped': 9248, 'finish': 5787, 'acknowledged': 3413, 'lease': 6889, 'join': 6673, 'zone': 10311, 'membership': 7255, 'contractor': 4843, 'obligations': 7671, 'communities': 4731, 'supposed': 9434, 'plane': 8088, 'restart': 8641, 'tolerance': 9691, 'fleet': 5817, 'readers': 8474, 'smartphones': 9159, 'altitudes': 3613, 'managing': 7117, 'jörg': 6718, 'arne': 3755, 'stands': 9294, 'france': 5891, 'consist': 4812, 'west': 10169, 'stating': 9307, 'barely': 3948, 'skilled': 9140, 'fields': 5760, 'mean': 7229, 'sooner': 9209, 'conversation': 4852, 'oncoming': 7730, 'spoken': 9261, 'laws': 6866, 'possibilities': 8175, 'studying': 9379, 'extreme': 5651, 'examining': 5582, 'valid': 9949, 'zealand': 10302, 'burt': 4249, 'resolved': 8631, 'race': 8419, '1920': 479, 'universal': 9881, 'rendered': 8584, 'judgment': 6703, 'follow': 5840, 'facts': 5674, 'lead': 6878, 'fast': 5702, 'implemented': 6439, 'vary': 9973, 'administrator': 3451, 'huerta': 6375, 'conference': 4784, 'fitted': 5806, 'radar': 8423, 'eggs': 5380, 'governments': 6094, 'tracking': 9735, 'california': 4293, 'motorist': 7433, '2025': 562, 'feet': 5734, 'blue': 4120, 'investigation': 6573, 'instability': 6524, 'fernando': 5748, 'corruption': 4883, 'slow': 9153, 'pace': 7820, 'approval': 3717, 'rating': 8461, 'harder': 6206, 'closer': 4642, 'röhrenbeck': 8811, 'postal': 8180, 'talking': 9523, 'dealer': 5053, 'necessary': 7547, 'applications': 3710, 'virtues': 10067, '2007': 545, 'leader': 6879, 'largely': 6840, 'avoided': 3881, 'quartet': 8393, 'miranda': 7341, 'kerr': 6748, 'orlando': 7784, 'bloom': 4116, 'flynn': 5833, 'warplanes': 10129, 'store': 9344, 'latakia': 6852, 'surgeries': 9441, 'hold': 6302, 'bag': 3905, 'circuit': 4580, 'outcome': 7800, 'institute': 6531, 'catholic': 4437, 'kurt': 6799, 'absolutely': 3393, 'schmidt': 8904, 'colleagues': 4679, 'hütter': 6389, 'punctuations': 8363, 'transcribed': 9756, 'protect': 8321, 'comfort': 4708, 'jets': 6653, 'layouts': 6873, 'campaigns': 4314, 'suitable': 9414, 'assist': 3809, 'illegal': 6421, 'immigration': 6433, 'properly': 8309, 'protected': 8322, 'interference': 6556, 'ago': 3502, 'disappear': 5201, 'announcing': 3671, 'product': 8272, '89': 2988, 'traces': 9733, 'wallet': 10115, 'credit': 4942, 'cards': 4361, 'arrested': 3764, 'speaking': 9243, 'argued': 3745, 'forget': 5867, 'ignore': 6413, 'ludwig': 7052, 'straße': 9354, 'müller': 7506, 'prosecution': 8318, 'suggests': 9410, 'editor': 5363, 'edis': 5362, 'actually': 3432, 'turned': 9821, 'seeker': 8958, 'extent': 5644, 'feature': 5719, 'spring': 9269, 'village': 10047, 'valley': 9956, 'normally': 7614, 'shadows': 9042, 'surrounding': 9446, 'headed': 6227, 'pawning': 7936, 'jewellery': 6654, 'merely': 7276, 'cash': 4410, '300': 904, 'amirthalinga': 3629, 'loans': 6996, 'career': 4363, 'lively': 6976, 'river': 8711, 'neighbouring': 7557, 'forms': 5873, 'flood': 5824, 'initially': 6499, 'mainly': 7089, 'online': 7735, 'sellers': 8980, 'ticket': 9654, 'nasdaq': 7523, 'transfer': 9757, 'errors': 5495, 'pointed': 8126, 'movement': 7440, 'rest': 8640, 'attractive': 3844, 'ulbrich': 9848, 'weg': 10162, 'wrapped': 10242, 'toilet': 9687, 'wheel': 10174, 'trims': 9792, 'stolen': 9334, 'audiences': 3849, 'morning': 7420, 'session': 9020, 'army': 3753, 'nationality': 7527, 'sides': 9084, 'ralph': 8442, 'thanked': 9620, 'rothmund': 8768, 'instructed': 6534, 'yangcheng': 10262, 'undertake': 9870, 'rectification': 8513, 'recommended': 8504, 'relevant': 8567, 'revise': 8667, 'leadership': 6881, 'sayings': 8881, 'fallen': 5684, 'scales': 8887, 'someone': 9199, 'im': 6427, 'seine': 8972, 'defend': 5083, 'server': 9012, 'sends': 8987, 'content': 4833, 'benni': 4049, 'uses': 9923, 'seated': 8934, 'experts': 5620, 'confessions': 4786, 'forcing': 5859, 'praise': 8198, 'smile': 9160, 'candy': 4329, 'broke': 4204, 'resistance': 8629, 'hughes': 6379, 'detonated': 5154, 'seconds': 8943, 'rep': 8588, 'sight': 9090, 'nursing': 7656, 'psychological': 8341, 'sector': 8951, 'quarters': 8392, '250': 723, 'extraordinary': 5650, 'milton': 7321, 'earnest': 5330, 'july': 6709, 'dispute': 5217, 'makers': 7100, 'sell': 8979, 'larger': 6841, 'twin': 9830, 'engined': 5453, 'potentially': 8184, 'record': 8508, 'event': 5567, 'aspects': 3797, 'guebuza': 6149, 'dhlakama': 5166, 'joseph': 6688, 'hanlon': 6199, 'mozambique': 7445, 'releasing': 8566, 'secrets': 8947, 'path': 7921, 'hole': 6306, 'adrian': 3460, 'moore': 7413, 'vice': 10018, 'whole': 10184, 'voted': 10092, 'adds': 3447, 'confusing': 4795, '140': 239, 'esa': 5497, '2020': 559, 'organised': 7776, 'positive': 8173, 'treat': 9775, 'charges': 4519, 'defence': 5082, 'santiago': 8858, 'kept': 6745, 'income': 6466, 'occurs': 7686, 'vets': 10004, 'check': 4530, 'johan': 6668, 'philipp': 8027, 'mind': 7323, 'mass': 7188, 'astronomers': 3820, 'planets': 8092, 'stars': 9297, 'lee': 6898, 'lancashire': 6824, 'solicitor': 9192, 'started': 9299, 'struck': 9369, 'syrian': 9471, 'senior': 8989, 'fox': 5886, 'worst': 10238, 'skirmishes': 9142, 'saxony': 8877, 'hs2': 6367, 'ltd': 7048, 'england': 5455, 'anger': 3654, 'failed': 5677, 'contained': 4829, 'lost': 7033, 'lack': 6810, 'passing': 7908, 'moments': 7384, 'bow': 4165, 'continually': 4837, 'increasing': 6470, 'restaurants': 8643, 'fund': 5945, 'unemployment': 9874, 'dsd': 5302, 'cause': 4441, 'actions': 3422, 'split': 9259, 'hanmail': 6200, 'fees': 5733, 'taxes': 9548, 'hell': 6241, 'art': 3776, 'hot': 6346, 'drink': 5287, 'legs': 6907, 'fined': 5786, 'bruno': 4213, 'theory': 9626, 'coat': 4663, 'flee': 5816, 'mystery': 7501, 'gay': 6000, 'loose': 7023, 'nations': 7528, 'gaulle': 5997, 'milk': 7315, 'products': 8276, 'proposal': 8312, 'opinion': 7751, 'aims': 3517, 'gravitational': 6116, 'waves': 10143, 'looked': 7020, 'tiny': 9666, 'lose': 7029, 'qualified': 8387, 'luggage': 7055, 'pursue': 8371, 'cheops': 4536, 'telescope': 9570, '2017': 556, 'proximity': 8336, 'investigated': 6571, 'greater': 6118, 'detail': 5146, 'swabian': 9458, 'beforehand': 4014, 'promises': 8301, 'grounds': 6129, 'mainz': 7092, 'injured': 6504, 'entry': 5475, 'schedule': 8897, 'exception': 5586, 'seems': 8962, 'allowance': 3584, 'nivre': 7595, 'perry': 8004, 'singers': 9119, 'guest': 6156, 'ordered': 7769, 'video': 10029, 'took': 9702, 'paris': 7867, 'max': 7210, 'please': 8109, 'guess': 6155, 'sap': 8862, 'stored': 9345, 'guarantee': 6145, 'jurisdiction': 6714, 'arbitration': 3728, 'resort': 8632, 'concern': 4764, 'shadow': 9041, 'charles': 4521, 'holding': 6304, 'improvements': 6452, 'northern': 7619, 'husband': 6386, 'pretty': 8233, 'zhang': 10305, 'clark': 4610, 'schiltach': 8902, '220': 625, 'makes': 7101, 'appearing': 3706, 'actual': 3431, 'shock': 9062, 'villages': 10048, 'truly': 9803, 'founding': 5883, 'carriers': 4387, 'materials': 7198, 'baggage': 3907, 'fighting': 5767, 'raged': 8431, 'safira': 8823, 'weapons': 10150, 'facility': 5670, 'sites': 9127, 'observatory': 7674, 'french': 5911, 'bloc': 4110, 'gun': 6168, 'conceal': 4761, 'metadata': 7287, 'communication': 4729, 'communicating': 4728, 'everyone': 5574, 'position': 8170, 'warning': 10127, 'signals': 9094, 'implementation': 6438, 'measuring': 7240, 'consciousness': 4803, 'advantage': 3466, 'switzerland': 9464, 'cosmic': 4890, 'vision': 10072, 'gazprom': 6001, 'historically': 6291, 'genitalia': 6016, 'named': 7513, 'sexuality': 9035, 'considers': 4811, 'kuhbach': 6797, 'crossings': 4963, 'agreements': 3506, 'fit': 5803, 'blames': 4102, 'attacking': 3835, 'soldiers': 9191, 'fifth': 5762, '59': 1948, 'intelligence': 6543, 'james': 6629, 'clapper': 4602, 'defended': 5084, 'allies': 3582, 'suisse': 9412, 'dismissed': 5216, 'trader': 9741, 'funds': 5948, 'desk': 5139, 'loss': 7031, 'prosecutor': 8319, 'clients': 4630, 'television': 9572, 'arrived': 3769, 'carbon': 4351, 'claim': 4598, 'questions': 8400, 'sorensen': 9211, 'flew': 5819, 'upcoming': 9894, 'rise': 8703, 'hosted': 6342, 'sit': 9124, 'owners': 7816, 'realised': 8479, 'remnants': 8580, 'cleaned': 4622, '83': 2782, 'controls': 4848, 'ill': 6419, 'consideration': 4809, 'spontaneous': 9264, 'retained': 8651, 'affectation': 3483, 'notified': 7627, 'regulators': 8546, 'minimal': 7326, 'keith': 6740, 'carmichael': 4375, 'charged': 4518, 'jonathan': 6680, 'royal': 8778, 'hears': 6234, 'raised': 8438, 'caringbah': 4367, 'worker': 10229, 'abuse': 3394, 'ballerstedt': 3919, 'standings': 9293, 'computers': 4758, 'pdf': 7943, 'owner': 7815, 'pedestrians': 7954, 'tourist': 9722, 'opening': 7742, 'connection': 4802, 'competition': 4742, 'quarry': 8390, 'yorkshire': 10284, 'competitive': 4743, 'joints': 6677, 'meat': 7241, 'secretary': 8946, 'award': 3883, 'derby': 5125, 'upon': 9899, 'kick': 6756, 'drive': 5289, 'sufficiently': 9407, 'opcw': 7739, 'inspectors': 6522, 'voting': 10094, 'spa': 9233, 'referendum': 8523, 'neckar': 7550, 'riesen': 8691, 'giants': 6044, 'stability': 9281, 'doctrine': 5244, 'hatred': 6217, 'cdata': 4449, 'passport': 7909, 'along': 3597, 'hadrian': 6183, 'journalist': 6689, 'ron': 8753, 'ben': 4040, 'writing': 10245, 'regime': 8536, 'previously': 8239, 'attempted': 3838, 'successfully': 9399, 'discussed': 5212, 'ages': 3499, 'nearby': 7543, 'hospitals': 6339, 'motivated': 7430, 'suspects': 9453, 'relation': 8559, 'discovery': 5209, 'tonnes': 9699, '150': 288, 'kilograms': 6761, 'seized': 8974, 'similar': 9107, 'lucky': 7051, 'trend': 9783, 'grew': 6123, 'devote': 5165, 'maths': 7199, 'ideal': 6402, 'kuhn': 6798, 'narrow': 7521, 'assign': 3805, 'exceptional': 5587, 'thrown': 9647, 'afterwards': 3492, 'federation': 5725, 'opportunity': 7755, 'drawn': 5282, 'horses': 6332, 'beyond': 4065, 'aerospace': 3478, 'false': 5686, 'georges': 6022, 'rural': 8803, 'cameroon': 4305, 'islamist': 6599, 'mohamed': 7374, 'morsi': 7423, 'freely': 5907, 'elected': 5395, 'ousted': 7799, 'measurements': 7238, 'accounts': 3407, 'arrival': 3767, 'chants': 4510, 'main': 7088, 'kind': 6764, 'smokers': 9164, 'strong': 9365, 'approaches': 3715, 'prof': 8277, 'cornell': 4871, 'pediatrician': 7956, 'monitor': 7393, 'closely': 4641, 'chain': 4494, 'represented': 8604, 'arrests': 3765, 'thailand': 9619, 'asia': 3790, 'severe': 9026, 'assured': 3817, 'estimated': 5537, 'link': 6964, 'bold': 4136, 'castle': 4428, 'supervision': 9425, 'hormones': 6327, 'blame': 4101, 'obesity': 7667, 'epidemic': 5479, 'toward': 9725, 'pronounced': 8305, 'boys': 4171, 'correspondent': 4880, 'automatic': 3867, 'ability': 3385, 'cold': 4674, 'measured': 7237, 'sufficient': 9406, 'tendency': 9581, 'opposed': 7756, 'primary': 8243, 'season': 8931, 'nominee': 7607, 'mitt': 7354, 'romney': 8752, 'inaugural': 6456, 'raising': 8439, 'foundation': 5880, 'mile': 7311, 'strain': 9351, 'wrongdoing': 10248, 'scarborough': 8890, 'round': 8770, 'tombola': 9695, '1097': 78, 'memorial': 7257, 'historic': 6290, 'separate': 8999, 'vallortigara': 9957, 'movements': 7441, 'noted': 7622, 'putting': 8377, 'frisk': 5925, 'practice': 8194, 'constitutional': 4820, 'nypd': 7659, 'stops': 9341, 'obamacare': 7664, 'statistical': 9310, 'sensor': 8992, 'checks': 4531, 'status': 9312, 'yaounde': 10263, 'instruction': 6535, 'androgen': 3647, 'characteristics': 4516, 'icac': 6396, 'dunn': 5314, 'ports': 8167, 'westminster': 10170, 'amp': 3633, 'combined': 4699, 'ireland': 6589, 'wales': 10109, 'decide': 5063, 'steps': 9326, 'commented': 4713, 'josef': 6685, 'officials': 7704, 'manifest': 7122, 'secondary': 8942, 'muscle': 7487, 'distribution': 5226, 'destruction': 5145, 'heavier': 6237, 'stowed': 9349, 'overhead': 7810, 'easier': 5334, 'listed': 6968, 'deed': 5077, 'possession': 8174, 'words': 10226, 'seemed': 8961, 'fight': 5764, 'chatting': 4524, 'vatican': 9976, 'places': 8085, 'looks': 7022, 'holds': 6305, 'weight': 10164, 'sentiment': 8997, 'contain': 4828, 'involvement': 6583, 'blunkett': 4121, 'sizes': 9136, 'regions': 8539, 'contains': 4830, 'aware': 3885, 'allergic': 3580, 'occur': 7684, 'allowed': 3585, 'chickens': 4542, 'austerity': 3855, 'imposed': 6444, 'economies': 5351, 'led': 6896, 'palace': 7832, 'roman': 8748, 'rhine': 8673, 'leg': 6901, 'rocker': 8731, 'bloody': 4115, 'subjects': 9388, 'roland': 8742, 'grießhaber': 6125, 'hirschen': 6288, 'activists': 3425, 'encourage': 5441, 'quick': 8402, 'type': 9834, 'eventual': 5569, 'murder': 7483, 'agent': 3497, 'smith': 9161, 'repair': 8589, 'battered': 3980, 'image': 6428, 'leading': 6882, 'convinced': 4857, 'shown': 9075, 'speechlessness': 9250, 'joy': 6693, 'exports': 5633, 'afraid': 3488, 'spider': 9255, 'impression': 6447, 'inspection': 6521, 'currently': 4996, 'stefan': 9319, 'expense': 5610, 'bankrupt': 3929, 'hochschwarzwald': 6297, 'wolf': 10218, 'titisee': 9672, 'neustadt': 7567, 'hammered': 6192, 'shale': 9044, 'emerged': 5423, 'heating': 6236, 'external': 5645, 'conformity': 4793, 'earth': 5332, 'analyse': 3635, 'search': 8929, 'gases': 5987, 'biological': 4085, 'afternoon': 3491, 'cake': 4287, 'snack': 9170, 'efficient': 5375, 'thousands': 9641, 'dangerous': 5022, 'response': 8637, 'hofheim': 6298, 'rosengarten': 8765, 'inquiry': 6516, 'fdp': 5714, '106': 59, 'pumpkins': 8361, '1970s': 505, 'sections': 8950, 'tall': 9525, 'sun': 9418, 'mirrors': 7344, 'stadium': 9282, 'dickel': 5174, 'win': 10201, 'arsenal': 3775, 'contract': 4842, 'extension': 5642, '600': 1985, 'worth': 10239, 'bars': 3966, 'dinker': 5188, 'falkenberg': 5681, 'begun': 4020, 'object': 7669, 'honest': 6318, 'fate': 5705, 'falls': 5685, 'variety': 9971, 'live': 6975, 'midst': 7305, 'crowd': 4966, 'keeps': 6738, 'independence': 6476, 'prices': 8241, 'recalls': 8491, 'pickup': 8044, 'disputes': 5218, 'sebastian': 8937, 'felix': 5738, 'simon': 9109, 'schenk': 8900, 'eduard': 5365, 'schulz': 8911, 'killed': 6759, 'representing': 8605, 'involve': 6581, 'judges': 6702, 'marked': 7165, 'toffee': 9684, 'ring': 8697, 'challenging': 4499, 'ethical': 5545, 'knowing': 6780, 'choice': 4551, 'loyal': 7044, 'finding': 5783, 'mix': 7355, 'students': 9375, '700': 2326, 'endurance': 5447, 'centuries': 4474, 'hermann': 6254, '14': 238, 'fly': 5831, 'contacted': 4827, 'creation': 4939, 'ambitious': 3623, 'streams': 9356, 'cope': 4862, 'sales': 8837, 'supervisory': 9426, 'established': 5529, 'dollars': 5254, 'experiment': 5616, 'cdc': 4450, '1997': 526, 'smoke': 9162, 'ham': 6190, 'casa': 4399, 'wi': 10186, 'fi': 5756, 'entertainment': 5470, 'panel': 7849, 'march': 7144, 'contradict': 4844, 'humans': 6381, 'handed': 6194, 'emotions': 5428, 'processes': 8267, 'elsewhere': 5415, 'amid': 3628, 'guidance': 6159, 'represent': 8601, 'beaudoin': 3999, 'rage': 8430, 'vulnerable': 10096, 'procedures': 8264, 'airplane': 3526, 'mode': 7367, 'filled': 5772, 'warehouses': 10125, 'region': 8537, 'rising': 8704, 'requires': 8618, 'seating': 8935, 'denver': 5114, 'shrinking': 9077, 'width': 10192, 'reality': 8481, 'threat': 9642, '777': 2579, 'cabin': 4275, 'mary': 7182, 'cuts': 5004, 'labour': 6808, 'alistair': 3574, 'coalition': 4660, '1981': 513, 'capital': 4345, 'meaningful': 7231, 'steer': 9318, 'website': 10157, 'representatives': 8603, 'samsung': 8846, 'huawei': 6373, 'htc': 6369, 'rockstar': 8732, 'evenings': 5566, 'operate': 7743, 'apple': 3707, 'microsoft': 7301, 'inauguration': 6457, 'supreme': 9435, 'motorists': 7434, 'mikwe': 7309, 'archaeological': 3732, 'holy': 6311, 'ex': 5579, 'baywatch': 3990, 'babe': 3894, 'blonde': 4114, 'locks': 7002, 'pixie': 8077, 'informed': 6493, 'evaluations': 5562, 'posted': 8181, 'erich': 5489, 'responded': 8635, 'communicated': 4727, 'tourism': 9721, 'physicians': 8035, 'umbrella': 9855, 'memoir': 7256, 'barack': 3936, 'destroyed': 5144, 'watchdog': 10135, 'toxic': 9730, 'agents': 3498, 'tamar': 9526, 'mattis': 7205, 'allows': 3587, 'adults': 3463, 'recognized': 8503, 'sexy': 9037, 'assailants': 3800, 'fired': 5792, 'bus': 4250, 'cried': 4947, 'saved': 8874, 'narrenzunft': 7519, 'fool': 5848, 'guild': 6163, 'begins': 4018, 'customs': 5002, 'harmonie': 6211, 'gutmadingen': 6171, 'celebratory': 4458, 'celebrating': 4455, 'ladies': 6813, 'theresa': 9628, 'podium': 8123, 'hero': 6258, 'antibody': 3682, 'sweden': 9460, 'exhausted': 5598, 'jointly': 6676, 'performing': 7995, 'housing': 6356, 'belt': 4038, 'fulfilling': 5938, 'promise': 8299, 'brings': 4199, 'fluorescent': 5830, 'animal': 3660, 'experimental': 5617, 'victims': 10023, 'ordeal': 7766, 'ultimately': 9852, 'feels': 5732, 'comfortable': 4709, 'wake': 10107, 'oliver': 7721, 'medium': 7247, 'sized': 9135, 'lying': 7064, 'straight': 9350, 'window': 10203, 'parks': 7874, 'silverado': 9104, 'sierra': 9086, '2014': 553, 'clothes': 4644, 'musical': 7490, 'rudolf': 8791, 'composed': 4753, 'underlying': 9868, 'compared': 4737, 'forecast': 5861, 'essentially': 5526, 'wood': 10223, 'machines': 7067, 'distribute': 5224, 'load': 6993, 'yetglezip': 10276, '49': 1572, 'officer': 7700, 'improve': 6450, 'virtue': 10066, 'social': 9172, 'financing': 5781, 'pressure': 8230, 'hasty': 6216, 'newborns': 7572, 'discrimination': 5210, 'subsequently': 9393, 'admitted': 3454, 'owned': 7814, 'incredible': 6472, 'gets': 6037, 'silvia': 9106, 'karl': 6725, '31': 939, 'elective': 5398, 'meantime': 7234, 'reverse': 8665, 'necessity': 7548, 'maryland': 7183, 'babies': 3895, 'assigned': 3806, 'perfectly': 7990, 'spy': 9270, 'equipped': 5483, 'latter': 6858, 'widened': 10189, 'footpath': 5853, 'doctor': 5242, 'striker': 9363, 'reuters': 8659, 'anonymous': 3674, 'super': 9424, 'smuggling': 9168, 'mexico': 7293, 'shut': 9079, 'testified': 9603, 'safe': 8820, 'clinics': 4636, 'specialist': 9245, 'malmon': 7109, 'predicted': 8211, 'adverbial': 3467, 'feelings': 5731, 'presents': 8225, 'prosecuting': 8317, 'anne': 3666, 'apply2': 3713, '2453': 709, 'bbs314': 3992, '129': 185, '945': 3180, 'string': 9364, 'excuse': 5590, 'failure': 5678, 'signed': 9095, 'unprecedented': 9889, 'admission': 3452, 'occasions': 7683, '202': 558, '203': 565, '214': 601, 'title': 9673, 'lang': 6831, 'lasalle': 6847, '9th': 3371, 'immobilientag': 6434, 'börsen': 4265, 'zeitung': 10304, 'ovaries': 7807, 'internet': 6560, 'capabilities': 4342, 'reduce': 8520, 'everywhere': 5576, 'stone': 9335, 'serving': 9019, 'peaceful': 7948, 'seriously': 9006, 'buried': 4248, 'collect': 4680, 'pension': 7973, 'angry': 3657, 'theatre': 9622, 'satellite': 8864, 'currencies': 4993, '777x': 2584, 'row': 8776, 'urged': 9907, 'jane': 6632, 'jenny': 6647, 'patek': 7917, 'lighting': 6946, 'pawnshop': 7937, 'bendemeer': 4043, 'shopping': 9064, 'swapping': 9459, 'initiated': 6500, '1956': 498, 'mccarthy': 7221, 'tribunal': 9787, 'program': 8286, 'logs': 7012, 'block': 4111, 'authorisation': 3859, 'intercept': 6548, 'damages': 5018, 'patent': 7918, 'infringement': 6496, 'otherwise': 7796, 'norway': 7620, 'footsteps': 5854, 'federico': 5726, 'ceremony': 4480, 'bottom': 4161, 'needs': 7553, 'habit': 6179, 'transmissions': 9762, 'stronger': 9366, 'reminds': 8579, 'somewhat': 9203, 'defect': 5080, 'reclining': 8499, 'andrew': 3646, 'clarke': 4611, 'adviser': 3471, 'argument': 3746, 'pays': 7940, 'replied': 8595, 'projected': 8296, 'instant': 6528, 'messages': 7283, 'emails': 5420, 'instances': 6527, 'monthly': 7406, 'extra': 5647, 'mud': 7460, 'rivers': 8712, 'daughter': 5034, 'league': 6884, 'appealed': 3699, 'brent': 4193, 'international': 6559, 'tier': 9658, 'blade': 4099, 'spent': 9254, 'relatives': 8563, 'circular': 4581, 'quay': 8394, 'obeids': 7666, 'tender': 9582, 'poverty': 8186, 'loved': 7039, 'presenting': 8224, 'verses': 10002, 'written': 10246, 'painter': 7829, 'conventional': 4851, 'dunningen': 5315, 'insisted': 6520, 'tasmanian': 9543, 'strict': 9362, 'dividends': 5233, 'battled': 3982, 'champion': 4501, 'leipferdingen': 6908, 'bedroom': 4011, 'included': 6463, 'document': 5245, 'germans': 6027, 'layout': 6872, 'cheaper': 4529, 'fares': 5698, 'implement': 6437, 'mandate': 7118, 'ruled': 8797, '1974': 507, 'oil': 7711, 'providers': 8332, 'paranoia': 7858, 'suddenly': 9400, 'stopped': 9339, 'fighters': 5766, 'scorn': 8919, 'appearances': 3704, 'critics': 4961, 'dehner': 5089, 'aller': 3579, 'drei': 5284, 'blau': 4109, 'cairo': 4284, 'nrf': 7639, 'heroin': 6260, 'roger': 8739, 'emit': 5427, 'tunnels': 9817, 'chinese': 4549, 'seek': 8957, 'comparison': 4738, 'rose': 8764, 'cable': 4277, 'fantasy': 5696, 'football': 5852, 'resulting': 8648, 'emergency': 5424, 'double': 5272, 'sdgs': 8926, 'millennium': 7317, 'framework': 5890, 'whistle': 10179, 'steinach': 9320, 'mulcaire': 7467, 'thurlbeck': 9649, 'weatherup': 10155, 'usher': 9924, 'understand': 9869, 'forex': 5866, 'spot': 9266, 'jpmorgan': 6696, 'cited': 4587, 'fantastic': 5695, 'powerful': 8188, 'statue': 9311, 'maputo': 7138, 'rare': 8457, 'demonstration': 5108, 'sri': 9277, 'charging': 4520, 'cover': 4917, 'losses': 7032, 'loves': 7040, 'marginally': 7150, 'decades': 5061, 'blocks': 4113, 'blocked': 4112, 'requiring': 8619, 'cyber': 5009, 'tactic': 9505, 'relatively': 8562, 'penetrate': 7970, 'salem': 8836, 'forum': 5876, 'monday': 7387, 'des': 5127, 'notion': 7628, 'drone': 5296, 'practices': 8195, 'beer': 4012, 'wind': 10202, 'churches': 4567, 'collision': 4685, 'positioned': 8171, 'considerably': 4808, 'stopping': 9340, 'drew': 5286, 'troops': 9796, 'mall': 7107, 'crystal': 4976, 'concert': 4767, 'accompanied': 3403, 'addressing': 3446, 'notices': 7626, 'coverage': 4918, 'marketplace': 7168, 'anna': 3665, 'connected': 4800, 'contribution': 4846, 'risks': 8706, 'shirt': 9061, 'source': 9223, 'pos': 8169, '52': 1691, 'active': 3423, '1908': 470, 'stronghold': 9367, 'groups': 6131, 'wealthy': 10148, 'ventures': 9995, 'flow': 5829, 'yeah': 10267, 'pastor': 7913, '43': 1359, 'kamau': 6721, 'hemingway': 6248, 'fighter': 5765, 'fish': 5801, 'identification': 6404, 'hosts': 6345, 'biosphere': 4088, 'switch': 9463, 'consists': 4815, 'walter': 10116, 'conditional': 4778, 'random': 8449, 'chairperson': 4497, 'manuela': 7130, 'honeck': 6317, 'explanation': 5624, 'ranking': 8455, 'popes': 8157, 'dig': 5187, 'ericsson': 5490, 'miss': 7348, 'concessions': 4768, 'sample': 8845, 'survivors': 9449, 'starting': 9300, 'bader': 3903, 'pascal': 7895, 'treubel': 9784, 'championships': 4502, 'bear': 3995, 'responsibility': 8638, 'underground': 9867, 'park': 7870, 'listing': 6971, 'collided': 4684, 'stuck': 9373, 'revelation': 8662, 'manual': 7127, 'eventually': 5570, 'segmentations': 8967, 'beating': 3996, 'employed': 5432, 'professor': 8283, 'stephen': 9324, 'griffith': 6127, 'motivation': 7431, 'contemporaries': 4831, 'channel': 4508, 'images': 6429, '125': 166, 'interfere': 6555, 'rosenker': 8766, 'bittner': 4094, 'unison': 9877, 'fiscal': 5800, 'solid': 9194, 'reconstructed': 8506, 'councils': 4905, 'andy': 3649, 'confirm': 4789, 'affair': 3480, 'piercing': 8050, 'rhenus': 8672, 'midgard': 7304, 'coal': 4659, 'tickets': 9655, '503': 1634, 'pipe': 8070, 'tijuana': 9661, 'ventilation': 9993, 'helpers': 6245, 'maintenance': 7091, 'agreement': 3505, 'aachen': 3376, 'christ': 4559, 'minds': 7324, 'pm': 8118, 'scheme': 8899, '50ft': 1656, 'nixon': 7596, '67': 2218, 'provides': 8333, 'thorough': 9636, 'polls': 8142, 'pass': 7900, 'jay': 6642, 'kaiser': 6719, 'susi': 9450, 'helmbrechts': 6242, 'generally': 6012, 'keen': 6735, 'barrels': 3957, 'breast': 4190, 'florida': 5828, 'pediatric': 7955, 'agencies': 3495, 'biggest': 4079, 'painted': 7828, 'georg': 6021, 'caught': 4440, 'ceremonies': 4479, 'bali': 3917, 'audi': 3847, 'collected': 4681, 'struggle': 9371, 'noise': 7605, 'site': 9126, '2028': 564, '2034': 567, 'older': 7717, 'watts': 10140, 'mentioned': 7268, 'corner': 4872, 'cowards': 4921, 'advancing': 3465, 'preserved': 8226, 'anderson': 3640, 'cooper': 4859, 'bombing': 4140, 'firing': 5795, 'arctic': 3735, 'monkeys': 7395, 'alex': 3561, 'turner': 9822, 'illness': 6424, 'rock': 8729, 'diagnosed': 5168, 'laryngitis': 6845, 'dinner': 5189, 'wife': 10194, 'brother': 4208, 'drives': 5293, 'liable': 6932, 'pick': 8041, 'recognize': 8502, 'traveling': 9770, 'eleven': 5406, 'folk': 5839, 'subliminated': 9389, 'web': 10156, 'activist': 3424, 'offered': 7696, 'selling': 8981, '2145': 605, '540': 1775, 'omnicef': 7728, 'methodcall': 7288, 'params': 7857, 'dramatically': 5280, 'modifier': 7372, 'depend': 5119, 'tight': 9660, 'crimes': 4949, 'camp': 4311, 'schlotmann': 8903, 'probably': 8257, 'venue': 9996, 'kana': 6723, 'alone': 3596, 'multiple': 7472, 'cooperate': 4860, 'instrument': 6536, 'strengthen': 9360, 'offering': 7697, 'leads': 6883, 'sewer': 9029, 'consulting': 4822, '95': 3196, 'wr_datetime': 10241, 'bbs338': 3993, '122': 148, 'ailing': 3516, 'control': 4847, 'justices': 6716, 'taxing': 9550, 'surplus': 9443, 'interesting': 6552, 'located': 6999, 'pamela': 7845, 'dramatic': 5279, 'wag': 10099, 'tails': 9510, 'dominated': 5261, 'walking': 10113, '400': 1247, 'insufficient': 6537, 'sued': 9402, 'nortel': 7617, 'manufacturers': 7132, 'jet': 6652, 'parked': 7872, 'weymouth': 10171, 'schwarzwald': 8913, 'stakes': 9286, 'tinto': 9665, 'vale': 9944, 'respected': 8633, 'treatment': 9777, 'miller': 7318, 'bulgaria': 4235, 'towns': 9729, 'rough': 8769, 'praised': 8199, 'responding': 8636, 'assistance': 3810, 'steal': 9316, 'guarded': 6146, 'learn': 6886, 'sources': 9224, 'designing': 5135, 'lay': 6870, 'slowly': 9154, 'haas': 6178, 'burg': 4244, 'tale': 9519, 'add': 3438, 'tossing': 9716, 'horseshoe': 6333, 'denies': 5111, 'katy': 6731, 'transaction': 9755, 'gates': 5992, 'kleeman': 6771, 'novel': 7631, '1987': 517, 'corpse': 4875, 'interfax': 6554, 'gail': 5958, 'pilots': 8054, 'visibility': 10070, 'obtain': 7678, 'behalf': 4021, 'structure': 9370, 'albert': 3545, 'einstein': 5386, 'century': 4475, 'sky': 9144, 'documents': 5248, 'brand': 4181, 'cseries': 4978, 'trains': 9754, 'johnson': 6672, 'ask': 3792, 'fbi': 5711, 'shetland': 9057, 'prize': 8254, 'opponents': 7753, 'celebrate': 4454, '250th': 724, 'departments': 5117, 'pennsylvania': 7972, 'virginia': 10065, 'controversial': 4849, 'widen': 10188, 'kipp': 6767, 'regularly': 8542, 'declined': 5071, 'received': 8494, 'requests': 8613, 'promoted': 8302, 'transgender': 9758, 'typical': 9836, 'defined': 5086, 'johannes': 6670, 'stepped': 9325, 'tg': 9615, 'gönningen': 6177, 'complaints': 4745, 'vienna': 10032, 'nicknamed': 7583, 'mps': 7447, 'courses': 4915, 'carmen': 4373, 'neubrandenburg': 7566, 'misunderstood': 7353, 'brought': 4210, 'scale': 8886, 'alexei': 3563, 'winter': 10208, 'nonprofit': 7611, 'ascovime': 3786, 'travels': 9773, 'modern': 7370, 'distract': 5223, 'wave': 10142, 'foreigners': 5863, 'galileo': 5964, 'bonndorf': 4142, 'feud': 5754, 'delivering': 5098, 'shillings': 9059, 'dubai': 5304, 'airshow': 3530, 'dominate': 5260, 'fc': 5712, 'schalke': 8896, '04': 4, 'travelling': 9772, 'bvb': 4259, 'flares': 5813, 'crowds': 4967, 'onto': 7738, 'pitch': 8076, 'goalkeeper': 6068, 'weidenfeller': 10163, 'youth': 10287, 'mayoral': 7217, 'televised': 9571, 'execution': 5594, 'advisers': 3472, 'haul': 6219, 'designs': 5136, 'bid': 4073, 'lesson': 6918, 'extended': 5640, 'sofala': 9178, 'province': 8335, 'rely': 8571, 'autopsy': 3870, 'offence': 7692, 'visa': 10069, 'applicant': 3708, 'associate': 3811, 'push': 8372, 'untrained': 9891, 'mecklenburg': 7242, 'lake': 6818, 'lax': 6869, 'airports': 3529, '2016': 555, 'borussia': 4153, 'signal': 9093, 'gmail': 6064, 'ludwigsburg': 7053, 'residence': 8624, 'despair': 5140, 'breakfast': 4189, 'baiersbronn': 3911, 'eyed': 5654, 'walker': 10112, 'ledge': 6897, 'authors': 3863, 'classic': 4615, 'imports': 6442, 'review': 8666, 'da': 5014, 'ladder': 6811, 'entrance': 5474, 'married': 7173, 'tastes': 9544, 'basharat': 3972, 'sensitive': 8991, 'neil': 7559, 'scarbrough': 8891, 'inquiries': 6515, 'lift': 6944, 'transparent': 9763, 'explosion': 5629, 'alan': 3540, 'offensive': 7694, 'morrow': 7422, 'precisely': 8208, 'elderly': 5393, 'rohan': 8740, 'gardiner': 5981, 'barclays': 3946, 'sacred': 8815, 'assumption': 3816, 'plus': 8116, 'howie': 6359, 'enjoyable': 5461, 'faced': 5667, 'adding': 3441, 'arrest': 3763, 'howells': 6357, 'clinic': 4634, 'armed': 3751, 'affect': 3482, 'si': 9081, 'reference': 8522, '1976': 509, 'organ': 7774, 'testes': 9601, 'recommends': 8505, 'clearing': 4624, 'searched': 8930, 'zombies': 10309, 'hunt': 6385, 'smoker': 9163, 'trick': 9788, 'globe': 6060, 'tape': 9530, 'fca': 5713, 'flashes': 5814, 'crash': 4929, 'barriers': 3962, 'characterised': 4515, 'duration': 5318, 'accessible': 3399, 'grams': 6105, 'shutdown': 9080, 'capo': 4348, 'remained': 8574, 'empty': 5438, 'hats': 6218, 'tipped': 9669, 'cap': 4341, 'angle': 3656, 'mc': 7220, 'ec': 5345, 'a3': 3374, 'ed': 5357, '98': 3306, '8d': 3021, 'ea': 5324, '8f': 3022, '8b': 3020, '88': 2954, '94': 3164, 'ac': 3396, '84': 2815, '9e': 3368, 'silent': 9101, 'geroltzhäuser': 6029, 'jerusalem': 6650, 'dealing': 5054, 'willing': 10199, 'servers': 9014, 'gran': 6106, 'canaria': 4325, 'mohammed': 7375, 'ridiculous': 8688, 'conceded': 4762, 'inaccurate': 6454, 'recognised': 8501, 'cosmos': 4891, 'bang': 3926, 'withdrawn': 10213, '69': 2285, 'f6': 5662, '1568': 314, '134': 212, '3945': 1220, '8628': 2895, '1091': 75, '132': 204, 'fiction': 5758, 'function': 5943, 'origins': 7782, 'tries': 9790, 'merits': 7278, 'investigations': 6574, 'drainage': 5278, 'canals': 4323, 'clothing': 4645, 'belonged': 4035, 'explains': 5623, '51': 1657, 'decoding': 5074, 'fay': 5710, 'impact': 6435, 'center': 4469, 'manhattan': 7120, 'proof': 8306, 'morris': 7421, 'bowen': 4166, 'keeping': 6737, 'traditions': 9746, 'suggested': 9408, '1996': 525, 'motorola': 7435, 'khan': 6754, 'beaumont': 4001, 'bottles': 4160, 'schneider': 8906, 'ensemble': 5467, 'noemi': 7602, 'leverage': 6926, 'asian': 3791, 'throwaway': 9646, 'factory': 5673, 'wearing': 10152, 'intense': 6545, 'calm': 4301, 'neighbours': 7558, 'injure': 6503, 'seng': 8988, 'wun': 10251, 'corresponding': 4881, 'onset': 7737, 'reflected': 8527, 'arch': 3731, 'loudest': 7037, 'unusually': 9893, 'hungry': 6384, 'linked': 6965, 'executed': 5593, 'productivity': 8274, 'disadvantage': 5200, 'experiments': 5618, 'modified': 7371, 'resistant': 8630, 'channels': 4509, 'wider': 10191, 'majesty': 7094, 'garden': 5980, 'realities': 8480, 'wolfsburg': 10219, 'aap': 3377, 'treaty': 9778, 'holders': 6303, 'bird': 4089, 'sea': 8928, 'rig': 8692, 'voicemails': 10086, 'ali': 3570, 'completion': 4749, 'tough': 9719, 'attached': 3831, 'tie': 9656, 'italian': 6609, 'contemporary': 4832, 'teaching': 9556, 'email_address': 5419, 'rob': 8719, 'ford': 5860, 'infertile': 6487, 'ah': 3512, 'observed': 7676, 'formidable': 5872, 'deeper': 5079, 'extends': 5641, '96': 3237, 'manufacturing': 7133, 'strengthening': 9361, 'electrical': 5402, 'buildings': 4232, 'prevent': 8235, 'costing': 4896, 'buyers': 4257, 'worn': 10235, 'predominantly': 8214, 'picked': 8042, 'anxious': 3688, 'officers': 7701, 'criticism': 4960, 'leaked': 6885, 'educational': 5368, 'assumed': 3815, 'attackers': 3834, 'restore': 8644, 'gcses': 6004, 'tension': 9584, 'usual': 9929, 'lowndes': 7043, 'county': 4912, 'contexts': 4836, 'unavailable': 9860, 'applies': 3712, 'smaller': 9157, 'founded': 5881, 'background': 3899, 'passage': 7902, 'osama': 7791, 'laden': 6812, 'rich': 8685, 'predictions': 8213, 'skills': 9141, 'boston': 4156, 'participate': 7884, 'card': 4353, 'greatness': 6119, 'accurate': 3408, 'cry': 4974, 'rub': 8784, 'prevailing': 8234, 'mars': 7174, 'conducting': 4782, 'moon': 7411, 'venus': 9997, 'physics': 8036, 'streets': 9358, 'steinar': 9321, 'spoke': 9260, 'terrorist': 9598, 'species': 9246, 'dean': 5056, 'newly': 7573, 'units': 9880, 'diocese': 5190, 'turbo': 9818, 'attacked': 3833, '187': 452, 'tons': 9700, 'foods': 5847, 'environment': 5476, '1991': 522, 'valero': 9948, 'valuemax': 9960, 'sorts': 9215, 'directs': 5199, 'nowadays': 7636, 'tonight': 9698, 'targeted': 9535, 'uli': 9849, 'quality': 8388, 'rid': 8686, 'königsfeld': 6804, 'personnel': 8009, 'suppose': 9433, 'thousand': 9640, 'rebel': 8485, 'fix': 5809, 'seatbacks': 8933, 'chevrolet': 4538, 'darkness': 5027, 'thy': 9653, 'gain': 5959, 'insight': 6519, 'congregation': 4796, 'messe': 7284, 'songs': 9207, 'franz': 5899, 'schubert': 8910, '1826': 438, 'revolutionary': 8668, 'artisans': 3781, 'baker': 3915, 'letting': 6922, 'satisfactory': 8866, '1962': 501, '1982': 514, '1989': 519, 'whim': 10178, 'professionals': 8282, 'determine': 5152, 'ryan': 8810, 'bmw': 4123, 'resident': 8626, 'radiation': 8424, 'kingdom': 6766, 'progress': 8292, 'touch': 9718, 'kenyan': 6744, 'nicolai': 7584, 'climb': 4633, '900': 3026, 'riders': 8687, 'gallon': 5970, '330': 997, 'acted': 3419, 'committed': 4720, 'sour': 9222, 'bridge': 4194, 'continuing': 4841, 'bankers': 3928, 'citigroup': 4589, 'proverbs': 8328, 'slammed': 9146, 'bay': 3986, 'skeptical': 9139, 'customer': 5000, 'precarious': 8206, 'cocker': 4669, 'spaniel': 9238, 'escape': 5500, 'violated': 10060, 'advertising': 3468, 'gcse': 6003, 'literature': 6972, '108': 67, 'tasks': 9541, 'eighth': 5385, 'sexually': 9036, 'profitable': 8285, 'colin': 4675, 'seddon': 8954, 'jesus': 6651, 'luther': 7060, 'ancient': 3638, 'egyptian': 5382, 'temple': 9578, 'rattled': 8462, 'familiar': 5689, 'liederkranz': 6941, 'amateur': 3619, 'trusted': 9805, 'eager': 5325, 'oregon': 7771, 'opinions': 7752, 'nathaniel': 7524, 'choosing': 4555, 'varying': 9974, 'trace': 9732, 'courage': 4913, 'claudia': 4617, 'telephone': 9569, 'describing': 5130, 'appeared': 3705, 'achim': 3412, 'sandy': 8853, '87': 2926, 'ward': 10124, 'competitors': 4744, 'disciplines': 5203, 'glass': 6057, 'düsseldorf': 5322, 'alexander': 3562, 'fireworks': 5794, 'shed': 9053, 'mood': 7410, 'surface': 9439, 'mrs': 7450, 'electric': 5401, 'advice': 3469, 'hydro': 6387, 'employer': 5435, 'narrower': 7522, 'reject': 8556, 'industrial': 6483, '1085': 71, '109': 73, 'tears': 9559, 'blows': 4119, '56': 1838, 'thomson': 9635, 'gov': 6092, 'joined': 6674, 'draw': 5281, 'backed': 3898, '177': 416, 'efficiency': 5374, 'helps': 6247, 'holes': 6307, 'projections': 8297, 'repeat': 8590, 'pump': 8359, 'booysen': 4147, 'estate': 5531, 'birthplace': 4093, 'frank': 5897, 'stocked': 9333, 'harkam': 6209, '71': 2360, 'mountain': 7436, 'europa': 5556, 'flights': 5823, 'wanda': 10118, 'sykes': 9467, 'jon': 6679, 'stewart': 9328, '365': 1127, 'd2': 5013, '01': 3, 'ar': 3721, '5c': 1979, 'dc': 5046, 'del': 5090, 'f4': 5660, 'f5': 5661, '450': 1429, '1013': 35, 'sr': 9276, 'tc': 9551, 'kw': 6800, 'conjunction': 4798, 'theft': 9623, 'francisco': 5896, 'omx': 7729, 'watching': 10137, 'centimetres': 4470, 'expand': 5604, 'pierre': 8051, 'confident': 4788, '1998': 527, 'bypass': 4263, 'solve': 9198, 'lap': 6834, 'purchased': 8367, 'era': 5486, 'sheffield': 9055, 'thwarted': 9652, '77': 2558, 'imperial': 6436, 'eyewear': 5656, 'navigation': 7539, 'coma': 4696, 'illuminated': 6425, 'pull': 8357, 'diplomatic': 5193, 'yellow': 10271, 'operated': 7744, 'ag': 3493, 'quickly': 8403, '158': 319, 'jan': 6630, 'victoria': 10025, 'freedom': 5906, 'abendmahlskirche': 3384, 'explanations': 5625, 'conspiracy': 4816, 'undertaken': 9871, 'hauptstrasse': 6221, 'ritual': 8707, 'jewish': 6655, 'bath': 3979, 'examples': 5584, 'multitude': 7474, 'sweet': 9461, 'ear': 5326, 'peers': 7961, 'hills': 6276, 'requirement': 8616, 'remaining': 8575, 'improved': 6451, 'scenes': 8894, 'dortmund': 5268, 'fourth': 5885, 'absolute': 3392, 'ended': 5444, '147': 268, 'crump': 4972, 'tahrir': 9508, '1051': 55, '107': 61, '1071': 62, '1079': 66, 'liberal': 6935, '1966': 502, 'joan': 6662, 'exploring': 5628, 'consequences': 4805, 'caesar': 4283, 'reiner': 8552, 'core': 4867, 'alfred': 3567, 'reinhard': 8554, 'fitness': 5805, 'ki': 6755, 'tagging': 9507, 'warns': 10128, 'grödig': 6139, 'trainer': 9752, 'tracks': 9736, 'pleased': 8110, 'establish': 5528, 'fredenbeck': 5903, 'ii': 6414, 'originally': 7781, 'ad': 3433, '143': 251, '138': 226, '61': 2021, 'roberts': 8722, 'sided': 9083, 'shops': 9065, 'ching': 4550, 'generations': 6014, 'monitored': 7394, '57': 1871, 'masters': 7191, 'bb': 3991, 'repertoire': 8592, 'qaeda': 8381, 'semi': 8983, 'impossible': 6445, 'lock': 7001, 'ccaa': 4446, '157': 315, 'kent': 6742, 'alps': 3601, '161': 337, '4065': 1274, '8482': 2847, '73': 2433, 'denis': 5112, 'abolition': 3388, 'anja': 3662, 'hasan': 6213, 'pool': 8153, '1975': 508, 'ga': 5954, 'commonly': 4724, 'fatal': 5704, '277': 814, 'strongly': 9368, 'vanity': 9964, 'grace': 6099, '102': 37, '10250': 40, '105': 53, 'kong': 6785, 'monetary': 7388, 'duffy': 5312, 'ne': 7541, 'te': 9553, '34': 1037, 'shuster': 9078, 'pa': 7818, '1914': 475, '8156': 2730, 'generate_series': 6013, '5000000': 1621, '7842': 2608, 'regexp_substring': 8534, '5012': 1626, '5000000000': 1623, '4860': 1558, '0x4c4d6142': 8, '6866': 2278, '6787': 2247, 'extractvalue': 5648, '1297': 187, 'concat': 4760, '0x5c': 11, '0x7171706a71': 14, '0x717a767a71': 15, '4281': 1350, '8024': 2682, '3560': 1097, '5452': 1791, '8148': 2727, 'abcdefg': 3381, 'randomblob': 8450, '500000000': 1622, '9443': 3175, 'character_sets': 4514, '68': 2254, '85': 2857, '5389': 1773, '4925': 1584, '5686': 1864, '2657': 778, '4240': 1331, '3038': 920, '6537': 2159, 'dbms_pipe': 5044, 'receive_message': 8493, 'chr': 4557, '76': 2525, '117': 118, '65': 2147, '7978': 2654, '1212': 144, 'make_set': 7098, '7588': 2522, '2306': 657, '2388': 685, '0x6d457153': 13, '3794': 1174, '5286': 1728, 't1': 9491, 't2': 9492, 't3': 9493, 't4': 9494, 't5': 9495, '8635': 2898, '6400': 2112, '4650': 1484, 'updatexml': 9896, '1808': 431, '0x2e': 6, '8666': 2913, '9842': 3322, 'exp': 5603, '6270': 2077, '0x78': 21, '4291': 1355, '5023': 1631, 'ctxsys': 4979, 'drithsx': 5288, 'sn': 9169, '113': 98, 'boolean': 4146, '3707': 1144, 'sysibm': 9483, 'systables': 9485, '1022': 39, 'crypt_key': 4975, '1589': 320, '7240': 2414, '3715': 1145, '48': 1536, '9548': 3215, '6240': 2064, 'qqpjq': 8384, 'rdb': 8466, 'database': 5031, 'qzvzq': 8416, '6406': 2114, '5021': 1630, '4285': 1351, '4386': 1391, '6793': 2251, '3824': 1183, '0x76555642': 19, '9950': 3350, '8514': 2862, '0x544d5a4c': 10, '1064': 60, '2937': 879, '8284': 2777, '7868': 2613, '9323': 3140, '5477': 1795, '2716': 792, 'sysusers': 9489, 'sys1': 9473, 'sys2': 9474, 'sys3': 9475, 'sys4': 9476, 'sys5': 9477, 'sys6': 9478, 'sys7': 9479, '4595': 1464, '8777': 2950, '6501': 2149, '121': 142, '8929': 2998, '7999': 2662, '8422': 2826, '5903': 1951, '5040': 1638, '5873': 1938, '4327': 1366, '2724': 797, '2312': 661, '5282': 1727, '8594': 2886, '8993': 3016, '8846': 2967, 'db': 5041, '3702': 1141, '8153': 2729, '4493': 1427, '8466': 2843, '0x694a4745': 12, '5139': 1670, '3373': 1030, '4411': 1403, '1863': 447, '8384': 2811, 'domain': 5257, 'domains': 5258, 'columns': 4693, '9446': 3177, '3705': 1143, 'iif': 6415, '7889': 2622, '66': 2182, '4249': 1337, '7259': 2423, 'rlike': 8714, '7689': 2553, '0x28': 5, '8858': 2973, '5680': 1862, '9255': 3117, '0x52515a50': 9, '1748': 405, '2840': 840, '3859': 1195, '3440': 1055, 'numeric': 7653, '5846': 1927, '8036': 2688, '2120': 596, '8734': 2939, '8844': 2966, '6784': 2245, '3114': 944, '4984': 1608, '6980': 2309, '4191': 1313, '2633': 769, '103': 41, '6237': 2063, '7469': 2480, 'rand': 8448, '5192': 1687, '3785': 1171, '3931': 1216, '7158': 2377, '3721': 1149, '9050': 3042, '4089': 1284, '9281': 3125, '8363': 2807, '8220': 2755, '5127': 1666, '1441': 261, '8189': 2743, '9087': 3055, '7562': 2514, '8571': 2880, '7756': 2575, 'dbms_utility': 5045, 'sqlid_to_sqlhash': 9272, '3754': 1161, 'xmltype': 10255, '62': 2051, '3885': 1205, '6969': 2305, '2136': 600, '7552': 2510, 'collations': 4678, 'functions': 5944, '7629': 2534, 'vwyq': 10098, 'sddo': 8925, '1275': 179, '6190': 2048, '8665': 2912, '6825': 2261, '7840': 2607, '9862': 3331, 'gcrr': 6002, '4232': 1328, 'min': 7322, '3634': 1123, '9067': 3046, '7533': 2504, '3834': 1187, '2086': 583, '7371': 2451, '4531': 1439, '9643': 3254, '5523': 1808, '5840': 1924, '4785': 1533, '2161': 609, '9854': 3326, '5696': 1868, '3596': 1111, '5349': 1755, '1045': 50, '8488': 2851, '5584': 1829, '3051': 922, '1210': 143, '5657': 1857, '3548': 1094, '4670': 1492, '8421': 2825, '2753': 809, '8047': 2692, '1766': 415, '3921': 1215, '7087': 2355, '1755': 409, '4937': 1589, '2072': 580, '6872': 2279, '6979': 2308, '7187': 2391, '4159': 1302, '7465': 2478, '3855': 1194, '3484': 1073, '8446744073709551610': 2832, '6622': 2191, '8190': 2744, '5230': 1706, '4587': 1460, '72': 2397, '7813': 2599, '8320': 2791, '4111': 1293, '1096': 77, '7982': 2656, '9011': 3034, '4368': 1382, '6414': 2119, '5556': 1819, '4390': 1394, '4144': 1299, '6637': 2198, '1414': 245, '7683': 2550, '9660': 3260, '5967': 1967, '4184': 1310, '6823': 2260, '9198': 3093, '8245': 2763, '9872': 3333, 'ydpu': 10265, '7199': 2396, '8407': 2819, '9514': 3202, '4975': 1604, '2367': 680, '6865': 2277, '8459': 2840, '4906': 1576, '6107': 2024, '3393': 1035, '1161': 112, '3791': 1172, '7437': 2469, '1603': 333, '2106': 588, 'sysdatabases': 9482, '8152': 2728, '3020': 910, '6703': 2220, '6016': 1992, '3391': 1034, '3829': 1186, '8629': 2896, '8049': 2693, '6272': 2078, '3598': 1112, '6007': 1987, '8982': 3013, '5367': 1764, '6897': 2284, '5702': 1873, '8809': 2956, '1363': 219, '6961': 2298, '7460': 2476, '5137': 1669, '1482': 277, '6158': 2038, '3084': 934, '9173': 3085, '9627': 3247, '0x4b774c75': 7, '3902': 1210, '6595': 2179, '2112': 591, '2319': 665, '6095': 2019, '8142': 2724, '9656': 3259, '8735': 2940, 'fzno': 5953, '4559': 1449, '9840': 3320, '4747': 1517, '7017': 2336, '4892': 1570, '9881': 3336, '5859': 1935, '4076': 1281, '9030': 3038, '6233': 2061, '9820': 3315, '8950': 3004, '2113': 592, '8209': 2752, '4103': 1289, '6105': 2023, '1541': 302, '1402': 240, '4287': 1353, '3234': 976, '1032': 44, '3623': 1118, '7482': 2485, '1570': 316, 'convert': 4854, 'int': 6539, '9295': 3131, '8752': 2942, '5372': 1767, '8312': 2786, '9135': 3070, '3888': 1206, '8118': 2713, '4817': 1540, '7419': 2464, '7111': 2364, '7859': 2611, '4413': 1404, '2323': 667, '9274': 3123, '5774': 1895, '1004': 28, '2853': 844, '8893': 2986, '6681': 2212, '6620': 2189, '3081': 931, '3736': 1154, '4082': 1282, '7874': 2614, '6615': 2187, '9540': 3210, '5786': 1900, '7426': 2467, '6635': 2197, '8489': 2852, '5451': 1790, 'system_users': 9487, '6800': 2255, '3933': 1217, '6198': 2050, '3361': 1022, '2827': 835, '6091': 2016, '6333': 2090, '9851': 3325, '2298': 650, '6346': 2094, 'sgvo': 9039, '6045': 2000, '8919': 2996, '3637': 1124, '3349': 1018, '6553': 2164, '3475': 1070, '4242': 1333, '2774': 815, '5198': 1690, '9981': 3362, '3513': 1086, '3566': 1100, '6055': 2003, '7636': 2538, '9348': 3145, '8636': 2899, '1821': 436, '2679': 784, '7600': 2526, '9254': 3116, '5107': 1661, '2834': 837, '6841': 2263, '6420': 2121, '7941': 2642, '5962': 1964, '4915': 1581, '5432': 1783, '4241': 1332, '9358': 3150, '7759': 2577, '8727': 2936, '9357': 3149, '8113': 2712, '6222': 2059, '3230': 975, '4056': 1271, '4363': 1379, '5207': 1697, '2050': 573, '1339': 211, '2938': 880, '9384': 3157, '8007': 2673, '9555': 3219, '8491': 2854, '7940': 2641, 'srmq': 9278, '8180': 2741, '3009': 907, '9622': 3246, '7208': 2402, '3580': 1103, '6894': 2283, '6087': 2015, '9285': 3126, '8506': 2860, '6200': 2052, '4661': 1489, '6618': 2188, '5856': 1934, '2745': 805, '6846': 2266, '7176': 2385, '7358': 2446, '3445': 1059, '5963': 1965, '5406': 1777, '9958': 3354, '6434': 2126, '3877': 1201, '4929': 1585, '7794': 2589, '3910': 1211, '7425': 2466, '6750': 2234, '9488': 3192, '3501': 1081, '6789': 2248, '6990': 2314, '5026': 1632, '3884': 1204, '3955': 1225, '6229': 2060, '2077': 581, '5569': 1822, '9390': 3161, '8315': 2787, '4373': 1384, '2285': 646, '4757': 1521, '1891': 461, '6680': 2211, '6475': 2135, '9321': 3139, '9861': 3330, '3490': 1074, '3262': 984, '2573': 747, '2027': 563, '2048': 571, '3354': 1019, '3853': 1193, '4626': 1477, '7427': 2468, '3096': 938, '3821': 1181, '5539': 1812, '8126': 2715, 'buky': 4234, '4567': 1451, '5801': 1905, '2452': 708, '8999': 3018, '4197': 1316, '7531': 2503, '3072': 928, '5592': 1832, '8051': 2694, '5691': 1865, '3228': 974, '2678': 783, '9169': 3083, '8490': 2853, '9558': 3222, '7656': 2543, '1219': 147, '4835': 1548, '4421': 1408, '3951': 1222, '1438': 257, '3202': 967, '2365': 678, '7812': 2598, '4775': 1531, '7360': 2447, '2808': 828, '1389': 228, '6388': 2107, '8600': 2889, '8056': 2696, '3118': 946, '8277': 2775, '2564': 740, '2031': 566, '6795': 2252, '8403': 2816, '8584': 2882, '9860': 3329, '4443': 1413, '7412': 2461, '1270': 177, '4751': 1519, '2314': 662, '4612': 1473, '9788': 3302, '3911': 1212, '1083': 69, '8008': 2674, '9041': 3039, '5891': 1945, '7103': 2361, '9956': 3353, '2993': 897, '4297': 1357, '6965': 2301, '3271': 987, '7454': 2475, '5929': 1959, '5575': 1826, '4588': 1461, '4550': 1446, '5520': 1807, '5235': 1711, '6244': 2066, '1167': 117, '5027': 1633, '1765': 414, '1036': 45, '3404': 1038, '7884': 2620, '3297': 995, '1673': 372, '5700': 1872, '9054': 3043, '8681': 2921, '4856': 1556, '1074': 64, '8080': 2703, '7217': 2404, '7631': 2535, '4339': 1371, '5953': 1963, '5353': 1757, '3394': 1036, '3092': 937, '3632': 1121, '3177': 959, '4222': 1326, '7165': 2383, 'nlvq': 7598, '7528': 2501, '9180': 3088, '5822': 1916, '8754': 2943, '7758': 2576, '4305': 1361, '2401': 690, '1277': 181, '1510': 292, '1499': 285, '4923': 1582, '6767': 2240, '5599': 1837, '5204': 1695, '7186': 2390, '7906': 2630, '4362': 1378, '5616': 1844, '4557': 1447, '6581': 2172, '2307': 658, '4049': 1270, '9447': 3178, '6510': 2151, '7616': 2531, '8099': 2708, '2920': 872, '1707': 388, '7992': 2659, '9564': 3224, '8899': 2987, '1132': 99, '4641': 1482, '8537': 2871, '7034': 2340, '9263': 3120, '4607': 1471, '7524': 2499, '7417': 2463, '5524': 1809, '2583': 749, '1244': 162, '2332': 671, '9856': 3327, '1047': 51, '1001': 26, '6175': 2044, '8910': 2992, '9405': 3167, '5161': 1679, '4367': 1381, '2542': 734, '3764': 1165, '1267': 174, '1577': 318, '7036': 2341, '8586': 2883, '1836': 440, '9831': 3318, '4251': 1339, '8331': 2796, '5625': 1847, '6632': 2196, '4073': 1280, '8513': 2861, '7414': 2462, '8704': 2928, '5726': 1882, '1299': 188, '6529': 2157, '1601': 331, 'dbms_lock': 5043, '9562': 3223, '5996': 1975, '4592': 1463, '1157': 110, '4542': 1444, '5761': 1892, '7272': 2425, '9163': 3080, '5188': 1685, '8351': 2802, '4465': 1420, '2335': 672, '3169': 955, '6597': 2180, '4036': 1266, '5213': 1699, '9736': 3286, '7311': 2436, '2067': 577, '2291': 649, '4067': 1276, '5666': 1859, '5281': 1726, '4031': 1263, '9566': 3226, '8820': 2960, '1915': 476, '5852': 1931, '3443': 1058, '4043': 1268, '8071': 2701, '9160': 3079, '4253': 1340, '5098': 1654, '6572': 2170, '5356': 1759, '2782': 818, '2625': 766, '2620': 764, '7744': 2571, '2394': 687, '1650': 363, '6236': 2062, '3862': 1197, '3076': 930, '9166': 3081, '8025': 2683, '1436': 255, '2110': 589, '9602': 3238, '7083': 2353, '1055': 57, '5334': 1749, '4085': 1283, '5493': 1800, '6039': 1998, '9158': 3077, '7248': 2418, '9553': 3218, '6453': 2130, '8453': 2839, '8159': 2731, '7147': 2375, '5313': 1741, '8138': 2723, '6478': 2136, '5771': 1894, '5978': 1969, '1746': 404, '8094': 2705, '9046': 3041, '3733': 1153, '8520': 2865, '1269': 175, '8410': 2821, '1613': 338, '3364': 1024, '5464': 1794, '8162': 2732, '7497': 2489, '2539': 733, '6484': 2139, '1107': 91, '1171': 119, '3958': 1227, '7001': 2327, '8657': 2908, '4633': 1479, '4615': 1474, '2329': 669, '4209': 1321, '9725': 3283, '2225': 632, '1545': 304, '4739': 1515, '4844': 1552, '5982': 1970, '1547': 305, '6690': 2215, '1165': 115, '6374': 2103, '7209': 2403, '7084': 2354, '2715': 791, '8646': 2903, '8128': 2717, '3850': 1192, '2748': 806, '4624': 1475, '9804': 3308, '5948': 1962, '1661': 367, '2528': 732, '4572': 1454, '4980': 1606, '2044': 569, '9299': 3133, '1794': 424, '8016': 2678, '8382': 2810, '7561': 2513, '6560': 2166, '2813': 829, '7499': 2490, '4374': 1385, '2305': 656, '1936': 487, '8098': 2707, '3497': 1077, '1664': 368, '4364': 1380, '9404': 3166, '7484': 2486, '1705': 387, '8770': 2946, '6988': 2313, '7743': 2570, '9145': 3073, '3432': 1050, '9272': 3122, '8179': 2740, '9230': 3107, '3227': 973, '1893': 462, '8880': 2981, '5698': 1869, '5552': 1817, '1712': 392, '7324': 2437, '1050': 54, '4546': 1445, '7021': 2337, '7565': 2516, '3879': 1202, 'ejnt': 5388, '8904': 2990, '6523': 2154, 'bwrb': 4262, '8760': 2944, '2309': 660, '4460': 1419, '3595': 1110, '6018': 1993, '2241': 636, '8143': 2725, '3014': 909, '3370': 1027, '7845': 2609, '6627': 2194, '7331': 2439, '9466': 3188, '6073': 2006, '2230': 633, '2443': 704, '4952': 1596, '5630': 1851, '9354': 3147, '7185': 2389, '5642': 1855, '2569': 743, '4484': 1424, '7153': 2376, '4558': 1448, '7950': 2644, '9248': 3114, '4535': 1441, '8921': 2997, '5547': 1816, '2238': 635, '1558': 310, '6116': 2025, '1641': 355, '1623': 342, '3441': 1056, '4695': 1501, '2869': 850, '4816': 1539, '8429': 2828, '6984': 2310, '2255': 637, '2131': 598, '1007': 31, '7823': 2602, '6700': 2219, '6593': 2177, '8369': 2808, '2191': 620, '8536': 2870, '6256': 2072, '4523': 1436, '1471': 270, '7892': 2623, '9517': 3205, '5449': 1788, '6928': 2291, '7046': 2346, '5717': 1878, '1166': 116, '6204': 2054, '7054': 2348, '9146': 3074, '1864': 448, '1392': 231, '9279': 3124, '6968': 2304, '1393': 232, '6653': 2204, '5350': 1756, '5132': 1668, '3315': 1003, '1668': 369, '8288': 2779, '9821': 3316, '2543': 735, '6802': 2256, '3592': 1108, '7959': 2646, '4728': 1510, '6855': 2274, '7038': 2342, '9306': 3135, '8328': 2795, '8868': 2978, '4061': 1273, '2730': 801, '3215': 970, '4457': 1417, '1222': 149, '2815': 830, '7795': 2590, '3760': 1164, '1557': 309, '1396': 233, '3143': 951, '8026': 2684, '4870': 1564, '2377': 682, '7706': 2561, '3348': 1017, '9352': 3146, '8131': 2720, '9680': 3268, '3729': 1151, '7937': 2639, '5067': 1644, '9974': 3359, '5497': 1801, '8147': 2726, '1144': 105, '7657': 2544, '5152': 1675, '7970': 2652, '4610': 1472, '1249': 165, '9184': 3089, '1513': 294, '8641': 2901, '4669': 1491, '6520': 2153, '5099': 1655, '9122': 3067, '6948': 2294, '4654': 1486, '5442': 1787, '2258': 639, '8250': 2764, '9318': 3138, '7704': 2560, '3494': 1075, '9175': 3086, '4347': 1373, '6074': 2007, '6736': 2229, 'sims': 9112, '9388': 3159, '8341': 2800, '1323': 206, '4971': 1601, '9871': 3332, '6094': 2018, '1236': 158, '3896': 1207, '8200': 2748, '2925': 874, '5065': 1643, '4019': 1258, '5194': 1688, '7122': 2367, '3865': 1198, '8285': 2778, '5462': 1793, '8866': 2976, '6500': 2148, '4880': 1567, '3326': 1008, '4530': 1438, '9629': 3248, '6647': 2201, '2346': 675, '9596': 3236, '3425': 1048, '6392': 2108, '4397': 1397, '7451': 2473, '9531': 3208, '7901': 2628, '9667': 3261, '6212': 2057, '4294': 1356, '2658': 779, '7793': 2588, '8360': 2805, '5672': 1860, '3825': 1184, '9675': 3265, '2547': 737, '5218': 1703, '5934': 1961, '7745': 2572, '4960': 1598, '5300': 1736, '5622': 1845, '4976': 1605, '1263': 172, '7198': 2395, '7224': 2406, '1985': 516, '1248': 164, '5274': 1721, '6252': 2069, '6311': 2086, '7423': 2465, '5877': 1940, '5684': 1863, '1030': 42, '4764': 1524, '1776': 419, '9672': 3263, '4954': 1597, '4994': 1610, '7279': 2427, '5579': 1827, '2734': 803, '4024': 1261, '2448': 707, '1999': 528, '1087': 72, '1485': 279, '7661': 2546, '78': 2592, '6165': 2040, '5384': 1771, '2656': 777, '3626': 1119, '1983': 515, '9003': 3028, '4692': 1499, '1874': 453, '1910': 472, '3371': 1028, '7293': 2430, '3410': 1041, '3753': 1160, '8012': 2676, '5572': 1824, '2823': 834, '3026': 913, '2912': 867, '3323': 1007, '4091': 1285, '3030': 916, '8596': 2887, '9014': 3035, '1229': 153, '1949': 495, '7234': 2412, '6496': 2146, '4298': 1358, '4893': 1571, '9287': 3127, '8129': 2718, '6494': 2145, '1214': 145, '3756': 1162, '3956': 1226, '1440': 260, '8966': 3008, '8266': 2772, '8626': 2894, '2787': 821, '3622': 1117, '6359': 2097, '3546': 1093, '6735': 2228, '1550': 308, '7989': 2658, '9690': 3272, '4932': 1586, '1685': 377, '2985': 893, '5411': 1779, '6570': 2169, '6084': 2012, '8375': 2809, '3920': 1214, '5615': 1843, '5458': 1792, '9159': 3078, '7860': 2612, '2928': 875, '1153': 109, '9668': 3262, '2648': 774, '2140': 602, '1123': 96, '9550': 3216, '9140': 3072, '1597': 326, '4002': 1248, '4666': 1490, '4205': 1319, '6210': 2056, '5217': 1702, '3447': 1060, '8885': 2984, '4876': 1565, '1802': 428, '7931': 2637, '1902': 469, '5536': 1811, '1390': 230, '5205': 1696, '9975': 3360, '9486': 3191, '3462': 1066, '5143': 1672, '2570': 744, '2236': 634, '2071': 579, '1076': 65, '3959': 1228, '7123': 2368, '4200': 1318, '8772': 2947, '4909': 1578, '6122': 2028, '1426': 250, '4736': 1514, '4900': 1573, '1729': 397, '4248': 1336, '3288': 993, '1293': 186, '8204': 2751, '2512': 726, '2908': 866, '7875': 2615, '4236': 1330, '7175': 2384, '6857': 2275, '7448': 2472, '3752': 1159, '5970': 1968, '4756': 1520, '7824': 2603, '8738': 2941, '3587': 1106, '4207': 1320, '6847': 2267, '2680': 785, '1573': 317, '7409': 2460, '3145': 952, '7951': 2645, '1134': 101, '6130': 2032, '5606': 1841, '2256': 638, '1971': 506, '4537': 1442, '2673': 782, '2602': 755, '5014': 1628, '7729': 2566, '5637': 1853, '3716': 1146, '2545': 736, '1710': 390, '7962': 2648, '7006': 2329, '7485': 2487, '4100': 1288, '9644': 3255, '9953': 3352, '4822': 1542, '1917': 477, '9270': 3121, '9970': 3358, '3409': 1040, '5898': 1947, '2903': 864, '5309': 1739, '2929': 876, '5378': 1769, '9189': 3091, '3686': 1136, '9216': 3100, '4772': 1529, '2214': 629, 'roca': 8727, '3362': 1023, '6567': 2167, '8933': 2999, '3900': 1209, '6019': 1994, '9460': 3185, '3843': 1189, '1302': 198, '5362': 1762, '1679': 375, '8234': 2761, '1031': 43, '6305': 2084, '8326': 2794, '9749': 3289, '1476': 272, '4811': 1538, '6394': 2109, '9368': 3153, '6661': 2207, '1321': 205, '9363': 3152, '3044': 921, '8998': 3017, '5485': 1798, '1700': 386, '4149': 1300, '9619': 3244, '8679': 2920, '5290': 1730, '1720': 396, '7159': 2378, '3565': 1099, '5145': 1673, '9951': 3351, '1412': 244, '3737': 1155, '4452': 1416, '3814': 1179, '4272': 1346, '2518': 729, '6432': 2124, '3086': 935, '6772': 2242, '6036': 1997, '8409': 2820, '6611': 2185, '8918': 2995, '9156': 3076, '9110': 3061, '1543': 303, '5817': 1913, '7072': 2351, '8640': 2900, '5020': 1629, '3775': 1167, '2341': 674, '2424': 698, '8132': 2721, '9403': 3165, '1931': 484, '2726': 799, '9611': 3241, '9574': 3229, '8260': 2770, '7025': 2338, '5933': 1960, '6140': 2035, '3861': 1196, '1305': 201, '5545': 1815, '6715': 2221, '4836': 1549, '1631': 346, '2760': 811, '8214': 2754, '3591': 1107, '9889': 3338, '5190': 1686, '8978': 3010, '2316': 663, '3802': 1176, '7971': 2653, '4273': 1347, '7725': 2565, '6599': 2181, '2610': 760, '7779': 2583, '8554': 2878, '7233': 2411, '7574': 2518, '1924': 480, '1090': 74, '1889': 459, '4964': 1599, '4750': 1518, '6340': 2093, '4250': 1338, '3116': 945, '9088': 3056, 'opyp': 7761, '4108': 1291, '7916': 2635, '5081': 1649, '8186': 2742, '1752': 408, '9461': 3186, '3613': 1115, '2090': 584, '5009': 1625, '1133': 100, '9887': 3337, '5291': 1731, '4015': 1256, '5292': 1732, '8808': 2955, '2174': 615, '4185': 1311, '3602': 1114, '1990': 521, '5383': 1770, '9501': 3197, '5436': 1785, '5440': 1786, '3496': 1076, '3916': 1213, '6327': 2089, '3458': 1063, '9503': 3198, '8232': 2759, '9112': 3063, '5555': 1818, '4583': 1458, '1886': 457, '5518': 1806, '9020': 3036, '8911': 2993, '1718': 394, '3819': 1180, '2382': 683, '2321': 666, '2971': 888, '7997': 2661, '7513': 2494, '9337': 3141, '7559': 2512, '8792': 2951, '6905': 2287, '8354': 2803, '4286': 1352, '5998': 1976, '2366': 679, '5609': 1842, '6129': 2031, '4266': 1345, '5401': 1776, '9688': 3271, '7995': 2660, '8671': 2916, '3722': 1150, '6890': 2282, '7721': 2564, '9431': 3172, '6730': 2226, '3201': 966, '9816': 3313, '8715': 2933, '5529': 1810, '3424': 1047, '2455': 710, '6746': 2232, '7348': 2444, '8319': 2790, '7878': 2617, '2352': 676, '6583': 2173, '7619': 2532, '4729': 1511, '3954': 1224, '2417': 696, '3090': 936, '2687': 787, '7290': 2429, '9770': 3297, '6214': 2058, '8398': 2814, '1367': 221, '7096': 2358, '2568': 742, '1226': 151, '9648': 3256, '1105': 90, '9544': 3213, '3593': 1109, '6093': 2017, '9676': 3266, '2891': 858, '1770': 417, '5866': 1936, '7094': 2357, '9002': 3027, '3679': 1134, '9225': 3102, '8258': 2769, '9900': 3343, '2178': 617, '5752': 1889, '3461': 1065, '8241': 2762, '8841': 2964, '4361': 1377, '4861': 1559, '5509': 1805, '7066': 2350, '2590': 750, '6408': 2116, '6956': 2297, '5433': 1784, '4176': 1307, '6138': 2034, '1738': 401, '9456': 3183, '3681': 1135, '5989': 1973, '5814': 1911, '2763': 812, '3666': 1129, '4136': 1298, '3037': 919, '9024': 3037, '9434': 3174, '3991': 1236, '1951': 497, '9556': 3220, '2049': 572, '6967': 2303, '5883': 1943, '3379': 1032, '4985': 1609, '5062': 1641, '3990': 1235, '4388': 1392, '6755': 2236, '8949': 3003, '4419': 1407, '1868': 451, '7806': 2595, '8432': 2830, '8169': 2737, '8060': 2697, '3211': 969, '9805': 3309, '1048': 52, '8302': 2784, '6839': 2262, '9499': 3195, '4384': 1390, '9813': 3312, '1609': 336, '1304': 200, '7639': 2540, '8612': 2891, '3083': 933, '3464': 1067, '4518': 1432, '1598': 327, '3849': 1191, '5580': 1828, '3442': 1057, '5629': 1850, '1254': 168, '5596': 1834, '4877': 1566, '5375': 1768, '8121': 2714, '7364': 2449, '4233': 1329, '2781': 817, '9764': 3295, '1266': 173, '4069': 1278, '4355': 1375, '8843': 2965, '6651': 2203, '1172': 120, '4701': 1503, '8729': 2937, '7160': 2379, '7589': 2523, '4020': 1259, '8881': 2982, '9516': 3204, '9779': 3299, '1596': 325, '1648': 361, '3459': 1064, '4389': 1393, '2432': 702, '1237': 159, '6815': 2259, '7005': 2328, '7118': 2365, '7815': 2600, '5450': 1789, '7475': 2483, '4014': 1255, '9472': 3189, '5368': 1765, '2039': 568, '3347': 1016, '7805': 2594, '9781': 3300, '6578': 2171, '8316': 2788, '8130': 2719, '5894': 1946, '5298': 1733, '4300': 1360, '1084': 70, '6612': 2186, '4394': 1395, '2163': 610, '1115': 93, '6351': 2095, '2317': 664, '7516': 2496, '4828': 1544, '8773': 2948, '7649': 2542, '9297': 3132, '2872': 851, '8797': 2953, '7255': 2421, '4381': 1388, '6694': 2217, '7271': 2424, '9714': 3280, '7775': 2582, '9762': 3294, '5810': 1909, '4023': 1260, '5716': 1877, '8127': 2716, '8340': 2799, '4417': 1406, '6257': 2073, '9206': 3095, '3628': 1120, '2149': 606, '1512': 293, '6662': 2208, '4008': 1252, '9226': 3103, '3453': 1062, '5776': 1896, '9551': 3217, '7492': 2488, '4427': 1410, '4194': 1315, '7060': 2349, '1689': 379, '8333': 2797, '6745': 2231, '4220': 1325, '7984': 2657, '5276': 1723, '9810': 3311, '9341': 3142, '3703': 1142, '3130': 949, '4589': 1462, '8979': 3011, '8224': 2757, '2461': 713, '5660': 1858, '6881': 2281, '5130': 1667, '3125': 947, '6369': 2101, '8015': 2677, '9808': 3310, '2158': 607, '5624': 1846, '8074': 2702, '2204': 626, '4066': 1275, '9083': 3053, 'krzi': 6795, '4522': 1435, '8698': 2925, '4660': 1488, '6077': 2009, '5232': 1708, '7710': 2562, '5744': 1886, '8469': 2844, '4788': 1534, '4760': 1523, '3407': 1039, '2405': 693, '5927': 1957, '9731': 3284, '4653': 1485, '2116': 594, '7119': 2366, '2300': 652, '4596': 1465, '6849': 2269, '1968': 503, '2169': 613, '6368': 2100, '3378': 1031, '3450': 1061, '7697': 2557, '4684': 1496, '5825': 1917, '4947': 1594, '6853': 2272, '3007': 906, '9677': 3267, '7219': 2405, '7361': 2448, '4946': 1593, '1677': 374, '9898': 3341, '9963': 3357, '1481': 276, '9570': 3227, '1642': 356, '8988': 3015, '8588': 2884, '1928': 481, '2609': 759, '3074': 929, '3247': 980, '5796': 1902, '5478': 1796, '3278': 990, '7161': 2380, '6279': 2079, '9288': 3128, '6067': 2005, '1895': 464, '3036': 918, '6644': 2200, '1993': 524, '6877': 2280, '5233': 1709, '8417': 2823, '8174': 2738, '9633': 3250, '1670': 371, '6318': 2087, '2572': 746, '1199': 130, '5874': 1939, '7746': 2573, '2468': 714, '7231': 2409, '9618': 3243, '5906': 1952, '2402': 691, '6373': 2102, '7611': 2529, '4934': 1587, '9408': 3168, '1432': 252, '8905': 2991, '1272': 178, '6487': 2142, '1501': 289, '9432': 3173, '9127': 3068, '6554': 2165, '7637': 2539, '1164': 114, '3510': 1085, '9734': 3285, '4568': 1452, '7242': 2415, '8301': 2783, '5708': 1874, '5268': 1719, '9698': 3275, '3360': 1021, '3105': 941, '2672': 781, '8945': 3001, '5777': 1897, '9509': 3200, '4597': 1466, '8499': 2856, '9215': 3099, '9708': 3279, '9289': 3129, '9919': 3345, '1434': 254, '1549': 306, '7329': 2438, '1624': 343, '8776': 2949, '7184': 2388, '7796': 2591, '1636': 350, '9212': 3098, '7967': 2651, '6843': 2265, '9515': 3203, '7938': 2640, '2457': 711, '1525': 297, '6525': 2155, '6483': 2138, '3244': 978, '8484': 2848, '4830': 1545, '9572': 3228, '9817': 3314, '4972': 1602, '8095': 2706, '9393': 3162, '2325': 668, '1418': 246, '3539': 1092, '6518': 2152, '8652': 2906, '3270': 986, '3531': 1090, '2495': 719, '8448': 2834, '8592': 2885, '5200': 1692, '4165': 1304, 'cenk': 4466, '3359': 1020, '7204': 2400, '2615': 761, '9693': 3273, '9347': 3144, '5333': 1748, '4807': 1537, '5179': 1684, '1015': 36, '2919': 871, '1005': 29, '4683': 1495, '8164': 2734, '5160': 1678, '1807': 430, '3300': 998, '5819': 1915, '1644': 358, '8256': 2768, '2717': 793, '2634': 770, '5925': 1955, '9774': 3298, '3249': 981, '6184': 2047, '9292': 3130, '6684': 2213, '3579': 1102, '1181': 122, '8547': 2874, '7467': 2479, '7852': 2610, '1475': 271, '7194': 2394, '6205': 2055, '5719': 1880, '7642': 2541, '4973': 1603, '1789': 422, '5831': 1921, '5278': 1724, '5119': 1665, '7899': 2626, '4638': 1481, '6360': 2098, '7245': 2416, '7274': 2426, '1479': 274, '6046': 2001, '8264': 2771, '1939': 488, '4625': 1476, '3669': 1130, '3641': 1125, '2605': 757, '8519': 2864, '4722': 1509, '9961': 3356, '6785': 2246, '3334': 1011, '9997': 3365, '3661': 1128, '9315': 3137, '7808': 2596, '2958': 885, '2951': 882, '4189': 1312, '3025': 912, '5039': 1637, '5303': 1737, '9416': 3169, '1468': 267, '3062': 925, '1407': 241, '1186': 126, '1370': 224, '1193': 128, '4911': 1579, '8837': 2963, '3578': 1101, '9994': 3364, '5746': 1887, '8255': 2767, '2576': 748, '2207': 627, '6766': 2239, '6591': 2176, '7610': 2528, '8021': 2680, '3250': 983, '6548': 2162, '4949': 1595, '2411': 694, '7294': 2431, '2111': 590, '5170': 1683, '4833': 1546, '5103': 1659, '9420': 3170, '3069': 927, '2989': 895, '3321': 1006, '2593': 751, '7381': 2453, '3339': 1014, '2056': 576, '8867': 2977, '4331': 1368, '4450': 1415, '7008': 2331, '8828': 2961, '2141': 603, '1335': 210, '2733': 802, '6431': 2123, '7553': 2511, '2886': 855, '4520': 1434, '7691': 2554, '3633': 1122, '6996': 2316, '4575': 1456, '5073': 1647, '4774': 1530, '3792': 1173, '5214': 1700, '4382': 1389, '5091': 1653, '9080': 3051, '1536': 300, '3732': 1152, '4711': 1506, '6096': 2020, '104': 46, '2384': 684, '4409': 1401, '7580': 2521, '8961': 3005, '8271': 2773, '8463': 2842, '2567': 741, '4322': 1364, '5815': 1912, '5280': 1725, '9760': 3292, '4746': 1516, '6625': 2193, '2193': 621, '9959': 3355, '4477': 1423, '2751': 808, '3530': 1089, '8981': 3012, '1300': 197, '5042': 1639, '2373': 681, '5431': 1782, '3436': 1052, '3172': 957, '9448': 3179, '4012': 1254, '9256': 3118, '7011': 2333, '5251': 1715, '7548': 2509, '2850': 842, '6757': 2237, '3286': 992, '7385': 2454, '9150': 3075, '2651': 776, '1093': 76, '7919': 2636, '7125': 2369, '9932': 3349, '5926': 1956, '3719': 1148, '5848': 1928, '5227': 1705, '6656': 2205, '7015': 2334, '8794': 2952, '6954': 2296, '7700': 2559, '9696': 3274, '5645': 1856, '5322': 1744, '6100': 2022, '1646': 359, '2977': 891, '6179': 2045, '7464': 2477, '6488': 2143, '5164': 1680, '9234': 3108, '6481': 2137, '5196': 1689, '2284': 645, '4308': 1362, '9313': 3136, '5921': 1954, '8656': 2907, '4538': 1443, '6407': 2115, '1932': 485, '3672': 1132, '4473': 1422, '6594': 2178, '7770': 2580, '6503': 2150, '6455': 2131, '6851': 2270, '3867': 1199, '4705': 1505, '4153': 1301, '1608': 335, '7207': 2401, '4798': 1535, '3330': 1009, '9582': 3232, '4907': 1577, '5211': 1698, 'bpmk': 4172, '6412': 2118, '5250': 1714, '3781': 1169, '2197': 622, '3337': 1013, '4244': 1334, '7534': 2505, '1252': 167, '8684': 2922, '5105': 1660, '2768': 813, '3950': 1221, '6168': 2042, '7452': 2474, '7200': 2398, '5348': 1754, '7518': 2498, '3995': 1237, '7681': 2549, '5600': 1839, '5013': 1627, '3502': 1082, '2719': 795, '7828': 2605, '4935': 1588, '8404': 2817, '8651': 2905, '2783': 819, '1494': 284, '6731': 2227, '8705': 2929, '4193': 1314, '5408': 1778, '3082': 932, '8294': 2780, '1044': 49, '4901': 1574, '2607': 758, '2434': 703, '5365': 1763, '7517': 2497, '9620': 3245, '6405': 2113, '2922': 873, '3999': 1239, '1492': 283, '5830': 1920, '4334': 1369, '9873': 3334, '8020': 2679, '8045': 2691, '2477': 716, '8424': 2827, '2287': 647, '1452': 264, '2790': 823, '4839': 1550, '7142': 2373, '5083': 1651, '7366': 2450, '3171': 956, '1647': 360, '8213': 2753, '5995': 1974, '3368': 1026, '3381': 1033, '6160': 2039, '4415': 1405, '1439': 258, '2849': 841, '6120': 2027, '6485': 2140, '1127': 97, '8633': 2897, '1690': 381, '3880': 1203, '2864': 847, '3758': 1163, '9247': 3113, '6964': 2300, '7749': 2574, '4410': 1402, '1317': 203, '9389': 3160, '2749': 807, '2446': 706, '7634': 2537, '3498': 1078, '6534': 2158, '4107': 1290, '9457': 3184, '4945': 1592, '4586': 1459, '5779': 1898, '5586': 1831, '7302': 2435, '7092': 2356, '5336': 1751, '8812': 2957, '6035': 1996, '8390': 2813, '1408': 242, '5715': 1876, '6970': 2306, '8864': 2975, '4280': 1349, '7981': 2655, '4719': 1507, '4637': 1480, '1651': 364, '2935': 878, '2964': 886, '2866': 849, '3803': 1177, '4168': 1305, '2618': 762, '6457': 2132, '8664': 2911, '1424': 249, '9253': 3115, '9575': 3230, '1640': 354, '3963': 1230, '1224': 150, '2483': 717, '6442': 2129, '2555': 739, '2498': 720, '2513': 727, '4855': 1555, '3437': 1053, '2271': 643, '5802': 1906, '9538': 3209, '9006': 3030, '6854': 2273, '6085': 2013, '8691': 2923, '1887': 458, '3525': 1088, '9720': 3281, '2930': 877, '7964': 2650, '5271': 1720, '2852': 843, '1898': 465, '9761': 3293, '1859': 445, '8732': 2938, '2144': 604, '9700': 3277, '7594': 2524, '9681': 3269, '1977': 510, 'hube': 6374, '9650': 3258, '3209': 968, '3582': 1105, '1618': 340, '5677': 1861, '6922': 2290, '9988': 3363, '4161': 1303, '3423': 1046, '4436': 1412, '9074': 3048, '8362': 2806, '6417': 2120, '3934': 1218, '9524': 3207, '8430': 2829, '6691': 2216, '7338': 2440, '2130': 597, '7914': 2634, '4032': 1264, '7078': 2352, '9246': 3112, '6145': 2036, '1280': 183, '9615': 3242, '4780': 1532, '7688': 2552, '4532': 1440, '4771': 1528, '8280': 2776, '9768': 3296, '9588': 3235, '3960': 1229, '6357': 2096, '4968': 1600, '8023': 2681, '3471': 1068, '4183': 1309, '9782': 3301, '4982': 1607, '3499': 1079, '1823': 437, '6852': 2271, '2639': 772, '4758': 1522, '9129': 3069, '6804': 2257, '1750': 407, '1730': 399, '5491': 1799, '4058': 1272, '9103': 3060, '1386': 227, 'atiy': 3827, '5725': 1881, 'vhmc': 10007, '9197': 3092, '8010': 2675, '4600': 1469, '1763': 412, '6783': 2244, '9583': 3233, '2967': 887, '3217': 971, '6435': 2127, '7578': 2519, '5603': 1840, '1943': 492, '7299': 2432, '7932': 2638, '2917': 869, '8295': 2781, '7802': 2593, '3277': 989, '4519': 1433, '4135': 1297, '2165': 611, '2068': 578, '7350': 2445, '2527': 731, '4458': 1418, '1600': 330, '7693': 2555, '1781': 421, '6081': 2010, '2603': 756, '3138': 950, '5203': 1694, '1162': 113, '4703': 1504, '2216': 630, '5049': 1640, '3188': 963, '6621': 2190, '8650': 2904, '4068': 1277, '9491': 3193, '2728': 800, '7882': 2619, '6663': 2209, '4524': 1437, '6463': 2133, '3779': 1168, '8535': 2869, 'ofgg': 7706, '2308': 659, '6527': 2156, '5851': 1930, '3696': 1139, '6586': 2174, '2021': 560, '7887': 2621, '6942': 2292, '7280': 2428, '7876': 2616, '5385': 1772, '4944': 1591, '1988': 518, '8707': 2930, '6491': 2144, '5627': 1848, '7881': 2618, '8855': 2971, '1203': 141, '8203': 2750, '7734': 2568, '4491': 1426, '9429': 3171, 'ogyu': 7710, '2821': 833, '1643': 357, '2519': 730, '2839': 839, '6848': 2268, '5312': 1740, '3126': 948, '6718': 2222, '4072': 1279, '3194': 964, '2301': 653, '7504': 2492, '1378': 225, '6569': 2168, '5275': 1722, '5738': 1885, '1594': 324, '4044': 1269, '9847': 3323, '1844': 442, '4562': 1450, '4330': 1367, '8819': 2959, '2948': 881, '6945': 2293, '8133': 2722, '1876': 454, '9791': 3303, '9858': 3328, '8553': 2877, '3505': 1083, '6659': 2206, '1256': 170, '4940': 1590, '5694': 1866, '5597': 1835, '6263': 2074, '3535': 1091, '7511': 2493, '1327': 207, '5964': 1966, '7547': 2508, '5571': 1823, '4341': 1372, '7041': 2344, '2278': 644, '9167': 3082, '3168': 954, '9082': 3052, '2759': 810, '8462': 2841, '1628': 344, '6587': 2175, '1182': 123, '4182': 1308, '9606': 3240, 'tfso': 9614, 'lwyo': 7062, '4260': 1343, '6377': 2104, '9496': 3194, '3301': 999, '8254': 2766, '8202': 2749, '6249': 2067, '4245': 1335, '8041': 2690, '7676': 2548, '9241': 3110, '3740': 1157, '2857': 846, '5845': 1926, '8038': 2689, '1632': 347, '3767': 1166, '1858': 444, '3343': 1015, '8387': 2812, '9242': 3111, '6180': 2046, '4256': 1341, '2597': 752, '9841': 3321, '1437': 256, '4869': 1563, '2899': 861, '7230': 2408, '1183': 124, '3435': 1051, '4011': 1253, '5543': 1814, '7684': 2551, '5540': 1813, 'regi': 8535, '1816': 434, '8538': 2872, '9237': 3109, '6842': 2264, '8578': 2881, '4770': 1527, '4820': 1541, '6809': 2258, '1100': 88, '2473': 715, '1470': 269, '2179': 618, '8853': 2970, '9924': 3348, '9005': 3029, '4228': 1327, '5335': 1750, '4854': 1554, '9848': 3324, '9891': 3339, '2721': 796, '6010': 1988, '7442': 2470, '1303': 199, '9703': 3278, '8661': 2909, '2865': 848, '5792': 1901, '1894': 463, '2817': 831, '9451': 3181, '4211': 1323, '2953': 884, '6015': 1991, '8163': 2733, '3429': 1049, '7780': 2585, '5063': 1642, '9557': 3221, '4866': 1562, '6770': 2241, '9079': 3050, '7105': 2362, '8831': 2962, '4658': 1487, '8318': 2789, '6166': 2041, '3644': 1126, '7164': 2382, '7139': 2372, '2571': 745, '7627': 2533, '6202': 2053, '5731': 1883, '1255': 169, '1217': 146, '5900': 1949, '5148': 1674, '9505': 3199, '9218': 3101, '8986': 3014, '2838': 838, '4734': 1513, '9921': 3346, '6433': 2125, 'hqcz': 6363, '3303': 1000, '7390': 2456, '9462': 3187, '8515': 2863, '5346': 1753, '2223': 631, '9445': 3176, '5498': 1802, '4277': 1348, '7378': 2452, '7178': 2386, '7232': 2410, '2855': 845, '5258': 1716, '8550': 2876, '1238': 160, '8888': 2985, '8723': 2935, '4396': 1396, '1490': 282, '3181': 960, '3556': 1095, '3808': 1178, '7032': 2339, '2445': 705, '1043': 48, '5785': 1899, '9007': 3031, '3836': 1188, '4840': 1551, '5844': 1925, '4125': 1294, '1737': 400, '7009': 2332, '4445': 1414, '8710': 2932, '6610': 2184, '4379': 1387, '5317': 1743, '6624': 2192, '6915': 2289, '3107': 942, '1487': 280, '1743': 403, '4319': 1363, '7254': 2420, '6255': 2071, '6721': 2224, '7514': 2495, '9639': 3253, '6086': 2014, '1366': 220, '1675': 373, '7347': 2443, '9381': 3155, '2304': 655, '9185': 3090, '4849': 1553, '4006': 1251, '4003': 1249, '3438': 1054, '1287': 184, 'kgfp': 6752, '1559': 311, '2114': 593, '2982': 892, '5756': 1890, '2976': 890, '8233': 2760, '5828': 1918, '9136': 3071, '2303': 654, '1002': 27, '5800': 1904, '8548': 2875, '3827': 1185, '4865': 1561, '4005': 1250, '5699': 1870, '7732': 2567, '6365': 2099, '8569': 2879, '7896': 2625, '5305': 1738, '5850': 1929, '1602': 332, '2905': 865, '5215': 1701, '8501': 2858, '1148': 106, '3266': 985, '7246': 2417, '2403': 692, '8869': 2979, '7471': 2481, '6320': 2088, '2788': 822, '3283': 991, '1948': 494, 'ijyi': 6416, '5165': 1681, '1368': 222, '1185': 125, '1565': 313, '8325': 2793, '8034': 2687, '3112': 943, '3520': 1087, 'botl': 4159, '3581': 1104, '9227': 3104, '6723': 2225, '2619': 763, '5100': 1658, '6174': 2043, '7579': 2520, '9010': 3033, '6254': 2070, '1056': 58, '8852': 2969, '8663': 2910, '3372': 1029, '4350': 1374, '9801': 3307, '1866': 449, '5718': 1879, '2051': 574, '5239': 1712, '1519': 295, '2704': 790, '4025': 1262, '9751': 3290, '4378': 1386, '5005': 1624, '8166': 2735, '8419': 2824, '1796': 425, '1117': 94, '7711': 2563, '9721': 3282, '9511': 3201, '2820': 832, '6679': 2210, '6987': 2312, '5418': 1780, '5483': 1797, '3031': 917, '4768': 1526, 'knbx': 6775, '8673': 2918, '4721': 1508, '2741': 804, '3620': 1116, '8533': 2868, '9829': 3317, '1040': 47, '9519': 3206, '3822': 1182, '3415': 1044, '5231': 1707, '2289': 648, '8624': 2893, '8223': 2756, '7192': 2393, '6381': 2105, '1503': 290, '1233': 156, '7827': 2604, '2874': 853, '2517': 728, '1196': 129, '1202': 140, '4219': 1324, '2081': 582, '6748': 2233, '5573': 1825, '6307': 2085, '5748': 1888, '8916': 2994, '2171': 614, '3559': 1096, '7472': 2482, '9649': 3257, '2095': 585, '7537': 2506, '1246': 163, '6900': 2286, '3245': 979, '2391': 686, '2972': 889, '2649': 775, '3472': 1069, '6792': 2250, '2643': 773, '1526': 298, '3176': 958, '6963': 2299, '5299': 1734, '8415': 2822, '5560': 1820, '3013': 908, '5806': 1908, '5288': 1729, '3694': 1138, '7893': 2624, '6649': 2202, '7135': 2371, '7785': 2586, '1230': 155, '8765': 2945, '2132': 599, '8969': 3009, '1006': 30, '8338': 2798, '4259': 1342, '3979': 1234, '6966': 2302, '3059': 924, '2876': 854, '7258': 2422, '8903': 2989, '7788': 2587, '8716': 2934, '8485': 2849, '2046': 570, '7236': 2413, '7740': 2569, '3151': 953, '6250': 2068, '4490': 1425, '9673': 3264, '3872': 1200, '1637': 351, '5870': 1937, '8541': 2873, '9474': 3190, '2829': 836, '9355': 3148, '5369': 1766, '9115': 3064, '2887': 856, '9062': 3045, '9008': 3032, '2671': 780, '1639': 352, '3318': 1005, '4885': 1569, '3782': 1170, '1806': 429, '5031': 1635, '3366': 1025, '5082': 1650, '3561': 1098, '5245': 1713, '8106': 2710, '3058': 923, '5035': 1636, '5154': 1676, '2914': 868, '7201': 2399, '8069': 2700, '3998': 1238, '3003': 905, '6986': 2311, '6128': 2030, '6540': 2161, '3102': 940, '9634': 3251, '5640': 1854, '9792': 3304, '5764': 1893, '4996': 1611, '6194': 2049, '2459': 712, '2630': 768, '8451': 2837, '8447': 2833, '3937': 1219, '4407': 1400, '5116': 1664, '5879': 1941, '6002': 1986, '5202': 1693, '5332': 1747, '5928': 1958, '2266': 642, '3717': 1147, '1102': 89, '7098': 2359, '3243': 977, '9120': 3066, '4924': 1583, '9923': 3347, '4863': 1560, '7129': 2370, '3978': 1233, '6125': 2029, '7391': 2457, '3422': 1045, '5221': 1704, 'vcvw': 9979, '3411': 1042, '3185': 961, '8941': 3000, '1276': 180, '2262': 640, '4169': 1306, '2425': 699, '7948': 2643, '7527': 2500, '1692': 382, '5567': 1821, '7345': 2442, '6440': 2128, '3316': 1004, '4834': 1547, '5262': 1718, '6550': 2163, '6014': 1990, '6424': 2122, '6026': 1995, '1227': 152, '6991': 2315, '4371': 1383, '9371': 3154, '9078': 3049, '5071': 1646, '6148': 2037, '5261': 1717, '8857': 2972, '8475': 2846, '9361': 3151, '5070': 1645, '9178': 3087, '4688': 1498, '4694': 1500, '4129': 1296, '9542': 3212, '3508': 1084, '1477': 273, '1591': 322, '3291': 994, '4426': 1409, '9794': 3305, '9100': 3059, '2421': 697, 'qmtx': 8383, '7182': 2387, '7675': 2547, '8032': 2685, '1139': 102, '7146': 2374, '5838': 1923, '5358': 1760, '4509': 1431, '2168': 612, '4016': 1257, '4501': 1430, '8348': 2801, '6468': 2134, '6909': 2288, '5355': 1758, '6629': 2195, '8054': 2695, '5734': 1884, '5854': 1932, '6720': 2223, '1345': 214, '2175': 616, '7228': 2407, '1942': 491, '2427': 700, '1929': 482, '2263': 641, '4905': 1575, '6082': 2011, '3311': 1001, '8474': 2845, '8033': 2686, '9541': 3211, '8231': 2758, '8669': 2915, '6267': 2075, '5115': 1663, '7608': 2527, '2414': 695, '7903': 2629, '4580': 1457, '2725': 798, '3671': 1131, '8677': 2919, '4325': 1365, '7563': 2515, '6953': 2295, '1772': 418, '7911': 2632, '5813': 1910, '1711': 391, '9098': 3057, '8486': 2850, '6642': 2199, '2340': 673, '1714': 393, '6687': 2214, '9452': 3182, '6118': 2026, '1020': 38, '1152': 108, '2784': 820, '7190': 2392, '5634': 1852, '4826': 1543, '9382': 3156, '5324': 1745, '6538': 2160, '5901': 1950, '7762': 2578, '1940': 490, '3274': 988, '1333': 209, '8882': 2983, '1934': 486, '8708': 2931, '3967': 1232, '2430': 701, '8086': 2704, '1433': 253, '2898': 860, '7613': 2530, '7162': 2381, '2793': 824, '5757': 1891, '5507': 1804, '8449': 2835, '8878': 2980, '1947': 493, '6304': 2083, '3953': 1223, '1447': 262, '4857': 1557, '8450': 2836, '3476': 1071, '9912': 3344, '7007': 2330, '5835': 1922, '8178': 2739, '4262': 1344, '5113': 1662, '0x72747341': 16, '1354': 217, '7960': 2647, '4210': 1322, '8609': 2890, '4681': 1494, '7633': 2536, '4110': 1292, '5695': 1867, '4765': 1525, '7050': 2347, '8167': 2736, '4358': 1376, '6075': 2008, '5881': 1942, '5331': 1746, '1867': 450, '1483': 278, '7016': 2335, '8847': 2968, '7542': 2507, '2803': 827, '4599': 1467, '6281': 2080, '8948': 3002, '9043': 3040, '4603': 1470, '7340': 2441, '2888': 857, '6608': 2183, '5337': 1752, '6775': 2243, '1634': 348, '7529': 2502, '8498': 2855, '8860': 2974, '1687': 378, '8452': 2838, '7809': 2597, '2780': 816, '3749': 1158, '9748': 3288, '2873': 852, '5141': 1671, '9072': 3047, '1635': 349, '4092': 1286, '6054': 2002, '9605': 3239, '9342': 3143, '6012': 1989, '1764': 413, '4574': 1455, '1073': 63, '4468': 1421, '3332': 1010, '9086': 3054, '7567': 2517, '2918': 870, '4642': 1483, '6859': 2276, '5907': 1953, '8521': 2866, '8109': 2711, '3313': 1002, '6751': 2235, '1593': 323, '3687': 1137, '8322': 2792, '1961': 500, '5074': 1648, '5598': 1836, '9587': 3234, '5316': 1742, '5169': 1682, '4127': 1295, '4403': 1399, '9111': 3062, '2689': 788, '7913': 2633, '2160': 608, '5585': 1830, '8645': 2902, '5359': 1761, '3845': 1190, '1343': 213, '2901': 863, '4686': 1497, '7478': 2484, '9170': 3084, '8308': 2785, '9229': 3105, '5803': 1907, '8672': 2917, '6065': 2004, '9545': 3214, '1052': 56, '6242': 2065, '8067': 2699, '8529': 2867, '8965': 3007, '9740': 3287, '7822': 2601, '7387': 2455, '6395': 2110, '8357': 2804, '8198': 2745, '9977': 3361, '6336': 2092, '7910': 2631, '4675': 1493, '6383': 2106, '7447': 2471, '4337': 1370, '1606': 334, '9119': 3065, '2489': 718, '5885': 1944, '1656': 365, '3677': 1133, '6132': 2033, '2637': 771, '4430': 1411, '9630': 3249, '1882': 456, '2118': 595, '7043': 2345, '9755': 3291, '5984': 1971, '7696': 2556, '5085': 1652, '2992': 896, '1759': 410, '7107': 2363, '2511': 725, '6764': 2238, '8005': 2672, '4288': 1354, '6977': 2307, '6790': 2249, '8818': 2958, '8615': 2892, '2987': 894, '1000': 24, '4881': 1568, '6334': 2091, '9896': 3340, '7249': 2419, '5829': 1919, '3414': 1043, '9565': 3225, '1616': 339, '3064': 926, '9581': 3231, '5234': 1710, '3480': 1072, '8274': 2774, '8505': 2859, '2621': 765, '4631': 1478, '3965': 1231, '3187': 962, '2797': 825, '5711': 1875, '9875': 3335, '5986': 1972, '9387': 3158, '3738': 1156, '2718': 794, 'pags': 7826, '8405': 2818, '2055': 575, '8667': 2914, '8703': 2927, '2952': 883, '6486': 2141, '8695': 2924, '4913': 1580, '2681': 786, '7963': 2649, '3027': 914, '2331': 670, '7395': 2458, '8065': 2698, '7773': 2581, '6268': 2076, '3335': 1012, '6798': 2253, '8436': 2831, '1980': 512, '2211': 628, '8962': 3006, '5818': 1914, '2364': 677, '9398': 3163, '3028': 915, '7301': 2434, '7839': 2606, '2892': 859, '3023': 911, 'hoon': 6319, '5595': 1833, '1347': 215, '1421': 248, '9834': 3319, '8252': 2765, '6287': 2081, '5157': 1677, '1809': 432, '2190': 619, '4033': 1265, '5425': 1781, '1082': 68, '3226': 972, '7039': 2343, '2626': 767, '6737': 2230, '5628': 1849, '1140': 104, '4730': 1512, '6411': 2117, '9209': 3096, 'mara': 7141, '5855': 1933, '1459': 265, '9683': 3270, '6040': 1999, 'calle': 4296, 'valencia': 9945, 'juan': 6697, 'parcalia': 7861, 'hn': 6296, 'angel': 3650, 'lacalle': 6809, 'caada': 4267, 'hoyo': 6361, 'elias': 5408, 'casas': 4405, 'miravete': 7342, 'boedo': 4131, 'grupo': 6136, 'fuensanta': 5933, '197': 504, 'ricardo': 8683, 'gutierrez': 6170, 'castil': 4424, 'llosa': 6990, 'cuenca': 4984, 'informatica2009': 6490, 'zr': 10315, 'comerciosaspe': 4705, 'ke': 6734, 'citycvs': 4593, 'mil': 7310, '179': 423, 'carlos': 4369, 'antigua': 3684, 'pugliesi': 8353, '81': 2709, 'joyclub': 6694, 'pe': 7944, 'getgold': 6036, 'tl': 9677, 'edu': 5364, 'mmo': 7361, 'cat': 4431, 'darcy': 5025, 'movil': 7444, 'dz': 5321, 'plaa': 8081, 'mistral': 7352, 'murillo': 7485, 'guillen': 6164, 'bh': 4069, 'medianero': 7244, 'schnapps': 8905, 'gs': 6140, 'parke': 7871, 'antonio': 3687, '175': 406, '55': 1803, '11c': 132, 'poma': 8145, 'padilla': 7823, '74': 2459, '12h': 194, 'quiromante': 8411, 'mg': 7294, 'rueda': 8792, 'credido': 4941, 'gula': 6167, 'honduras': 6316, '139': 229, 'bureba': 4242, 'ildefonso': 6418, 'esmarbella': 5509, 'ht': 6368, 'maeztu': 7076, 'pontevedra': 8150, 'andrs': 3648, 'castanyer': 4413, 'buscamoto': 4252, 'gw': 6174, 'vlez': 10082, '169': 380, 'steele': 9317, 'comalada': 4697, 'robledo': 8724, 'coca': 4666, '167': 370, 'espejo': 5515, 'bajo': 3914, 'el': 5389, 'tardos': 9533, 'mobi': 7364, 'salgado': 8838, 'zapardiel': 10295, 'ribera': 8679, 'enfuerteventura': 5450, 'rw': 8809, 'che': 4527, '54': 1774, 'pl': 8079, 'romeral': 8750, 'marino': 7161, 'cervera': 4487, '173': 398, 'guejosgratis': 6151, 'cg': 4491, 'calderon': 4292, '136': 218, 'galindo': 5965, '8a': 3019, 'lugar': 7054, 'goovitae': 6084, 'pg': 8020, 'madrid2012': 7073, 'nu': 7644, 'hermanos': 6255, '178': 420, 'cuesta': 4986, '155': 307, 'multasdetransito': 7469, 'gf': 6039, 'torre': 9711, 'redstarz': 8519, 'sv': 9457, 'hormigon': 6326, 'impreso': 6446, 'gestionsoftware': 6033, 'th': 9617, 'soria': 9212, '154': 301, 'todobetis': 9682, 'baltasarsantos': 3921, 'vu': 10095, 'bourne': 4164, 'boget': 4133, 'ocallaghan': 7681, 'asyra': 3824, 'li': 6931, 'borgua': 4150, 'miguel': 7308, 'conde': 4775, 'irmedia': 6590, 'ca': 4266, 'cartagena': 4394, '5f': 1982, 'marines': 7160, 'buen': 4226, 'paso': 7899, 'henry': 6252, 'sms24h': 9167, 'tr': 9731, 'quierocortinas': 8404, 'hervs': 6263, 'bediaga': 4010, 'longo': 7018, 'tunaroza': 9814, 'capmany': 4347, '007tv': 2, 'fj': 5810, 'polanco': 8130, 'socimi': 9175, 'gl': 6054, 'sant': 8855, 'andreu': 3645, 'barca': 3943, 'lb': 6875, 'angullo': 3659, 'acosta': 3415, 'cancela': 4326, 'pobla': 8121, '165': 362, 'distritoeste': 5229, 'segura': 8971, 'passeig': 7905, 'gaudi': 5994, 'manjarr': 7124, 'cd': 4448, 'mirallesmoscardo': 7338, 'ro': 8715, 'misaki': 7345, 'soybueno': 9228, 'nz': 7660, 'puebla': 8349, 'infantes': 6486, '145': 263, 'ojeda': 7712, 'ares': 3742, 'suarez': 9384, 'raichs': 8433, 'wdsl': 10146, 'ao': 3691, 'izurrieta': 6618, 'robin': 8723, 'comerciosdeaspe': 4706, 'info': 6489, 'barcelona': 3945, '149': 281, 'benavente': 4041, 'peral': 7977, '180': 427, 'carretera': 4385, 'ribas': 8677, '160': 329, 'arco': 3733, 'meson': 7280, 'apelton': 3694, 'sy': 9465, 'carrera': 4383, 'claudio': 4618, 'ann': 3664, 'medwin': 7248, 'enla': 5463, 'gascon': 5986, '141': 243, 'vila': 10037, 'santa': 8856, 'teresa': 9590, '19horas': 529, 'duque': 5316, 'zaragoza': 10296, '182': 435, 'zw': 10319, 'directoriogratuito': 5198, 'kr': 6790, '144': 259, 'collado': 4677, 'isasi': 6592, 'corua': 4888, 'ssextremadura': 9279, 'gr': 6098, 'camino': 4308, 'jaime': 6626, 'cx': 5007, 'nardo': 7518, '13e': 234, 'barnicesuv': 3950, 'castillejo': 4426, 'freecreditcheck': 5905, 'bg': 4068, '10h': 85, 'ozlon': 7817, 'enigmatico': 5459, 'millares': 7316, 'centeno': 4468, 'darby': 5024, 'hostingprofessional': 6344, 'mv': 7496, 'cienciapolicial': 4574, 'pericas': 7997, 'villanueva': 10050, 'pintor': 8069, 'viver': 10079, 'culturalsanpedrocf': 4990, 'ie': 6409, 'cerda': 4478, 'roco': 8733, 'sexotelefono': 9032, 'alfonso': 3566, 'naturalchild': 7531, 'tk': 9676, 'als': 3604, 'lamejorplaya': 6820, 'hoya': 6360, 'housemovie': 6354, 'lk': 6982, 'noviasteresapalacios': 7633, 'aw': 3882, 'jose': 6684, 'gomez': 6077, 'guejos': 6150, 'molin': 7378, 'quadernideilgarda': 8385, 'ci': 4569, 'almazn': 3589, 'psychominders': 8342, 'gob': 6070, 'lawn': 6865, 'je': 6644, 'mio': 7335, 'esteban': 5532, 'albeiteria': 3544, 'sevilla': 9028, 'salina': 8839, 'jm': 6659, 'plza': 8117, 'carmelo': 4372, 'pasaje': 7893, 'salvador': 8843, 'discon': 5204, 'mm': 7360, 'galvan': 5971, 'pasajesaereosbaratos': 7894, 'bierzo': 4076, 'karldeux': 6726, 'km': 6773, 'riego': 8689, 'pi': 8037, 'barriada': 3960, 'nueva': 7647, 'volt': 10088, 'palacn': 7835, 'monteys': 7404, 'emilio': 5426, '1f': 534, 'emil': 5425, 'beln': 4034, 'llovet': 6991, '9g': 3370, 'ballerpoker': 3918, 'kn': 6774, 'santo': 8860, '190': 468, 'au': 3845, 'rosa': 8760, 'paula': 7930, 'seco': 8940, 'tait': 9511, 'ibizasounds': 6394, 'ir': 6587, 'creacionesdolcevita': 4932, 'eddydaniele': 5358, 'pt': 8344, 'zonamodelos': 10310, 'cohel': 4673, 'nicolas': 7585, 'chicon': 4543, 'italianmotorvillagesevilla': 6610, 'gd': 6005, 'hayman': 6224, 'tecnoindomo': 9562, 'nr': 7638, 'paremoselalzheimer': 7863, 'az': 3889, 'parra': 7879, 'jordi': 6681, 'morande': 7415, 'ignacio': 6412, '6h': 2324, 'las': 6846, 'professionalhost': 8280, 'cn': 4655, 'deportechino': 5122, 'decoaching': 5073, 'hayunmundoahifuera': 6225, 'hiperbarcelona': 6279, 'espaa': 5510, 'garabana': 5976, 'lin': 6956, 'discotecateatre': 5206, 'gt': 6141, 'azorin': 3892, 'evelin': 5563, 'ly': 7063, 'eulalia': 5552, 'solana': 9186, 'barros': 3965, 'monte': 7400, 'miramar': 7339, 'tejeda': 9564, 'salamanca': 8831, 'adolfo': 3456, 'vizcaya': 10081, 'royo': 8779, 'santibez': 8859, '14horas': 286, 'pineda': 8060, 'zurueta': 10318, 'pablo': 7819, 'iglesias': 6411, 'jara': 6636, 'aspirantes': 3798, 'gh': 6041, 'cruz': 4973, 'cabot': 4279, 'maestro': 7075, 'faus': 5707, 'pedro': 7958, 'vidal': 10028, '11d': 133, 'ugartechea': 9846, 'alqueria': 3602, 'mtos': 7453, 'pinos': 8066, '128': 182, 'arjona': 3750, 'nobel': 7599, '184': 441, '7e': 2667, 'frenchpolynesia': 5912, 'altares': 3607, 'sutelefono': 9456, 'olascoaga': 7715, 'arajol': 3725, 'lorenzo': 7027, 'tiposdedrogas': 9668, 'arce': 3730, 'rufino': 8793, 'creacionwebs': 4933, 'bn': 4124, 'violetas': 10063, 'graciot': 6102, 'n340magazin': 7507, 'tar': 9531, 'maxtienda': 7213, 'na': 7508, 'ml': 7359, 'vadim': 9938, 'viajesdacapalla': 10010, 'nl': 7597, 'mar': 7140, '123': 154, 'avinguda': 3879, 'chinavende': 4548, 'bi': 4070, 'moreno': 7418, 'schiavelli': 8901, 'buscadordevideos': 4251, 'mk': 7358, 'robles': 8725, 'jp': 6695, 'muchachina': 7458, 'coworkers': 4922, 'bette': 4063, 'softwaresaas': 9184, 'barreras': 3958, 'bandera': 3925, 'yee': 10270, 'escriba': 5503, 'vera': 9998, 'casal': 4403, 'theroxyblue': 9629, 'portal': 8162, 'luis': 7057, '189': 460, 'lopez': 7024, 'bwds': 4260, 'poeta': 8124, 'mytanga': 7503, 'om': 7727, 'bollullos': 4137, 'imarbella': 6430, 'lo': 6992, 'cascio': 4407, 'carrillo': 4388, 'albornoz': 3548, 'cementosanfranq': 4463, 'paseo': 7897, 'transportesvegasl': 9766, 'tras': 9767, 'aprendeaestudiar': 3719, 'vn': 10083, 'seramitex': 9002, 'fichajes': 5757, 'nom': 7606, 'sd': 8924, 'vilar': 10042, 'prats': 8202, 'sineiro': 9116, 'showcars': 9070, 'eliseo': 5409, 'ochoa': 7687, 'kaz': 6732, 'bernat': 4055, 'redesmilitantes': 8515, 'deseoun': 5131, 'brihuega': 4196, 'waterflyesp': 10139, 'cardenal': 4355, 'cisneros': 4586, 'navas': 7537, 'jorquera': 6683, 'aero': 3477, 'hortensia': 6336, 'cami': 4307, 'astor': 3818, 'livermore': 6978, 'hiteurope': 6294, 'ws': 10250, 'comonuevo': 4734, 'nanotecnologo': 7516, 'np': 7637, 'castell': 4416, 'sin': 9113, 'patio': 7924, 'boix': 4134, 'rioja': 8701, 'reig': 8550, 'whitehat': 10182, 'td': 9552, '146': 266, '4d': 1615, 'deuxmanagement': 5157, 'jo': 6660, 'pedrouzo': 7960, 'av': 3872, '176': 411, 'esteticadayda': 5534, 'kp': 6788, 'cbgerindote': 4444, 'sk': 9138, '7d': 2666, 'productosgarantizados': 8275, 'sigloventidos': 9091, 'mario': 7162, 'font': 5844, 'cardiel': 4356, 'montes': 7403, 'aridossanchez': 3747, 'hernandez': 6257, 'travesia': 9774, 'uruguay': 9913, 'indagacion': 6474, 'nc': 7540, 'callejon': 4299, 'santacruzdelvoto': 8857, 'fuente': 5934, 'baybay': 3987, 'mq': 7448, 'redolad': 8516, 'sanchez': 8849, 'altimirs': 3612, 'soyrojo': 9232, 'rpdkorea': 8780, 'il': 6417, 'vigo': 10035, 'cresta': 4945, 'mariposasentudia': 7163, 'rafael': 8429, 'bravo': 4182, 'rix': 8713, 'moll': 7381, 'manuel': 7129, 'pascual': 7896, 'pontigo': 8151, '196': 499, 'di': 5167, 'belonne': 4037, 'pedrosa': 7959, '6f': 2322, 'passatge': 7903, 'cc': 4445, 'quintanilla': 8409, 'portugal': 8168, 'carrer': 4382, 'fabra': 5664, '151': 291, 'castellanos': 4417, 'es': 5496, 'brbara': 4184, 'ibero': 6393, 'librodeapuntes': 6938, 'tm': 9678, 'gonzalez': 6079, 'orion': 7783, 'marquesado': 7172, 'vilanova': 10041, 'marcos': 7146, '11f': 134, 'homero': 6313, '127': 176, 'cuevas': 4987, '4g': 1617, 'telelujo': 9568, 'coop': 4858, 'escritor': 5504, 'caballero': 4270, 'beautifulbody': 4003, 'sh': 9040, 'etorbidea': 5547, '170': 385, 'spainbareback': 9236, 'ajuntamentdebarcelona20': 3537, 'yu': 10290, 'pealara': 7951, 'vilano': 10040, 'pf': 8018, 'laguna': 6816, '171': 389, 'luna': 7058, '142': 247, 'ramon': 8445, 'rodriguez': 8738, '163': 345, 'bentos': 4051, 'inmobiliariahangar': 6508, 'spainbb': 9237, 'brana': 4178, 'saludyfitness': 8842, 'br': 4173, 'bayliss': 3988, 'nuez': 7649, '131': 202, 'cv': 5006, 'ringringrent': 8699, 'multaspendientes': 7470, 'eg': 5378, 'rinconada': 8696, 'firstchoicecoffee': 5799, 'gq': 6097, 'europop': 5560, 'mw': 7497, 'montemayor': 7401, 'mairena': 7093, 'guadiana': 6144, 'clarin': 4609, 'aguilar': 3510, 'repretexbcn': 8607, 'espinosa': 5517, 'chicashumedas': 4541, 'soyriojano': 9231, 'cf': 4490, 'sitcpla': 9125, 'ye': 10266, 'ornstein': 7785, 'rockefeller': 8730, 'tetdevelocidad': 9610, 'sj': 9137, 'lingotes': 6963, 'copiar': 4863, 'palau': 7836, 'sadurn': 8818, 'pacheco': 7821, 'condado': 4774, 'morante': 7416, 'io': 6585, 'palodegolf': 7842, 'gallegonicolas': 5966, 'ps': 8337, 'ora': 7762, '137': 223, 'pola': 8129, 'vicen': 10019, 'torell': 9707, 'maragliano': 7142, 'serna': 9007, 'urbanitzacio': 9904, '4a': 1612, 'ponte': 8149, 'eonon': 5478, 'artes': 3778, 'jarama': 6637, 'almansa': 3588, 'aou': 3692, 'prestoesesto': 8232, 'hr': 6364, 'robert': 8720, 'enibiza': 5458, 'sarri': 8863, 'ter': 9588, 'molinos': 7380, 'frades': 5888, 'perez': 7988, 'pravia': 8203, 'comercio': 4703, 'itrends': 6615, 'tn': 9679, 'joll': 6678, 'manzanilladevillafafila': 7136, 'iq': 6586, 'acch': 3400, 'erill': 5491, 'colom': 4688, 'nexuspark': 7577, 'martinez': 7179, 'mercado': 7271, '188': 455, 'tenza': 9586, 'lc': 6876, 'reis': 8555, 'viejo': 10031, 'pisossantcugat': 8073, 'solano': 9187, 'cristo': 4956, '186': 446, '174': 402, '1e': 533, 'bartolom': 3967, 'vinavilano': 10057, 'bjar': 4096, 'berber': 4052, 'reco': 8500, 'palacios': 7834, 'riopisuerga': 8702, 'miami': 7297, 'beach': 3994, 'alcolea': 3552, 'manzano': 7137, 'tse': 9809, 'marketingmunicipal': 7167, 'viana': 10015, 'jadraque': 6622, 'barranc': 3954, 'onlinegratis': 7736, 'aq': 3720, 'vega': 9980, 'donet': 5266, 'eco': 5349, 'ramos': 8446, 'olmos': 7725, 'esgueva': 5508, 'linares': 6957, 'valle': 9954, 'hk': 6295, 'juli': 6707, 'sandrasummer': 8852, 'bello': 4031, 'hipergipuzkoa': 6282, 'alcalde': 3550, 'baeza': 3904, 'medina': 7246, 'sanchon': 8851, 'mariano': 7154, 'garcia': 5979, 'miplat': 7336, 'lesionesmusculares': 6916, 'uz': 9934, 'tantomontamontatanto': 9528, 'nieva': 7589, 'cameros': 4306, 'capella': 4344, 'canela': 4330, 'prat': 8201, 'llobregat': 6986, 'ruiz': 8795, 'colmenares': 4686, '183': 439, 'tornos': 9709, 'laschinas': 6848, 'ba': 3893, 'camio': 4309, 'ezcurra': 5658, 'flexinspect': 5821, 'benito': 4048, '4e': 1616, 'mare': 7147, 'deu': 5155, 'virgen': 10064, 'roque': 8758, 'eurograb': 5555, 'tel': 9565, 'ic': 6395, 'adamson': 3437, 'barebackspain': 3947, 'kh': 6753, 'rua': 8783, 'enrique': 5466, 'piedra': 8047, 'etnics': 5546, 'illarraga': 6420, 'menorca': 7266, 'bayona': 3989, 'cirujanaplastica': 4585, 'eh': 5383, 'chian': 4539, 'prensahp': 8217, 'calderer': 4291, 'almonacid': 3593, 'mh': 7296, 'latiendadecolchones': 6856, 'madan': 7068, 'navia': 7538, 'joaquin': 6663, 'weat': 10153, 'mannkopf': 7126, 'ajuntamentbcn2': 3536, 'valverde': 9962, 'costa': 4894, '148': 275, 'campanasextractoras': 4315, '6a': 2317, 'somosagelespaa': 9204, 'martinsan': 7180, 'elsentidodelavida': 5414, 'qa': 8380, 'nuo': 7655, 'maxitienda': 7212, 'gracindo': 6101, 'pilar': 8052, 'multireform': 7473, 'hornos': 6329, 'youtubeanunciox': 10288, 'fk': 5811, 'soto': 9216, 'guardia': 6147, 'ru': 8782, 'iglesia': 6410, 'luciano': 7050, 'nagel': 7509, 'ciudad': 4594, 'albiol': 3547, '92': 3094, 'alhama': 3569, 'latorre': 6857, 'vaquer': 9965, 'quevedo': 8401, 'quintana': 8407, 'das': 5029, 'gi': 6042, '126': 171, '9c': 3367, 'cocheacoche': 4668, 'les': 6915, 'isabel': 6591, 'enhierro': 5457, 'fermin': 5744, 'seca': 8939, 'hojainformativas': 6301, 'pea': 7945, 'chao': 4511, 'espn': 5521, 'mercat': 7272, '198': 511, 'domingo': 5262, 'alvarez': 3615, 'interpretacion': 6561, 'diccionario': 5172, 'significado': 9096, 'locuraporno': 7003, 'sikes': 9099, '923': 3106, 'tantra': 9529, 'colon': 4689, 'xavipetit': 10253, 'stovin': 9348, 'ky': 6802, 'borbon': 4148, 'arriba': 3766, 'aguas': 3508, 'fuentiduea': 5936, 'nikemujeres': 7593, 'py': 8379, 'estoespresto': 5539, 'af': 3479, '6g': 2323, 'burguillos': 4247, 'els': 5412, 'hosta': 6341, 'fray': 5901, 'cadiz': 4282, 'juana': 6698, '135': 216, 'castillo': 4427, 'picasso': 8040, 'deltamarina': 5101, 'rosselot': 8767, 'carloshoya': 4370, 'karr': 6727, 'matons': 7200, 'jimenez': 6658, 'fo': 5835, 'rubirubi': 8788, 'esposo': 5522, 'tj': 9675, 'colorprint': 4690, 'tirapu': 9670, 'plaza': 8106, 'villas': 10055, 'arroyomolinos': 3773, 'madrid': 7072, '11g': 135, 'saetero': 8819, 'farrer': 5699, 'ubuybetter': 9843, 'vadell': 9937, 'madrigal': 7074, 'crdoba': 4930, 'biosaludsystems': 4086, '195': 496, 'etxarriaranatz': 5548, 'fest': 5752, 'nao': 7517, 'hojainformativa': 6300, 'tz': 9838, 'focas': 5836, 'programaciones': 8288, 'sz': 9490, 'castilla': 4425, 'cuba': 4981, 'fotoseroticas': 5878, 'ae': 3476, 'carles': 4368, 'mcnear': 7224, 'lettere': 6921, 'pinkplanetplasencia': 8064, 'uy': 9933, 'ingeniero': 6497, 'torres': 9715, 'anton': 3685, 'telogis': 9576, 'vitalhome': 10078, 'asturias': 3821, 'audio': 3850, 'prado': 8196, 'gines': 6047, 'elcarritodelacompra': 5392, 'mendoza': 7264, 'marina': 7158, '5h': 1983, 'clara': 4604, 'narros': 7520, 'drae2': 5277, 'ling': 6961, 'mystyleperfume': 7502, 'portillo': 8165, 'clua': 4648, 'gaspar': 5988, 'reyes': 8671, 'mirambell': 7340, 'underdog': 9865, 'ronda': 8754, 'clar': 4603, 'elalamorestaurante': 5390, 'barnizultravioleta': 3951, 'barrios': 3964, 'mccollum': 7223, 'icodea': 6398, 'silver': 9103, 'knights': 6777, 'paseotuperro': 7898, '3horas': 1245, 'dm': 5239, 'corrius': 4882, 'cajucar': 4286, 'peabody': 7946, 'hojadecalculo': 6299, 'masia': 7186, 'duero': 5311, 'maquillajeparalabios': 7139, 'pere': 7984, 'ribes': 8680, 'maria': 7152, 'manzanilla': 7135, 'antoni': 3686, 'arvigar': 3782, 'sl': 9145, 'praza': 8204, 'espuna': 5524, 'trigueros': 9791, 'foreignoffice': 5864, 'porta': 8161, 'corjet': 4869, 'ballobar': 3920, 'finlandia': 5789, '130': 196, 'valls': 9958, 'glorieta': 6061, 'puerta': 8351, '12e': 192, 'amenta': 3624, 'bosco': 4154, 'requena': 8610, 'avenida': 3875, 'blas': 4105, 'infante': 6485, 'ario': 3749, 'arimany': 3748, 'aguila': 3509, 'belen': 4024, 'ablitas': 3387, 'pont': 8148, 'teo': 9587, 'cortinasartesol': 4887, 'djbroadcast': 5237, 'laspruebascongaseosa': 6849, 'pk': 8078, 'saz': 8883, 'huesca': 6377, 'quintero': 8410, 'avi': 3877, 'gemas': 6009, 'bu': 4221, 'valentini': 9946, 'huertas': 6376, 'azagra': 3890, 'monforte': 7390, 'cid': 4572, 'escultor': 5506, 'alicante': 3571, '3a': 1240, 'fuentes': 5935, 'siu': 9131, 'kwok': 6801, 'caridad': 4365, 'diagnosticoradiologico': 5169, 'argamasilla': 3743, 'calatrava': 4289, 'isidro': 6595, 'stockdefotos': 9332, 'tiendasyofertas': 9657, 'tierra': 9659, 'testua': 9609, 'segu': 8970, 'marful': 7149, 'hiperespaa': 6281, 'mn': 7362, 'vc': 9978, 'bidrain': 4075, 'demasiado': 5105, 'silvestre': 9105, 'purplemoongrn': 8369, 'cox': 4924, '194': 489, 'casabella': 4400, 'rec': 8490, 'mccauley': 7222, 'autobuses': 3865, 'hibridos': 6267, 'marin': 7157, 'ana': 3634, 'val': 9941, 'aran': 3726, '100mbps': 33, 'herrera': 6262, 'navarros': 7536, 'viavilano': 10017, 'damas': 5019, 'serra': 9008, 'ricci': 8684, 'pau': 7928, 'gargallo': 5982, 'sureda': 9438, 'inversioneolica': 6568, 'lt': 7047, '164': 353, 'amodeo': 3630, 'isurieta': 6608, 'jorge': 6682, 'pista': 8074, 'graficascamp': 6103, 'bt': 4220, 'sol': 9185, 'furnari': 5950, 'beesmer': 4013, 'pearl': 7952, 'fernandosoto': 5749, '199': 520, 'adondeir': 3457, 'torremocha': 9713, 'campo': 4317, 'burgs': 4246, 'campa': 4312, 'encuentrodominios': 5442, 'lv': 7061, 'guadalajara': 6143, 'pesado': 8014, 'fr': 5887, 'jacinto': 6620, 'ocymafa': 7689, '6e': 2321, 'gassol': 5989, 'poblacin': 8122, 'arroyo': 3772, 'escobedo': 5502, 'velaconsultores': 9986, 'mx': 7498, 'rebolledo': 8487, 'goyenaga': 6095, 'oro': 7786, '10a': 79, 'gn': 6065, 'granada': 6107, 'constitucion': 4818, 'comercioenlacalle': 4704, 'mu': 7454, 'fermoselle': 5745, 'sexl': 9031, 'cowper': 4923, 'levi': 6927, 'wilson': 10200, 'autoconstruccion': 3866, 'bubnjar': 4222, 'cangalaya': 4331, 'rosario': 8762, 'alcal': 3549, 'bauls': 3984, 'arnus': 3758, '1g': 535, 'frioelectric': 5924, 'pinart': 8058, 'videotubo': 10030, 'pr': 8192, 'ajuntamentbarcelona20': 3535, 'gy': 6175, 'hasta': 6215, 'barra': 3953, 'yiutuve': 10278, 'manuelpaloma': 7131, 'tartasconamor': 9537, 'verde': 9999, '4c': 1614, 'merida': 7277, 'padre': 7824, 'arc': 3729, 'rey': 8670, 'castelln': 4420, 'cristobal': 4957, '86': 2888, 'ciaplast': 4570, 'clichotel': 4628, 'ck': 4596, 'magritte': 7083, 'codigo': 4671, 'correspondencia': 4879, 'oficial': 7707, 'correos': 4878, 'telegrafos': 9567, '9a': 3366, 'hiperzaragoza': 6286, 'ondara': 7731, 'caravaca': 4350, 'almendro': 3590, 'velazquezlarraaga': 9989, 'dd': 5047, 'canamasa': 4324, '10d': 81, 'bagudanc': 3909, 'francia': 5893, 'yoon': 10282, 'torrecilla': 9712, 'espino': 5516, 'saavedradiaz': 8813, 'lerma': 6913, 'opel': 7740, 'flex': 5820, 'bascuana': 3969, 'ebuy': 5344, 'callarisa': 4295, 'palacio': 7833, 'eldeseodepecar': 5394, '124': 161, 'enmenorca': 5464, 'aldea': 3553, 'nicols': 7586, 'olmo': 7724, 'scar': 8889, 'sabaters': 8814, 'botilleria': 4158, 'freetag': 5908, 'comodepilarse': 4733, 'gravina': 6115, 'otumba': 7798, 'taboada': 9503, 'avda': 3874, '193': 483, 'paterna': 7920, '11h': 136, 'unanuevavisionenortodoncia': 9858, 'andorra': 3641, 'aizpuru': 3532, 'iafrate': 6391, 'lora': 7025, 'rocofer': 8734, 'mota': 7428, 'campillo': 4316, 'costablancarental': 4895, 'ug': 9845, 'guzman': 6173, 'alfarache': 3564, 'juanpolo': 6700, 'ch': 4493, 'bm': 4122, 'anguita': 3658, 'ge': 6006, 'paloma': 7843, 'mont': 7398, 'perellonet': 7987, 'gerardo': 6024, '10f': 83, 'paz': 7941, 'skullride': 9143, 'alpesfranceses': 3600, 'hinojo': 6277, 'vallb': 9952, 'sorority': 9213, 'cenitsoria': 4465, 'sb': 8884, 'misanimalesdomesticos': 7346, '4b': 1613, 'mari': 7151, 'cielo': 4573, 'escuelamontessori': 5505, 'creacionesacampada': 4931, '11horas': 137, 'outeiro': 7801, '6d': 2320, 'camiones': 4310, 'md': 7226, 'urrupan': 9912, 'baos': 3933, 'concordia': 4772, 'valladolid': 9951, 'mena': 7260, '133': 208, 'castaos': 4414, 'alegra': 3559, 'ocaa': 7680, 'clavero': 4621, 'automoviles': 3868, 'rom': 8746, '926': 3119, 'muelles': 7463, 'piquer': 8072, 'tf': 9613, 'cesar': 4488, 'gil': 6046, '2h': 902, 'tradora': 9747, 'peaflor': 7950, 'aznar': 3891, 'sc': 8885, 'melo': 7252, 'queinvento': 8396, 'cl': 4597, 'tolan': 9688, 'villaseca': 10056, 'henares': 6249, 'fresno': 5916, 'bf': 4066, 'castellet': 4419, 'dueas': 5310, 'cristaldo': 4953, 'espana': 5512, 'comandante': 4698, 'barja': 3949, '8h': 3024, 'showcarsmadrid': 9071, 'zm': 10308, 'ribadesella': 8676, 'pelayo': 7962, 'garca': 5978, 'ebaz': 5341, 'meneamex': 7265, 'bz': 4264, 'guell': 6152, 'lloret': 6989, 'perales': 7979, 'piaceredelivery': 8039, 'rs': 8781, 'viajesnacionales': 10012, 'pn': 8119, 'diamante': 5170, 'feliu': 5737, 'halpin': 6189, 'alcantarapartners': 3551, 'pinela': 8061, 'astorquiza': 3819, 'mz': 7505, 'esbien': 5498, 'adria': 3459, '152': 296, 'elgrancolisionadordehadrones': 5407, '162': 341, 'dudas': 5308, 'cpanelhost': 4926, 'ebs': 5343, 'sexta': 9033, 'quehaces': 8395, 'cy': 5008, 'oso': 7794, 'severo': 9027, 'necesitocurro': 7545, 'esparraguera': 5513, 'crehuet': 4943, 'madrazo': 7070, 'tabuyo': 9504, 'gopersonalfitness': 6085, 'pino': 8065, 'fortelingenieria': 5875, 'leuco': 6923, 'vilca': 10045, 'barrio': 3963, 'sindns': 9115, 'toledo': 9690, 'paratge': 7859, 'lila': 6952, '6c': 2319, 'troule': 9797, 'toro': 9710, 'talavera': 9518, 'malave': 7104, 'javier': 6640, 'ilusionarium': 6426, 'gabriel': 5956, 'alomar': 3595, 'peralejos': 7978, 'abajo': 3378, 'paraje': 7856, 'ofertachina': 7690, 'oti': 7797, 'classroommanager': 4616, 'pw': 8378, 'arenys': 3741, 'jauregui': 6639, 'sierradealcaraz': 9087, 'sur': 9436, 'lodgeinmadrid': 7004, 'nogueras': 7604, 'belmonte': 4033, 'rubio': 8787, 'reina': 8551, 'pereda': 7985, 'alins': 3572, 'biosoftware': 4087, 'claret': 4606, 'mariana': 7153, 'designworld': 5137, 'gu': 6142, 'hospitalet': 6338, 'rincn': 8695, '11b': 131, 'villa': 10046, 'ppmanzanares': 8191, '166': 366, 'estrella': 5541, 'politi': 8135, 'ulises': 9850, 'villalba': 10049, 'bv': 4258, 'cruanas': 4969, '23horas': 688, 'ua': 9839, 'paracuellos': 7855, 'tarragona': 9536, '185': 443, 'cristina': 4955, 'cerro': 4483, 'montull': 7409, '8g': 3023, 'granados': 6108, 'hiperxxx': 6285, 'cerrato': 4482, 'jaln': 6627, 'programa': 8287, 'gestion': 6032, 'erp': 5492, 'salazar': 8834, 'ropadegolf': 8756, 'pisuerga': 8075, 'cea': 4452, 'ducado': 5307, 'waikilu': 10102, 'alba': 3542, 'alameda': 3539, 'hotelesymas': 6349, 'mig': 7306, 'clos': 4639, 'hiperbilbao': 6280, 'ado': 3455, 'montorns': 7408, 'segarra': 8965, 'bellavista': 4029, 'funosa': 5949, 'andres': 3643, 'doa': 5240, 'stainless': 9285, 'tw': 9828, 'programagestionerp': 8289, 'ai': 3514, 'radresa': 8428, 'buran': 4241, 'dos': 5269, '21horas': 623, 'salou': 8841, 'informex': 6494, 'arcos': 3734, 'erasmusrooms': 5487, 'ni': 7580, 'cano': 4335, 'viajessolomujeres': 10014, 'bj': 4095, 'esencialser': 5507, 'crespo': 4944, 'phd': 8025, 'photodecor': 8031, 'fernandez': 5747, 'romana': 8749, '906': 3044, 'sendra': 8986, 'rull': 8800, 'barri': 3959, 'catalina': 4432, 'gabarri': 5955, 'betelu': 4062, 'esser': 5527, 'suardistec': 9383, 'ee': 5370, 'cubillos': 4983, 'cortell': 4885, 'dolores': 5255, 'carrion': 4389, 'kz': 6803, 'secretario': 8945, 'olmeda': 7723, 'tajo': 9512, 'mestre': 7285, 'villarejo': 10053, 'prdena': 8205, 'gopersonaltrainers': 6086, 'indorec': 6482, 'novolardiseno': 7635, 'vicente': 10021, 'cabeza': 4273, 'barbieri': 3942, 'retamal': 8652, 'rica': 8682, 'capitan': 4346, 'magadan': 7077, 'rodrigo': 8737, 'caro': 4376, 'cabrera': 4280, 'familiamarino': 5688, 'raullazaro': 8463, 'custombikesclothes': 4999, 'zayas': 10301, 'herrador': 6261, 'davidymamen': 5038, 'galdos': 5962, 'tuslimites': 9826, 'almeriastella': 3591, 'vg': 10006, 'vilainstal': 10038, 'em': 5417, 'roldan': 8743, 'palmieri': 7841, 'canales': 4322, '13f': 235, 'mir': 7337, 'peaf': 7949, 'riba': 8675, 'muntadas': 7479, 'cz': 5012, 'pinta': 8067, 'claras': 4605, 'gg': 6040, 'martens': 7176, 'ajuntamentbarcelona2': 3534, 'solares': 9189, 'nutrimama': 7657, 'beato': 3997, 'aldeanueva': 3554, 'castigadas': 4423, 'pampa': 7846, 'rubi': 8786, 'carol': 4377, 'ayllon': 3888, 'alegre': 3560, 'orce': 7764, 'bonnin': 4143, 'martn': 7181, 'uceda': 9844, 'aranguren': 3727, 'serviconlevante': 9018, 'navarra': 7535, 'cobo': 4665, 'madre': 7071, '7b': 2664, 'fonterosa': 5845, 'chicasdiabolo': 4540, 'francino': 5894, 'muchochinoenchina': 7459, 'oliveras': 7722, 'vall': 9950, 'moncayo': 7386, 'komarov': 6784, 'docerosas': 5241, 'dk': 5238, 'sagrada': 8825, 'aira': 3519, 'anglaril': 3655, 'peneds': 7969, 'ferrandez': 5751, 'cabaas': 4269, '10b': 80, 'artero': 3777, 'barcafedaniss': 3944, 'urkiaga': 9910, 'blanquillos': 4104, 'catedratico': 4434, 'eugenio': 5551, 'romero': 8751, 'cueza': 4988, 'falla': 5683, 'magin': 7082, 'tomas': 9694, 'sagra': 8824, 'za': 10292, 'primavera': 8244, 'orotava': 7787, 'asdn': 3787, 'llobet': 6985, 'arniches': 3756, 'katsuno': 6730, 'activos': 3428, 'ubikuo': 9841, 'almirante': 3592, 'cincocolores': 4578, 'kpincentives': 6789, 'zing': 10306, 'psykoterapeut': 8343, 'tacticlinks': 9506, 'espinoza': 5518, '12a': 189, 'cardea': 4354, 'castejn': 4415, 'forohh': 5874, 'soymuyguapa': 9230, 'tal': 9517, 'claros': 4612, 'coyoma': 4925, 'nte': 7643, 'villar': 10052, 'lagarza': 6815, 'baquerizo': 3934, 'morales': 7414, 'monteon': 7402, 'arousa': 3761, 'errebebe': 5493, 'itero': 6613, 'ustrell': 9928, 'caterina': 4435, 'xifr': 10254, 'mayoriasilenciosa': 7218, 'llompart': 6987, 'mundo': 7475, 'cpanelweb': 4927, 'logroo': 7011, 'leon': 6912, 'gracia': 6100, 'urbina': 9906, 'terradas': 9594, 'delacerda': 5091, '921': 3097, 'gasull': 5990, 'atorre': 3829, 'kovac': 6787, 'fita': 5804, 'musico': 7492, 'diaz': 5171, 'andrestabernero': 3644, 'selva': 8982, 'clavel': 4619, 'bertran': 4057, 'nieto': 7588, 'beljos': 4028, 'regulares': 8541, 'sauleda': 8870, 'pcvirus': 7942, 'delvalle': 5102, 'llers': 6984, 'peru': 8012, 'lasso': 6850, 'zamora': 10294, 'canosa': 4336, 'artforall': 3780, 'velazquez': 9988, 'sau': 8869, 'nobrega': 7601, 'va': 9935, 'kerber': 6746, 'aldeaseca': 3555, 'campos': 4319, 'sigenza': 9089, 'higuera': 6275, 'enformetera': 5449, 'salmern': 8840, 'muevetuweb': 7464, 'minguez': 7325, 'ringringcargo': 8698, 'gallifa': 5968, 'jambrina': 6628, 'vallcorba': 9953, 'espaciodelpintor': 5511, 'fruteriacartaya': 5929, 'mola': 7377, 'mareventsprotocolosocial': 7148, 'mortes': 7424, 'cecilio': 4453, 'nogueira': 7603, 'mayo': 7215, 'gallo': 5969, 'lingote': 6962, 'nf': 7578, 'bijoubijoudiferente': 4080, 'francesc': 5892, 'perdig': 7983, 'estudiodeyoga': 5542, 'retuerta': 8654, 'fong': 5843, 'woolgar': 10224, 'legami': 6903, 'alvaro': 3616, 'masqueclases': 7187, 'escalona': 5499, 'calzada': 4302, 'carimartin': 4366, '5d': 1980, 'uba': 9840, 'juegois': 6704, 'vilamasa': 10039, 'castrillo': 4429, 'sevach': 9023, 'agres': 3507, 'muebetuweb': 7461, 'vai': 9939, 'cs': 4977, 'isidoro': 6594, 'softwaremasservicio': 9183, 'puente': 8350, 'murcia': 7482, 'castelltort': 4421, 'voragolive': 10090, 'jocs': 6666, 'burgos': 4245, 'lugo': 7056, 'choon': 4553, 'segovia': 8969, 'sitienesunawebtienesunnegocio': 9128, 'ax': 3887, 'alonso': 3599, '3b': 1241, 'casadedurcal': 4402, 'flores': 5826, 'carrero': 4384, 'grupodescansoyhogar': 6137, 'fancelli': 5693, '6b': 2318, 'osarte': 7792, 'laparra': 6835, 'pinazo': 8059, 'grifell': 6126, 'eduardo': 5366, 'lian': 6933, 'ansaldo': 3676, 'intelethernet': 6542, 'cirugiaalbeiteria': 4583, 'roda': 8735, 'engibraltar': 5452, 'carbonell': 4352, 'carre': 4381, 'isis': 6597, 'abdul': 3382, 'clubforex': 4651, 'jana': 6631, 'larenas': 6838, 'testdevelcidad': 9600, 'quintanar': 8408, 'casabolsa43': 4401, 'elbauldelosrefranes': 5391, 'henriquez': 6251, 'oficios': 7708, '181': 433, 'arago': 3722, 'poligono': 8134, 'aro': 3759, 'vicent': 10020, 'puerto': 8352, 'darns': 5028, 'logiteclines': 7010, 'oate': 7661, 'cobea': 4664, 'dels': 5100, 'queralt': 8397, 'rosales': 8761, 'duran': 5317, 'lr': 7045, 'pavajeau': 7931, 'savall': 8873, 'guix': 6166, 'pia': 8038, 'rusch': 8804, 'ria': 8674, 'bruoseguridad': 4214, 'aragons': 3724, 'cu': 4980, 'goth': 6091, 'suecas': 9401, 'veronese': 10001, 'lamo': 6821, 'basta': 3977, '24htranslations': 721, 'santos': 8861, 'lemunao': 6910, 'mercader': 7270, 'eresma': 5488, 'mailboxrussia': 7086, 'marc': 7143, 'probandoo': 8258, 'kg': 6751, 'vilaregut': 10043, '191': 471, 'prestigecars': 8231, 'correa': 4877, 'cachopo': 4281, 'sols': 9196, 'viajesinternacionales': 10011, 'pladellorens': 8086, 'entrada': 5473, 'estrada': 5540, 'faix': 5680, 'jeria': 6649, 'urbanizacion': 9905, 'residencial': 8625, 'pan': 7847, 'gavin': 5999, 'ortega': 7789, 'chuecafamily': 4565, 'arquitecto': 3762, '3g': 1244, 'muelle': 7462, 'churruca': 4568, 'davids': 5037, 'likeanangel': 6949, 'cardona': 4360, 'interanuncios': 6546, 'ia': 6390, 'gaudio': 5995, 'gallegos': 5967, 'turinga': 9819, 'iwasaki': 6617, 'redon': 8517, 'albareda': 3543, 'nuestra': 7646, 'seora': 8998, 'merced': 7274, 'nava': 7533, 'friedkin': 5919, 'derch': 5126, 'hacia': 6181, 'rosaserigrafia': 8763, 'violas': 10059, 'um': 9854, 'trujillo': 9802, 'canuda': 4339, 'hrmsl': 6366, '12d': 191, 'campodegolf': 4318, 'cartasdeajuste': 4395, 'libertad': 6936, 'hamissi': 6191, 'mateo': 7196, 'velugo': 9991, 'pujades': 8355, 'brcena': 4185, 'fierro': 5761, 'hinojosa': 6278, 'tudanca': 9812, 'ventura': 9994, 'pal': 7831, 'salacomplices': 8830, '156': 312, 'lecriture': 6895, 'clrici': 4647, 'panella': 7850, 'lola': 7013, 'frontera': 5927, 'blasi': 4107, 'bonany': 4141, 'natravea': 7529, 'cheres': 4537, 'pla': 8080, '7peines': 2668, 'carmensanmartin': 4374, 'misericordia': 7347, 'siurana': 9132, 'faders': 5675, 'mulleras': 7468, 'guerrero': 6153, 'horta': 6335, 'olid': 7719, 'lloren': 6988, 'polo': 8143, 'manacor': 7111, 'corvera': 4889, 'cabarcos': 4271, 'kazem': 6733, 'riu': 8708, 'ebre': 5342, 'panama': 7848, 'mol': 7376, 'youtubed': 10289, 'lamola': 6822, 'garmes': 5983, 'llerena': 6983, 'leftwich': 6900, 'danot': 5023, 'gesautonomos': 6031, 'ribot': 8681, 'magallanes': 7078, 'magentalgtb': 7080, 'buffi': 4228, 'landi': 6826, 'yuste': 10291, 'matula': 7206, 'coreserv': 4868, 'parque': 7878, 'barranco': 3955, 'truecatucasa': 9801, 'casanova': 4404, 'casavieja': 4406, 'sunmiles': 9422, 'wf': 10172, 'blasco': 4106, 'ibaez': 6392, 'aldufa': 3558, 'torrent': 9714, '7a': 2663, 'jazmin': 6643, 'valdenebro': 9942, 'relleu': 8570, 'ropero': 8757, 'escarba': 5501, 'normatic': 7615, 'vending': 9992, 'tintaultravioleta': 9664, 'pin': 8055, 'augusto': 3854, 'vazquez': 9977, 'pavimentosalagon': 7932, 'boixad': 4135, 'inoxled': 6512, 'altas': 3608, 'qcole': 8382, 'zafranet': 10293, 'palencia': 7837, 'vino': 10058, 'olalla': 7714, 'elrincondelmarmol': 5411, 'vilaseca': 10044, 'artesania': 3779, 'camprubi': 4320, 'habitaciondepanico': 6180, 'periodista': 7999, '5b': 1978, 'nicaragua': 7581, 'godoy': 6072, 'romaguer': 8747, 'junco': 6711, 'estaestuweb': 5530, 'pinilla': 8063, 'pinar': 8056, 'eugenia': 5550, 'parc': 7860, 'todomodelos': 9683, 'annoyanc': 3672, 'piensoparaperros': 8048, 'casillas': 4411, 'guilbauth': 6162, 'begoa': 4019, 'isern': 6593, 'filtraciondehumos': 5776, 'ja': 6619, 'ros': 8759, '13h': 237, 'braille': 4175, 'pico': 8045, 'despuig': 5142, 'tobarisch': 9680, 'tt': 9811, 'mal': 7103, 'dotras': 5271, 'tgcprint': 9616, 'taracena': 9532, 'arenas': 3740, 'cursosdele': 4997, 'sanchn': 8850, 'felipe': 5736, '5a': 1977, 'zul': 10317, 'sayago': 8879, 'sal': 8828, 'suncorp': 9419, 'amayuela': 3620, 'sotorro': 9217, 'salaparis': 8832, 'laumann': 6859, 'homs': 6315, 'clemente': 4626, 'dubi': 5306, 'rambla': 8443, 'pozuelo': 8190, 'shamballa': 9046, 'peliculasen3d': 7964, 'magdalena': 7079, 'bryant': 4217, 'plasencia': 8098, 'zarasalud': 10298, 'conesa': 4783, 'kernke': 6747, 'botellas': 4157, 'chaves': 4525, 'vil': 10036, 'muga': 7465, 'obispo': 7668, 'quirze': 8412, 'besora': 4058, 'barba': 3938, 'crous': 4965, 'ajedrezconmaestros': 3533, 'intercambioenlaces': 6547, 'pombo': 8146, 'drivinn': 5295, 'vi': 10008, 'garrudo': 5984, 'alfaro': 3565, 'barbara': 3940, 'mataluenga': 7193, 'rebull': 8489, 'salas': 8833, 'fleming': 5818, 'tauler': 9546, 'clementelr': 4627, 'arrsys': 3774, 'oliva': 7720, 'dios': 5192, 'cal': 4288, 'castelo': 4422, 'cavia': 4443, 'palma': 7839, 'cesareo': 4489, 'principal': 8246, 'mendez': 7262, '20horas': 586, 'bs': 4219, 'bautista': 3985, 'orden': 7767, 'isla': 6598, 'audiosat': 3851, 'bernardino': 4054, 'sahagun': 8826, 'palomajimenez': 7844, 'aragon': 3723, 'placeresadultos': 8084, 'vives': 10080, 'ido': 6408, 'muntaner': 7480, 'orellana': 7772, 'espronceda': 5523, 'montanuy': 7399, 'andaluca': 3639, 'aliseda': 3573, 'jean': 6645, 'flabingo': 5812, 'canudes': 4340, 'nightflight': 7591, '2e': 900, 'hornillos': 6328, 'yeltes': 10272, 'softstylestudio': 9181, 'samuel': 8847, 'moscoso': 7425, 'viajesparamujeres': 10013, 'carrito': 4390, 'catolica': 4439, 'playa': 8101, 'sala': 8829, 'ls': 7046, 'aldehuela': 3556, 'katcher': 6728, 'terroba': 9595, 'euskalcasino': 5561, 'pescaderia': 8015, 'tanquia': 9527, 'rabasa': 8417, 'fernan': 5746, 'morata': 7417, 'jiloca': 6656, 'rocafort': 8728, 'professionalhosting': 8281, 'tercio': 9589, 'estepa': 5533, 'castro': 4430, 'beaulieu': 4000, 'dissident': 5219, 'plata': 8099, 'a2hotels': 3373, 'pintado': 8068, 'zarahealth': 10297, 'cabo': 4278, 'guerrerodelbienestar': 6154, 'leza': 6929, 'peleij': 7963, 'bentez': 4050, 'monill': 7391, 'monsur': 7397, 'quillan': 8406, 'bages': 3906, 'hipersevilla': 6284, 'zorrilla': 10314, 'easyviaggio': 5338, 'hormachea': 6325, 'polvorin': 8144, 'rei': 8549, 'perpetuo': 8003, 'socorro': 9176, 'bellcaire': 4030, 'urgell': 9908, '12c': 190, 'alberto': 3546, 'neri': 7562, 'estoeslahostia': 5538, 'cirugiaparpado': 4584, 'xxiii': 10259, 'muoz': 7481, 'zarzosa': 10299, 'castellar': 4418, 'adam': 3435, 'beltoan': 4039, 'villares': 10054, 'branchadell': 4180, 'portaneri': 8164, 'dionisio': 5191, 'pallars': 7838, 'zorita': 10313, 'ada': 3434, 'pellicer': 7965, 'gancedo': 5974, '10g': 84, 'asociaciondearquitectoslatinoamericanos': 3795, 'molina': 7379, 'echeverra': 5346, 'lazaro': 6874, 'ramiro': 8444, 'camarillo': 4303, 'ortiz': 7790, 'juegosgratisinternet': 6705, 'mombuey': 7382, 'canto': 4338, 'sintes': 9122, 'novoa': 7634, 'gormaz': 6088, 'betancur': 4060, 'encina': 5440, 'grupos': 6138, 'coronel': 4873, 'cordoba': 4866, 'monasterio': 7385, 'automovilesalhambra': 3869, 'pastrana': 7916, '159': 321, 'maurici': 7208, 'jaume': 6638, 'valds': 9943, 'canovash': 4337, 'nuevo': 7648, 'twinjet': 9831, 'borja': 4151, '2f': 901, 'norte': 7616, 'leganes': 6904, 'cor': 4864, 'ceramicasmio': 4477, 'didacramirez': 5175, 'siete': 9088, 'rexach': 8669, 'zuiga': 10316, 'ferragut': 5750, 'velilla': 9990, 'varela': 9968, 'yan': 10261, 'grenett': 6122, 'josep': 6687, 'granbretana': 6109, '18horas': 466, 'messadivoce': 7281, 'batalla': 3978, 'cinca': 4577, 'asuncion': 3822, 'apostol': 3697, 'marchena': 7145, 'marti': 7177, 'calleja': 4298, 'marques': 7171, 'claver': 4620, 'hotelestopsecret': 6348, 'cr': 4928, 'carme': 4371, 'lamolahotel': 6823, 'sidonia': 9085, 'berrocal': 4056, 'lamarsrl': 6819, 'alta': 3606, 'suau': 9385, 'rojo': 8741, 'redondo': 8518, 'pao': 7853, 'storagecraft': 9343, 'lodgemadrid': 7005, 'fiuza': 5807, 'vias': 10016, 'guevara': 6158, 'betanzos': 4061, 'espluga': 5520, 'fe': 5715, 'serrano': 9009, 'lara': 6837, 'ponce': 8147, 'aida': 3515, 'ankawaelda': 3663, 'mcrspain': 7225, 'canino': 4333, 'carvajal': 4397, 'pedraza': 7957, 'cossio': 4892, 'zeat': 10303, 'violeta': 10062, 'gorse': 6089, 'pereira': 7986, 'ola': 7713, 'valentino': 9947, 'diez': 5181, 'atrioregalos': 3830, 'bailn': 3913, 'fulanitoymenganito': 5937, 'serena': 9003, 'doloresmusculares': 5256, 'asesoriaviesca': 3788, 'mico': 7300, 'pardinas': 7862, 'abell': 3383, 'tele': 9566, 'necesitouncredito': 7546, 'nelson': 7561, 'minimizar': 7327, 'uslet': 9926, 'clo2': 4638, 'mirra': 7343, 'carpio': 4380, 'cierzo': 4575, 'whitehead': 10183, 'ezama': 5657, 'rius': 8709, 'clubdecampo': 4650, 'arn': 3754, 'saus': 8871, 'navalperal': 7534, 'pinares': 8057, 'tren': 9782, 'adscrito': 3461, 'cabezn': 4274, 'pneuma': 8120, 'ciavaglia': 4571, 'hu': 6371, 'myalbum': 7499, 'ancho': 3637, 'hensley': 6253, '12g': 193, 'benidorm': 4047, 'showenvivo': 9073, 'emepleo': 5422, 'clinicadentalsansalvador': 4635, 'galicia': 5963, '5e': 1981, 'cajahuanca': 4285, 'mendonca': 7263, 'monistca': 7392, 'ors': 7788, 'ivars': 6616, 'merce': 7273, 'carola': 4378, 'dodsworth': 5249, 'pujol': 8356, 'cdgranadabaila': 4451, 'maridosadomicilio': 7155, 'catalunya': 4433, 'pato': 7925, 'familia': 5687, 'soycatalan': 9229, 'cristbal': 4954, 'guardiola': 6148, 'frau': 5900, 'barber': 3941, '13g': 236, 'ladigianni': 6814, 'mas': 7184, 'marta': 7175, 'tormes': 9708, 'muir': 7466, 'esteve': 5535, 'olvera': 7726, 'velasco': 9987, 'dennett': 5113, 'matsumiya': 7201, 'pramo': 8200, 'cementoscalibra': 4464, 'portaldesign': 8163, 'juanes': 6699, 'hipermadrid': 6283, 'rodenas': 8736, 'testevelocidad': 9602, 'mori': 7419, 'agullana': 3511, 'frutos': 5930, 'vallejo': 9955, 'villapando': 10051, 'hernan': 6256, 'cortes': 4886, 'jaxiaabogadosyeconomistas': 6641, 'bo': 4125, 'basco': 3968, 'inmaculada': 6507, 'krug': 6794, 'sm': 9155, 'plazuela': 8107, 'asanachinda': 3783, 'emperador': 5429, 'edifico': 5360, 'leroy': 6914, 'proofreader': 8307, 'puppato': 8365, 'turtuno': 9825, 'muchacha': 7457, 'gala': 5961, 'tolosa': 9693, 'corral': 4876, 'gorin': 6087, 'larrumbe': 6843, 'pellizza': 7966, 'horra': 6330, 'altoguadiana': 3614, 'obrador': 7672, 'fraga': 5889, 'caas': 4268, 'josefa': 6686, 'inocencia': 6511, 'hosterialasmajadillas': 6343, 'tradedeficit': 9740, 'naharro': 7511, 'expofloralzaragoza2014': 5631, 'sofia': 9179, 'cerf': 4481, 'kenna': 6741, 'lapasteleria': 6836, 'obrist': 7673, 'bullaque': 4238, 'buenos': 4227, 'aires': 3522, 'titulosoficiales': 9674, 'ofertasrusas': 7691, 'hausdorf': 6222, 'puigveh': 8354, 'atanasio': 3825, 'chavez': 4526, '16horas': 383, 'amaro': 3618, 'convention': 4850, '4h': 1618, '9f': 3369, 'abril': 3390, 'bellveh': 4032, 'zaya': 10300, 'kuenneke': 6796}\n"
     ]
    }
   ],
   "source": [
    "from sklearn.feature_extraction.text import CountVectorizer\n",
    "#create the transform\n",
    "vectorizer = CountVectorizer(min_df=2, max_df=0.7, stop_words=stopwords.words('english')) \n",
    "#vectorizer = CountVectorizer()\n",
    "# tokenize(fit) and build vocab \n",
    "vectorizer.fit(data['Sentence'].values.astype('U'))\n",
    "print(vectorizer.vocabulary_) # to print the vocabulary\n",
    "#encode document(transform)\n",
    "vector= vectorizer.transform(data['Sentence'].values.astype('U'))\n",
    "posts= vector.toarray()"
   ]
  },
  {
   "cell_type": "markdown",
   "metadata": {},
   "source": [
    "max_df is used for removing terms that appear too frequently, also known as \"corpus-specific stop words\". For example:\n",
    "\n",
    "    max_df = 0.50 means \"ignore terms that appear in more than 50% of the documents\".\n",
    "    max_df = 25 means \"ignore terms that appear in more than 25 documents\"\n",
    "    \n",
    "min_df is used for removing terms that appear too infrequently. For example:\n",
    "\n",
    "    min_df = 0.01 means \"ignore terms that appear in less than 1% of the documents\".\n",
    "    min_df = 5 means \"ignore terms that appear in less than 5 documents\".\n"
   ]
  },
  {
   "cell_type": "code",
   "execution_count": 8,
   "metadata": {},
   "outputs": [
    {
     "name": "stdout",
     "output_type": "stream",
     "text": [
      "(33761, 10321)\n",
      "<class 'scipy.sparse.csr.csr_matrix'>\n",
      "[[0 0 0 ... 0 0 0]\n",
      " [0 0 0 ... 0 0 0]\n",
      " [0 0 0 ... 0 0 0]\n",
      " ...\n",
      " [0 0 0 ... 0 0 0]\n",
      " [0 0 0 ... 0 0 0]\n",
      " [0 0 0 ... 0 0 0]]\n"
     ]
    }
   ],
   "source": [
    "print(vector.shape)\n",
    "print(type(vector))\n",
    "print(posts) #print the encoded vectors"
   ]
  },
  {
   "cell_type": "markdown",
   "metadata": {},
   "source": [
    "we have 33761 vectors (samples) and each one has 10321 words (features) (each word will be represented by 0 or 1)"
   ]
  },
  {
   "cell_type": "code",
   "execution_count": 9,
   "metadata": {},
   "outputs": [],
   "source": [
    "transformed_posts=pd.DataFrame(posts)\n",
    "df=pd.concat([data,transformed_posts],axis=1)\n",
    "X=df[df.columns[2:]]\n",
    "y=df['Label']"
   ]
  },
  {
   "cell_type": "code",
   "execution_count": 10,
   "metadata": {},
   "outputs": [
    {
     "data": {
      "text/html": [
       "<div>\n",
       "<style scoped>\n",
       "    .dataframe tbody tr th:only-of-type {\n",
       "        vertical-align: middle;\n",
       "    }\n",
       "\n",
       "    .dataframe tbody tr th {\n",
       "        vertical-align: top;\n",
       "    }\n",
       "\n",
       "    .dataframe thead th {\n",
       "        text-align: right;\n",
       "    }\n",
       "</style>\n",
       "<table border=\"1\" class=\"dataframe\">\n",
       "  <thead>\n",
       "    <tr style=\"text-align: right;\">\n",
       "      <th></th>\n",
       "      <th>Sentence</th>\n",
       "      <th>Label</th>\n",
       "      <th>0</th>\n",
       "      <th>1</th>\n",
       "      <th>2</th>\n",
       "      <th>3</th>\n",
       "      <th>4</th>\n",
       "      <th>5</th>\n",
       "      <th>6</th>\n",
       "      <th>7</th>\n",
       "      <th>...</th>\n",
       "      <th>10311</th>\n",
       "      <th>10312</th>\n",
       "      <th>10313</th>\n",
       "      <th>10314</th>\n",
       "      <th>10315</th>\n",
       "      <th>10316</th>\n",
       "      <th>10317</th>\n",
       "      <th>10318</th>\n",
       "      <th>10319</th>\n",
       "      <th>10320</th>\n",
       "    </tr>\n",
       "  </thead>\n",
       "  <tbody>\n",
       "    <tr>\n",
       "      <th>0</th>\n",
       "      <td>NaN</td>\n",
       "      <td>1</td>\n",
       "      <td>0</td>\n",
       "      <td>0</td>\n",
       "      <td>0</td>\n",
       "      <td>0</td>\n",
       "      <td>0</td>\n",
       "      <td>0</td>\n",
       "      <td>0</td>\n",
       "      <td>0</td>\n",
       "      <td>...</td>\n",
       "      <td>0</td>\n",
       "      <td>0</td>\n",
       "      <td>0</td>\n",
       "      <td>0</td>\n",
       "      <td>0</td>\n",
       "      <td>0</td>\n",
       "      <td>0</td>\n",
       "      <td>0</td>\n",
       "      <td>0</td>\n",
       "      <td>0</td>\n",
       "    </tr>\n",
       "    <tr>\n",
       "      <th>1</th>\n",
       "      <td>\" or pg_sleep ( __TIME__ ) --</td>\n",
       "      <td>1</td>\n",
       "      <td>0</td>\n",
       "      <td>0</td>\n",
       "      <td>0</td>\n",
       "      <td>0</td>\n",
       "      <td>0</td>\n",
       "      <td>0</td>\n",
       "      <td>0</td>\n",
       "      <td>0</td>\n",
       "      <td>...</td>\n",
       "      <td>0</td>\n",
       "      <td>0</td>\n",
       "      <td>0</td>\n",
       "      <td>0</td>\n",
       "      <td>0</td>\n",
       "      <td>0</td>\n",
       "      <td>0</td>\n",
       "      <td>0</td>\n",
       "      <td>0</td>\n",
       "      <td>0</td>\n",
       "    </tr>\n",
       "    <tr>\n",
       "      <th>2</th>\n",
       "      <td>create user name identified by pass123 tempora...</td>\n",
       "      <td>1</td>\n",
       "      <td>0</td>\n",
       "      <td>0</td>\n",
       "      <td>0</td>\n",
       "      <td>0</td>\n",
       "      <td>0</td>\n",
       "      <td>0</td>\n",
       "      <td>0</td>\n",
       "      <td>0</td>\n",
       "      <td>...</td>\n",
       "      <td>0</td>\n",
       "      <td>0</td>\n",
       "      <td>0</td>\n",
       "      <td>0</td>\n",
       "      <td>0</td>\n",
       "      <td>0</td>\n",
       "      <td>0</td>\n",
       "      <td>0</td>\n",
       "      <td>0</td>\n",
       "      <td>0</td>\n",
       "    </tr>\n",
       "    <tr>\n",
       "      <th>3</th>\n",
       "      <td>%29</td>\n",
       "      <td>1</td>\n",
       "      <td>0</td>\n",
       "      <td>0</td>\n",
       "      <td>0</td>\n",
       "      <td>0</td>\n",
       "      <td>0</td>\n",
       "      <td>0</td>\n",
       "      <td>0</td>\n",
       "      <td>0</td>\n",
       "      <td>...</td>\n",
       "      <td>0</td>\n",
       "      <td>0</td>\n",
       "      <td>0</td>\n",
       "      <td>0</td>\n",
       "      <td>0</td>\n",
       "      <td>0</td>\n",
       "      <td>0</td>\n",
       "      <td>0</td>\n",
       "      <td>0</td>\n",
       "      <td>0</td>\n",
       "    </tr>\n",
       "    <tr>\n",
       "      <th>4</th>\n",
       "      <td>' AND 1 = utl_inaddr.get_host_address  (  (  S...</td>\n",
       "      <td>1</td>\n",
       "      <td>0</td>\n",
       "      <td>0</td>\n",
       "      <td>0</td>\n",
       "      <td>0</td>\n",
       "      <td>0</td>\n",
       "      <td>0</td>\n",
       "      <td>0</td>\n",
       "      <td>0</td>\n",
       "      <td>...</td>\n",
       "      <td>0</td>\n",
       "      <td>0</td>\n",
       "      <td>0</td>\n",
       "      <td>0</td>\n",
       "      <td>0</td>\n",
       "      <td>0</td>\n",
       "      <td>0</td>\n",
       "      <td>0</td>\n",
       "      <td>0</td>\n",
       "      <td>0</td>\n",
       "    </tr>\n",
       "  </tbody>\n",
       "</table>\n",
       "<p>5 rows × 10323 columns</p>\n",
       "</div>"
      ],
      "text/plain": [
       "                                            Sentence  Label  0  1  2  3  4  5  \\\n",
       "0                                                NaN      1  0  0  0  0  0  0   \n",
       "1                      \" or pg_sleep ( __TIME__ ) --      1  0  0  0  0  0  0   \n",
       "2  create user name identified by pass123 tempora...      1  0  0  0  0  0  0   \n",
       "3                                                %29      1  0  0  0  0  0  0   \n",
       "4  ' AND 1 = utl_inaddr.get_host_address  (  (  S...      1  0  0  0  0  0  0   \n",
       "\n",
       "   6  7  ...  10311  10312  10313  10314  10315  10316  10317  10318  10319  \\\n",
       "0  0  0  ...      0      0      0      0      0      0      0      0      0   \n",
       "1  0  0  ...      0      0      0      0      0      0      0      0      0   \n",
       "2  0  0  ...      0      0      0      0      0      0      0      0      0   \n",
       "3  0  0  ...      0      0      0      0      0      0      0      0      0   \n",
       "4  0  0  ...      0      0      0      0      0      0      0      0      0   \n",
       "\n",
       "   10320  \n",
       "0      0  \n",
       "1      0  \n",
       "2      0  \n",
       "3      0  \n",
       "4      0  \n",
       "\n",
       "[5 rows x 10323 columns]"
      ]
     },
     "execution_count": 10,
     "metadata": {},
     "output_type": "execute_result"
    }
   ],
   "source": [
    "df.head()"
   ]
  },
  {
   "cell_type": "code",
   "execution_count": 11,
   "metadata": {},
   "outputs": [],
   "source": [
    "from sklearn.model_selection import train_test_split\n",
    "X_train, X_test, y_train, y_test = train_test_split(X, y, test_size=0.2, random_state=42)\n"
   ]
  },
  {
   "cell_type": "code",
   "execution_count": 12,
   "metadata": {},
   "outputs": [
    {
     "data": {
      "text/html": [
       "<div>\n",
       "<style scoped>\n",
       "    .dataframe tbody tr th:only-of-type {\n",
       "        vertical-align: middle;\n",
       "    }\n",
       "\n",
       "    .dataframe tbody tr th {\n",
       "        vertical-align: top;\n",
       "    }\n",
       "\n",
       "    .dataframe thead th {\n",
       "        text-align: right;\n",
       "    }\n",
       "</style>\n",
       "<table border=\"1\" class=\"dataframe\">\n",
       "  <thead>\n",
       "    <tr style=\"text-align: right;\">\n",
       "      <th></th>\n",
       "      <th>0</th>\n",
       "      <th>1</th>\n",
       "      <th>2</th>\n",
       "      <th>3</th>\n",
       "      <th>4</th>\n",
       "      <th>5</th>\n",
       "      <th>6</th>\n",
       "      <th>7</th>\n",
       "      <th>8</th>\n",
       "      <th>9</th>\n",
       "      <th>...</th>\n",
       "      <th>10311</th>\n",
       "      <th>10312</th>\n",
       "      <th>10313</th>\n",
       "      <th>10314</th>\n",
       "      <th>10315</th>\n",
       "      <th>10316</th>\n",
       "      <th>10317</th>\n",
       "      <th>10318</th>\n",
       "      <th>10319</th>\n",
       "      <th>10320</th>\n",
       "    </tr>\n",
       "  </thead>\n",
       "  <tbody>\n",
       "    <tr>\n",
       "      <th>0</th>\n",
       "      <td>0</td>\n",
       "      <td>0</td>\n",
       "      <td>0</td>\n",
       "      <td>0</td>\n",
       "      <td>0</td>\n",
       "      <td>0</td>\n",
       "      <td>0</td>\n",
       "      <td>0</td>\n",
       "      <td>0</td>\n",
       "      <td>0</td>\n",
       "      <td>...</td>\n",
       "      <td>0</td>\n",
       "      <td>0</td>\n",
       "      <td>0</td>\n",
       "      <td>0</td>\n",
       "      <td>0</td>\n",
       "      <td>0</td>\n",
       "      <td>0</td>\n",
       "      <td>0</td>\n",
       "      <td>0</td>\n",
       "      <td>0</td>\n",
       "    </tr>\n",
       "    <tr>\n",
       "      <th>1</th>\n",
       "      <td>0</td>\n",
       "      <td>0</td>\n",
       "      <td>0</td>\n",
       "      <td>0</td>\n",
       "      <td>0</td>\n",
       "      <td>0</td>\n",
       "      <td>0</td>\n",
       "      <td>0</td>\n",
       "      <td>0</td>\n",
       "      <td>0</td>\n",
       "      <td>...</td>\n",
       "      <td>0</td>\n",
       "      <td>0</td>\n",
       "      <td>0</td>\n",
       "      <td>0</td>\n",
       "      <td>0</td>\n",
       "      <td>0</td>\n",
       "      <td>0</td>\n",
       "      <td>0</td>\n",
       "      <td>0</td>\n",
       "      <td>0</td>\n",
       "    </tr>\n",
       "    <tr>\n",
       "      <th>2</th>\n",
       "      <td>0</td>\n",
       "      <td>0</td>\n",
       "      <td>0</td>\n",
       "      <td>0</td>\n",
       "      <td>0</td>\n",
       "      <td>0</td>\n",
       "      <td>0</td>\n",
       "      <td>0</td>\n",
       "      <td>0</td>\n",
       "      <td>0</td>\n",
       "      <td>...</td>\n",
       "      <td>0</td>\n",
       "      <td>0</td>\n",
       "      <td>0</td>\n",
       "      <td>0</td>\n",
       "      <td>0</td>\n",
       "      <td>0</td>\n",
       "      <td>0</td>\n",
       "      <td>0</td>\n",
       "      <td>0</td>\n",
       "      <td>0</td>\n",
       "    </tr>\n",
       "    <tr>\n",
       "      <th>3</th>\n",
       "      <td>0</td>\n",
       "      <td>0</td>\n",
       "      <td>0</td>\n",
       "      <td>0</td>\n",
       "      <td>0</td>\n",
       "      <td>0</td>\n",
       "      <td>0</td>\n",
       "      <td>0</td>\n",
       "      <td>0</td>\n",
       "      <td>0</td>\n",
       "      <td>...</td>\n",
       "      <td>0</td>\n",
       "      <td>0</td>\n",
       "      <td>0</td>\n",
       "      <td>0</td>\n",
       "      <td>0</td>\n",
       "      <td>0</td>\n",
       "      <td>0</td>\n",
       "      <td>0</td>\n",
       "      <td>0</td>\n",
       "      <td>0</td>\n",
       "    </tr>\n",
       "    <tr>\n",
       "      <th>4</th>\n",
       "      <td>0</td>\n",
       "      <td>0</td>\n",
       "      <td>0</td>\n",
       "      <td>0</td>\n",
       "      <td>0</td>\n",
       "      <td>0</td>\n",
       "      <td>0</td>\n",
       "      <td>0</td>\n",
       "      <td>0</td>\n",
       "      <td>0</td>\n",
       "      <td>...</td>\n",
       "      <td>0</td>\n",
       "      <td>0</td>\n",
       "      <td>0</td>\n",
       "      <td>0</td>\n",
       "      <td>0</td>\n",
       "      <td>0</td>\n",
       "      <td>0</td>\n",
       "      <td>0</td>\n",
       "      <td>0</td>\n",
       "      <td>0</td>\n",
       "    </tr>\n",
       "  </tbody>\n",
       "</table>\n",
       "<p>5 rows × 10321 columns</p>\n",
       "</div>"
      ],
      "text/plain": [
       "   0      1      2      3      4      5      6      7      8      9      ...  \\\n",
       "0      0      0      0      0      0      0      0      0      0      0  ...   \n",
       "1      0      0      0      0      0      0      0      0      0      0  ...   \n",
       "2      0      0      0      0      0      0      0      0      0      0  ...   \n",
       "3      0      0      0      0      0      0      0      0      0      0  ...   \n",
       "4      0      0      0      0      0      0      0      0      0      0  ...   \n",
       "\n",
       "   10311  10312  10313  10314  10315  10316  10317  10318  10319  10320  \n",
       "0      0      0      0      0      0      0      0      0      0      0  \n",
       "1      0      0      0      0      0      0      0      0      0      0  \n",
       "2      0      0      0      0      0      0      0      0      0      0  \n",
       "3      0      0      0      0      0      0      0      0      0      0  \n",
       "4      0      0      0      0      0      0      0      0      0      0  \n",
       "\n",
       "[5 rows x 10321 columns]"
      ]
     },
     "execution_count": 12,
     "metadata": {},
     "output_type": "execute_result"
    }
   ],
   "source": [
    "X.head()"
   ]
  },
  {
   "cell_type": "markdown",
   "metadata": {},
   "source": [
    "# ML Algorithms:"
   ]
  },
  {
   "cell_type": "markdown",
   "metadata": {},
   "source": [
    "performance metric functions:"
   ]
  },
  {
   "cell_type": "markdown",
   "metadata": {},
   "source": [
    " Accuracy:"
   ]
  },
  {
   "cell_type": "code",
   "execution_count": 13,
   "metadata": {},
   "outputs": [],
   "source": [
    "def accuracy_function(tp,tn,fp,fn):\n",
    "    \n",
    "    accuracy = (tp+tn) / (tp+tn+fp+fn)\n",
    "    \n",
    "    return accuracy"
   ]
  },
  {
   "cell_type": "markdown",
   "metadata": {},
   "source": [
    "Precision:"
   ]
  },
  {
   "cell_type": "code",
   "execution_count": 14,
   "metadata": {},
   "outputs": [],
   "source": [
    "def precision_function(tp,fp):\n",
    "    \n",
    "    precision = tp / (tp+fp)\n",
    "    \n",
    "    return precision"
   ]
  },
  {
   "cell_type": "markdown",
   "metadata": {},
   "source": [
    "recall:"
   ]
  },
  {
   "cell_type": "code",
   "execution_count": 15,
   "metadata": {},
   "outputs": [],
   "source": [
    "def recall_function(tp,fn):\n",
    "    \n",
    "    recall=tp / (tp+fn)\n",
    "    \n",
    "    return recall"
   ]
  },
  {
   "cell_type": "markdown",
   "metadata": {},
   "source": [
    "confusion matrix:"
   ]
  },
  {
   "cell_type": "code",
   "execution_count": 5,
   "metadata": {},
   "outputs": [],
   "source": [
    "\n",
    "# def performance_metrix(truth,predicted):\n",
    "    \n",
    "#     true_positive = 0\n",
    "#     true_negative = 0\n",
    "#     false_positive = 0\n",
    "#     false_negative = 0\n",
    "    \n",
    "#     for true,pred in zip(truth,predicted):\n",
    "#         if true == 1:\n",
    "#             if pred == true:\n",
    "#                 true_positive += 1\n",
    "#             elif pred != true:\n",
    "#                 false_negative += 1\n",
    "\n",
    "#         elif true == 0:\n",
    "#             if pred == true:\n",
    "#                 true_negative += 1\n",
    "#             elif pred != true:\n",
    "#                 false_positive += 1\n",
    "            \n",
    "#     accuracy=accuracy_function(true_positive, true_negative, false_positive, false_negative)\n",
    "#     precision=precision_function(true_positive, false_positive)\n",
    "#     recall=recall_function(true_positive, false_negative)\n",
    "    \n",
    "#     return (accuracy,\n",
    "#             precision,\n",
    "#            recall)"
   ]
  },
  {
   "cell_type": "markdown",
   "metadata": {},
   "source": [
    "Logistic Regression:"
   ]
  },
  {
   "cell_type": "code",
   "execution_count": 55,
   "metadata": {},
   "outputs": [
    {
     "data": {
      "text/plain": [
       "LogisticRegression()"
      ]
     },
     "execution_count": 55,
     "metadata": {},
     "output_type": "execute_result"
    }
   ],
   "source": [
    "from sklearn.linear_model import LogisticRegression\n",
    "log_reg = LogisticRegression()\n",
    "log_reg.fit(X_train, y_train)\n"
   ]
  },
  {
   "cell_type": "code",
   "execution_count": 56,
   "metadata": {},
   "outputs": [
    {
     "data": {
      "text/plain": [
       "0.9582407818747224"
      ]
     },
     "execution_count": 56,
     "metadata": {},
     "output_type": "execute_result"
    }
   ],
   "source": [
    "from sklearn.metrics import accuracy_score\n",
    "y_pred_log_reg=log_reg.predict(X_test)\n",
    "accuracy_score(y_test, y_pred_log_reg)"
   ]
  },
  {
   "cell_type": "code",
   "execution_count": 57,
   "metadata": {},
   "outputs": [
    {
     "data": {
      "image/png": "[encoded data removed]",
      "text/plain": [
       "<Figure size 432x288 with 2 Axes>"
      ]
     },
     "metadata": {
      "needs_background": "light"
     },
     "output_type": "display_data"
    },
    {
     "name": "stdout",
     "output_type": "stream",
     "text": [
      " Accuracy : 0.9582407818747224 \n",
      " Precision : 0.9970355731225297 \n",
      " Recall : 0.8796861377506539\n"
     ]
    }
   ],
   "source": [
    "from sklearn.metrics import confusion_matrix\n",
    "from sklearn.metrics import plot_confusion_matrix\n",
    "confusion_matrix(y_test, y_pred_log_reg)\n",
    "tn, fp, fn, tp = confusion_matrix(y_test, y_pred_log_reg).ravel()\n",
    "plot_confusion_matrix(log_reg, X_test, y_test)  \n",
    "plt.show()\n",
    "accuracy=accuracy_function(tp, tn, fp, fn)\n",
    "precision=precision_function(tp, fp)\n",
    "recall=recall_function(tp, fn)\n",
    "print(\" Accuracy : {0} \\n Precision : {1} \\n Recall : {2}\".format(accuracy, precision, recall))"
   ]
  },
  {
   "cell_type": "markdown",
   "metadata": {},
   "source": [
    "Support Vector Machines:\n",
    "1) Linear SVM:"
   ]
  },
  {
   "cell_type": "code",
   "execution_count": 58,
   "metadata": {},
   "outputs": [],
   "source": [
    "from sklearn.svm import LinearSVC\n",
    "from sklearn.preprocessing import StandardScaler\n",
    "from sklearn.pipeline import Pipeline"
   ]
  },
  {
   "cell_type": "code",
   "execution_count": 59,
   "metadata": {},
   "outputs": [
    {
     "name": "stderr",
     "output_type": "stream",
     "text": [
      "C:\\Users\\feras\\anaconda3\\lib\\site-packages\\sklearn\\svm\\_base.py:976: ConvergenceWarning: Liblinear failed to converge, increase the number of iterations.\n",
      "  warnings.warn(\"Liblinear failed to converge, increase \"\n"
     ]
    },
    {
     "data": {
      "text/plain": [
       "Pipeline(steps=[('scaler', StandardScaler()),\n",
       "                ('linear_svc', LinearSVC(C=1, loss='hinge'))])"
      ]
     },
     "execution_count": 59,
     "metadata": {},
     "output_type": "execute_result"
    }
   ],
   "source": [
    "svm_clf = Pipeline((\n",
    " (\"scaler\", StandardScaler()),\n",
    " (\"linear_svc\", LinearSVC(C=1, loss=\"hinge\")),\n",
    " ))\n",
    "svm_clf.fit(X_train, y_train)\n"
   ]
  },
  {
   "cell_type": "code",
   "execution_count": 60,
   "metadata": {},
   "outputs": [
    {
     "data": {
      "text/plain": [
       "0.9576484525396121"
      ]
     },
     "execution_count": 60,
     "metadata": {},
     "output_type": "execute_result"
    }
   ],
   "source": [
    "y_pred_svm=svm_clf.predict(X_test)\n",
    "accuracy_score(y_test, y_pred_svm)"
   ]
  },
  {
   "cell_type": "code",
   "execution_count": 61,
   "metadata": {},
   "outputs": [
    {
     "data": {
      "image/png": "[encoded data removed]",
      "text/plain": [
       "<Figure size 432x288 with 2 Axes>"
      ]
     },
     "metadata": {
      "needs_background": "light"
     },
     "output_type": "display_data"
    },
    {
     "name": "stdout",
     "output_type": "stream",
     "text": [
      " Accuracy : 0.9576484525396121 \n",
      " Precision : 0.9735849056603774 \n",
      " Recall : 0.8997384481255449\n"
     ]
    }
   ],
   "source": [
    "from sklearn.metrics import confusion_matrix\n",
    "from sklearn.metrics import plot_confusion_matrix\n",
    "confusion_matrix(y_test, y_pred_svm)\n",
    "tn, fp, fn, tp = confusion_matrix(y_test, y_pred_svm).ravel()\n",
    "plot_confusion_matrix(svm_clf, X_test, y_test)  \n",
    "plt.show()\n",
    "accuracy=accuracy_function(tp, tn, fp, fn)\n",
    "precision=precision_function(tp, fp)\n",
    "recall=recall_function(tp, fn)\n",
    "print(\" Accuracy : {0} \\n Precision : {1} \\n Recall : {2}\".format(accuracy, precision, recall))"
   ]
  },
  {
   "cell_type": "markdown",
   "metadata": {},
   "source": [
    "Nonlinear SVM classification:\n",
    "using polynomial Kernel"
   ]
  },
  {
   "cell_type": "code",
   "execution_count": null,
   "metadata": {},
   "outputs": [],
   "source": [
    "# from sklearn.svm import SVC\n",
    "# poly_kernel_svm_clf = Pipeline((\n",
    "#  (\"scaler\", StandardScaler()),\n",
    "#  (\"svm_clf\", SVC(kernel=\"poly\", degree=3, coef0=1, C=5))\n",
    "#  ))\n",
    "# poly_kernel_svm_clf.fit(X_train, y_train)\n"
   ]
  },
  {
   "cell_type": "markdown",
   "metadata": {},
   "source": [
    "Decision Trees:"
   ]
  },
  {
   "cell_type": "code",
   "execution_count": 16,
   "metadata": {},
   "outputs": [
    {
     "data": {
      "text/plain": [
       "DecisionTreeClassifier()"
      ]
     },
     "execution_count": 16,
     "metadata": {},
     "output_type": "execute_result"
    }
   ],
   "source": [
    "from sklearn.tree import DecisionTreeClassifier\n",
    "\n",
    "tree_clf = DecisionTreeClassifier()\n",
    "tree_clf.fit(X_train, y_train)"
   ]
  },
  {
   "cell_type": "code",
   "execution_count": 17,
   "metadata": {},
   "outputs": [
    {
     "data": {
      "text/plain": [
       "0.9539463941951725"
      ]
     },
     "execution_count": 17,
     "metadata": {},
     "output_type": "execute_result"
    }
   ],
   "source": [
    "from sklearn.metrics import accuracy_score\n",
    "y_pred_tree=tree_clf.predict(X_test)\n",
    "accuracy_score(y_test, y_pred_tree)"
   ]
  },
  {
   "cell_type": "code",
   "execution_count": 18,
   "metadata": {},
   "outputs": [
    {
     "data": {
      "image/png": "[encoded data removed]",
      "text/plain": [
       "<Figure size 432x288 with 2 Axes>"
      ]
     },
     "metadata": {
      "needs_background": "light"
     },
     "output_type": "display_data"
    },
    {
     "name": "stdout",
     "output_type": "stream",
     "text": [
      " Accuracy : 0.9539463941951725 \n",
      " Precision : 0.9679093912222747 \n",
      " Recall : 0.8940714908456844\n"
     ]
    }
   ],
   "source": [
    "from sklearn.metrics import confusion_matrix\n",
    "from sklearn.metrics import plot_confusion_matrix\n",
    "confusion_matrix(y_test, y_pred_tree)\n",
    "tn, fp, fn, tp = confusion_matrix(y_test, y_pred_tree).ravel()\n",
    "plot_confusion_matrix(tree_clf, X_test, y_test)  \n",
    "plt.show()\n",
    "accuracy=accuracy_function(tp, tn, fp, fn)\n",
    "precision=precision_function(tp, fp)\n",
    "recall=recall_function(tp, fn)\n",
    "print(\" Accuracy : {0} \\n Precision : {1} \\n Recall : {2}\".format(accuracy, precision, recall))"
   ]
  },
  {
   "cell_type": "code",
   "execution_count": null,
   "metadata": {},
   "outputs": [],
   "source": [
    "from sklearn import tree\n",
    "tree.plot_tree(tree_clf) "
   ]
  },
  {
   "cell_type": "code",
   "execution_count": null,
   "metadata": {},
   "outputs": [],
   "source": [
    "from sklearn.tree import export_graphviz\n",
    "dot_data = export_graphviz(\n",
    " tree_clf,\n",
    " out_file=None,\n",
    "#  feature_names=iris.feature_names[2:],\n",
    "#  class_names=iris.target_names,\n",
    " rounded=True,\n",
    " filled=True,\n",
    " special_characters=True\n",
    " )"
   ]
  },
  {
   "cell_type": "code",
   "execution_count": null,
   "metadata": {},
   "outputs": [],
   "source": [
    "import graphviz\n",
    "graph = graphviz.Source(dot_data)\n",
    "graph"
   ]
  },
  {
   "cell_type": "code",
   "execution_count": null,
   "metadata": {},
   "outputs": [],
   "source": []
  }
 ],
 "metadata": {
  "kernelspec": {
   "display_name": "Python 3",
   "language": "python",
   "name": "python3"
  },
  "language_info": {
   "codemirror_mode": {
    "name": "ipython",
    "version": 3
   },
   "file_extension": ".py",
   "mimetype": "text/x-python",
   "name": "python",
   "nbconvert_exporter": "python",
   "pygments_lexer": "ipython3",
   "version": "3.8.5"
  }
 },
 "nbformat": 4,
 "nbformat_minor": 4
}
