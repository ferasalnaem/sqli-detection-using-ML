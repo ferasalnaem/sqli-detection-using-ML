{
 "cells": [
  {
   "cell_type": "code",
   "execution_count": 1,
   "metadata": {},
   "outputs": [],
   "source": [
    "import pandas as pd\n",
    "import numpy as np\n",
    "import matplotlib.pyplot as plt\n",
    "import seaborn as sns\n",
    "from sklearn.model_selection import train_test_split\n",
    "from sklearn.preprocessing import LabelEncoder\n",
    "from keras.models import Model\n",
    "from keras.layers import LSTM, Activation, Dense, Dropout, Input, Embedding\n",
    "from keras.optimizers import RMSprop\n",
    "from keras.preprocessing.text import Tokenizer\n",
    "from keras.preprocessing import sequence\n",
    "from keras.utils import to_categorical\n",
    "from keras.callbacks import EarlyStopping\n",
    "%matplotlib inline\n",
    "from keras.preprocessing.text import Tokenizer\n",
    "import tensorflow as tf\n",
    "from keras.metrics import Recall"
   ]
  },
  {
   "cell_type": "code",
   "execution_count": 2,
   "metadata": {},
   "outputs": [],
   "source": [
    "from tensorflow.keras.preprocessing.text import Tokenizer\n",
    "from tensorflow.keras.preprocessing.sequence import pad_sequences"
   ]
  },
  {
   "cell_type": "code",
   "execution_count": 3,
   "metadata": {},
   "outputs": [],
   "source": [
    "from sklearn.feature_extraction.text import CountVectorizer\n",
    "from sklearn.feature_extraction.text import TfidfVectorizer"
   ]
  },
  {
   "cell_type": "code",
   "execution_count": 4,
   "metadata": {},
   "outputs": [
    {
     "data": {
      "text/html": [
       "<div>\n",
       "<style scoped>\n",
       "    .dataframe tbody tr th:only-of-type {\n",
       "        vertical-align: middle;\n",
       "    }\n",
       "\n",
       "    .dataframe tbody tr th {\n",
       "        vertical-align: top;\n",
       "    }\n",
       "\n",
       "    .dataframe thead th {\n",
       "        text-align: right;\n",
       "    }\n",
       "</style>\n",
       "<table border=\"1\" class=\"dataframe\">\n",
       "  <thead>\n",
       "    <tr style=\"text-align: right;\">\n",
       "      <th></th>\n",
       "      <th>sentence</th>\n",
       "      <th>type</th>\n",
       "    </tr>\n",
       "  </thead>\n",
       "  <tbody>\n",
       "    <tr>\n",
       "      <th>0</th>\n",
       "      <td>a</td>\n",
       "      <td>1</td>\n",
       "    </tr>\n",
       "    <tr>\n",
       "      <th>1</th>\n",
       "      <td>a'</td>\n",
       "      <td>1</td>\n",
       "    </tr>\n",
       "    <tr>\n",
       "      <th>2</th>\n",
       "      <td>a' --</td>\n",
       "      <td>1</td>\n",
       "    </tr>\n",
       "    <tr>\n",
       "      <th>3</th>\n",
       "      <td>a' or 1 = 1; --</td>\n",
       "      <td>1</td>\n",
       "    </tr>\n",
       "    <tr>\n",
       "      <th>4</th>\n",
       "      <td>@</td>\n",
       "      <td>1</td>\n",
       "    </tr>\n",
       "  </tbody>\n",
       "</table>\n",
       "</div>"
      ],
      "text/plain": [
       "          sentence  type\n",
       "0                a     1\n",
       "1              a'      1\n",
       "2            a' --     1\n",
       "3  a' or 1 = 1; --     1\n",
       "4                @     1"
      ]
     },
     "execution_count": 4,
     "metadata": {},
     "output_type": "execute_result"
    }
   ],
   "source": [
    "df= pd.read_csv(\"./dataset/myOwnDataset/myDataset.csv\", encoding='utf-16')\n",
    "df.head()"
   ]
  },
  {
   "cell_type": "code",
   "execution_count": 5,
   "metadata": {},
   "outputs": [
    {
     "name": "stdout",
     "output_type": "stream",
     "text": [
      "<class 'pandas.core.frame.DataFrame'>\n",
      "RangeIndex: 18900 entries, 0 to 18899\n",
      "Data columns (total 2 columns):\n",
      " #   Column    Non-Null Count  Dtype \n",
      "---  ------    --------------  ----- \n",
      " 0   sentence  18880 non-null  object\n",
      " 1   type      18900 non-null  int64 \n",
      "dtypes: int64(1), object(1)\n",
      "memory usage: 295.4+ KB\n"
     ]
    }
   ],
   "source": [
    "df.info()"
   ]
  },
  {
   "cell_type": "code",
   "execution_count": 6,
   "metadata": {},
   "outputs": [],
   "source": [
    "df.dropna(inplace=True)#to drop out nan values"
   ]
  },
  {
   "cell_type": "code",
   "execution_count": 7,
   "metadata": {},
   "outputs": [
    {
     "name": "stderr",
     "output_type": "stream",
     "text": [
      "C:\\Users\\feras\\anaconda3\\lib\\site-packages\\seaborn\\_decorators.py:36: FutureWarning: Pass the following variable as a keyword arg: x. From version 0.12, the only valid positional argument will be `data`, and passing other arguments without an explicit keyword will result in an error or misinterpretation.\n",
      "  warnings.warn(\n"
     ]
    },
    {
     "data": {
      "text/plain": [
       "Text(0.5, 1.0, 'Number of malicious and benign queries')"
      ]
     },
     "execution_count": 7,
     "metadata": {},
     "output_type": "execute_result"
    },
    {
     "data": {
      "image/png": "[encoded data removed]",
      "text/plain": [
       "<Figure size 432x288 with 1 Axes>"
      ]
     },
     "metadata": {
      "needs_background": "light"
     },
     "output_type": "display_data"
    }
   ],
   "source": [
    "sns.countplot(df.type)\n",
    "plt.xlabel('Label')\n",
    "plt.title('Number of malicious and benign queries')"
   ]
  },
  {
   "cell_type": "code",
   "execution_count": 8,
   "metadata": {},
   "outputs": [],
   "source": [
    "X=df['sentence']\n",
    "y=df['type']"
   ]
  },
  {
   "cell_type": "code",
   "execution_count": 9,
   "metadata": {},
   "outputs": [],
   "source": [
    "X_train, X_test, y_train, y_test = train_test_split(X, y, test_size=0.2, random_state=42)"
   ]
  },
  {
   "cell_type": "markdown",
   "metadata": {},
   "source": [
    "DataPreprocessing"
   ]
  },
  {
   "cell_type": "code",
   "execution_count": 10,
   "metadata": {},
   "outputs": [],
   "source": [
    "max_words = 1000\n",
    "max_len = 150\n",
    "tok = Tokenizer(num_words=max_words)\n",
    "tok.fit_on_texts(X_train)\n",
    "sequences = tok.texts_to_sequences(X_train)\n",
    "sequences_matrix = sequence.pad_sequences(sequences,maxlen=max_len)"
   ]
  },
  {
   "cell_type": "code",
   "execution_count": 11,
   "metadata": {},
   "outputs": [],
   "source": [
    "def RNN():\n",
    "    inputs = Input(name='inputs',shape=[max_len])\n",
    "    layer = Embedding(max_words,50,input_length=max_len)(inputs)\n",
    "    layer = LSTM(64)(layer)\n",
    "    layer = Dense(256,name='FC1')(layer)\n",
    "    layer = Activation('relu')(layer)\n",
    "    layer = Dropout(0.5)(layer)\n",
    "    layer = Dense(1,name='out_layer')(layer)\n",
    "    layer = Activation('sigmoid')(layer)\n",
    "    model = Model(inputs=inputs,outputs=layer)\n",
    "    return model"
   ]
  },
  {
   "cell_type": "code",
   "execution_count": 18,
   "metadata": {},
   "outputs": [
    {
     "name": "stdout",
     "output_type": "stream",
     "text": [
      "Model: \"model_3\"\n",
      "_________________________________________________________________\n",
      "Layer (type)                 Output Shape              Param #   \n",
      "=================================================================\n",
      "inputs (InputLayer)          [(None, 150)]             0         \n",
      "_________________________________________________________________\n",
      "embedding_3 (Embedding)      (None, 150, 50)           50000     \n",
      "_________________________________________________________________\n",
      "lstm_3 (LSTM)                (None, 64)                29440     \n",
      "_________________________________________________________________\n",
      "FC1 (Dense)                  (None, 256)               16640     \n",
      "_________________________________________________________________\n",
      "activation_6 (Activation)    (None, 256)               0         \n",
      "_________________________________________________________________\n",
      "dropout_3 (Dropout)          (None, 256)               0         \n",
      "_________________________________________________________________\n",
      "out_layer (Dense)            (None, 1)                 257       \n",
      "_________________________________________________________________\n",
      "activation_7 (Activation)    (None, 1)                 0         \n",
      "=================================================================\n",
      "Total params: 96,337\n",
      "Trainable params: 96,337\n",
      "Non-trainable params: 0\n",
      "_________________________________________________________________\n"
     ]
    }
   ],
   "source": [
    "model = RNN()\n",
    "model.summary()\n",
    "model.compile(loss='binary_crossentropy',optimizer=RMSprop(),metrics=[Recall()])"
   ]
  },
  {
   "cell_type": "code",
   "execution_count": 19,
   "metadata": {},
   "outputs": [
    {
     "name": "stdout",
     "output_type": "stream",
     "text": [
      "Epoch 1/10\n",
      "95/95 [==============================] - 25s 229ms/step - loss: 0.3085 - recall: 0.9728 - val_loss: 0.0423 - val_recall: 0.9810\n",
      "Epoch 2/10\n",
      "95/95 [==============================] - 22s 236ms/step - loss: 0.0209 - recall: 0.9954 - val_loss: 0.0199 - val_recall: 0.9970\n",
      "Epoch 3/10\n",
      "95/95 [==============================] - 22s 229ms/step - loss: 0.0125 - recall: 0.9975 - val_loss: 0.0195 - val_recall: 0.9970\n",
      "Epoch 4/10\n",
      "95/95 [==============================] - 21s 219ms/step - loss: 0.0102 - recall: 0.9976 - val_loss: 0.0179 - val_recall: 0.9970\n",
      "Epoch 5/10\n",
      "95/95 [==============================] - 21s 217ms/step - loss: 0.0094 - recall: 0.9977 - val_loss: 0.0147 - val_recall: 0.9970\n",
      "Epoch 6/10\n",
      "95/95 [==============================] - 21s 217ms/step - loss: 0.0096 - recall: 0.9974 - val_loss: 0.0156 - val_recall: 0.9970\n"
     ]
    },
    {
     "data": {
      "text/plain": [
       "<tensorflow.python.keras.callbacks.History at 0x229a9727160>"
      ]
     },
     "execution_count": 19,
     "metadata": {},
     "output_type": "execute_result"
    }
   ],
   "source": [
    "model.fit(sequences_matrix,y_train,batch_size=128,epochs=10,\n",
    "          validation_split=0.2,callbacks=[EarlyStopping(monitor='val_loss',min_delta=0.0001)])"
   ]
  },
  {
   "cell_type": "code",
   "execution_count": 20,
   "metadata": {},
   "outputs": [],
   "source": [
    "X_test_sequences = tok.texts_to_sequences(X_test)\n",
    "X_test_sequences_matrix = sequence.pad_sequences(X_test_sequences,maxlen=max_len)"
   ]
  },
  {
   "cell_type": "code",
   "execution_count": 28,
   "metadata": {},
   "outputs": [
    {
     "name": "stdout",
     "output_type": "stream",
     "text": [
      "118/118 [==============================] - 4s 31ms/step - loss: 0.0190 - recall: 0.9972- ETA: 0s - loss: 0.0151 - \n"
     ]
    }
   ],
   "source": [
    "recall = model.evaluate(X_test_sequences_matrix,y_test)"
   ]
  },
  {
   "cell_type": "code",
   "execution_count": 29,
   "metadata": {},
   "outputs": [
    {
     "name": "stdout",
     "output_type": "stream",
     "text": [
      "Test set\n",
      " Loss: 0.019\n",
      " Recall: 0.997\n"
     ]
    }
   ],
   "source": [
    "print('Test set\\n Loss: {:0.3f}\\n Recall: {:0.3f}'.format(recall[0],recall[1]))"
   ]
  },
  {
   "cell_type": "code",
   "execution_count": 23,
   "metadata": {},
   "outputs": [],
   "source": [
    "y_pred=model.predict(X_test_sequences_matrix)"
   ]
  },
  {
   "cell_type": "code",
   "execution_count": 24,
   "metadata": {},
   "outputs": [
    {
     "name": "stdout",
     "output_type": "stream",
     "text": [
      "[[9.9999803e-01]\n",
      " [1.0000000e+00]\n",
      " [1.8402205e-09]\n",
      " ...\n",
      " [1.0000000e+00]\n",
      " [1.0000000e+00]\n",
      " [1.0000000e+00]]\n"
     ]
    }
   ],
   "source": [
    "print(y_pred)"
   ]
  },
  {
   "cell_type": "code",
   "execution_count": 25,
   "metadata": {},
   "outputs": [],
   "source": [
    "for i in range(len(y_pred)):\n",
    "    if y_pred[i]>0.5:\n",
    "        y_pred[i]=1\n",
    "    elif y_pred[i]<=0.5:\n",
    "        y_pred[i]=0"
   ]
  },
  {
   "cell_type": "code",
   "execution_count": 26,
   "metadata": {},
   "outputs": [
    {
     "name": "stdout",
     "output_type": "stream",
     "text": [
      "[[1.]\n",
      " [1.]\n",
      " [0.]\n",
      " ...\n",
      " [1.]\n",
      " [1.]\n",
      " [1.]]\n"
     ]
    }
   ],
   "source": [
    "print(y_pred)"
   ]
  },
  {
   "cell_type": "code",
   "execution_count": 27,
   "metadata": {},
   "outputs": [
    {
     "name": "stdout",
     "output_type": "stream",
     "text": [
      " Accuracy : 0.9965572033898306 \n",
      " Precision : 0.9982788296041308 \n",
      " Recall : 0.9972489683631361\n"
     ]
    }
   ],
   "source": [
    "from sklearn.metrics import confusion_matrix\n",
    "from sklearn.metrics import plot_confusion_matrix\n",
    "from sklearn.metrics import accuracy_score\n",
    "from sklearn.metrics import precision_score\n",
    "from sklearn.metrics import recall_score\n",
    "confusion_matrix(y_test, y_pred)\n",
    "# plot_confusion_matrix(classifier, X_test, y_test)  \n",
    "plt.show()\n",
    "accuracy= accuracy_score(y_test, y_pred)\n",
    "precision= precision_score(y_test, y_pred, zero_division=1)\n",
    "recall= recall_score(y_test, y_pred, zero_division=1)\n",
    "print(\" Accuracy : {0} \\n Precision : {1} \\n Recall : {2}\".format(accuracy, precision, recall))"
   ]
  },
  {
   "cell_type": "markdown",
   "metadata": {},
   "source": [
    "saving the model"
   ]
  },
  {
   "cell_type": "code",
   "execution_count": 30,
   "metadata": {},
   "outputs": [
    {
     "name": "stdout",
     "output_type": "stream",
     "text": [
      "done\n"
     ]
    }
   ],
   "source": [
    "from keras.models import load_model\n",
    "from pathlib import Path\n",
    "\n",
    "\n",
    "# Save neural network's trained weights\n",
    "model.save_weights(\"lstm_weights.h5\")\n",
    "print('done')\n",
    "\n",
    "# or you can save the full model via:\n",
    "model.save('lstm_model.h5')"
   ]
  },
  {
   "cell_type": "code",
   "execution_count": 11,
   "metadata": {},
   "outputs": [],
   "source": [
    "#loading the model and the weights:\n",
    "loaded_model = tf.keras.models.load_model('lstm_model.h5')\n",
    "loaded_model.load_weights('lstm_weights.h5')  # to load"
   ]
  },
  {
   "cell_type": "markdown",
   "metadata": {},
   "source": [
    "# Predicting Data from user"
   ]
  },
  {
   "cell_type": "code",
   "execution_count": 14,
   "metadata": {},
   "outputs": [],
   "source": [
    "def clean_data(input_val):\n",
    "\n",
    "    txts = tok.texts_to_sequences(input_val)\n",
    "    input_val = sequence.pad_sequences(txts, maxlen=max_len)\n",
    "\n",
    "    return input_val\n",
    "\n",
    "\n",
    "def predict_sqli_attack():\n",
    "    \n",
    "    repeat=True\n",
    "    \n",
    "    space=''\n",
    "    for i in range(20):\n",
    "        space+= \"-\"\n",
    "\n",
    "    print(space) \n",
    "    input_val=input(\"Please enter some data: \")\n",
    "    print(space)\n",
    "\n",
    "    \n",
    "    if input_val== '0':\n",
    "        repeat=False\n",
    "    \n",
    "    sample_texts_list = []\n",
    "    sample_texts_list.append(input_val)\n",
    "    txts = tok.texts_to_sequences(sample_texts_list)\n",
    "    txts = sequence.pad_sequences(txts, maxlen=max_len)\n",
    "\n",
    "    result=loaded_model.predict(txts)\n",
    "    print(result)\n",
    "\n",
    "\n",
    "    print(space)\n",
    "    \n",
    "    \n",
    "    if repeat == True:\n",
    "            if result > 0.5:\n",
    "                 print(\"ALERT! This can be SQL injection\")\n",
    "            elif result <= 0.5:\n",
    "                 print(\"It seems to be a benign\")\n",
    "            \n",
    "            print(space)\n",
    "        \n",
    "            predict_sqli_attack()\n",
    "            \n",
    "    elif repeat == False:\n",
    "        print( \" Closing \")\n",
    "        "
   ]
  },
  {
   "cell_type": "code",
   "execution_count": 15,
   "metadata": {},
   "outputs": [
    {
     "name": "stdout",
     "output_type": "stream",
     "text": [
      "--------------------\n",
      "Please enter some data: hello\n",
      "--------------------\n",
      "[[0.04871616]]\n",
      "--------------------\n",
      "It seems to be a benign\n",
      "--------------------\n",
      "--------------------\n",
      "Please enter some data: &(n&1: select * from users where id=1 or ($+)=1 or 1=1 -- 1\n",
      "--------------------\n",
      "[[1.]]\n",
      "--------------------\n",
      "ALERT! This can be SQL injection\n",
      "--------------------\n",
      "--------------------\n",
      "Please enter some data: AND (SELECT * FROM (SELECT(SLEEP(5)))nQIP)--\n",
      "--------------------\n",
      "[[0.99993753]]\n",
      "--------------------\n",
      "ALERT! This can be SQL injection\n",
      "--------------------\n",
      "--------------------\n",
      "Please enter some data: ORDER BY 1,SLEEP(5),BENCHMARK(1000000,MD5('A')),4,5,6,7,8\n",
      "--------------------\n",
      "[[1.]]\n",
      "--------------------\n",
      "ALERT! This can be SQL injection\n",
      "--------------------\n",
      "--------------------\n",
      "Please enter some data: );waitfor delay '0:0:__TIME__'--\n",
      "--------------------\n",
      "[[1.]]\n",
      "--------------------\n",
      "ALERT! This can be SQL injection\n",
      "--------------------\n",
      "--------------------\n",
      "Please enter some data: , ( select if ( count ( * ) ! = -1,benchmark ( 3000000,MD5 ( 1  )  )  ,benchmark ( 3000000,MD5 ( 1  )  )    )  )  --\n",
      "--------------------\n",
      "[[1.]]\n",
      "--------------------\n",
      "ALERT! This can be SQL injection\n",
      "--------------------\n",
      "--------------------\n",
      "Please enter some data: ) AND 8117=9417 AND (1286=1286\n",
      "--------------------\n",
      "[[0.9999303]]\n",
      "--------------------\n",
      "ALERT! This can be SQL injection\n",
      "--------------------\n",
      "--------------------\n",
      "Please enter some data: ALTER TABLE metadatacollectionschema.andsparty OWNER TO omerouser\n",
      "--------------------\n",
      "[[1.5701171e-07]]\n",
      "--------------------\n",
      "It seems to be a benign\n",
      "--------------------\n",
      "--------------------\n",
      "Please enter some data: ALTER TABLE metadatacollectionschema.projectscollection OWNER TO omerouser\n",
      "--------------------\n",
      "[[1.5701171e-07]]\n",
      "--------------------\n",
      "It seems to be a benign\n",
      "--------------------\n",
      "--------------------\n",
      "Please enter some data: Add plain text “Ne te quaesiveris extra\n",
      "--------------------\n",
      "[[0.00042373]]\n",
      "--------------------\n",
      "It seems to be a benign\n",
      "--------------------\n",
      "--------------------\n",
      "Please enter some data: select\n",
      "--------------------\n",
      "[[0.16399324]]\n",
      "--------------------\n",
      "It seems to be a benign\n",
      "--------------------\n",
      "--------------------\n",
      "Please enter some data: drop\n",
      "--------------------\n",
      "[[0.21919021]]\n",
      "--------------------\n",
      "It seems to be a benign\n",
      "--------------------\n",
      "--------------------\n",
      "Please enter some data: select this sentence but this should not be injection\n",
      "--------------------\n",
      "[[4.8102773e-08]]\n",
      "--------------------\n",
      "It seems to be a benign\n",
      "--------------------\n",
      "--------------------\n",
      "Please enter some data: 0\n",
      "--------------------\n",
      "[[0.13034046]]\n",
      "--------------------\n",
      " Closing \n"
     ]
    }
   ],
   "source": [
    "predict_sqli_attack()"
   ]
  },
  {
   "cell_type": "code",
   "execution_count": null,
   "metadata": {},
   "outputs": [],
   "source": []
  }
 ],
 "metadata": {
  "kernelspec": {
   "display_name": "Python 3",
   "language": "python",
   "name": "python3"
  },
  "language_info": {
   "codemirror_mode": {
    "name": "ipython",
    "version": 3
   },
   "file_extension": ".py",
   "mimetype": "text/x-python",
   "name": "python",
   "nbconvert_exporter": "python",
   "pygments_lexer": "ipython3",
   "version": "3.8.5"
  }
 },
 "nbformat": 4,
 "nbformat_minor": 4
}
